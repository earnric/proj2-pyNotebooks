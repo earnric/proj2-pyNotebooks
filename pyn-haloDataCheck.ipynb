{
 "cells": [
  {
   "cell_type": "code",
   "execution_count": 1,
   "metadata": {
    "collapsed": true
   },
   "outputs": [],
   "source": [
    "%matplotlib inline\n",
    "%config InlineBackend.figure_format = 'retina'\n",
    "import matplotlib as mpl\n",
    "import matplotlib.pyplot as plt\n",
    "import numpy as np\n",
    "from IPython import display\n",
    "plt.rcParams['figure.figsize'] = (13,11)\n",
    "plt.rcParams['font.size'] = 28"
   ]
  },
  {
   "cell_type": "code",
   "execution_count": 9,
   "metadata": {
    "collapsed": false
   },
   "outputs": [],
   "source": [
    "halo8Mass = np.loadtxt(\"spMassHaloOnly_08.00_0.txt\",skiprows=1)\n",
    "halo8Loc = np.loadtxt(\"spLocHaloOnly_08.00_0.txt\",skiprows=1)\n",
    "halo8Ppf = np.loadtxt(\"spPPFHaloOnly_08.00_0.txt\",skiprows=1)\n",
    "halo8Pz = np.loadtxt(\"spPZHaloOnly_08.00_0.txt\",skiprows=1)\n",
    "halo8Z = np.loadtxt(\"spZHaloOnly_08.00_0.txt\",skiprows=1)\n",
    "\n",
    "prefix = './'\n",
    "z = \"8.0\"; i = \"0\" \n",
    "totSPM = np.loadtxt(prefix + \"totSM_z\" + z + \"-\" + i +\".txt\")\n",
    "ppfSPM = np.loadtxt(prefix + \"pristSM_z\" + z + \"-\" + i +\".txt\")\n",
    "ppzSPM = np.loadtxt(prefix + \"primordSM_z\" + z + \"-\" + i +\".txt\")"
   ]
  },
  {
   "cell_type": "code",
   "execution_count": 10,
   "metadata": {
    "collapsed": false
   },
   "outputs": [
    {
     "data": {
      "text/plain": [
       "array([      0.        ,       0.        ,       0.        ,\n",
       "             0.        ,       0.        ,       0.        ,\n",
       "             0.        ,       0.        ,       0.        ,\n",
       "             0.        ,       0.        ,       0.        ,\n",
       "             0.        ,       0.        ,       0.        ,\n",
       "             0.        ,       0.        ,       0.        ,\n",
       "             0.        ,       0.        ,       0.        ,\n",
       "             0.        ,       0.        ,       0.        ,\n",
       "             0.        ,       0.        ,       0.        ,\n",
       "             0.        ,    7981.50493966,    1451.1827163 ,\n",
       "          6530.32222336,   10883.87037227,    2902.3654326 ,\n",
       "         10158.27901412,    3627.95679076,   10883.87037227,\n",
       "          2176.77407445,    7255.91358151,   17414.19259563,\n",
       "         27572.47160974,  120448.16545309,   54419.35186133,\n",
       "          3627.95679076,   11931.94677849,       0.        ,\n",
       "             0.        ,       0.        ,       0.        ,\n",
       "             0.        ,       0.        ])"
      ]
     },
     "execution_count": 10,
     "metadata": {},
     "output_type": "execute_result"
    }
   ],
   "source": [
    "totSPM"
   ]
  },
  {
   "cell_type": "code",
   "execution_count": 11,
   "metadata": {
    "collapsed": false
   },
   "outputs": [],
   "source": [
    "bins    = np.logspace(-10, 0, 51) # Log bins for histogram data \n",
    "psm     = np.zeros(len(bins)-1) # Pristine Stellar mass in that bin\n",
    "tsm     = np.zeros(len(bins)-1) # total mass\n",
    "primsm  = np.zeros(len(bins)-1) # Primordial stellar mass\n",
    "for indx2,j in enumerate(bins):\n",
    "    if indx2 < len(bins)-1 :\n",
    "        cond = (halo8Z >= j) & (halo8Z < bins[indx2+1]) # This selects for sp's in the bin\n",
    "        psm[indx2] = np.sum(halo8Ppf[cond] * halo8Mass[cond]) # Pop III\n",
    "        tsm[indx2] = np.sum(halo8Mass[cond]) # Total star particle mass in this bin\n",
    "        primsm[indx2] = np.sum((1.0-halo8Ppf[cond]) * \n",
    "                                   (halo8Pz[cond] / (halo8Z[cond])) * halo8Mass[cond]) # Pz and Z are both solar\n",
    "\n",
    "pristMass   = np.sum(psm)\n",
    "totMass     = np.sum(tsm)\n",
    "primordMass = np.sum(primsm)\n"
   ]
  },
  {
   "cell_type": "code",
   "execution_count": 12,
   "metadata": {
    "collapsed": false
   },
   "outputs": [
    {
     "data": {
      "text/plain": [
       "array([      0.        ,       0.        ,       0.        ,\n",
       "             0.        ,       0.        ,       0.        ,\n",
       "             0.        ,       0.        ,       0.        ,\n",
       "             0.        ,       0.        ,       0.        ,\n",
       "             0.        ,       0.        ,       0.        ,\n",
       "             0.        ,       0.        ,       0.        ,\n",
       "             0.        ,       0.        ,       0.        ,\n",
       "             0.        ,       0.        ,       0.        ,\n",
       "             0.        ,       0.        ,       0.        ,\n",
       "             0.        ,    7981.50493966,    1451.1827163 ,\n",
       "          6530.32222336,   10883.87037227,    2902.3654326 ,\n",
       "         10158.27901412,    3627.95679076,   10883.87037227,\n",
       "          2176.77407445,    7255.91358151,   17414.19259563,\n",
       "         27572.47160974,  120448.16545309,   54419.35186133,\n",
       "          3627.95679076,   11931.94677849,       0.        ,\n",
       "             0.        ,       0.        ,       0.        ,\n",
       "             0.        ,       0.        ])"
      ]
     },
     "execution_count": 12,
     "metadata": {},
     "output_type": "execute_result"
    }
   ],
   "source": [
    "tsm"
   ]
  },
  {
   "cell_type": "code",
   "execution_count": 13,
   "metadata": {
    "collapsed": true
   },
   "outputs": [],
   "source": [
    "halo5Mass = np.loadtxt(\"spMassHaloOnly_05.00_2562828.txt\",skiprows=1)\n",
    "halo5Loc = np.loadtxt(\"spLocHaloOnly_05.00_2562828.txt\",skiprows=1)\n",
    "halo5Ppf = np.loadtxt(\"spPPFHaloOnly_05.00_2562828.txt\",skiprows=1)\n",
    "halo5Pz = np.loadtxt(\"spPZHaloOnly_05.00_2562828.txt\",skiprows=1)\n",
    "halo5Z = np.loadtxt(\"spZHaloOnly_05.00_2562828.txt\",skiprows=1)\n",
    "\n",
    "prefix = './'\n",
    "z = \"5.0\"; i = \"2562828\" \n",
    "totSPM = np.loadtxt(prefix + \"totSM_z\" + z + \"-\" + i +\".txt\")\n",
    "ppfSPM = np.loadtxt(prefix + \"pristSM_z\" + z + \"-\" + i +\".txt\")\n",
    "ppzSPM = np.loadtxt(prefix + \"primordSM_z\" + z + \"-\" + i +\".txt\")"
   ]
  },
  {
   "cell_type": "code",
   "execution_count": 32,
   "metadata": {
    "collapsed": false
   },
   "outputs": [
    {
     "name": "stdout",
     "output_type": "stream",
     "text": [
      "1.00e-10, 1.58e-10 -> 0.00e+00\n",
      "1.58e-10, 2.51e-10 -> 0.00e+00\n",
      "2.51e-10, 3.98e-10 -> 0.00e+00\n",
      "3.98e-10, 6.31e-10 -> 0.00e+00\n",
      "6.31e-10, 1.00e-09 -> 0.00e+00\n",
      "1.00e-09, 1.58e-09 -> 0.00e+00\n",
      "1.58e-09, 2.51e-09 -> 0.00e+00\n",
      "2.51e-09, 3.98e-09 -> 0.00e+00\n",
      "3.98e-09, 6.31e-09 -> 0.00e+00\n",
      "6.31e-09, 1.00e-08 -> 0.00e+00\n",
      "1.00e-08, 1.58e-08 -> 0.00e+00\n",
      "1.58e-08, 2.51e-08 -> 0.00e+00\n",
      "2.51e-08, 3.98e-08 -> 0.00e+00\n",
      "3.98e-08, 6.31e-08 -> 0.00e+00\n",
      "6.31e-08, 1.00e-07 -> 0.00e+00\n",
      "1.00e-07, 1.58e-07 -> 0.00e+00\n",
      "1.58e-07, 2.51e-07 -> 0.00e+00\n",
      "2.51e-07, 3.98e-07 -> 0.00e+00\n",
      "3.98e-07, 6.31e-07 -> 0.00e+00\n",
      "6.31e-07, 1.00e-06 -> 0.00e+00\n",
      "1.00e-06, 1.58e-06 -> 0.00e+00\n",
      "1.58e-06, 2.51e-06 -> 0.00e+00\n",
      "2.51e-06, 3.98e-06 -> 0.00e+00\n",
      "3.98e-06, 6.31e-06 -> 0.00e+00\n",
      "6.31e-06, 1.00e-05 -> 0.00e+00\n",
      "1.00e-05, 1.58e-05 -> 0.00e+00\n",
      "1.58e-05, 2.51e-05 -> 1.45e+03\n",
      "2.51e-05, 3.98e-05 -> 5.80e+03\n",
      "3.98e-05, 6.31e-05 -> 0.00e+00\n",
      "6.31e-05, 1.00e-04 -> 2.18e+03\n",
      "1.00e-04, 1.58e-04 -> 2.18e+03\n",
      "1.58e-04, 2.51e-04 -> 1.45e+03\n",
      "2.51e-04, 3.98e-04 -> 1.45e+03\n",
      "3.98e-04, 6.31e-04 -> 6.53e+03\n",
      "6.31e-04, 1.00e-03 -> 7.98e+03\n",
      "1.00e-03, 1.58e-03 -> 8.71e+03\n",
      "1.58e-03, 2.51e-03 -> 0.00e+00\n",
      "2.51e-03, 3.98e-03 -> 0.00e+00\n",
      "3.98e-03, 6.31e-03 -> 0.00e+00\n",
      "6.31e-03, 1.00e-02 -> 1.32e+05\n",
      "1.00e-02, 1.58e-02 -> 7.04e+04\n",
      "1.58e-02, 2.51e-02 -> 1.16e+05\n",
      "2.51e-02, 3.98e-02 -> 9.96e+05\n",
      "3.98e-02, 6.31e-02 -> 2.07e+06\n",
      "6.31e-02, 1.00e-01 -> 7.48e+04\n",
      "1.00e-01, 1.58e-01 -> 0.00e+00\n",
      "1.58e-01, 2.51e-01 -> 0.00e+00\n",
      "2.51e-01, 3.98e-01 -> 0.00e+00\n",
      "3.98e-01, 6.31e-01 -> 0.00e+00\n",
      "6.31e-01, 1.00e+00 -> 0.00e+00\n"
     ]
    }
   ],
   "source": [
    "bins    = np.logspace(-10, 0, 51) # Log bins for histogram data \n",
    "psm     = np.zeros(len(bins)-1) # Pristine Stellar mass in that bin\n",
    "tsm     = np.zeros(len(bins)-1) # total mass\n",
    "primsm  = np.zeros(len(bins)-1) # Primordial stellar mass\n",
    "for indx2,j in enumerate(bins):\n",
    "    if indx2 < len(bins)-1 :\n",
    "        cond = (halo5Z >= j) & (halo5Z < bins[indx2+1]) # This selects for sp's in the bin\n",
    "        psm[indx2] = np.sum(halo5Ppf[cond] * halo5Mass[cond]) # Pop III\n",
    "        tsm[indx2] = np.sum(halo5Mass[cond]) # Total star particle mass in this bin\n",
    "        primsm[indx2] = np.sum((1.0-halo5Ppf[cond]) * \n",
    "                                   (halo5Pz[cond] / (halo5Z[cond])) * halo5Mass[cond])\n",
    "        print(\"%.2e, %.2e -> %.2e\"%(j,bins[indx2+1],tsm[indx2]))\n",
    "\n",
    "\n",
    "pristMass   = np.sum(psm)\n",
    "totMass     = np.sum(tsm)\n",
    "primordMass = np.sum(primsm)"
   ]
  },
  {
   "cell_type": "code",
   "execution_count": 35,
   "metadata": {
    "collapsed": false
   },
   "outputs": [
    {
     "data": {
      "text/plain": [
       "array([], dtype=float64)"
      ]
     },
     "execution_count": 35,
     "metadata": {},
     "output_type": "execute_result"
    }
   ],
   "source": [
    "halo5Mass[halo5Z > 0.1] # There should be two stars... "
   ]
  },
  {
   "cell_type": "code",
   "execution_count": 34,
   "metadata": {
    "collapsed": false
   },
   "outputs": [
    {
     "data": {
      "text/plain": [
       "74816.53115158221"
      ]
     },
     "execution_count": 34,
     "metadata": {},
     "output_type": "execute_result"
    }
   ],
   "source": [
    "np.sum(halo5Mass[halo5Z > 0.063]) # THIS IS THE BUG... I should be totaling > 0.1 for this one"
   ]
  },
  {
   "cell_type": "code",
   "execution_count": 24,
   "metadata": {
    "collapsed": false
   },
   "outputs": [
    {
     "data": {
      "text/plain": [
       "(array([  1.58489319e-10,   2.51188643e-10,   3.98107171e-10,\n",
       "          6.30957344e-10,   1.00000000e-09,   1.58489319e-09,\n",
       "          2.51188643e-09,   3.98107171e-09,   6.30957344e-09,\n",
       "          1.00000000e-08,   1.58489319e-08,   2.51188643e-08,\n",
       "          3.98107171e-08,   6.30957344e-08,   1.00000000e-07,\n",
       "          1.58489319e-07,   2.51188643e-07,   3.98107171e-07,\n",
       "          6.30957344e-07,   1.00000000e-06,   1.58489319e-06,\n",
       "          2.51188643e-06,   3.98107171e-06,   6.30957344e-06,\n",
       "          1.00000000e-05,   1.58489319e-05,   2.51188643e-05,\n",
       "          3.98107171e-05,   6.30957344e-05,   1.00000000e-04,\n",
       "          1.58489319e-04,   2.51188643e-04,   3.98107171e-04,\n",
       "          6.30957344e-04,   1.00000000e-03,   1.58489319e-03,\n",
       "          2.51188643e-03,   3.98107171e-03,   6.30957344e-03,\n",
       "          1.00000000e-02,   1.58489319e-02,   2.51188643e-02,\n",
       "          3.98107171e-02,   6.30957344e-02,   1.00000000e-01,\n",
       "          1.58489319e-01,   2.51188643e-01,   3.98107171e-01,\n",
       "          6.30957344e-01,   1.00000000e+00]),\n",
       " array([  0.00000000e+00,   0.00000000e+00,   0.00000000e+00,\n",
       "          0.00000000e+00,   0.00000000e+00,   0.00000000e+00,\n",
       "          0.00000000e+00,   0.00000000e+00,   0.00000000e+00,\n",
       "          0.00000000e+00,   0.00000000e+00,   0.00000000e+00,\n",
       "          0.00000000e+00,   0.00000000e+00,   0.00000000e+00,\n",
       "          0.00000000e+00,   0.00000000e+00,   0.00000000e+00,\n",
       "          0.00000000e+00,   0.00000000e+00,   0.00000000e+00,\n",
       "          0.00000000e+00,   0.00000000e+00,   0.00000000e+00,\n",
       "          0.00000000e+00,   0.00000000e+00,   1.45118272e+03,\n",
       "          5.80473087e+03,   0.00000000e+00,   2.17677407e+03,\n",
       "          2.17677407e+03,   1.45118272e+03,   1.45118272e+03,\n",
       "          6.53032222e+03,   7.98150494e+03,   8.70709630e+03,\n",
       "          0.00000000e+00,   0.00000000e+00,   0.00000000e+00,\n",
       "          1.32057627e+05,   7.03823617e+04,   1.16094617e+05,\n",
       "          9.96236935e+05,   2.06503301e+06,   7.48165312e+04,\n",
       "          0.00000000e+00,   0.00000000e+00,   0.00000000e+00,\n",
       "          0.00000000e+00,   0.00000000e+00]),\n",
       " array([  0.00000000e+00,   0.00000000e+00,   0.00000000e+00,\n",
       "          0.00000000e+00,   0.00000000e+00,   0.00000000e+00,\n",
       "          0.00000000e+00,   0.00000000e+00,   0.00000000e+00,\n",
       "          0.00000000e+00,   0.00000000e+00,   0.00000000e+00,\n",
       "          0.00000000e+00,   0.00000000e+00,   0.00000000e+00,\n",
       "          0.00000000e+00,   0.00000000e+00,   0.00000000e+00,\n",
       "          0.00000000e+00,   0.00000000e+00,   0.00000000e+00,\n",
       "          0.00000000e+00,   0.00000000e+00,   0.00000000e+00,\n",
       "          0.00000000e+00,   0.00000000e+00,   1.45118272e+03,\n",
       "          5.80473087e+03,   0.00000000e+00,   2.17677407e+03,\n",
       "          2.17677407e+03,   1.45118272e+03,   1.45118272e+03,\n",
       "          6.53032222e+03,   7.98150494e+03,   8.70709630e+03,\n",
       "          0.00000000e+00,   0.00000000e+00,   0.00000000e+00,\n",
       "          1.32057627e+05,   7.03823617e+04,   1.16094617e+05,\n",
       "          9.96236935e+05,   2.06503301e+06,   7.48165312e+04,\n",
       "          0.00000000e+00,   0.00000000e+00,   0.00000000e+00,\n",
       "          0.00000000e+00,   0.00000000e+00]))"
      ]
     },
     "execution_count": 24,
     "metadata": {},
     "output_type": "execute_result"
    }
   ],
   "source": [
    "bins[1:51],tsm, totSPM"
   ]
  },
  {
   "cell_type": "code",
   "execution_count": 36,
   "metadata": {
    "collapsed": false
   },
   "outputs": [
    {
     "data": {
      "text/plain": [
       "4671"
      ]
     },
     "execution_count": 36,
     "metadata": {},
     "output_type": "execute_result"
    }
   ],
   "source": [
    "len(halo5Mass)"
   ]
  },
  {
   "cell_type": "code",
   "execution_count": null,
   "metadata": {
    "collapsed": true
   },
   "outputs": [],
   "source": []
  },
  {
   "cell_type": "code",
   "execution_count": null,
   "metadata": {
    "collapsed": true
   },
   "outputs": [],
   "source": []
  },
  {
   "cell_type": "code",
   "execution_count": null,
   "metadata": {
    "collapsed": true
   },
   "outputs": [],
   "source": []
  },
  {
   "cell_type": "code",
   "execution_count": null,
   "metadata": {
    "collapsed": true
   },
   "outputs": [],
   "source": []
  },
  {
   "cell_type": "code",
   "execution_count": null,
   "metadata": {
    "collapsed": true
   },
   "outputs": [],
   "source": []
  }
 ],
 "metadata": {
  "kernelspec": {
   "display_name": "Python 3",
   "language": "python",
   "name": "python3"
  },
  "language_info": {
   "codemirror_mode": {
    "name": "ipython",
    "version": 3
   },
   "file_extension": ".py",
   "mimetype": "text/x-python",
   "name": "python",
   "nbconvert_exporter": "python",
   "pygments_lexer": "ipython3",
   "version": "3.4.3"
  }
 },
 "nbformat": 4,
 "nbformat_minor": 0
}
