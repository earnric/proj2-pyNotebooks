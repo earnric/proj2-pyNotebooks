{
 "cells": [
  {
   "cell_type": "code",
   "execution_count": 1,
   "metadata": {
    "collapsed": false
   },
   "outputs": [],
   "source": [
    "%matplotlib inline\n",
    "%config InlineBackend.figure_format = 'retina'\n",
    "import sys\n",
    "sys.path.append('/Users/earnric/Google Drive/ASU/Codes/PythonCode/modules')\n",
    "import numpy as np\n",
    "import math as ma\n",
    "\n",
    "from astropy.cosmology import FlatLambdaCDM\n",
    "from astropy.cosmology import LambdaCDM\n",
    "from astropy import units as u\n",
    "import astropy \n",
    "\n",
    "import cosmo\n",
    "\n",
    "import gc"
   ]
  },
  {
   "cell_type": "code",
   "execution_count": 42,
   "metadata": {
    "collapsed": false
   },
   "outputs": [
    {
     "data": {
      "text/plain": [
       "FlatLambdaCDM(name=\"myCosmo\", H0=100 km / (Mpc s), Om0=0.3, Tcmb0=2.725 K, Neff=3.04, m_nu=[ 0.  0.  0.] eV, Ob0=0.0449)"
      ]
     },
     "execution_count": 42,
     "metadata": {},
     "output_type": "execute_result"
    }
   ],
   "source": [
    "# Setup the cosmology used in the runs\n",
    "# This provides comoving distance, lumin distance, etc... \n",
    "# THis is Seth's cosmology\n",
    "myCosmo = FlatLambdaCDM(H0=100.0, Om0=0.3, Ob0=0.0449,name='myCosmo')\n",
    "myCosmo"
   ]
  },
  {
   "cell_type": "code",
   "execution_count": 43,
   "metadata": {
    "collapsed": false,
    "scrolled": true
   },
   "outputs": [
    {
     "name": "stdout",
     "output_type": "stream",
     "text": [
      "Computer proper boxsize, rough cosmology: size 325.03 kpc\n"
     ]
    }
   ],
   "source": [
    "# Make sure we have halo information for this z... hop/...\n",
    "z = 12.0\n",
    "num = 43 # This is the output_00num file that has the \"info_\" for finding the boxsize... see map above.\n",
    "print(\"Computer proper boxsize, rough cosmology: size {:.2f}\".format((3 * u.Mpc/(1.0+z) * 1/0.71).to(u.kpc)))"
   ]
  },
  {
   "cell_type": "code",
   "execution_count": 45,
   "metadata": {
    "collapsed": false
   },
   "outputs": [
    {
     "name": "stdout",
     "output_type": "stream",
     "text": [
      "Comoving @ 12.0, 0.0300 arcsec / kpc:\n",
      "Proper @ 12.0, 0.3903 arcsec / kpc:\n",
      "Proper @ 12.0, 2.5624 kpc / arcsec:\n",
      "My Comoving @ 12.0, 0.0300 arcsec / kpc:\n",
      "My Proper @ 12.0, 0.3903 arcsec / kpc:\n",
      "My Proper @ 12.0, 2.5624 kpc / arcsec:\n"
     ]
    }
   ],
   "source": [
    "arcPerKpc = myCosmo.arcsec_per_kpc_comoving(z=z)\n",
    "print('Comoving @ {}, {:.4f}:'.format(z,arcPerKpc))\n",
    "arcPerKpc = myCosmo.arcsec_per_kpc_proper(z=z)\n",
    "print('Proper @ {}, {:.4f}:'.format(z,arcPerKpc))\n",
    "print('Proper @ {}, {:.4f}:'.format(z,1/arcPerKpc))\n",
    "\n",
    "kpcPerArcSec = cosmo.arcAtz(100,z=z,om=0.3) # size of an arcsec at the specified reshift in kpc\n",
    "print('My Comoving @ {}, {:.4f}:'.format(z,arcPerKpc/(1+z)))\n",
    "print('My Proper @ {}, {:.4f}:'.format(z,arcPerKpc))\n",
    "print('My Proper @ {}, {:.4f}:'.format(z,1/arcPerKpc))"
   ]
  },
  {
   "cell_type": "raw",
   "metadata": {},
   "source": [
    "Solutions for H = 100, 0.3, 0.7 cosmology\n",
    "0.645, 0.857, 0.894, and 0.743h^−1 Mpc"
   ]
  },
  {
   "cell_type": "code",
   "execution_count": 48,
   "metadata": {
    "collapsed": false
   },
   "outputs": [
    {
     "name": "stdout",
     "output_type": "stream",
     "text": [
      "     My Proper (physical) fov at z=4 0.7305266478281736 Mpc rad\n",
      "AstroPy Proper (physical) fov at z=4 0.7299266643008772 Mpc rad\n"
     ]
    }
   ],
   "source": [
    "myCosmo = FlatLambdaCDM(H0=100.0, Om0=0.3, Ob0=0.0449,name='myCosmo')\n",
    "print(\"     My Proper (physical) fov at z=4\",\n",
    "      cosmo.da(h0=100.0, z=4.0, om=0.3)* u.Mpc * (150.0 * u.arcsec).to(u.radian) ) # D_A * Theta \n",
    "print(\"AstroPy Proper (physical) fov at z=4\",\n",
    "      myCosmo.angular_diameter_distance(z=4)* (150.0 * u.arcsec).to(u.radian))"
   ]
  },
  {
   "cell_type": "code",
   "execution_count": 57,
   "metadata": {
    "collapsed": false
   },
   "outputs": [
    {
     "name": "stdout",
     "output_type": "stream",
     "text": [
      "AstroPy Proper (physical) size at z=4 729.9266643008772 kpc\n",
      "          AstroPy Comovingsize at z=4 3649.633321504386 kpc\n",
      "          AstroPy Comovingsize at z=4 3649.633321504386 kpc rad\n"
     ]
    }
   ],
   "source": [
    "myCosmo = FlatLambdaCDM(H0=100.0, Om0=0.3, Ob0=0.0449,name='myCosmo')\n",
    "print(\"AstroPy Proper (physical) size at z=4\",\n",
    "      150.0 * u.arcsec/myCosmo.arcsec_per_kpc_proper(z=4.0) )\n",
    "print(\"          AstroPy Comovingsize at z=4\",\n",
    "      150.0 * u.arcsec/myCosmo.arcsec_per_kpc_comoving(z=4.0) )\n",
    "print(\"          AstroPy Comovingsize at z=4\",\n",
    "      (myCosmo.angular_diameter_distance(z=4)* (150.0 * u.arcsec).to(u.radian) *(1. + 4.0)).to(u.kpc * u.rad))"
   ]
  },
  {
   "cell_type": "code",
   "execution_count": 54,
   "metadata": {
    "collapsed": false
   },
   "outputs": [
    {
     "name": "stdout",
     "output_type": "stream",
     "text": [
      "My physical size at z=4 730.5266478281734 kpc\n",
      "AstroPy Comovingsize at z=4 3652.633239140867 kpc\n"
     ]
    }
   ],
   "source": [
    "print(\"My physical size at z=4\",\n",
    "    cosmo.arcAtz(h0=100.0,z=4)* u.kpc * 150.0)\n",
    "print(\"My Comovingsize at z=4\",\n",
    "    cosmo.arcAtz(h0=100.0,z=4)* u.kpc * 150.0 * (1+4.0))"
   ]
  },
  {
   "cell_type": "code",
   "execution_count": 78,
   "metadata": {
    "collapsed": false
   },
   "outputs": [
    {
     "name": "stdout",
     "output_type": "stream",
     "text": [
      "AstroPy Comovingsize 0.6\" at z=12 29.84525995786597 kpc\n"
     ]
    }
   ],
   "source": [
    "myCosmo = FlatLambdaCDM(H0=71.0, Om0=0.267, Ob0=0.0449,name='myCosmo')\n",
    "print(\"AstroPy Comovingsize 0.6\\\" at z=12\",\n",
    "      0.61 * u.arcsec/myCosmo.arcsec_per_kpc_comoving(z=12.0) )\n"
   ]
  },
  {
   "cell_type": "code",
   "execution_count": 81,
   "metadata": {
    "collapsed": false
   },
   "outputs": [
    {
     "name": "stdout",
     "output_type": "stream",
     "text": [
      "My Comovingsize at z=12 30.021675931720885\n"
     ]
    }
   ],
   "source": [
    "print(\"My Comovingsize at z=12\",\n",
    "      0.61 * cosmo.arcAtz(om=0.267, z=12) * (1.+12) )\n"
   ]
  },
  {
   "cell_type": "code",
   "execution_count": 83,
   "metadata": {
    "collapsed": false
   },
   "outputs": [
    {
     "data": {
      "text/latex": [
       "$0.60955957 \\; \\mathrm{{}^{\\prime\\prime}}$"
      ],
      "text/plain": [
       "<Quantity 0.6095595742762724 arcsec>"
      ]
     },
     "execution_count": 83,
     "metadata": {},
     "output_type": "execute_result"
    }
   ],
   "source": [
    "# So for something of size 30 kpc COMOVING ... \n",
    "# we can divide by kpc/arcsec at z = 12 to recover size in arcsec. Since arcAtz return physical size, \n",
    "# multiply by (1+z) to get comoving size\n",
    "(30 * u.kpc) /(cosmo.arcAtz(om=0.267,z=12) * u.kpc * (1.+12)) * u.arcsec"
   ]
  },
  {
   "cell_type": "code",
   "execution_count": 75,
   "metadata": {
    "collapsed": false
   },
   "outputs": [
    {
     "data": {
      "text/plain": [
       "29.99822729250836"
      ]
     },
     "execution_count": 75,
     "metadata": {},
     "output_type": "execute_result"
    }
   ],
   "source": [
    "0.6388 * cosmo.arcAtz(z=12) * (1.+12)"
   ]
  },
  {
   "cell_type": "code",
   "execution_count": null,
   "metadata": {
    "collapsed": true
   },
   "outputs": [],
   "source": []
  }
 ],
 "metadata": {
  "kernelspec": {
   "display_name": "Python 3",
   "language": "python",
   "name": "python3"
  },
  "language_info": {
   "codemirror_mode": {
    "name": "ipython",
    "version": 3
   },
   "file_extension": ".py",
   "mimetype": "text/x-python",
   "name": "python",
   "nbconvert_exporter": "python",
   "pygments_lexer": "ipython3",
   "version": "3.4.4"
  }
 },
 "nbformat": 4,
 "nbformat_minor": 0
}
