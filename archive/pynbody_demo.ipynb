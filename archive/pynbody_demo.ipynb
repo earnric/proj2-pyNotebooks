







<!DOCTYPE html>
<html lang="en">
  <head>
    <meta charset="utf-8">
    <title></title>

    <meta name="viewport" content="width=device-width, initial-scale=1.0">

    
    <meta name="description" content="">
    

    
    <meta name="author" content="">
    

    <!--NEW RELIC Start Perf Measurement-->
    
    <!--NREND-->

    <!-- Le styles -->
    <!--<link href="/static/css/bootstrap.css" rel="stylesheet">-->
    <link href="/static/css/docs.css" rel="stylesheet">
    <link href="/static/css/bootstrap.min.css" rel="stylesheet">
    <link href="/static/css/bootstrap-responsive.css" rel="stylesheet">
    <link href="/static/components/animate.css/animate.css" rel="stylesheet">
    <link href="/static/components/Font-Awesome/css/font-awesome.min.css" rel="stylesheet">
    <link href="/static/css/nbviewer.css" rel="stylesheet">


    <!-- Le HTML5 shim, for IE6-8 support of HTML5 elements -->
    <!--[if lt IE 9]>
      <script src="http://html5shim.googlecode.com/svn/trunk/html5.js"></script>
    <![endif]-->

    <!-- Le fav and touch icons -->
    <link rel="shortcut icon" href="/static/ico/ipynb_icon_16x16.png">
    <link rel="apple-touch-icon-precomposed" sizes="144x144" href="/static/ico/apple-touch-icon-144-precomposed.png">
    <link rel="apple-touch-icon-precomposed" sizes="114x114" href="/static/ico/apple-touch-icon-114-precomposed.png">
    <link rel="apple-touch-icon-precomposed" sizes="72x72" href="/static/ico/apple-touch-icon-72-precomposed.png">
    <link rel="apple-touch-icon-precomposed" href="/static/ico/apple-touch-icon-57-precomposed.png">
    
    
    

    

    
    <meta name="twitter:card" content="summary">

    
    <meta name="twitter:title" content="Notebook on nbviewer">
    

    
    <meta name="twitter:description" content="Check out this IPython notebook!">
    

    
    <meta name="twitter:domain" content="nbviewer.ipython.org">
    

    <meta name="twitter:image:src" content="http://ipython.org/ipython-doc/dev/_images/ipynb_icon_128x128.png">
    
    
    

    <link href="/ipython-static/style/ipython.min.css" rel="stylesheet">
    <link href="/static/css/pygments.css" rel="stylesheet">
    <style type="text/css" media='screen and (min-width:980px)'>
   
    body {
        padding-top: 40px;
    }

    </style>
    <style type="text/css" >
    .imgwrap {
        text-align: center;
    }

    @media (max-width: 767px){

        div.input, div.output_area {
            -webkit-box-orient: vertical;
            -moz-box-orient: vertical;
            box-orient: vertical;
        }

        div.prompt {
            text-align:left;
        }

    }

    
    </style>
    
    <script src="https://c328740.ssl.cf1.rackcdn.com/mathjax/latest/MathJax.js?config=TeX-AMS_HTML"type="text/javascript">
    </script>
    <script type="text/javascript">
    init_mathjax = function() {
        if (window.MathJax) {
            // MathJax loaded
            MathJax.Hub.Config({
                tex2jax: {
                    inlineMath: [ ['$','$'], ["\\(","\\)"] ],
                    displayMath: [ ['$$','$$'], ["\\[","\\]"] ],
                    processEscapes: true,
                    processEnvironments: true
                },
                displayAlign: 'center',
                "HTML-CSS": {
                    styles: {'.MathJax_Display': {"margin": 0}},
                    linebreaks: { automatic: true }
                }
            });
            MathJax.Hub.Queue(["Typeset",MathJax.Hub]);
        }
    }
    init_mathjax();
    </script>
    
  </head>

  <body data-spy="scroll" data-target=".subnav" data-offset="50">

  <!-- These are loaded at the top of the body so they are available to notebook
  cells when they are loaded below. -->
  <script src="/static/js/jquery.min.js"></script>
  <script src="/static/components/requirejs/require.js"></script>
  <script src="/static/components/moment/min/moment.min.js"></script>

  <!-- Navbar
  ================================================== -->
    <div id='menubar' class="navbar navbar-fixed-top hidden-print">
      <div class="navbar-inner">
        <div class="container">
          <button type="button" class="btn btn-navbar" data-toggle="collapse" data-target=".nav-collapse">
            <span class="icon-bar"></span>
            <span class="icon-bar"></span>
            <span class="icon-bar"></span>
          </button>
          <div class="nav-collapse collapse">
            <ul class="nav">

                <li>
        <a href="/" title="nbviewer" >
            <strong>
            <span>nbviewer</span>
            </strong>
        </a>
    </li>
                <li>
        <a href="/faq" title="FAQ" >
            
            <span>FAQ</span>
            
        </a>
    </li>

              <li class="">
                <a href="http://www.ipython.org">IPython</a>
              </li>
            </ul>
            <ul class="nav pull-right"> 
              
              
      
        <li>
        <a href="https://github.com/pynbody/pynbody/blob/master/examples/notebooks/pynbody_demo.ipynb" title="Notebook Home" >
            <span class='fa fa-github fa-2x menu-icon'></span>
            <span class='menu-text'>Notebook Home</span>
        </a>
    </li>
      
        <li>
        <a href="https://raw.githubusercontent.com/pynbody/pynbody/master/examples/notebooks/pynbody_demo.ipynb" title="Download Notebook" download>
            <span class='fa fa-download fa-2x menu-icon'></span>
            <span class='menu-text'>Download Notebook</span>
        </a>
    </li>
    
            </ul>
          </div>
        </div>
      </div>
    </div>
    <div class="container">

     
    
<ul class="breadcrumb">
    
    <li><a href="/github/pynbody/pynbody/tree/master">pynbody</a> <span class="divider">/</span></li>
    
    <li><a href="/github/pynbody/pynbody/tree/master/examples">examples</a> <span class="divider">/</span></li>
    
    <li><a href="/github/pynbody/pynbody/tree/master/examples/notebooks">notebooks</a> <span class="divider">/</span></li>
    
</ul>

    
<div class="cell border-box-sizing text_cell rendered">
<div class="prompt input_prompt">
</div>
<div class="inner_cell">
<div class="text_cell_render border-box-sizing rendered_html">
<h1 id="Pynbody-Demo">Pynbody Demo<a class="anchor-link" href="#Pynbody-Demo">&#182;</a></h1>
</div>
</div>
</div>

<div class="cell border-box-sizing text_cell rendered">
<div class="prompt input_prompt">
</div>
<div class="inner_cell">
<div class="text_cell_render border-box-sizing rendered_html">
<p>This notebook highlights some of the basic <code>pynbody</code> functionality to get you on the way to analyzing your own simulations. The <code>pynbody</code> webpage is <a href="http://pynbody.github.io/">here</a> and you can find the documentation with additional tutorials <a href="http://pynbody.github.io/pynbody/">here</a>. If you find that things are broken <em>please please please</em> let us know by submitting a <a href="https://github.com/pynbody/pynbody/issues">bug report on github</a>. If you want to run the notebook on your own machine, you need to get the <a href="https://github.com/pynbody/pynbody/releases/download/pynbody-0.2/testdata_april_2013.tar.gz">testdata tarball</a> and change the path in the <code>load</code> function below accordingly. </p>
</div>
</div>
</div>
<div class="cell border-box-sizing code_cell rendered">
<div class="input">
<div class="prompt input_prompt">
In&nbsp;[1]:
</div>
<div class="inner_cell">
    <div class="input_area">
<div class=" highlight hl-ipython"><pre><span class="o">%</span><span class="k">matplotlib</span> <span class="n">inline</span>
<span class="kn">from</span> <span class="nn">matplotlib.pylab</span> <span class="kn">import</span> <span class="o">*</span>
<span class="n">rcParams</span><span class="p">[</span><span class="s">&#39;figure.figsize&#39;</span><span class="p">]</span> <span class="o">=</span> <span class="p">(</span><span class="mi">10</span><span class="p">,</span><span class="mi">6</span><span class="p">)</span>
<span class="n">rcParams</span><span class="p">[</span><span class="s">&#39;font.size&#39;</span><span class="p">]</span> <span class="o">=</span> <span class="mi">18</span>
</pre></div>

</div>
</div>
</div>

</div>
<div class="cell border-box-sizing text_cell rendered">
<div class="prompt input_prompt">
</div>
<div class="inner_cell">
<div class="text_cell_render border-box-sizing rendered_html">
<h2 id="Basic-data-loading/exploration">Basic data loading/exploration<a class="anchor-link" href="#Basic-data-loading/exploration">&#182;</a></h2>
</div>
</div>
</div>

<div class="cell border-box-sizing text_cell rendered">
<div class="prompt input_prompt">
</div>
<div class="inner_cell">
<div class="text_cell_render border-box-sizing rendered_html">
<p>loading a simulation output using the <code>pynbody.load()</code> function, which tries to automatically determine which type of code output you have:</p>
</div>
</div>
</div>
<div class="cell border-box-sizing code_cell rendered">
<div class="input">
<div class="prompt input_prompt">
In&nbsp;[2]:
</div>
<div class="inner_cell">
    <div class="input_area">
<div class=" highlight hl-ipython"><pre><span class="kn">import</span> <span class="nn">pynbody</span>
<span class="n">s</span> <span class="o">=</span> <span class="n">pynbody</span><span class="o">.</span><span class="n">load</span><span class="p">(</span><span class="s">&#39;/Users/rokstar/Downloads/testdata/g15784.lr.01024.gz&#39;</span><span class="p">)</span>
</pre></div>

</div>
</div>
</div>

<div class="output_wrapper">
<div class="output">


<div class="output_area"><div class="prompt"></div>
<div class="output_subarea output_stream output_stderr output_text">
<pre>Loading using backend &lt;class &apos;pynbody.tipsy.TipsySnap&apos;&gt;
TipsySnap: loading  /Users/rokstar/Downloads/testdata/g15784.lr.01024.gz
</pre>
</div>
</div>

</div>
</div>

</div>
<div class="cell border-box-sizing text_cell rendered">
<div class="prompt input_prompt">
</div>
<div class="inner_cell">
<div class="text_cell_render border-box-sizing rendered_html">
<p>a quick look at some basic information about the run we just opened: </p>
</div>
</div>
</div>
<div class="cell border-box-sizing code_cell rendered">
<div class="input">
<div class="prompt input_prompt">
In&nbsp;[3]:
</div>
<div class="inner_cell">
    <div class="input_area">
<div class=" highlight hl-ipython"><pre><span class="n">s</span>
</pre></div>

</div>
</div>
</div>

<div class="output_wrapper">
<div class="output">


<div class="output_area"><div class="prompt output_prompt">
    Out[3]:</div>


<div class="output_text output_subarea output_pyout">
<pre>&lt;SimSnap &quot;/Users/rokstar/Downloads/testdata/g15784.lr.01024&quot; len=1717156&gt;</pre>
</div>

</div>

</div>
</div>

</div>
<div class="cell border-box-sizing code_cell rendered">
<div class="input">
<div class="prompt input_prompt">
In&nbsp;[4]:
</div>
<div class="inner_cell">
    <div class="input_area">
<div class=" highlight hl-ipython"><pre><span class="nb">len</span><span class="p">(</span><span class="n">s</span><span class="p">)</span>
</pre></div>

</div>
</div>
</div>

<div class="output_wrapper">
<div class="output">


<div class="output_area"><div class="prompt output_prompt">
    Out[4]:</div>


<div class="output_text output_subarea output_pyout">
<pre>1717156</pre>
</div>

</div>

</div>
</div>

</div>
<div class="cell border-box-sizing code_cell rendered">
<div class="input">
<div class="prompt input_prompt">
In&nbsp;[5]:
</div>
<div class="inner_cell">
    <div class="input_area">
<div class=" highlight hl-ipython"><pre><span class="nb">len</span><span class="p">(</span><span class="n">s</span><span class="o">.</span><span class="n">stars</span><span class="p">)</span>
</pre></div>

</div>
</div>
</div>

<div class="output_wrapper">
<div class="output">


<div class="output_area"><div class="prompt output_prompt">
    Out[5]:</div>


<div class="output_text output_subarea output_pyout">
<pre>265170</pre>
</div>

</div>

</div>
</div>

</div>
<div class="cell border-box-sizing text_cell rendered">
<div class="prompt input_prompt">
</div>
<div class="inner_cell">
<div class="text_cell_render border-box-sizing rendered_html">
<p><code>stars</code>, <code>gas</code>, <code>dark</code> also available as <code>s</code>, <code>g</code>, <code>d</code></p>
</div>
</div>
</div>
<div class="cell border-box-sizing code_cell rendered">
<div class="input">
<div class="prompt input_prompt">
In&nbsp;[6]:
</div>
<div class="inner_cell">
    <div class="input_area">
<div class=" highlight hl-ipython"><pre><span class="nb">len</span><span class="p">(</span><span class="n">s</span><span class="o">.</span><span class="n">g</span><span class="p">),</span> <span class="nb">len</span><span class="p">(</span><span class="n">s</span><span class="o">.</span><span class="n">gas</span><span class="p">),</span> <span class="nb">len</span><span class="p">(</span><span class="n">s</span><span class="o">.</span><span class="n">dark</span><span class="p">)</span>
</pre></div>

</div>
</div>
</div>

<div class="output_wrapper">
<div class="output">


<div class="output_area"><div class="prompt output_prompt">
    Out[6]:</div>


<div class="output_text output_subarea output_pyout">
<pre>(158755, 158755, 1293231)</pre>
</div>

</div>

</div>
</div>

</div>
<div class="cell border-box-sizing text_cell rendered">
<div class="prompt input_prompt">
</div>
<div class="inner_cell">
<div class="text_cell_render border-box-sizing rendered_html">
<p>the <code>properties</code> attribute of a <code>SimSnap</code> tells us some more basic info </p>
</div>
</div>
</div>
<div class="cell border-box-sizing code_cell rendered">
<div class="input">
<div class="prompt input_prompt">
In&nbsp;[7]:
</div>
<div class="inner_cell">
    <div class="input_area">
<div class=" highlight hl-ipython"><pre><span class="n">s</span><span class="o">.</span><span class="n">properties</span>
</pre></div>

</div>
</div>
</div>

<div class="output_wrapper">
<div class="output">


<div class="output_area"><div class="prompt output_prompt">
    Out[7]:</div>


<div class="output_text output_subarea output_pyout">
<pre>{&apos;a&apos;: 0.9999999999999911,
 &apos;boxsize&apos;: Unit(&quot;6.85e+04 kpc a&quot;),
 &apos;h&apos;: 0.7301145776501103,
 &apos;omegaL0&apos;: 0.76,
 &apos;omegaM0&apos;: 0.24,
 &apos;time&apos;: Unit(&quot;1.40e+01 s kpc km**-1&quot;)}</pre>
</div>

</div>

</div>
</div>

</div>
<div class="cell border-box-sizing code_cell rendered">
<div class="input">
<div class="prompt input_prompt">
In&nbsp;[8]:
</div>
<div class="inner_cell">
    <div class="input_area">
<div class=" highlight hl-ipython"><pre><span class="n">s</span><span class="o">.</span><span class="n">properties</span><span class="p">[</span><span class="s">&#39;time&#39;</span><span class="p">]</span><span class="o">.</span><span class="n">in_units</span><span class="p">(</span><span class="s">&#39;Gyr&#39;</span><span class="p">)</span>
</pre></div>

</div>
</div>
</div>

<div class="output_wrapper">
<div class="output">


<div class="output_area"><div class="prompt output_prompt">
    Out[8]:</div>


<div class="output_text output_subarea output_pyout">
<pre>13.72831064485079</pre>
</div>

</div>

</div>
</div>

</div>
<div class="cell border-box-sizing text_cell rendered">
<div class="prompt input_prompt">
</div>
<div class="inner_cell">
<div class="text_cell_render border-box-sizing rendered_html">
<p>which quantities do we have available?</p>
</div>
</div>
</div>
<div class="cell border-box-sizing code_cell rendered">
<div class="input">
<div class="prompt input_prompt">
In&nbsp;[9]:
</div>
<div class="inner_cell">
    <div class="input_area">
<div class=" highlight hl-ipython"><pre><span class="n">s</span><span class="o">.</span><span class="n">keys</span><span class="p">()</span>
</pre></div>

</div>
</div>
</div>

<div class="output_wrapper">
<div class="output">


<div class="output_area"><div class="prompt output_prompt">
    Out[9]:</div>


<div class="output_text output_subarea output_pyout">
<pre>[]</pre>
</div>

</div>

</div>
</div>

</div>
<div class="cell border-box-sizing text_cell rendered">
<div class="prompt input_prompt">
</div>
<div class="inner_cell">
<div class="text_cell_render border-box-sizing rendered_html">
<p>None! Because pynbody &quot;lazy-loads&quot; data... so lets see which data is actually on-disk:</p>
</div>
</div>
</div>
<div class="cell border-box-sizing code_cell rendered">
<div class="input">
<div class="prompt input_prompt">
In&nbsp;[10]:
</div>
<div class="inner_cell">
    <div class="input_area">
<div class=" highlight hl-ipython"><pre><span class="n">s</span><span class="o">.</span><span class="n">loadable_keys</span><span class="p">()</span>
</pre></div>

</div>
</div>
</div>

<div class="output_wrapper">
<div class="output">


<div class="output_area"><div class="prompt output_prompt">
    Out[10]:</div>


<div class="output_text output_subarea output_pyout">
<pre>[&apos;phi&apos;,
 &apos;FeMassFrac&apos;,
 &apos;iord&apos;,
 &apos;igasorder&apos;,
 &apos;eps&apos;,
 &apos;pos&apos;,
 &apos;HI&apos;,
 &apos;mass&apos;,
 &apos;coolontime&apos;,
 &apos;HeII&apos;,
 &apos;vel&apos;,
 &apos;OxMassFrac&apos;,
 &apos;HeI&apos;]</pre>
</div>

</div>

</div>
</div>

</div>
<div class="cell border-box-sizing text_cell rendered">
<div class="prompt input_prompt">
</div>
<div class="inner_cell">
<div class="text_cell_render border-box-sizing rendered_html">
<h2 id="Accessing-data">Accessing data<a class="anchor-link" href="#Accessing-data">&#182;</a></h2>
</div>
</div>
</div>

<div class="cell border-box-sizing text_cell rendered">
<div class="prompt input_prompt">
</div>
<div class="inner_cell">
<div class="text_cell_render border-box-sizing rendered_html">
<p>to access any of these arrays or vectors, you access them like a python dictionary: </p>
</div>
</div>
</div>
<div class="cell border-box-sizing code_cell rendered">
<div class="input">
<div class="prompt input_prompt">
In&nbsp;[11]:
</div>
<div class="inner_cell">
    <div class="input_area">
<div class=" highlight hl-ipython"><pre><span class="n">s</span><span class="p">[</span><span class="s">&#39;pos&#39;</span><span class="p">]</span><span class="o">.</span><span class="n">in_units</span><span class="p">(</span><span class="s">&#39;kpc&#39;</span><span class="p">)</span>
</pre></div>

</div>
</div>
</div>

<div class="output_wrapper">
<div class="output">


<div class="output_area"><div class="prompt"></div>
<div class="output_subarea output_stream output_stderr output_text">
<pre>TipsySnap: loading data from main file
</pre>
</div>
</div>

<div class="output_area"><div class="prompt output_prompt">
    Out[11]:</div>


<div class="output_text output_subarea output_pyout">
<pre>SimArray([[   733.51516346,  -2479.31184326, -11394.52608302],
       [   781.21390409,  -2209.05638147, -11392.16434933],
       [   794.4949563 ,  -2232.21137376, -11432.30055384],
       ..., 
       [  1672.78285106,  -2332.06734179,  -8386.4632496 ],
       [  1675.12072757,  -2335.55559387,  -8386.09837501],
       [  1682.45100698,  -2338.79940549,  -8386.07898308]], &apos;kpc&apos;)</pre>
</div>

</div>

</div>
</div>

</div>
<div class="cell border-box-sizing text_cell rendered">
<div class="prompt input_prompt">
</div>
<div class="inner_cell">
<div class="text_cell_render border-box-sizing rendered_html">
<p>Note that each array has units attached...</p>
</div>
</div>
</div>
<div class="cell border-box-sizing code_cell rendered">
<div class="input">
<div class="prompt input_prompt">
In&nbsp;[12]:
</div>
<div class="inner_cell">
    <div class="input_area">
<div class=" highlight hl-ipython"><pre><span class="n">s</span><span class="p">[</span><span class="s">&#39;mass&#39;</span><span class="p">],</span> <span class="n">s</span><span class="p">[</span><span class="s">&#39;vel&#39;</span><span class="p">],</span> <span class="n">s</span><span class="o">.</span><span class="n">g</span><span class="p">[</span><span class="s">&#39;HeI&#39;</span><span class="p">],</span> <span class="n">s</span><span class="o">.</span><span class="n">s</span><span class="p">[</span><span class="s">&#39;posform&#39;</span><span class="p">]</span>
</pre></div>

</div>
</div>
</div>

<div class="output_wrapper">
<div class="output">


<div class="output_area"><div class="prompt"></div>
<div class="output_subarea output_stream output_stdout output_text">
<pre>Reading /Users/rokstar/Downloads/testdata/g15784.lr.starlog
Bridging starlog into SimSnap</pre>
</div>
</div>

<div class="output_area"><div class="prompt"></div>
<div class="output_subarea output_stream output_stderr output_text">
<pre>TipsySnap: attempting to load auxiliary array /Users/rokstar/Downloads/testdata/g15784.lr.01024.HeI
TipsySnap: attempting to load auxiliary array</pre>
</div>
</div>

<div class="output_area"><div class="prompt"></div>
<div class="output_subarea output_stream output_stdout output_text">
<pre>
</pre>
</div>
</div>

<div class="output_area"><div class="prompt"></div>
<div class="output_subarea output_stream output_stderr output_text">
<pre> /Users/rokstar/Downloads/testdata/g15784.lr.01024.iord
</pre>
</div>
</div>

<div class="output_area"><div class="prompt output_prompt">
    Out[12]:</div>


<div class="output_text output_subarea output_pyout">
<pre>(SimArray([  3.19310585e-11,   3.19310585e-11,   3.19310585e-11, ...,
         1.24175999e-11,   1.24175999e-11,   1.24175999e-11], &apos;4.75e+16 Msol&apos;),
 SimArray([[ 0.01673503, -0.01547551, -0.16838804],
       [ 0.05142973, -0.00647544, -0.16129912],
       [ 0.02738659, -0.00184103, -0.1736342 ],
       ..., 
       [-0.13633673, -0.13716312, -0.12805983],
       [-0.13267632, -0.09228273, -0.1247804 ],
       [ 0.06591902,  0.13406622, -0.15172358]], &apos;1.73e+03 km a s**-1&apos;),
 SimArray([  3.51669648e-12,   1.60111191e-09,   1.88118882e-10, ...,
         1.94256286e-12,   2.30497435e-12,   1.81767830e-11], dtype=float32, &apos;1.00e+00&apos;),
 SimArray([[ 0.0178572 , -0.0131114 , -0.00092187],
       [ 0.01790398, -0.01335163, -0.00124265],
       [ 0.01781229, -0.01359182, -0.00148088],
       ..., 
       [ 0.02442261, -0.03404816, -0.12244228],
       [ 0.02445674, -0.03409909, -0.12243695],
       [ 0.02456377, -0.03414645, -0.12243667]], &apos;6.85e+04 kpc aform&apos;))</pre>
</div>

</div>

</div>
</div>

</div>
<div class="cell border-box-sizing text_cell rendered">
<div class="prompt input_prompt">
</div>
<div class="inner_cell">
<div class="text_cell_render border-box-sizing rendered_html">
<p>by default everything is in system units, but most of the time thinking in physical units is easier:</p>
</div>
</div>
</div>
<div class="cell border-box-sizing code_cell rendered">
<div class="input">
<div class="prompt input_prompt">
In&nbsp;[13]:
</div>
<div class="inner_cell">
    <div class="input_area">
<div class=" highlight hl-ipython"><pre><span class="n">s</span><span class="o">.</span><span class="n">physical_units</span><span class="p">()</span>
</pre></div>

</div>
</div>
</div>

</div>
<div class="cell border-box-sizing text_cell rendered">
<div class="prompt input_prompt">
</div>
<div class="inner_cell">
<div class="text_cell_render border-box-sizing rendered_html">
<p>We have defined many useful quantities that are automatically calculated for you. For example, the radial and tangential velocities are simply obtained by</p>
</div>
</div>
</div>
<div class="cell border-box-sizing code_cell rendered">
<div class="input">
<div class="prompt input_prompt">
In&nbsp;[14]:
</div>
<div class="inner_cell">
    <div class="input_area">
<div class=" highlight hl-ipython"><pre><span class="n">s</span><span class="p">[</span><span class="s">&#39;vt&#39;</span><span class="p">],</span><span class="n">s</span><span class="p">[</span><span class="s">&#39;vr&#39;</span><span class="p">]</span>
</pre></div>

</div>
</div>
</div>

<div class="output_wrapper">
<div class="output">


<div class="output_area"><div class="prompt output_prompt">
    Out[14]:</div>


<div class="output_text output_subarea output_pyout">
<pre>(SimArray([  37.28290565,   81.78390831,   60.75947459, ...,  330.09191502,
        288.75911925,  303.1394157 ], &apos;km s**-1&apos;),
 SimArray([ 291.20028176,  281.05583586,  297.57331009, ...,  227.22613725,
        202.62874018,  208.42590924], &apos;km s**-1&apos;))</pre>
</div>

</div>

</div>
</div>

</div>
<div class="cell border-box-sizing text_cell rendered">
<div class="prompt input_prompt">
</div>
<div class="inner_cell">
<div class="text_cell_render border-box-sizing rendered_html">
<p>you can get a list of all available derivable quantities </p>
</div>
</div>
</div>
<div class="cell border-box-sizing code_cell rendered">
<div class="input">
<div class="prompt input_prompt">
In&nbsp;[15]:
</div>
<div class="inner_cell">
    <div class="input_area">
<div class=" highlight hl-ipython"><pre><span class="n">s</span><span class="o">.</span><span class="n">derivable_keys</span><span class="p">()[</span><span class="mi">0</span><span class="p">:</span><span class="mi">10</span><span class="p">]</span>
</pre></div>

</div>
</div>
</div>

<div class="output_wrapper">
<div class="output">


<div class="output_area"><div class="prompt output_prompt">
    Out[15]:</div>


<div class="output_text output_subarea output_pyout">
<pre>[&apos;nefe&apos;, &apos;hetot&apos;, &apos;mjeans&apos;, &apos;ofe&apos;, &apos;ljeans&apos;, &apos;ne&apos;, &apos;feh&apos;, &apos;c_s&apos;, &apos;mgfe&apos;, &apos;oxh&apos;]</pre>
</div>

</div>

</div>
</div>

</div>
<div class="cell border-box-sizing text_cell rendered">
<div class="prompt input_prompt">
</div>
<div class="inner_cell">
<div class="text_cell_render border-box-sizing rendered_html">
<h2 id="Loading-and-centering/aligning-halos">Loading and centering/aligning halos<a class="anchor-link" href="#Loading-and-centering/aligning-halos">&#182;</a></h2>
</div>
</div>
</div>

<div class="cell border-box-sizing text_cell rendered">
<div class="prompt input_prompt">
</div>
<div class="inner_cell">
<div class="text_cell_render border-box-sizing rendered_html">
<p>if we have information about substructure (i.e. from the Amiga Halo Finder) we can load in the halos: </p>
</div>
</div>
</div>
<div class="cell border-box-sizing code_cell rendered">
<div class="input">
<div class="prompt input_prompt">
In&nbsp;[16]:
</div>
<div class="inner_cell">
    <div class="input_area">
<div class=" highlight hl-ipython"><pre><span class="n">h</span> <span class="o">=</span> <span class="n">s</span><span class="o">.</span><span class="n">halos</span><span class="p">()</span>
</pre></div>

</div>
</div>
</div>

<div class="output_wrapper">
<div class="output">


<div class="output_area"><div class="prompt"></div>
<div class="output_subarea output_stream output_stdout output_text">
<pre>AHFCatalogue: loading particles... halos... done!
</pre>
</div>
</div>

</div>
</div>

</div>
<div class="cell border-box-sizing text_cell rendered">
<div class="prompt input_prompt">
</div>
<div class="inner_cell">
<div class="text_cell_render border-box-sizing rendered_html">
<p>We are not really near the main halo, so lets center the simulation there using the &quot;shrinking sphere&quot; method</p>
</div>
</div>
</div>
<div class="cell border-box-sizing code_cell rendered">
<div class="input">
<div class="prompt input_prompt">
In&nbsp;[17]:
</div>
<div class="inner_cell">
    <div class="input_area">
<div class=" highlight hl-ipython"><pre><span class="n">pynbody</span><span class="o">.</span><span class="n">analysis</span><span class="o">.</span><span class="n">halo</span><span class="o">.</span><span class="n">center</span><span class="p">(</span><span class="n">h</span><span class="p">[</span><span class="mi">1</span><span class="p">],</span><span class="n">mode</span><span class="o">=</span><span class="s">&#39;ssc&#39;</span><span class="p">)</span>
</pre></div>

</div>
</div>
</div>

<div class="output_wrapper">
<div class="output">


<div class="output_area"><div class="prompt"></div>
<div class="output_subarea output_stream output_stdout output_text">
<pre>Finding halo velocity center...
vcen= [   1.6295435   -58.21684952 -254.25581364]
</pre>
</div>
</div>

<div class="output_area"><div class="prompt output_prompt">
    Out[17]:</div>


<div class="output_text output_subarea output_pyout">
<pre>&lt;pynbody.transformation.GenericTranslate at 0x1090d4f50&gt;</pre>
</div>

</div>

</div>
</div>

</div>
<div class="cell border-box-sizing text_cell rendered">
<div class="prompt input_prompt">
</div>
<div class="inner_cell">
<div class="text_cell_render border-box-sizing rendered_html">
<p>we&#39;re going to work with the main halo a lot, so it&#39;s useful to save a reference to it in a variable to save some typing:</p>
</div>
</div>
</div>
<div class="cell border-box-sizing code_cell rendered">
<div class="input">
<div class="prompt input_prompt">
In&nbsp;[18]:
</div>
<div class="inner_cell">
    <div class="input_area">
<div class=" highlight hl-ipython"><pre><span class="n">h1</span> <span class="o">=</span> <span class="n">h</span><span class="p">[</span><span class="mi">1</span><span class="p">]</span>
<span class="n">h1</span>
</pre></div>

</div>
</div>
</div>

<div class="output_wrapper">
<div class="output">


<div class="output_area"><div class="prompt output_prompt">
    Out[18]:</div>


<div class="output_text output_subarea output_pyout">
<pre>&lt;SimSnap &quot;/Users/rokstar/Downloads/testdata/g15784.lr.01024:halo_1&quot; len=502300&gt;</pre>
</div>

</div>

</div>
</div>

</div>
<div class="cell border-box-sizing text_cell rendered">
<div class="prompt input_prompt">
</div>
<div class="inner_cell">
<div class="text_cell_render border-box-sizing rendered_html">
<p>this new object is a <code>SubSnap</code> and behaves exactly like any other <code>SimSnap</code>:</p>
</div>
</div>
</div>
<div class="cell border-box-sizing code_cell rendered">
<div class="input">
<div class="prompt input_prompt">
In&nbsp;[19]:
</div>
<div class="inner_cell">
    <div class="input_area">
<div class=" highlight hl-ipython"><pre><span class="nb">len</span><span class="p">(</span><span class="n">h1</span><span class="o">.</span><span class="n">g</span><span class="p">),</span> <span class="nb">len</span><span class="p">(</span><span class="n">h1</span><span class="o">.</span><span class="n">s</span><span class="p">)</span>
</pre></div>

</div>
</div>
</div>

<div class="output_wrapper">
<div class="output">


<div class="output_area"><div class="prompt output_prompt">
    Out[19]:</div>


<div class="output_text output_subarea output_pyout">
<pre>(79060, 262178)</pre>
</div>

</div>

</div>
</div>

</div>
<div class="cell border-box-sizing code_cell rendered">
<div class="input">
<div class="prompt input_prompt">
In&nbsp;[20]:
</div>
<div class="inner_cell">
    <div class="input_area">
<div class=" highlight hl-ipython"><pre><span class="n">h</span><span class="p">[</span><span class="mi">1</span><span class="p">][</span><span class="s">&#39;mass&#39;</span><span class="p">]</span><span class="o">.</span><span class="n">sum</span><span class="p">()</span><span class="o">.</span><span class="n">in_units</span><span class="p">(</span><span class="s">&#39;1e12 Msol&#39;</span><span class="p">)</span>
</pre></div>

</div>
</div>
</div>

<div class="output_wrapper">
<div class="output">


<div class="output_area"><div class="prompt output_prompt">
    Out[20]:</div>


<div class="output_text output_subarea output_pyout">
<pre>SimArray(1.696392414687047, &apos;1.00e+12 Msol&apos;)</pre>
</div>

</div>

</div>
</div>

</div>
<div class="cell border-box-sizing text_cell rendered">
<div class="prompt input_prompt">
</div>
<div class="inner_cell">
<div class="text_cell_render border-box-sizing rendered_html">
<h2 id="Rendering-images">Rendering images<a class="anchor-link" href="#Rendering-images">&#182;</a></h2>
</div>
</div>
</div>

<div class="cell border-box-sizing text_cell rendered">
<div class="prompt input_prompt">
</div>
<div class="inner_cell">
<div class="text_cell_render border-box-sizing rendered_html">
<p>lets look at a picture of the dark matter distribution of a part of the whole simulation...</p>
</div>
</div>
</div>
<div class="cell border-box-sizing code_cell rendered">
<div class="input">
<div class="prompt input_prompt">
In&nbsp;[21]:
</div>
<div class="inner_cell">
    <div class="input_area">
<div class=" highlight hl-ipython"><pre><span class="n">im</span> <span class="o">=</span> <span class="n">pynbody</span><span class="o">.</span><span class="n">plot</span><span class="o">.</span><span class="n">image</span><span class="p">(</span><span class="n">s</span><span class="o">.</span><span class="n">d</span><span class="p">,</span><span class="n">width</span><span class="o">=</span><span class="s">&#39;50 Mpc&#39;</span><span class="p">,</span> <span class="n">units</span><span class="o">=</span><span class="s">&#39;Msol kpc^-2&#39;</span><span class="p">,</span> <span class="n">cmap</span><span class="o">=</span><span class="n">cm</span><span class="o">.</span><span class="n">Greys</span><span class="p">)</span>
</pre></div>

</div>
</div>
</div>

<div class="output_wrapper">
<div class="output">


<div class="output_area"><div class="prompt"></div>
<div class="output_subarea output_stream output_stderr output_text">
<pre>Building 4 trees with leafsize=16
Tree build done in  1.55 s
Calculating SPH density
Smoothing with 32 nearest neighbours
Smoothing done in  3.36s
Density calculation done in  1.48 s</pre>
</div>
</div>

<div class="output_area"><div class="prompt"></div>
<div class="output_subarea output_stream output_stdout output_text">
<pre>Rendering image on 4 threads...
</pre>
</div>
</div>

<div class="output_area"><div class="prompt"></div>
<div class="output_subarea output_stream output_stderr output_text">
<pre>
</pre>
</div>
</div>

<div class="output_area"><div class="prompt"></div>


<div class="output_png output_subarea ">
<img src="data:image/png;base64,iVBORw0KGgoAAAANSUhEUgAAAhUAAAGICAYAAAD29BJ+AAAABHNCSVQICAgIfAhkiAAAAAlwSFlz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"
>
</div>

</div>

</div>
</div>

</div>
<div class="cell border-box-sizing code_cell rendered">
<div class="input">
<div class="prompt input_prompt">
In&nbsp;[22]:
</div>
<div class="inner_cell">
    <div class="input_area">
<div class=" highlight hl-ipython"><pre><span class="n">pynbody</span><span class="o">.</span><span class="n">plot</span><span class="o">.</span><span class="n">image</span><span class="p">(</span><span class="n">h</span><span class="p">[</span><span class="mi">1</span><span class="p">]</span><span class="o">.</span><span class="n">g</span><span class="p">,</span><span class="n">width</span><span class="o">=</span><span class="s">&#39;200 kpc&#39;</span><span class="p">,</span> <span class="n">av_z</span><span class="o">=</span><span class="bp">True</span><span class="p">,</span> <span class="n">cmap</span><span class="o">=</span><span class="n">cm</span><span class="o">.</span><span class="n">Blues</span><span class="p">)</span>
</pre></div>

</div>
</div>
</div>

<div class="output_wrapper">
<div class="output">


<div class="output_area"><div class="prompt"></div>
<div class="output_subarea output_stream output_stdout output_text">
<pre>Rendering image on 4 threads...
Rendering image on 4 threads...
</pre>
</div>
</div>

<div class="output_area"><div class="prompt"></div>
<div class="output_subarea output_stream output_stderr output_text">
<pre>Building 4 trees with leafsize=16
Tree build done in 0.177 s
Smoothing with 32 nearest neighbours
Smoothing done in 0.451s
</pre>
</div>
</div>

<div class="output_area"><div class="prompt output_prompt">
    Out[22]:</div>


<div class="output_text output_subarea output_pyout">
<pre>SimArray([[ 773.51574707,  775.52825928,  777.54034424, ...,  619.25726318,
         617.1003418 ,  614.94384766],
       [ 776.91687012,  778.97802734,  781.03839111, ...,  621.38391113,
         619.21942139,  617.05560303],
       [ 780.31646729,  782.42590332,  784.53491211, ...,  623.51269531,
         621.3404541 ,  619.16906738],
       ..., 
       [ 741.20367432,  743.32147217,  745.43774414, ...,  882.82843018,
         879.76422119,  876.706604  ],
       [ 737.50848389,  739.64691162,  741.78356934, ...,  880.90118408,
         877.8538208 ,  874.81311035],
       [ 733.80169678,  735.96105957,  738.11846924, ...,  878.97247314,
         875.94213867,  872.9185791 ]], dtype=float32, &apos;Msol kpc**-3&apos;)</pre>
</div>

</div>

<div class="output_area"><div class="prompt"></div>


<div class="output_png output_subarea ">
<img src="data:image/png;base64,iVBORw0KGgoAAAANSUhEUgAAAgMAAAGQCAYAAAAzwWMnAAAABHNCSVQICAgIfAhkiAAAAAlwSFlz
AAALEgAACxIB0t1+/AAAIABJREFUeJzsvVuQHcd5Jvhl1Tmnu3HrJiDJ1kzEDrupfZoXEiQ0lq21
FcRFsS8bsQbYUvhZAPi2Nxmg5fGTJySR9N6eRAB8VoSIhvadAOyxYx1rB4WmInbCuxEW0fJ4PSNZ
ItiNS1/OOVW5D1lZlZWV96o6F3R90iHOqcr8/7/q9Kn/y///M5NQSik6dOjQoUOHDocW0bQN6NCh
Q4cOHTpMFx0Z6NChQ4cOHQ45OjLQoUOHDh06HHJ0ZKBDhw4dOnQ45OjIQIcOHTp06HDI0ZGBDh06
dOjQ4ZBjbsnAw4cPcfXqVdy/f195fmNjA+vr63j33Xexvr6ubOfSpkOHDh06dHje0Zu2ASG4f/8+
3nvvPdy5cwdf//rXK+c3NjZw5coVPHr0CACws7OD1dVV3L59G2fPnnVu06FDhw4dOhwGzGVk4OzZ
s/jOd76jPX/58mVcvXo1/7y8vIz19XVcv37dq02HDh06dOhwGDCXZAAAdAsn3rt3Dzs7Ozhz5kzp
+OnTp7G5uYmtrS1rm5///Odtmd2hQ4cOHTrMHOaWDOiwubkJAFhbWysd5583Nzed2nTo0KFDhw6H
Bc8dGfjkk08AACsrK6XjJ0+eBMAKD13adOjQoUOHDocFzx0ZkB28DEIIXnjhhQlZ06FDhw4dOsw+
5nI2gQmnTp0CAGxvb5eO81kDa2treb2BqY0KX/va15o0tUOHDh0OBf79v//3E9N18+ZN/PCHP6wl
4w/+4A9w5cqVhiyaDzx3ZOD8+fN46623csfOwUP/p0+fxurqKgAY28j42te+hr/927/F57/wG/mx
5eVlLFsiEU6gxo++3b2EVJtNbkfrxzs7OLG8PDF9jcPhVk3qbs79vWwRJODkzs4OlmvdT7Vgoy11
ECi4LXt2drbxeGcHAPDPv/wFVtdewtbDT1rSVsYPf/hD/OVf/iXI0X8R1J8++08A0JGBeccrr7yC
lZUVfPjhh3j99dfz4w8ePMBLL72EF198ES+++KK1jQqf/8Jv4P/+f9V/0NqHvsXRy7MiqOKDeIy3
p/lnhUrhYLmvwRbN7IxKuwbxv3z/T/E/vvUnjcgymG/v27AiV3l1bJbxv73z7/DfX/u33jbMOnyd
FbF00J6WOv6vb/8p/ofrf6Jsr9KhlKsxRmdDsO15/zDX7tPN1wYC4L/5r8/iH//jP3jbVQfk6L/A
wn/53wb1Pfj7/6Nha+YDc18zoJpieOvWLWxsbOSft7e3cfv2bdy4ccOrjbMNuoMNEAFV+7pEoGQa
pUpBVG43g+CmuzhVanhZhTsoMsnzFGW01fU1SVBKg15OshUvsy3me6yVY/kdyE1V7ZTGqA4rj9r/
ju3X3v4330jUchIgBCBR4Ku1+M1MYy4jA/fv38eNGzdACMEHH3yAlZWV0qqBFy9exKNHj7C+vo4z
Z87go48+wvvvv1+KAri0scE1GqA65EoECsfvMCJ1JALKExo79bocG6LZ35aPXu8HkefD1MUxNSGn
aZj+lmyjyyYdDpflO6IVLbD15OaqVFBVf1eSQtvxGTa5Sptb1uljA6U0OELROGbFjjnBXJKBs2fP
WpcMvnz5Mi5fvly7jQieQ/QhAarDoUSgTkRAORIy2KhpFgSdjN/6nd+t1b/SztEeL6Gecm0jfl+4
Ot9/89v/VSOOehKjS5tOH2eislbVW1QhitcRi9/67fLfJlW0kZ2ollworsfsUMMJQagzbpsQTKWe
hcx94HuimEsyMC0sr6zUigYAFiLgcFzZtgYRUNvoobwGvvLV32uGbDg3dA9Ne+mvGd4t5ITfDFdi
NQ8IjRjk/bN/Tc6Wya/244e+8tXfDRr+d4RAjeXlBgqtO7SKjgzUgWMkID9uIwIK5y1HBVzNURIB
AwloevQ9iQCd1ZYpFfs5fVdTGIHPG3T3yNXRyb3lXqpoQYVISMxBPq8iFh0hmIV0AamRJjic6YWO
DITCgwioHmo6ImBVS+XPVbLgQwSaDmub+jbxE3OyqQESEOKr7TI7AtAEQtMKupQAk8llFW2J3KCu
cwskBKJdPn1D0WaEYGIgCE8TzNzFTAYdGfBFzWiAsi1Vn7PVCjgRAUcSMAk31aoOi6M1nfX10ZMI
+3dwR0gEQUcMREeojBIYIgSqWgRXv2JzqCYHbRqdA2HpFhsJmQvMtfGTR0cGGoBrNEDZ1kIEvOyY
YSLQGlomASH3ptmKe/e2tmefq6zn5Rkqfg82YuBdGKjU53DvDI3aIAR1UYcUTD9V0MEHHRmogaai
AfJHVUGgLSqgIwKq/rr0QWtoaw6W7lRg12k6/jZnbUxLjgrT8g2q70l0VC4jfcJPsM7l47Z+MDQS
T6nau3VtJULgoteke3ogNWYTzNaVTAodGQiEazRA+VytSQR0521EwBYxMKHWz0N1AWFDDXuTgO4u
96CtkH8ThZvz9OjSTfGbBlSRA9GpuebOgwkBU6yUB1UfB7vadMpzRwim/Qc2Z+jIgCeaSgmoDjmv
ymas+iuIAKVqgmBKE6h+PoRUTa/9M2sylB6oyiey0xSamoZYt48Kk350mu7FpJ/jYkhbdMZyDYGq
fqByrnpa7+AtpKBJQtBE2N43bTC1uhm+AmFo30OIblWGmmiLCPj+hCgTkr+XiQAFkNLieOlFi+Vh
5XNcrIpATOlnXoItEqD6enS2+yyT6wNuh23mhp3UtHvHZ+U7Bcr3bFL+RPtbFg5T3Qn5XPW0so2x
sam9voux3yyltTrMFrrIQA00kRZQySmTBHVbqjsPNRHISYDxgVc+RwipjJLYcbWtbfNp1+fPtCMB
TYT+9d9TmK11V/VrGr5/K7rLbnoQJ0cIrCkDhwiBbKd2xK9R0kaEgNlUP0pgWrhp6jikI/xQdGQg
EE4jeYeRgQ8RkNvItQDyvyYioBy1SA8u8aHh8mBsihiEOqNpjZR8RYSQgLqos+RvG2jsb0UQZMxn
S7fV3NZMCCoOz0IIlDp0bSZECA4FuuWIvdCRgQC4riRoO+xLBIyRiOxcSsttWWqA5k1cVjQkIPkD
hBBBb/bE0UUJdNfSJkIIAOvnZ2Goj3bpNgv7AXBMgySY/xY95HjcRhuJ0BGC/Lx8LDBCAIVs3Y9L
276q3mxr3qd+hGB2owOkRmRg+tZPAx0Z8EQIEVA9o0IiApDaqCIAXLYYDZAjA7ocKEHh/Cmyh4Tw
Y+cPSKfwacuw3aOmIgEhftqny6wtTORCEnxtruVsZFnBkgw6NMRWVXAn/r3bnJ6SRGicJ1SyPKME
XYSgQx10ZMAH1PjRfh6W0T0MqQHdiF4M/cNMBCgFUpmECA9C9sBgj4xIJAXZUU4UJkkIvEZ7Rjnu
gpzImLO0cDuKPv562silt9G3zvbFuYyAPi79ZBlKByweV7AKHSGQmul1GKIETUYI2lyDYCogqDGb
oFFL5gYdGQiELxFwKTZ0JQK6okEI7UQikKa0dEynW5xYlQoEID8q/eibHG3UHSBPgghMkgAUfZvp
N3MP6wxN1DIEfy8wTwdkx6rpArld5XfgWEPgFWJXNJ4lQuCqZ3IgNWoGZvTH0jI6MhCAaRABZf9s
5M4/cz5QiQigOCZHBmSZRb0ALcIFKD8omnpwtEkAmPz6JGCWCYA2vGyROavEACjft0nUL8j30EYI
YGhnaqD7rrxrCTwIgSzX3if8dz2T0YFo1gyabXRkwBN1iYDqOV83LF3UCqBMDjgpkIiALjqgIgEg
JBsNFe/5dYnpApeHQdvOv9Djp0jV3EXCpKYkWkmP5bzOAZXazOBz07aEcB15FecO/7SXtX5A47yh
aOscJfAgBDq5pj5NRgimGh3o0gTe6MiAB5qICFREmMLSqogC1Tz8c0evIQBZM3m2QQkaEkBBhMJC
og9B6h48oaFun7YN5eKbjDbUscPFFmf5wnuT08jbzPDDMKQCXv07Uoz2Ybo/1VoZdlxKpckyND8K
lS7nKIEHyTCY0DghmMnoQAdndGQgFFT5ln2ukRZQychH+7TUoEgLoHipdPHpheI0Q7UdGhJQnKrY
qCom9EGow2sjDK+TOCsEIMQOlcMrnVfq8Vaj0d2MHBVs6QQ3Iu7n9FwIAaBwshqmpSNpOlIQSjIM
zSdWQzB5kBp/gPN83eHoyEAIpkAEQpCThSxKAEqVumnpTZUEAOY516G2ebVvwEPNMgloyw6r0xTe
N/0InFS0oe79kXcvdEl72X4H2vOekYJ5IwQqm6eGbtEhL3RkwBceRED1QwglAnJUoHSMlosExX9V
9hTdyudLG7UI4QCC8gOjFBr1eGC4PBgmuTTwpEjALNigkmmLGpTa1tYtyZuhwZfub9iHEDjn/Hlj
DkuRoXPUoYGZBs8dDs2FNoOODATClwi4PNtdIgIVh+7QjtcO5CkFjTEppYi46xeKBbltNDvXxNzw
0vkJj8CByTjhWSEBWhs88u++VtkkzlqNgm3FQVU7ua1zzr8s0OrIrYTAIEel24e4NBEd6DAf6MhA
ACZNBHz8g64pIcTqaMKnFZUjCM59GkSo82/KFqfvuGUbQtHG0sSyRGNIfUaiBq5TCE2EQNtHeK90
5PlJIToHPdFwJQS6tm0TgqmDkBqzCebsWhtCRwY80TYRqJ7Ty1ZBDOnnDxRS/Phd7CFSVIAfs2HS
RKCuA65ri2vXNkmAqXvdZ1qTU/usI+SSXlFfkLraMEUHADdCAOhz9NDJl7y0iWgo5XikDdokBDMR
HZi6AfOFjgwEoun6AJOcOpDJAQGqDwoeLpZPKUhBKKbtdJuwZdadv0vbNgiCDraCxbydUR+X5ay2
MeS/G41jsxECwI0UQO4ndVJFCZpKG/gSAmaWY43QVAlBjchAN5uggyvqrh+gk2GKKtg08j9fUqT8
jf+KcvmPm/9wOSlQ/ST884fTc7xN2NGULZMkAa5y2n5QuzoPYwg9lzUZx+JbTKgiBICeFAAe0QLD
RYcSAlVbr+JH+EUJppj96uCJjgx4oq20QIgcG3idQPXfQoctHSATBBvacrqTTkEwWZbzLdri29WV
LNp0tOFwbbMYSm3FdhU5vH8zdmlt0BQTmggBs8tOCrgcDl1tAZEbExIeIVAomiQhmBpm3b4ZQ0cG
JowQIuDqFypOH+UUQUSAxGFkKBIALteGtka+LlJnaTYC69tuNMTFBlNbl7A80N6z1Lb2Qd4OZmc6
qWe9CyFg59SrGgImp1q8t04hdIhYaPVp0gaTIAQmGa2BIDxNcEg5REcGAtFWRMAXBAAlBER8wAJ5
PoDX+EcgSClFHJHcVlm3OPqPSHnZ4XZGjJrjxj7txR2nQUi8agCCNLjJcY0clPo08Dfhs/aBKfTu
C5vt8mjfhxCI/fLjsn5lX4tjzxqoIgRMZ7mvS5RARQhUsvQ2+6eCJgNS4w/0cLKBjgwEoE0iYI0K
GJSJJCD7f+kYJwTiyF81MhGJgDyzoKmfia/jbYsEzHIqYJIPUFeCUOrTQprB5FyaHGG61iD4pgzE
foDeSeocrDXqUbeOQNFQ1S6EFMx82qCDER0Z8IT4/HMuLLPUGejkeTkDQkBEEkCQRwXyA+CLCgk/
bOn3K0YHOBEQP6v6+MCHBEwy/2+zpZDTTjrEptdNtr8E1/x9pZ/WBpUOL5MyOepUgssI212HIMfi
2EMIAe9b6FATnPy8ZFte26M4rzuuiy5U+isIgVKHJnWgbusWJZgYuuWIvdCRgUC0TQRcGhGCvAiw
9KMXagbESIE4lUAOMeZNUfyYxe3AVWsP+GDSkYDQ7m1GJuqkIeyyQ9MUhkiTB1FwqUMI9RGmUacp
jeCnw90+X0JQ6LBHC2w5fBel2kJHKAgBM6jUBo526CIPsxElIDXIwLRtnw46MhCANtMCprYqcEIA
8JQASo6fAEghbEFMSC48bybKE+Syf4nyuCvaJAF1/XObKYBChr/uaa5GKMKHKOhaqvLRhYwwW1yI
gQkBEXhrDQE756bfdC2yM9ZGCIQTOgeusknpwD1qCWSZpijBVAmBGNIM6XsI0ZEBT1jzvJoGrkRA
K14nV37AovghV36oYiiBtzGESmUi4Auv0Lxj46ZH/Ho94Q45tBZgVkiAC+rOCGAyeP8w3W2shmiz
ybSHgU+UQJTH9FVJgTX60HTu30Gezh617mkTgi5N4IOODHggZCRZmwQoOqjalpw/9/n5D7EcCig/
yBWyhIOkdNxkpNZco911F3Bq0n36OuMm6hDmiQDoYFu22JZScM3d2/TW3UDL1bHbCAGzxcsUq+OU
IwREdQKmkbpj7r+FWoIO84GODDSExmYLmBrbIOQMxFKBUpP8pKimOjoJIQFMlua4sq35+rxJUwBC
nHFHAuwInRVQp77ANVqh7Q93QmDq59O33Me+vLHynEKZj02Vthp5QPX+AOYowfT+zkl4muCQ0pmO
DNREK9EAj1RDBYStOZAFAVC8KSRUH3jVP/6wh7HmuLKt/mq8CJOjzLoIDf1X5Uz24di0utAwOOur
jhaEhOt99MrwSWtoHaiihgCKvoVOs72iXNctkiuEQFIU6sBNDYOIj4nVtIkuTeCFjgzUQKNEoOER
aokHUP6+uo1xUyk9VyLgGw0ITS00ibpFnoWcydndlqq6I3fT9Lo2SIHODg6XyIVrykDV10VGHbiO
6l1rCZR1BFJDF0JQtUtzAW2BIPyGH87AQEcGQhG6v4DyNxEQCXB52MuEAMgIQUVW87/UumkBWjo+
nVBjaISi6N8MwXMKVTuoqnMXTXl+wG/kW/Sxh6JFfa04U03dgckWlQyfzYps12EjGHbH6xYl0MlS
tXMtVrSSiw4zi44MNIQgIuAYWXDoVu9Br4gY+MDJETmmBSZBVGwIvb+tbdJU4xY0dfdszjFkBO9S
SV9XR1OwkRGffQlciE1tQqCT62iPNkrgSQimBQISPJOhuY3b5wsdGQiA786FNhJQJwLgmm4Qagsr
ixSx82GEoG5Yf9pEILQWoM01CGrJtOp0V+qzYl4hX+zvpse0659KT5ukwJaztxECZlcDeXaLLSoZ
FfJRM+/fBCGYTkyPYfoLH80XOjLgiUkRgSAn5UEyVPAlBG0RgaZJQKg43+vxkt3gJTZJAFT9fNfX
L/pn5wOL50Q9k4wU1CEEqv6yjKJd84RAI2TihGAmMJNGzS46MlADTROBWoVqng98VXQAcCcEbaUG
fGYZNA1zhGYyJKAJLc2TqUKeLVoAmOsLXJyfSo+JeLRVZFiXEDCb6ofVXQgB01Wch6yraUIg91PY
1A3M5wsdGfCBMaStbapsQPWn1P21NqlbuvTXEYIQ+IT4fYlAWyTARewk0gGzSABMely3q63juENn
HrRJCEJ0ucw2CLE7xEHXIQRV4XZZUyUEpEaa4JCSmI4MNADrc7hJImBRFpp28IGN+LRNBNp2e7NM
AGZhsSLbioN5O7lNSQbv56bHpziv6KOX7YomVht0JQQmWS6RBqdRfSAhcEkXzBq6mgE/dGSgBRjD
zeJ7WzShdNIhdO/ZVXW47joATTqrSRGBtm2utPGW2V6Korl1JsrCXUf1bUcKVPAehUuEQNbXRKjf
VdY0awhC0wXTwLzMJtjZ2cHy8vLE9JnQLdEUAK+/b+HX4EoSSn35y9CPv3TdXfV5r83v1do/KiDr
0tlserm0qwPxKzKJMn1Ptutp0za5je063HXrr0F1L1z0mu6J6/0Vdflcq0vhsIv9sgzd77ZJW5R6
NPfQ1sxFTgczXnjhBURRhCiKcOvWrWmbk6OLDNSE1+he009LBHR9PeWH9LfJbIJMmPo0pauVBZU8
RLr/PbQ3+q8rp6lweyGv5shWkOcbLVDL4nbZdbruHeAqg8sB/O5DE7Yo5SrkWCMEUoOmbKmLWUwT
3Lx5E3/xF3+Bl19+edqmVNCRgTahiQoYH9g65+inTt9G29fc2Xe0Yurv46+qo57JjETqqnH7vupf
i/V78ZCle3Q2nV6wrdjn6py5LNbWXrPAYbrOEEIgynSx3XUKZdMpA6UTVxjbhDOfOiEgNQxo0fB3
3nkHa2treOONN3D58uX2FAWgSxN4wujH68oLJAJOIUqDnFmqE1Dpa0uPSm+dMLlLqLrp9ESoHaZ+
PvpD75kufSDrqCNP21ahy0enLk3hA1O6Q7bHGOXzvIfO36+vnBlMFxBCgl5t4u2338ba2hquXr2K
L33pS63q8kVHBmogZITvraOODbCTgEkQAV1UwKrbKjkcPs6MOr7UetqpTzDZqO/vVo/gem0+9tls
EnWrZPrK871OX502MuNqt7K+RWOTSYbODlVfpSN3JCZWOabzE0YbZODhw4e4evUq7t+/rzy/sbGB
9fV1vPvuu1hfX6+0u3jxIt577z189tlnAIB33323mYttAF2aoCEYH8Li+wZ/IXVCxCELC4WY7j9i
1B2vf+OaDKnbdTVEBmvabCd77Lzr2gGAWxTVJ9TP7dBN4ePy6qYmOFxXOQxNG4SaKX8X3GIxBWGa
euhjRx07Dyvu37+P9957D3fu3MHXv/71yvmNjQ1cuXIFjx49AsBmCqyuruL27ds4e/Zsqe3y8jKu
X7+Ou3fvTsR2F3SRgUA08ay3Pshr6G+bCDQRVWgDqhG/y2ja1zbXWQx1bVe2s9gcYoeP/T6RA5+R
vcvouJHfnSFE7zMiF+XJcsT+/oTYLM+1X/mck2Lr6N43OjAt8KmFQS8NTTp79iy+853vaHVevnwZ
V69ezT8vLy9jfX0d169fV7ZfXV3FqVOn6l1og+jIQBswhD0bFq8+b+w7GxEBnxSBq83OTgf2e9SG
s1frcrO9DQJgtsuTTMBmX33H6ivLRZdr3t5FVl0ZrvJcCYG3I9c0DJZjOdcqSI00geNCWCLu3buH
nZ0dnDlzpnT89OnT2NzcxNbWFra2tvDw4cP83MbGhpYoTANdmiAA0xjxusLkLJz613TiOhlt3SOn
B7Wx/2S/PVp5Y2hjkzUB20s6CAFo+8sRu4a8qahIvBXC59AZCbLOELu19nrYVWd/BLmPqp/2u5Ia
2uTMJCZo3+bmJgBgbW2tdJx/3tzcxKNHj3D16lVcuXIFr776Kt588028+OKLkzPSgo4M1IRPmEw8
FfoYN44KtH3CiEBTEYHqyMJjxFkj9DlTJGBOnL/FgJIddUmBLyHQyar+gZX1MFuNpmp1+tYRyLUP
Optd7QqpSbCREmUflVwLITAYMJPrDrSJTz75BACwsrJSOn7y5EkAwNbWFr797W/P3HRCER0Z8ITx
eewQ4uSQBzN10TYRmEREgPeve19mgQSEEBXRyU7d8TtAttF3q2NfQiDKynXazcx15X1qkhCbI/ch
Mi526Zy76f6ZCjJ1/VwIge7ULDr8SS46JJOAeURHBmrAJ1fWZmqhtvOcUESAtVNL98+pao5r24ff
pab8suv9aIMImEQ29cy0RQx0jtXmnF1kmtAUCfGRYyIyIYse6Zx7U+kCV5icfuncDOQRJkkGeCHg
9vZ26TifWSCnD2YRXQFhU6j7AG/FAfiP5n0cuE5GqJza7TUyQpwrL1Kr/bUKrybsqsinbi8XGU3B
dm02oqyTGWxPgE6XwkKbHNv6Buo+bvJo6bibfpd7oBRVI1VnlNsifIsGR7/4O+z+dAO7P91A+vRX
Faduw/nz5wEUzp+DFwyePn26mQtrEV1kIBCzEhXQ2tAAEWgyNeCa+3e5N84PoMAUibKNm0qLnjBS
Mim4htLd5RUCbSNtl4FkyP2zLR3sG5XwjW6YIhu6SIFvxMEEl6JG+bQt5O+cEpiB6IArBl/81xh8
8V8DAEa/+DvvsP8rr7yClZUVfPjhh3j99dfz4w8ePMBLL700U4WCOnSRgQBUHkkNMOdQhI7A20gN
6EY8IUSgblTAJZphGxHrRvW+8J/z7ziiRzP2mWxoTl6zyw83pTc0KhESafCJFPgS1DojdKe+jvdw
0hEAI0jgywGq7/LWrVvY2NjIP29vb+P27du4ceNGjYuYHLrIQF1YHnCV5g4yHFUFo25EwDm86CDL
Fy66Q+xXyan2a/5R5+LwneTUtMOUxwaarytgMkl1RmDD0QlRb51pei51BD7RjSY2KlL10elsY3bB
rKPpmoH79+/jxo0bIITggw8+wMrKSmllwYsXL+LRo0dYX1/HmTNn8NFHH+H9998vRQpmGR0Z8ETj
6YHGnaWfI2yLCPhGJ+pEBXzgQ2SmYUt+ztjPzSavcLLYT6lTlu0sWq/T4KC5zjYJQflcGCEIkWOS
Vce5O+tW6GgyXVA6Psk8l4SmycDZs2crywrLuHz58kxPHzShIwN1oCnokU4pzysb2dpb2rRJBJok
ATp5Tdng2r+O/aEIiUqE2mTqZ8wjy22VsvV6fZ7B8kiZixVH7SFyTfp8p9zp+qtkuMrhsgDLd6GR
5Tu7IGS9Ah+Yr7lpbR3aQEcGQtEiEZgGfJxw0ymBadwJXyLViE7H+1i0bzMqUQ7XG9sK710e6SEO
3EYKZLm+8rV6FTomSQhc5TWBkEhMxRbDhYmnpu7+SY3IwCHlLR0Z8IDTaL0BItCGCzAV+dQlAv5T
BtXy2oxMhF6/TZbdcSiOadu622FrGjI6L/q6Rw1K/ZSyFe0sFfyq6n0f+SE6VKSjjgwupwlC0FR0
wMVu33RB6Lm2wTcqCu17GNGRgZowhneVB8OIQN1cv1afowNumgTIMieVogi5b8bcvnSOEH37ptIS
Ll3qhNd9yEGpn/Q5tChRF7XwiVC46Ghy6eFQGW2hjl5rX6mBm9OfQvzvcPr0YHRkoEHYnOe0UgN1
R+JNEA/fELlvP5drcb12nW4XWP8GHHXbbLFJ0IXXg1ad87BX57xLbSS7XOb622SbiIcPIZBl+TrV
OoQgpMDRVAPhqseln2u6wOU7nRQmuQLh84CODISgrpfQNXHs2lRUQGuHwnnW0WXrUmeJ4tBphCF9
XEQRQ7um7p2LFN0oui4xsOp1qEUICctz2b77H3D5PosCuYTOTTbNSoSg6eiAiRDoCMV0hj8dQtCR
gYZgHBGjjzbwAAAgAElEQVROoUZApdplZKx1hMFpCMWxADtCiEkT1+571b7RB5v+UNku4XVViqNJ
mNINKptciIqNbOhIQUjIX7ZtEoQgZKRv02vTo+vXRFRkaugKCL1x6FYg3NraakyW06O+JhEIHVWb
+voW2bVFBJzlKGWHRQR8yIdphO/ycgWl5miEbItbikNth0qeix1NQHdfVPa42GJb1a/a3i7PJMfU
32WVQhcbQhDyDFD18404mW1ybNgifPcn4K/DiueaDDx8+BBRFJVed+7cKbXZ2NjA+vo63n33Xayv
r+P+/ftmoQ2O8if5ewm1KzS07UIElA9Qqa+qT+h6CqFRiFAnr9Mlv0S98ktlh79OP2KgstHnVdce
lS0u8irHNfJ8Zbk7wNkgBF6/dcu1Wm0NJCITAQl8HVI812mCd955Bzdv3iwd+9a3vpW/39jYwJUr
V/KdpnZ2drC6uorbt29bV5qqi9DfiaujNjlUW3sX+a4ydPp9K/9dbWmaCDQF4whN26d5a3QL3Yia
6j4PudmhC+9wW3wL+UzXVnfqoKsdprqGuvAN29ftp+sv30+xQeVch7nBc0sGtre38ejRo5Lzl3H5
8mW8+eab+efl5WWsr6/j+vXr+MlPfjIJM40IdVS+4cwQHS66VPJ8nXJo1b8LkXCJCPjC936E6rI1
d3WcRXv7LABXqGoAbDa5kAJXkmGS5SMvZB6/3E/uW7RxJEuKvi7w6df4mgkeuttCt86AP57bNMH3
vvc9bGxs4OTJk3jzzTfx8ccfl87fu3cPOzs7OHPmTOn46dOnsbm5iZ///OdBepv6M5pkbpEf9ok6
OIVvHfXb+hnbKhy6LxFQh5PdSIhLiJxCrYPraaq+IKSdbEcT0Qj9tbrbIcvzlaOTVUeeD0JTDW3B
9xqt2YGW9DYGUqNm4HBygeeXDHz5y1/GlStXcOrUKdy8eROvvvoqbt26lZ/f3NwEAKytrZX68c/8
/DRgG+myNs07VhfZLgTA17nqUhomRy47OxUJ8C2UtPWT9VeOa14q+TY9KqKhul6bTlfiZrLR96Wy
0dcelazy+XqkQGeXqa/c3hdt+8U6RK42aZqa19ejKyD0w3NLBi5evIj33nsPf//3f4+7d+9iZWUF
V69ezWcTfPLJJwCAlZWVUr+TJ08CYMWHjWDCf1wmR2drX7et7nTTREDWGUI86kQDVPrNz0m3UXed
CIOurUp+23AtwnONFNhk1CUFoXAhNNOEbwTEO1XlZ06HGcdzSwZEnD17Fg8ePACAvKBQJgGzgjpR
AdNvuW6tgMtIWKXTlwgoH9iSk7SNunW6xP4+dqr6V0eWYVMMTdemur91RudUobNNgiDbY4oUuMjR
yRDl+BIMLlOUY+xrF19bV63InIXstNrfQtwmjS4y4IfntoBQxurqKs6dO4ft7W0AwKlTpwAg/8zB
ZxbI6QMfmFahmyXowqK2dk4jUwcn6CLP1s53NN9ENMC3v4u84GuDbtU91lc3a0BVIGZC3WekrUiN
66+zMJAoq85qhj5w0TVtqO513QLIucBcGj09HBoyALDZAjwicO7cOQCF8+fg6YHTp09X+j/e2cb/
/P0/zT9/5au/i6989ffsiglxGrKEjGq07QL6qPXp5Vbb+l+jOOLVtQ29FpPtdWwN7a+TZZLpRLwU
x4rK9/JZeYtgFXRL+trgM4OBEFKywXUVQlkGgCA5XJbrbAFdWxeYiIfOMZv0+TpzH72+Nuvuxf/1
f/4l/uav/woA8I//8R+wvDzZSGydUf5hjQ4cKjLw8ccf44//+I8BMGe/srKCDz/8EK+//nre5sGD
B3jppZfw4osvVvqfWF7B//TWn+SfJzH6d9XhOtI26QhNJYSSDZeIgKttuv6yLmcyFUAEnMicsp85
NOuip+K8+HGNrtBtilUyVXb5jsxVTiXEYamuu+3Ru6/8SYy0mx7dO/fPbsZXvvp7+MpXfw8EyElB
h9nGc1kzsLm5ifPnz5dWE7x58ybeeOMNvPzyy/mxW7duYWNjI/+8vb2N27dv48aNGxrJkw3+u4a0
28v52s67T0WT87mic1bWCGRtfHTo9PgQAVt/XQRDJC+mlyjHNZ8uv0x2y+1U+lU2uNYg6K7RZI8O
TdQUmGyU7dH11/UxtZ00XK+nSRkhUchZQlcz4IfnMjLwwgsvYGtrC+fPn8e5c+dw+vRpXLhwAVeu
XCm1u3jxIh49eoT19XWcOXMGH330Ed5///1SpGBSaM+hN0MgXImJiy6XiIBJR8gIvG5aoG571xSA
ykzmIO32R9LYTRnuFt77hrpF+KxgyLvWyVO7jL5DZYTUD/ja11SNgg90kZPQqInY19iv7VCMI2bA
hLnCc0kGVldX8bOf/cyp7eXLl3H58mVvHV6+NGDUEhIVCHKADm1DiUBIqF2lTyfPtb9vdbaLnXIa
w0WXqr3KBj5OlkfIJhACpJJ0AgBU/UQkJHxER6C/TrkWoNynaoOIikyhgdzfVAfA7QDCnZ8T+fCU
7VOjILcP0aeS4SunLomZZtTgMI/yQ/BckoFZhsuPo84o3MkGjSNTtamrI//s2EdHTkzyiOa4z4wG
lY22mRVNkxuqGP87EyCFHxUjCkRaZNWFXGh1ie0qdhRnXfYbMOmSnafY37evs/ND9Zp8EDoobpsQ
ANXvoy4hEPvUvW9Ng5DwyMBh5RAdGWgBpeesp0Py0lMzKuDS1nvkW3Ok7XKuYpOyj3s0oCkS4Ep4
yrrtEQCXFEG1k/REI1TpkKsgylG8sqUmumCayaAUa4gY6GYguJACnxkAyhG0wkHWLXwMmZXQBCFo
So6z05+RVEEHd3RkIADBozeHfiFO3aePU75d0yZoTr13D8nBGgiPra/6vPTZob8qkmIjAS63Sg7r
q4iCq9xqbUARERD72dMDeuqhqklQ6ddGbRQjVLG9T9jclRQEOV9Lu7bm4dcJ1zdFCOpg9qIDs2TN
7KMjAw2jxkC/EafeZAWwz7W4pAV88+86ecFTGR1G97o+VNHWNqKvyMqrAfT98jYOxKBqZzkVwBy/
MLIG8Y5Eic9TZU2CRq4YPpb7qO63POrXEg1FTYBoi200zx3WrAxcQx2ob0Si3E5PCFyJmK29l0Et
YRa+33lCRwY84RUVMIweQ3Lqqr4+TlIZiXAlDw2H3eW+SmdrGZG7IvRe62wzOXPZYbrbpI6GqOSp
bgF78ImpgHIIQCYGlf4al2SKROT3RZAbSZGIwjbeVtQp6tGP+tV2VUlBXULgmipQtZWdc+go36df
k4TgeQMhBFEUdn3P830xoSMDNWB0MjWIQJjDcycCjvzFUa9erqtNdaIpLvLzz5XzbpEKVTSgfN12
kqDUo0kTUOFsccx+L0sOPasRyI9oZhWI7V2hizCIMxqI0FplupyuECMGKqfN+8gQ+8iRhTqEwHe0
LMoszjs6Zo9+TRICnQ11BvShkY4O00dHBhqC7lHaNBFQOd+QiICtn8tovGkiYIsK+MB0n0MiFbKj
p9A7c6NdmivifbkzVZENkw5x5F9y1nm4vjineljrwvxKW6XUg1IGqbYWdcsOvuyMworsmLzCkTdJ
CEx6Q3L5TREJX70mG+wy7bMKlCenhEM6wA9GRwYC4ZoeMB1uggjYoNNpq5i32RRKBEJTHO5tmrNL
JgLiKF0VIeDnXFDVp48EcPLB28oV9kQ0EiiP8g2zCkqHS+/dagt0qQddDQG/b6paAzFSIEcJclGG
CEHeRHLkNkJQHDMTgtBRvrGtwyi/Tr82CIFNp+3cJHFYw/2h6MhAAyg99zTpgbaIQJ1cvrafYztV
22kRgTr310YE6pIAk+mmGoMiWlC2qdwmc7DZgy9C2QnoZhVUUMrrqxu5zyaoRg5UUQPeLspIgS1K
IOu1hdJdCIHRqTkSgibrB8rXXi9dYJNRaeuo2xtTYgcdF/BDRwYCoB19ToAIuPbzDZOHRgXatMWZ
vARGA3R9TURAF76XZSl1wf73Ic4moLkNtNJOBCGFc0iBSqTApXhQJVt+mKpnE+jXJVDplaMBXC4v
eDQRAjFyAEmnzdm7EAKj87W0qVOQF1pQqLNxUmiNPHSYCjoy4Im6KTBfZ2Xrr2wTGBFw0m9wvL62
uBCBtmcx6GwSHb+cx3clAaoVBc12yHqqREDnXEVCoHOaekdXjh6obCvpFBy2aJEuciBHDcRogRjB
EK+Fy3etIwh19rY2PtMSTTbanGUTixHp+jbpqOdlFgIh4WmCObi8VtCRgRrwjQqEEIE6oXW1PHNU
wHk07mCLr+2uRKApEqDTVbJVQwR0aQLT/VNGVMT/CudTwSYdEVDrKJyb6Bh0o/cSLDMKTKkGcSYB
18f7yKSgKUIg61KSj4YJQXFscoTAJ12g0jsNzIIN80BaZgkdGQiE7rHpejzUmdvgOxL3aRuaSpgF
IuB6Xwr9+oiAnDrQwXS79esKqGUELUkM4XoMbfg+5qERBFVf8Y6aHL94XOcAdYSg0JDpVvQV+zRB
CFycdB1CoIMvIfDp31SfWUsVzJIt84CODDQBRwdUR2xIVKBJuqGypQki4CpXP6p2t0XuI/YryzJH
BGjpiNv3bEot8FG8aI+rXLFt7jw9//BSwrP/gkEamOoPlLUHpHD8spMVCUFuC2hp4SIdISjsKfqb
HHVbhMAFPoQgJF3gotPYtiGdHeYbHRkIQOl555AeqPSfUFQgXI5ekE3FJIiAKzFyTdGovjdaem+O
EJRtc/8SdCSgarsj+XNUXZAG0ZLMEQg1BwBzDLIjU8kS7ZTXHuAEgkI1c6CaGnAhBIX8TKdDeD10
uqAKNhlNzTBwiUSo9Kl0NoX5qBsgNWyc9WtrBx0ZmACCRvUGR+ar06Q3lED41B64pidMDlGWaZMr
px10fVSj+xRUGxEI3TtAZRcV7AkhFrolhF1tkD+LRYiFDcU9ItK/ct+ijzBy1zj6OoRAtoG1cXOg
vqN/3XlRTxuEIAQ2J91GGN9EOErn2hn/aMEKCMP7HkZ0ZMATvlGBIEceEFWonZIItEfVxoUIyM7a
PDKW+1rIhU22pr1LjYDqsw0qUqP6ezHJS2k2Stc43booh/gFZy45M/HfCAXEa1TNHhBJg0gI+DFd
O6ZHVYTI7RZtmDwhsEEVuRDtdiESrtEBlW1tRQfmAbMfvZgtdGTgEKCx9QIc2vjotRGBUBJglK3R
Y3L8YpW8znGHkDFKqxGIqv3SsezpXhkZKxUIzsf6XMycluykJWcmghc7ime48xR1qooF+doCorM1
zTIAqjUH3GqnkakFTROGqvx6OwWabHXt1xZ8yMokMSt2zAs6MhAKh6hAtYvdY5hC46FFcnVgc9yV
9pZ2vkSgzj1TFQeK7eVFdExEoOyUq8dcIEYEyjUL7H3qII8TAltTFVkxpRXy0T4pkwKnokTJyalm
J8j7JujqCGRCkHUCdzlqslE0M5GX0vVKztwFLoRAtEunM/8Mdycq2+lDCGbVWXeYLXRkIASuI+NS
F3+nNinYHLO1v2Ykb2s3aSJQll8d7bOjeiJg2i8gBKJeFRGomwZQjdBtSLO9DAihmQ8uPIfJybHz
rIEYMZBHzeq1BGiFJLD+5SiBGCGAJJfJUUdMbCN319G/Ca4O1zeM38Y0xSZgij7MCuHo0gR+6MhA
TeiiAk349SlxgwpMdrimGlyJgJM9SsdZ1V/oKs6pQv6sbfm4SAR0awKEfD/VtEXZRddNP6gcvi4q
oNx9kC88RJkTlCMFNu25PGFWgjxqlusDkB1TFRaKuuVoQn5tmhC7aEfd3H/Rx15QaLIrt41UvxEX
JzpLhMAF03qGdQWE/ujIwIzA9qANXVugyWmMoVMOXSMHYpsm1w3gcCUCKhKhs1Ol2wWlporIg01/
0VV/vXJL85GCBJQcNjJHKobvpZG7UpswqgaqTtJUR8A72WYbqNcuKOuzoYm1BYJC8sJJW5/QGoC2
1w+Y9fUJusiAHzoy4IsA5+pT+JYf89bip9fmoF1C9q5RAVsb33SEaJdNt+o6dWF/3o6iXNjnGolw
sbvozw6mki06kuJST2C0wfF8RGgRSSA0jxAQIraq2qdcdlhwpLl8lAmB2FdVR8DlqWYb6NYu4JYS
yQbxQpsuFqy7NoDNmU7SsZePu4+UdXbNIlHoUEVHBmpA5WC8ZTgQgdCFdbx01ogg+EQFQmcr+ERO
5JE9d/DlY3oiUMhRj6br3GdRro5wiKkD3+iECroHtKpdSgXHTxkhyJ0wKewh2X9ypyeM9Et6JCcj
76pomlbIag70xYWmyAFXIRICExqfPQB/QhCKWUwVzIJN09Y/b4jsTTr4wmfU2JoNLiN0Tds2owI6
Oa66ZGfMpudViUCpv4YIUGomDOL7NHuZdIt9So4++18KioRSpJQ53ZSfoUU7fp5mbfj1ppRWXtTh
Jd4z8SXaz18ppZkurptmdmT204KmUBQ2ivc5v57SPZTsKtlQ/k7E+0dhL+LktqhmffBz3Iby58rX
VmljQ0WX4W/R5afhQgBVso3tWn7+uA5UJg+2AmHIa9pxjJ/+9Kd4/PgxAOD+/ftYX1/H+vo6/vzP
/7xVvR0ZmCKajApMCyYTbI5ePm+SoT4nyVPK1hMBDu6U5XYiEQgBl5o7dpkgcKcPKjhg4SU5db0e
N4ev+lyRJTjElIKRE2Xkojgg2s7PA2VSJOvQEQKVs0+F+yjKF9u46uXXJvdVQeXsxf76fuGEwNR2
Us+C6jMovK/teFvgBYShr2nhzTffxOuvv47XX38d7777Ls6fP4+1tTVcuXIFDx48wP3791vT3aUJ
AlH3j96FCPig/NDRPegb0uXwoHIlAiYZlfMmfQrZ8joCKtgWFBKJgHtRo+CUpM9im7KD0zuRNPBJ
T1AUUfFwuSxbBUppVjSYVeNTsHQBLYoGdVMAxXOq4yU9gp1yXy6XUvEYKy7Ut2HH5ZkGWc/i2hqc
YSD3D2kfWjsQCl+b7fLmYa+C+cAHH3yAra0tLC8v4+bNmzh37hy+//3vAwDOnTuHO3futKa7IwM+
aJHeqkS3FeIzOlWLE1fJaaveIESGOZxcdsomIsAdOXvvRgJEiIWB5ZEvM7gYRStGrBa9Opj+htTF
YXr5vH2UPeiL5ZDL6w9UHDNEZ2MgC7RcXMiDs6KjkmsBREIg6tatWyDfG1dCILbXkQUfp21rOynM
ih2TwjwSlNdeew3Ly8sAgCtXruDUqVOl83fv3sXFixdb0d2lCRqA7pka4kRCdNqiArawaYhek8Ny
Cf/72qI7qyIC4nEVOdD1q6YKVHaq72epNoAKnwXZRa0Aynl/IH/xY6l03OXF7KvWAFBZn4N83jaR
7aSoXB9/8ZqCotZAfe+Le1mua0jz4xpylunV1gcI35t65Ug31E0nmNDoiLxOX9s11ZHtoadNzFuK
AGAEQEwFiI5/e3sbH3zwQWu6u8jADMA0ovPp61M0qDzn4Oit8h1IhytZ8CVZHDpnUdYtO37B6aB6
D0wq5fy5rKvkeKVUAM0aUuFY0b/45FINbzsub09s6pd1yO2PCMmHyfKsA92WxQQsohAZZgJwG8TV
C/NTgiygnBIobXZE3GcZUJRnGBSf/R0B76s9rwif6/T4tG0Lz1u4fx6v5dKlS9ja2lKeW1lZ6cjA
YYN1lOzho9Wj5TC67kMWdG1URCBkKqHNtrItescvf1bVCOiiCzJUqYFEGGXy0TVrq7hmSW/pXE2i
x2XIj0ddH9lhioSAInvQUt6fIhIF8yWMs9ULU5q5auNqhsIBIbwe0eJQfveyhZFK2xwryAbNjlfX
LLATAlM64HlzmjqI1z5pYnKYsbq6Wvq8s7OTpw7OnTvXmt4uTdAS3IvNauhw0Ocsq4FwXoiMpusi
XBw/1ZwvwtQ8nM4jBeUq97K+opo+ly9EBHgbMR0gEgEqvLhu/2uW/haElzxDIZVe1PAS7VEdFz+X
Z0OoiU7eV3E/S6kBIX0gpg7k9rlcBVkT26trQ+woRXE0HajlfAjKv+sG5El/b22g7SmMvmAh/9Dp
hdO2vozvfe97E9HTRQYC0PSP1Uu3hz6fB1/eJ+9bfVibzqtkNAUd6ZEfxLo56S5EwMcZ61YDVBUL
ykRAjA6Y9MlHiea4aHtFhiLF4TqipUAx2qe8iJBFFqJi+FxNPVDel0KOEPDVDIEidVBcnyLMz/Wi
unIhkSICynOCrFIUgRYRAvEadHdGdW6a0YGQ4kTXNITpuuYtOjBPts4COjLgCZOraMIJtlUrYGrb
VlSg6VqBUpuKTEmXBxEw2ZC3s9ilKhbkzr+QSSvHTNemO6azxSmV4Phl8xkEkcJpclIAXkcAVJwT
6ytvSJS1zWoJuAjxCitLDmsIAYT3roRANcuA35PcfoPDq+MMXZ12Hbja52PLJOxuB6QGWZvPK66L
jgzMEUKiAuVj/k5IJaupqIALMVGRHpOzFPvbiIDYNx+1i/0VkQP5XNUOmrc31QiE8i9Rtosc+R47
PyDzMD1REgIuW4wScPnFNRe7HrI2UqRAPAZ9saAqfy8SAJBqbtulhsB1OqH+FtUvQgyFbgTva4Nv
dGCe8BxcwkTRkYEaKDuOgP6hem3n69pVcSBqh6jSp5PhkmYwjrwN7Y1L1vKXJiIgEoGS7KydvNyu
2rbiPIWQ55ZslwmCfE/5w4tINpPsPyaiVLWpbC2X6cIoyw6OVggBN1ZdhCftRZA5G6ZfvdkQt5DS
IjUhFwvSzGvpnK46DaCOBPhgHhyj6+g99FpKJKyF6EOH2UBHBjwQ6rzz/hYBxhG35pTrKL3Omgfl
0XYzUQGXvi7HXBy07hyXJ+bWtdMEDYRDbC9GAuQRvFyQpjqmRJ7grkYElCRJcW1MjKY6XlSVGSK3
FVMG3OnnVf9ZhEAmBFRQkJ8DLZyJEBUQZx5wO3KyQIuiLp4uAJclXI1ICCC10aULdCRGRqhzmxSZ
8HXYtuuZBxJkAi8gDO17GNHNJgiE7yi2HRvq6fFKO3jICLLLY9Qr6qWVz3rnL58z7TlgIgKynfLa
/CIRkCMPfMRfIQIw3eNisSD5eG4DyjMEUkv70kuQryRgPGVABduF65Nli59V+kozLzQky3g/hPaQ
3qsXG5J1QPlZfl/I1xO26nVrjC71cWjj0D5o5olnRK6u7GmCEQL/12FFFxkIgE+4tml9rk6yfMxu
oWmk6QKfXr61C7oHrm0aoWlvAuVDH4XTEz/LOkSHrrLR6igVx2S7VLl+V/IgolhGWN9Glq2Ccd59
0ShXlEcPyorytwm3CyjNNlAVBHLRgKIiXjnyD8vh2woJVdfuIze0v4tsoGyf77XbZM8jojm2XYS8
JHFb6CIDDWNW2HFTVvhejmnkEWKTS9FgCKqEwy5TJgLyiN1EBDh00xJ5W/6S1wPItxeGsD6AYvSv
u1ZZr/yYLLZvLdutIjzlVRbV1y6+5OsT7ZJtM0V4dHBJ4VT7hJ0T9RSf/aMDs4A5MfPQ4w//8A8n
oqcjA56YdFRAp6tuuM8n2tAkQmc0FP15O9kBmOXo1hSozCBQyGd9qkSA62EOrbyGfy4/P89l0dJx
CG25vLRkW7l9ThZSmtsm7jngCgL2448gjNChHrnq/u60kQ+d7dI1lGdbuBMAldO1RYnsnxV6FKSn
LkyEIaRmSO5X/q487HrOmAGPhgW9pm28J3TLF/uiIwNTQpu/PRtp0PbTtNVJkB+koVGBkJyoQpOk
r/zZ1RZdX/5ZRwTyeyDYXnZ05RUJIbZTjK65PnlEn1IWYk+Fl9guxGlxMsCJAVAuvhIfjvoFaSRC
gPL94S/xHO8n3zsf6AgBRfV79Ik2hELn7NuOGNYpEH4uQYpol+9rltnA/fv3EUUR3n///fzYZ599
hrfeequ27I4M1ID8O/Nh9pW8q8ePedJRgWn8NtQjUP45bBRYllVtI45OxeN87YCSffxlcHDMEbLP
eZhfcIyVAj/JLorC0acpRZKyfklKMUpTjFKKMWU7C1IKJGmhT7wGHfjDLxJecrpA3a9sc/7eQAhk
YlDpm/9bvdc2aMmkpb2aMFZtE89N0tlXny9h/Srna9o6LwQjImGvWcb169dx6dIlnD17Nj92+vRp
rK2t4Y/+6I9qye7IQCB8iIBL/zbQ1I9edqBNwkZMVESAwvxAKjsZ2bmriUDZqZX75v1QdggqI2SH
IacNxP0AKvsE0GKbY/EaOSFIUmCUAgdjiuEYGCUU44Q5T1WxJNE85MQffaV2QPGqXqPioHCNgMER
Z/+qNmpSQU4f5HULkg6dgzfuYCnLkHToYCMEuvMuaDod0VS7Nm3o4I5z587hgw8+qGxmtLa2hhs3
btSS3c0mCEDTRMAlKmDS4DPS17Vt29H79dN3rNw7hbOXdRdh48w5KxwHRTEqlWcRyE5DtkV0Irmj
TwvHINcI8OsTq/i5niSl1SmPWcdRSrE/SjFKGGnoRcCgx1x7PyZICUWcuW9C1MvtiGkAVUqgpFa4
idUqfqFyHc1EjyiVZg+IWxODQlyAiFfnc93i7AF5hkF5XYHqOYAA+efydYGWIyH1rs9/xUL53pr6
zHv1f5MgNZYjrrtQ1TRw7949bG9v15LRRQY8EeLfmvSz7Tjtdjm8i3TVqEx27KapgkUfqnyvayfu
tCcTJXHHP51tqmvQEYFKNT0tbGC1ADR3+LsH7LU/TDFMKIYJxe4oxeODBNv7Y2zvjfHkIMHBOM1C
74UBeXGglAIQ0wAyEVBFEIgpbSCPihX3wxU+RaVFtKRcayHvbqhODZXPFWr10QP5eCW1U/Ono4xY
zEscfsbxPK4zcPLkyVK9AADcunUL77zzTu3tjbvIQE1MIj0QEvKz1RW4RhCafCx5FTMaPvuEhOWo
gNhPWyNA1aN+l8+pcN9kIqC8RkFvSoFxQrE3SrE/TpGmQL9HsNiLEBFgb5ji6UGC/VGaOekI42xW
AZuvz/+tOnyVflYvUDmcrzQoOl5F50IvilF11qHaHvoIhIjKBkea3Q9znYKulJDK7oY8msBXJ1RF
DwqzVdAAACAASURBVLJlF0urEsIwyqbC8Fwe4cuj/zbgGx1QtT8MUYR5HOHbcO3aNbzxxhu4du0a
Tp48iYcPHwLo0gRTh9Mcb0uTJqr9feFDGlx1h4yY/NpUnbbqc9FaPYrPiYOGCJRXHpRsyWWoiUCl
HX9JREFGTlgoSwU8O0jxZJggSSkW4gjJIjCICfbHKfZGKUbjFHFEkNIoG+1DIALqWQGqB3+U9VGa
ZSIC4nFhkZ5iXwFdrYG7Ayo7ayaR6yidQ2EGpbRCCCC8F9MFVR2aol5NuiUUrmRBvFdtEosQPOcc
YuZx+/ZtbG5u4t69e/j000/x5S9/GRcvXqwttyMDLUJ+jlaciyk37uj3XR13W5FHa4Qh12+4VqmN
qqW7HuEYLctW36typEDWVSU56vw/d+ZFDQDNiYA4yjZeA2U2jCnFaEwxTlkEYJSkiCBEAQjQiyMs
9ggGMUEckdypUwok2RXFkiPTPcSVhEA4qDOdCNfPtzwGhG2PhXYu4E5PPXrn3xFPaxQa5BUIVfsX
iA5fN7IWIwmVc4bReLWt25bIIbJ9+rRFIkLsnTR48Wxo31lHFEV46aWX8Nprr+H1119vRGZHBgIx
r3k9W1RA17Zyrubly2mIJglMZRaAJIhHBWxpE2X9Aqo2U7mNQAhMKw5yEAJElCCKKHoRYa8YoCDo
RchH/72IYBBHSCOCpUGEpX6MfvbEG2eKxpm8HgF6MS3VC6jup+6BKRIbHXTOhm9q5IKCAMjbI1ej
ACJBEHWUIwVVRyyeT4k6XSBfuxgpkEkKJHt1BMM6+hfO20L5dR37pBz4LKUfZsWOJrG1tYXz58/n
6QGAXefbb7+Nb3/727Vkd2SgJTQVFXD1h76Oe1YXKVGp121RnIf8pc/8vTrCQCufxZG7mZzQyntO
Drjz5C10U9/k55P4uQeChV6EEwsxIgIME4p+RLDYjxATgoRSINuXb7EfYbHPSMIoyfRSgCIFBUE/
IhhkZCKbcFCuSs+uIRUKCG1/s+K1y05KdgLingi+joy35zLkWgE+y6CsQ97BMC8FqJyX6wfYNUGb
KrA5FavTlxxxqJNva6Q/67pD8RxyAVy9ehUPHz7E22+/jbNnz2JlZQWbm5u4efMmVlZW8K1vfStY
dkcGAjArUQFfM2zNdSRkGtfrfW0SUWDvy+dzx4/yFEKZCFRkC/+KkQZxFGvqqCMCQLkALwXQj4Gj
gwhxBBwklM0MyDr2SAQap4gIspoBVmNQXdufglAgjliqIE0pSPae2z+mbOYCn3XQi7LZBop7p7w0
DSFg11J1dCpnkvdT9BfPyVEC1jcb7avkGkbt6hF8lSg42S8RhdBUgql/RYdok0bfLI3OpwXxdxPS
d1Zx79493L17t7To0NraGi5duoT19fVaZKCbWtgC2ogKuDpkt6LG6ZIZ3SjcNJLXmayaPsijAnz6
WYkIyN+NggiopzeaIymlxYWk9rYpS8VKgGzcH0XZdD7KRv174xRPhwl2RwmGCcUoAYbjFLtDVlA4
TsoRi3x5ZMqcGycxfPW/YcL6Pj1I8eQgxe4oxTBJkYh9K9dJixfk+6uuoxDvT0mOJDO/Z7JcQaZq
M6P8M6rnVH9T4t9Sqvh70P6NGa5HhzozZ+rI8pVt7T8jA58ODKurqzhz5ozy3MmTJ0ufffcs6MiA
J+xV9dJnz/4haELirEYFKvfPQA60UQE5ApCRA76OgNYO6X3ls0A6Cttr3K+MMSQpxSih2B+neDZM
8XQ/wdODBLujFAfjNJ9V8GyYYH/ElicmEEa/2SsVPlDKli0eJin2xmzNAj5V8fF+gif7CZ4NE+yN
GTEYp2nulBPKFkJK+PvsxY/z6+ZExOU+iMQpX55ZvLeCzPJxNfkDVN+zfvngshXyUU2xqeF6bFDK
U5LO+nJDYZPlqmomCAQpSLjva5ZDAzdv3sQHH3zg1Pb+/ftesrs0wQxhFn5DTcI0qraNuH10mERU
yZneFtGe0uhVOq+KAFDhXJpHIxjE3Dm3ifAYeG4jRZKCRQEOEjw5SLA75KsNZumCiIASttIg7x4R
JozPKCAxW1OATxvktiUpu/ZhQjEcpxiOGTFIUmbz7pAgIgn6MatbONKP0I8JYmG4kOfwURCPKEtv
sM8supFSmhUs0vzCxdoBuVhQuLlFGNxjSt+kn93ltIN5qqDuuL/O5qca1lkTwSclMh2Er0A4y2zg
7bffxr179/D2228X3x+lePToEYCCAFBKsbW15ZU26MjABBHq+KbFtK2hcW0/k0zNccUx3YqDXEYq
jODKIWA3+VW5ZSIgrp8vRwBKGwJl58T9Bbgt+RoApKjQyx0JKaSnFBgmKZ4dJNjeS/Bkf4yDMbuS
KCIY9Jhz5g847sTZLIMIC9nCRGwzo3IeO8muaJRFHEZpsdNiQlmh4t5wjINRAhIRLPVjfO5oH8cX
YyxkUxeTrDaBUopeTNi0xaxCj2QZd0opaAT0Svl6MyHQfkeUgso1DDoH1MCzWzWrgOsNFe8040B1
HxpwtE3WDcxrDcIcmmzFK6+8gk8//RRra2vWtpwguKIRMrC1tVXZOKGDH2zpBROEQaZWrnGULhwK
oR3mGgg/iepwavavJg3gJtiml2o/lyIDmT0yEUh4VCAt7JSdi7wSIJFkjlJWNLg3YssMjxO2uFA/
jrDUj9DPigb5NMIeARZ6BIvZKyYEaRZhYGH8QnZKKZKEsmJCAP04Qj+mOCAUoyTBwSjF470RKAX2
+hEoBZ4OEwwEAkLApjcu9iMsxCSLHBAQwhRRCvRBkERFYaJ8jfwBLRYMVu4RpL/pJh2bwunLzlfl
vE0O0WddARMhaGrE76Pbt41o4+xHB54/fPOb38Sbb77p5G83Nja8ZHvXDLS5n/LzBlX42bffrMFG
LmxRA2c9kgTdevLyOS0pkmSa2in/ldIDucw8j85G5QmlGGdbCYuRCxXkfQKYhewJSwjQiwkG/RhH
BjGODWI2xTDizp31jwl3zhH6cYRBFiXox3yNgmylQcJmIMSELVR0dBDh+EKME4sxljK5aUoxSlLs
DxM82R/h10+G+M87B/inz/bxi50D/PLJEL9+NsJnu2M8PmD1BQcjlnJg/2aFiDzyQIWFl2j5O+Kv
JtBUrttJVwvnVO1cawzqwlS8O8/gswlCXrPMb1ZWVrRE4Mc//nHp86VLl7xke5OBNvdTPqyYxVqB
mSgCMkC2rhJZoYUjlivRbaRA3l5XlR6QiUBK2Yh8lFCMU/aeSoSgPMOgGG2TzPnHhGAhjnG0H+HY
Qg8nlvp4YamHlcUeji2wFQd7UbFCHgVz8Mzhk3zKYY8Q9CNGEAZxtuZAzAjCQp8tWHRswNYzWFns
4eSRHk4e7WPl2ADHF/tYHMRIU5Y6eLw7ws7uENvPhni6N8KTvRG290bY2RuzfRKyQsf9McX+mNUk
jNIiKqG6j5zM6O6/K9TzHnz6K46pnLBjO9U5WyTO1K4pTPOXPE3dJPA1y7hz547y+M7ODq5du1ZL
tjcZaHM/5Q7The2HOw1+YHvo5g5BcJD+OtSjIx3hkCMEPCQ/TosIwThziLIOEXwPgQjMiQ96EY70
CZaXevjc0T4+n71eOBLj2EKMI30WHRhkIfpBKVRfhOUjwsL5/ThCP4qyf1lh4GL2GvRiDGJWKHhq
qYcvnhjgv1hZwr88uYgvnFjE0cUe+j0WMeDrEPTjCHG27B+7XraxEr9evntiJcyvuNfsvpXPiQSJ
/0uE4zJ8x3D2CIK5Qd2an3KkMEiUM7loGm1EJVoFESJvnq9ZZgTf/e538fjx49Kxjz/+GKurq6VV
CUPQWAFhE/spd2geQt2aM5ynhc1S9MDXFE17o5jSDAA+cyB7ZURgnBX2RVlbSiEUCipEZo4uBjCI
gWgQY9BjYfWIEPRiNtInBOgRtr4gKDBIUgyyWoJBnIU4AVAp9xxFbEog29+dXwTJUgesz0Ivwsml
Ho4OIgyTHp4epHi0OwbAagsoBQa9CEcHMXoxkzzoRVjqRRj0MgfO7Y0IsialDZN0t9MHTeanbflu
cfGhSl9UbbcVC/rUBehkNIEm6gZC23aoj7feegvXrl3De++9B4BtX3z16lWcPn0a3/jGN2rJ9iYD
fD9lccpCU/spd6gP7Xa1qBmSdejcVL2ACGcy43mBITlrWQVPReSpgrSYL5+kjBDEELfJLRAhc8bC
k5QQgh6hWBD0kdJ5pj0iBEdSFvZnhYVRHhUgKGYK8OvkexsURW5CLj+zYZDVHCQpRS9K8tkKB+MU
hACLvQgriz30e8yhsQJBNjpPswuMCFtBMc4IgWnHxPwCNYeazN3Kt1+34mB+3tHB+TpCV8JQR0cd
2IjKPM0q4BGy0L6zimvXrmF7extvvvkmALbuwJUrV/Dee+9hZ2enlmxvMtDmfsodwuHqC3VkwYRS
DtSr5wRR07C8uxTSLc8a0PdPKZCAkQAASGNkRKHYxS8Pf4v1ApIcXj8A1TkQoBdlSxHTInSfMSaa
fbdslUE2K2F/nKIfEywv9kGyqAKbcVDsbMidOr/OXkRwZBCBAhgmBOOEsjUOMsfZF3ZKZEQoi25E
rC8nOjaILcRCSlVflTTddEAgxFGr24c4Y5eRva2NSwTBagdtfm2CecK8EBdfrKys4Nq1a3jttdew
sbGB3//93wfAtjae+N4Ebe2n3MHPp4WkAJqCbhaBqY0P2Lrz6v7K9QcUbMh0fwgP40vHxYiBrdKa
oigQ5E6Yj8pJCiSEIMpH4cXonI/4edEfl1XKlSseZDEB23MgOxcRoB+xsp8kTfPFiZ6NEvzy6Qj/
eWeIg3GKU0f7GJ8ABnE2NTFJMcy2Q17okSzVwMbHw5Ri9yDB3ohm9QCsKHI0SvHkIMFSnxUeHss2
U2KpBpYiiIUdFsV7xL8E8Zr4dauu1ecRLu9iKBME85TA7G9EQypMZEMtz2FTI0sbn9F3Uw6+bkRC
1XYWogjPAxf40pe+hK2tLe2z9NKlS/kAjxAynY2K2thPucP0oKsDmFRUgPty7sC9dRk6uJKm0iJD
lQiB2Saa/YfXEPCV+FJapAnkiAAnBzRz4oW9VedIhfd5Tj4jFmNKsZ+wpYr7cYRHu2P8h396gv/n
4adYXOjhi587ht3hEXz+WB8JBZ4esHUFQICjgxgrSz0cHTANfAnkg3ExRXCYUOyPEowTioNhhCRl
EY+lXoRenNlD2L4K3HKehihv5FP+7P2sFrxfW/l0viOipM7b8ZpG/m04yknn7g9jpGEaOHv2LB49
euS0yJBupoErvMlAm/spd5g8XAfvcq7cpZ2XHRV7qPTZAkVkoJjSp9AnOPdSNABmIiAvGsQK83gu
WIgSpEAakQqJ4CF0W1i8ZCuKPH9KkefjKViYfm+c4NHuGLvDFMcWIvz62QiPnhxge3sfx48vYGdv
iMHjmNUkxARP9hPsDceMSCSMuIySOHf8B+M0X3o4ocWMgdGY7VcQD1lEI0koFrJliweUIiIReMKB
UMaIIsFLEYQ7QpEMadtIDnEaxW2q0LwtFdAV4TWPfGZAYN9ZwYULF5yj7hcuXKily5sMtLmfcof6
hX514LKA0KzMIKiYERJNgOD4aTkpwQlCQSjU0uXHBl97IKIk36NAnk4g1gqovm9ZV0qRLWbE9hKI
o2IGwTil+PTZCD9/dID9UYITSz3sj1IcW+rjxX/1Qh7tiCOCx3tjHF2MMegRjMZRltKg2BuzVQj5
JkRRxFIHEQEOxixVEEcEPb6YUcyWJ94bpxilFAs9AtqPGCnqAYRmV5UiJwSqB6xqdGnbdpbTNJIV
ZprC/M5hboUdEI6JztpliWEnnbnt3Qi7LYQWEM4SfNLv4to/IfAmA23upzzvmIdCu9J8YYWzn2XY
eIhq9G6aOy4SAfGYHKUwEiDCHRhz/PlUQyo85gmvvBcr7O3XwslIkqY4SFMcjNjmQnFEsdQnWOzF
2B0m+MWTIX6xs4fROMWTvTgnISdPLIJStjHR7sEYz/ZHAFnAypEBTiyR3JH3s6cmoUA/W254ebGH
OCLYG6V5bUAvphjEBAtxhBRsG+URIUhSki2YVITaQRkHogZvSaT3LiMyEwFoPG2Aso2ujtstB1+W
ZiIc84pp1w3M0gh/HuBNBlZX/fZTXl1dDbOsw8zBtnFRo7q0x+srq6QFFPpctBBCQLJ8P1/yF9zp
Z22iiORT11zTAuKmRimlWVFfioOEFfWldIyDcYTjC8Cj3TE+2x2zJYR3h1ha6OH4kQFeONrHkYUY
z/bH+OXOPrafHmBhEGN3PwHoCIuDiA3eU4KEUMRZCmGpH+HEYozjCzFb6rjHCgMHWR0Bv45xtuER
AS1qMrJ7QNhFKK+1jQc0EWgBf6et4nccyfuM3E11AU04dBeb69zW59Fpir/BkL6HEd4rELa5n3KH
2cEsRQ1CCADL1Yvz7cVlgUXZYp+qntLUQukcG80KBYHIlgUGy1fG+cyBap2ArJ/IL8JcXEIp9kcp
9sdpvtLfs1GKXz0dYevRAf7h0z1sPxvi8bMh9vbGiAjBqWML+PyJAY4MYiSU4mCUYDxOQSmwszfE
Pz16hk+fHODx/gi/fnqAR0+HeHqQAACW+hGWF2Mc6cVYzBYaemGphxeW2AyCfraDYZLSzOGxXQqj
iOTXLq6EWI6GVB11qXZCurcq6EK/ZZll+SoYI0aWvzff9fzlSJMsxxeTSNU9h/zgucb9+/dx584d
3LlzJ3i9Ae/IQJv7Kc8z2vp9zk6OfvJ2lJx2Q+pV+xKoRLvq486epwsiQoEI6MVs9b986mCWfqD5
dEOSRxHK9mX7H4BFAXZHvLqfGfR0mGD3IMWT/REOximGowTPDsYYDhMcOdLH504sYqkf49GzEYbj
FBGJ8JsvLGFvyJz9s/0R9g/GeJIZNhyl6MUELxxbQC9eREppvj0xAVs3YKlfLMuTphTDrOiQZFsZ
x3GxnTG/Ip5aoMLRJkbJfKaGdz8UI59ySN4WAZi9YH1bI/nZusr6sNWfPA/Y2trC5uZmqbaA+2Df
GgJvMtDmfsrTwMbGBj744AOcOXMGH330Ea5evVq7EOMwQec065AH5ToCFhtU9QLFOXd5pqLBiuMW
zkcgiCO2EBBzWJmjzDxXUUeQFfQRII6i7N/CaSZJioMkxd6YLRrEp/mNE4qnwwS/3N7HaJxi72AM
EKDfY4V+KycWSjsnLvQiHBvEOLIQIyIEnz4b4dnBGEuDHnZ6QyQpixgcDMfAIAYhbB2CQZytZsij
Gsgeqn1WxDhK2GqLcZRinLKbRSkjLvtjiggU/Ywc5DnjjAiR/OqFzZYyb9wUWQDU+Xco5It1B/q1
BsILBWcpZ/78u0UJpEZ0Y05u1s7OToUIAIwEbG1t4eOPP8Yrr7ziLM+bDLS5n/KksbGxgStXruSk
ZWdnB6urq7h9+/ZcEIIZCRo4I8Te6lbG7egx6RAjCHJBGd+YhyMiAKUkn0bHVxBIKTDKtggG2MJB
/awgr0/ZKoIpKA7SFJ/tj/HZboKdvTH2RwlSCvTiCNtPD/DLR8/Q68UY9GNW4R9H6EUE+6ME/Yhg
++kBhuMUXzixgMEgZssLxwTHFlj7hR57n6QUzw4SbD87wJGFHo4s9EpEKN9XIHPm/SjCUp+dZ4WF
BLujBKMxwTChIIQVGsaErUHCyQSlFCnJ9k1Q3L+Q5+6kxurKWgAgv64mZhXUQYg6FxufhwG1mJ4K
6TsPuHfvnna2werqKu7cueNFBrxrBtrcT3nSuHz5Mq5evZp/Xl5exvr6Oq5fv+4lp5ILrJyfndxg
ea37xsV7QTWfH4r32v4yUbB04jUEqty/vo/iM6VIUUQR+AZF4xQYjikOsgWADhI+ks6WCB6n2MvC
/k+HbNT/bJhib5ximKbZ4j4pnh6k+PWzEX75eB+fPjnAk/0Rnu6PsDscYzRieyOfONLHaMyKBglh
efxf/OoZfvHrZ/iH//QYn/zyCf7ps31s744xphQrSz0sL8Y4NojxueMDnDo2wKnjA5w8voCji32M
x4wc7A6T3NHxzY94lGMQRzgyiHF8EOPogG2RnE2kyAoKaRaZkL/L7H7xVAmllR0L+XHdfXf9vpTf
oWeOXwaPVE2LfE/7d6rCDJp06HHy5En82Z/9WXB/bzLQ5n7Kk8S9e/ews7NTmRlx+vRpbG5u4uc/
/7mTHBsR8MWcDfad4Trt0rdYUFfoSFF2OLoHuQ8RYHIEh5Zm0YHMCR6MU+yOU+xyJz9KMRoXDjKl
2fK+Y4rhmGJ3mOLpMMWzYYLdrEhwlBTFecNRit2DBOMkZbn7QQ+9XoQ4jrA/ZBGDxYUeC+NTNnNh
wIsGhwke7w3xZH/E9Bwk2N5L8M9PRyzqsM8cP1urIMXukEUh9scszaBKkfQJm1a41GdbHx8ZsPd8
7YE8DZB15dMs+X3jhEC8vzIJSC0eV/d9VcgFVX/ntvoQNxLK2+rJrAsmlUIwafGxQbuV9IwyA0LC
XvOKV199FcvLy8H9vdME3/3ud3HlyhWcOHEiP/bxxx/j7Nmzc7WF8ebmJgBUah/4583NTbz44ou1
9cxKAaAJRS5XOEYmOxLy0WVqq3QAmoe9eN2mnHXJWWVCeJFfnuvPogPDzKHzh0pMCKIoQj9GtsVv
JicjB+MEGBIANM3rCxZ6EU4s9rC71MP+iE0bPDro49TxBfTiCMNxgid7IywOYpw6vohfP97Hzz75
FUbDBMeOL+LkqSOgAPaGCXYPEjzbH+OFYwMkCasxOLoQY8wCDOjFEeIsmcH1822Y8/skPCGjrN1C
L8KRrFEvq3mICS/G4zUC+pI8PhfR9eHLm/H2ze1p6IZJpSZC4HwPDe3auLbpTlkkNQoIZ/WbNuPu
3bu1+ntHBvh+yhy3bt3Cq6++irW1Nbz99tu1jJkkPvnkEwAs7SGCr5UgLreswxz4+cbQ1A9bl4+v
LVe3BoJGg7ysMGC/xjSXWQYLoyMvBmQzbJDtHJhif8zIQy8ipRH1INuBkGSy+ai4FxEcHUQ4vtjH
scU+enGEUZKw+oCYyR70IiwNYlBQ7O4N8ezxLn79d/8Bv/7ldtYuwuIgBgHw65097OyOMKZsO+Je
5syPLfRwbLGHo4Meji/1cXTQw6BHShcp3xOeNuhHEZZ6BEcHMY4uRDjSJ+j32NRCnj4JicZU2irS
Wqa1BGyRJZXueR4N6vA8rh3gg9CowDxFBy5evIhbt24pz3388cc4ffq0l7ygLYzb2k95kpBJQBN4
HrmBKmrQBGrtaKiKWggHqcIlyGmDctfyts5sk6FyGzHELTs6AuTbCbNV+FKMsk1+DpIUgzHBYkyw
NMgKBSnLQ4+zynx+j1kage0PsDuiIBHBiSN9DEcpRkmKZ/tjPNkb4cneCIMeSxX886M9/POvnmLv
n38BxD0Mnz3FOKHo9Sh6UYSlBTb6XuhFiEBYVOEAWOgxJ96PCNtmGUA/JjixGKMfsxkK4siqFCmA
sGNiLwUhUZ7e4IWHNGsoFnJ5jzwEffxfmQjwzy7TDY3hcstiRc8jlFtFa67fN0Vw2MlIU7DNCHjj
jTdw69YtnDt3Dqurq9jZ2cG9e/ewtrbmveBf0K6Fbe2nPEmcOnUKACqpDT6zQDV18vHONv73d/4d
APaw+ze//bv4rd/53fyzDBeH55pLbwuiY5Wdom//acM131u3oEzFQ6KITc2jfQIgQpSkGCZZOiCr
LYiImFsnoDHN0wWjlOJgBOyPKR7vj/GrJ0PsHozRiwkWBzGiiGBvyBYVWshmEiwOYvz6sz3s7x4g
HY8RjfZw4gufw7NnQxAywLPeGMcWe/jNlSNYGET41c4+RkmKfi/GC0cHOLowYPJJsY3xQo8VC+qe
8tVrZ2srMEfNSU22HoAQW7dFX1TT8GwOSEwVhK4/kMsM73ro4HKv/uav/wp/89d/BQD4//7xH3Di
RPODLxueB0Jy/fp13Lx5U5uyXllZweXLl7G1tYU7d+5gbW3Naz8DEVYyMMn9lCeJ8+fP46233qqs
hcDTA6oQy4nlFfx31/4tALvjabtWwEf8LDns1kCp9jpVswjE92k+4qfZZ3/1cVYPQOMIKU2RUIIo
pfk6BzzFwB9PEQAQtvsfzdxoEqV5Zf7uwRi//GwXBMDnVpawfGSA0TjFoM82GNofJhj0Iiz0YwwP
Rkh7ixh88RQ+9/nj+M3PH0MUEewPE4zGKcb9FNGY1RCMkxRRRPB0ny1KtLzUw+eODbCyFGGxT9DL
pgSmWcGfvAUxnxkxztYzSNJsh8asZgKEIM7mW/LoAn82qOb7810YZdR5jOvWDKiDabiV4Iz3DKwv
8Fu/UwyU/jYjBZNGaCRqlnDv3j289NJLWFlZwfr6Os6fP49z586VavYANpXQNxIgw0oGJrmf8iTx
yiuvYGVlBR9++CFef/31/PiDBw/w0ksvNVI8aIO5EK55720K+bukA3SRg5kgG45GVHcErEYJTPei
RCgyr8YH0j0Q5vQT5NsBU0oRjYGFUYJBzKIGvSgbUUMIxUcUtEew0I9Ycd4CW0tgd49tRxxFBEcG
MXYPEmw/PcBolCClFCdXlrB0dBHxv/wN/Ku1zyOKIiwt9DAcJxiOxlgYRBinFEfiCMeXehglFCtH
B3i6P8KvHu8hSRewNIgB9NAnUe5IxilFmu1ZwJcXTsF3T6RIUpYKKT5naRhK2QZFERCnLGrQ1kpw
stP3nevfJGGoW2DY9iB20sWD04aYngrpOys4e/Ys7t+/D0opbty4gRs3boAQgtOnT+PcuXM4f/58
7r9+/OMf51H6EFjJwCT3U540bt26hevXr+P73/8+AJYyuH37tnWxpKanE3ZoAKWCQObOqfBZtQyx
iggABa9QkQKxXoAKnflzh1K2s+DukE0LTCibRsgGzSRbppdV8ItP6DiKsEAoToDgYJzi2aiPlWMD
9OMIcUywPxxjnLBVA3vZKoEL/RijcYIvrZ3KVx88dqSPQS/COEmxfHSB1S2MEoz6MY4vDTBO2Xve
/wAAIABJREFU2B4F/TgCAcFwnC11nM16ICi2SwayxZGyfQd4RGCUshkTjASwqZUAm9rInaLPA5X3
cXGoFBSgwgqGLUQB2oJ71f98X88sRCaeF9y9exc3b97ExsYGrl69ik8++QR3797F/fv38eDBA7z9
9ts5OXj48GG7ZGCS+ylPGhcvXsSjR4+wvr6eL0f8/vvvlyIFIZj2dMKQ3L9RHmaf8BSpKrm4r0wE
xOVxuYNTy9MTAiiOcWfMcv98FkGSrUfAWi/EEY72Iyz0kIfNxYdlRNiqhMtLMUZJH589G+LZ/hiL
/RhP98d4urePKIpw4kgfRxZ6OBilOADbShiEYmnQQz+O8GRvhONLffQigsdZsWGcxeIfPT3A3jDB
saV+vpbBQWZnvo9CWiyW1ItYNCOO2P0YZ4sjjRJ2XalAhvrCvalTla0jBeLIv/Q+IwR1R+d1YC5O
nA7a0DtPzr1ODcks4cqVK1hfX8f6+jouXLiQTyHc3NzEj370I9y7dw8PHjyoTSKNZODChQt49dVX
cfXq1YmEzaeBy5cv4/LlyxPXO/WwugfmyNQcBCxEnTsruJMasdiNkyrel9Lq3gm8CDDJRsqssp7l
//sxmz4YR6ymgE8l5GvyR9kTi1IgSdNswR9W/X98oY/d/XG+st9wmKDfZwWJJOuUJGy64PLSAo4t
9fHpkwM83Rth+egAUbZc8UI/xmI/xs7uCJ893kccR+gdHaDfizBMErZHwZjmmxQxL5sKxYAUSCgS
sCWVk4TXQjBEhCCKWBQBwqwNtmuhoRBRUTSocuhy5CB3/gpC0CTyDE6gXPPDmQj/7dA0CAknA7MY
mOEp7Zs3b+LChQt45513cPr06by2bXt7G+vr67V0GMnAhx9+iM3NTXz/+9/Hw4cPceHChcqCQx3C
MM08u2vkwDY6nlVUogMELLRcSh3wEWwRKcgL3AQCAD5658cIQGhBDGjWnpEE5Nv7Asj3DuDPFj5i
LtmavRKw8PzBmC1J/GyUIIqA40t9PDsYZ3sesD5RxJxsvxdhpb+ApX6MlSN9DJMUv9rZw6AX4ehC
D4QQPHp6gPGzFEcGvdzOfi/C8aU+CCFI9kfZvglpvhZCTIBeFCGiNL9P46zNKKEYZ38TvajY3TCK
+P4DJLs/tHSt/D6pHKT4nSi/T+F93VkDdVDMYgjvW2BycQyVc2tt58MZ8qSzZEtT4FGCN954A6+9
9hq+973vAWBkwXcZfRnWgsvTp0/jvffew4cffogXX3wR3/rWt3DhwoXKPgQd/DCrkYF5/QGprCYo
r3DHHZcYos8/K+SJD3+xGp4jJwKVfgRxxJbpHY1TfPb0AL9+so9Hu2M83k8w4jl2gnyHQN6XUhZZ
GI5SjFOKOCI4ttjHF1aW8BunjrARP2FLCCcpC+MfXeihFxHsDRMMejFOnljAkUGcr5fweHeIveEY
Rxd6WFxgSxov9Ng+A0eyvoQWlK8XsWWHF+KIRTYIo1GjhJGVYZKyKAJv14swyKIfESGI8ygBQ0qF
6ZzSH75tZ0gdVIsLTfovV/ze2GdFG0vfWYJX8eXsmV9BRMJes46VlRXcvXsXq6urOHPmDH76058C
qJ+m91pn4NKlS7h06RK2t7fxwQcf4MKFC1hZWcGbb75ZO88+r6gWmM2ol39OIEYpCNgwXXXLxagG
b8cKz9hwXh6NlkLRushJ5vhZfQCruC+RDQBxTHBkwKb/PRtSbD/bx6PHB6CU7VjYy5zmySO9UqEd
H40vZYn3XrZIEQ+5jxOKXz6JsLs/AiHZPgVZ1GF/lOLJ/gjP9seIIoKlfq9IN/QjPNtjxX6L/QjH
jwyQpCwFcGShh34vwpFBDyB81J2RpKjYkZHPFBgnbP+FhAKkBwwoi1L0SLEFM6EUaUpASXjY3qcX
TxW0VUQYfA0e3nIeHGsIntPLagTb29t47bXX8LOf/cyr3+PHj/Hw4UM8fPgQhBCsrq7i1VdfxZUr
V/CDH/yglk3Biw5duXIFV65cwcOHD7GxsYFr167hzJkzuHr1Kl5++eVaRs0T2gqhN10EGG5HOVUw
abvkAkBjWznMn6UHxG9IzD1DrAngBYhQf58URRpglBXQjVLWns0QYLpjwsgAQTbvnme5KTAap3h6
MMbj/RhH+hEW46ggJYSgHwExibPtglMcX4jzCv6n+yke9yPQlDnuKCIYJyl7ZaQkjllaIo4IxmOK
gzGLFBxdGiClFDt7Y8QRsNBnmxuxrYxjxNn+wiJB4hGONFtPYDhmGykNs5UGYxIh7dMs+lKsTcBS
BgAVKv5Z/Ub5Owp1FKJM8XOpTQtuSE4RuEQF5L7F53r3YNKYxSiGDWJkL6Rv27h+/To+++wza7v1
9XVsbW3hk08+Me79c/fuXXzjG9/Aj370o2CbgsiAiLW1NVy7dg3Xrl3D5uYmfvCDH+DBgwf45je/
iUuXLj2XhYemfP+sOHEZ85r/5yjsJ3k+mt/mrG6t5Fir4WeSF5mJhYXsHIPqvpTumxARGCYsXE5A
0IsIoojmpGAhJiCDCAdJhONHehinCxiOUsRRhOGI7SD4bCHGkUGa5d2JkIpgtQZ9SrDQY0WFw4Rt
j3xsoQeALSk8GqfYH46zmQTA0YUeThzpI8pqCQBWArg/TDAep9g/SBBHBINejH6P7YvAyAaykL/0
ECQENE0xStnui08PUuyNWHSDbZkM0FQiitk18AWgxHuYn4P9YSu2VZ1zRe7Ap+TM6jikSWHGzQsH
qbFRUctf2p07d7C+vo7bt29b2/Jp7qdPn8ba2hrW1tbw0ksvYXV1FSdPnsTa2lpjS+s3ukjT6dOn
cePGDfzkJz/Byy+/jGvXrtWucOxwONHk77EYlQrycz1mRfmaArRYYGeYhcv3RxT74xQH4xTDcTEd
j+1OSHBsEOM3Tyziiy8s4XMnFjDoRWyUnbA+fG8CFQiK1MFCTHB8EOELx3o4daSHo1l4P4oisAJH
9uCLCHPy/SwV0c8iD3zNgH7Mzi/0/v/23qU5jiNLF/w8MgGSklp4sOaxmAUBqtdTAsWamba+rTEC
oDazKpJQWy/uSgBYm2s9ZmUkS22zGrNSUSyzWTYJ8A+IAPsHiEBZ17NvG0VQPVuJAKu7F3fGrCBA
c6skkUDGLDw8wsPDH8c9IvJB+CdLERl+/PiJyEw/nx8/7p5gPJuGePN0B5OnO3htvINuwrsDPhWS
4kUvxX99cYz9b45w8O0x/usLvuqATxuIPQf4/bzMIhTHvWKlgcizSJT7yv9W8iXKz92dE+D7HaGM
4kOgG/kPs5MdxZG+LxiyQ7UCXrans7u7i9XVVWxvb2vLNzc3sbS0hDt37mBpaakit7u7S97ED+DL
3+/evYupqal8d9zz589jYWEBc3NzJSJQ92yg2pEBExYWFrCwsNCW+qHCIEbbTa5GcOkalqkCYUcC
li/vy6cRlA/BaaNIIyC0L5yjWDb44ogn0n1z1EMCoNdNMMZ3LuBHFGdh/DNjSZFUxxj+9OIYCSsn
16lZ9vIzFh9KwhjGuwkmEobxToIz4wkOv+VO/bujXrZHAJ826CQJumD47mUPf/ruCMe9Ht58bRxv
nuGbEX33spdPczAAb4wnYAlwKkmyhEN+/biX4pujYxx+e4z9Px3hmxc8aXC8yxMjE8ZwlGb7KWSJ
mkkiViMwdMTNmB5/iENSpgiaREhuv07edV+u6YVhc9TDZs8gsb29jbt37+Lhw4d47733KuWbm5tY
WVnJt7g/PDzEzMwMNjY28uS+tbW1fHUeBR9++CHefvttrKysAODbE3/66ae4ceMGpqencfnyZSws
LOD73/8+1tfX8eMf/zj4/rzJwPr6OnZ3d0vbIEaMHvShdMN8+YDmFazTMdn/8vIU2dI2Q7gf0tK+
LI/A57aKRLoUR9mo+CgLmSfH2Zw9S/lcObLjjDs8QiDyCsaz8P3r4x2cHkv4jn1pipTpNz86zqIR
vazdBMCZsQRJwk8Y/LNTnfy0wO+OeaSikxQOJkWKsQ4/Mpkfhcz4dEoKjHdZdjBRgm6286AIq/Kl
hCm+fdHDH1/08M0LvjERYwzj4G13O4y3+5LvVihWFpwZS8DGgA5Up6d3KnL2NmX6gAp1isBV12ef
At2xyqVyQ5lXngHJknooR2n85JuUbQtN85j5+XlMT08bt91fXl7OT/MFgImJCSwtLeHmzZv47LPP
sLa2htXVVa821RML5UH2wcEBtra28NOf/hRbW1s4PDysRQa8pwlu3LiBNE0xNTWF9fX1kTqPoEnY
E4aG4afQHPp5O8GjPoInkXWLpDZWFFtViHMEOgk/zKfb4WH48Q5Dp4NiD/8sKiCmCsaycPzkmS6+
9/oYvvf6GCbPdHG6m+Q/vl7KHT8//CfLSeil+O74GN8eHeOPL4/xx5c9/PFlD98c8f0ATncTTJ7p
4L/7szH8t2+MYerMGN483cHpLt9muNthOD3WxRtnxvDG6TGcHktwpsvPJ5h8jdtwZpxhLEnyFQ4C
aSrOHkhzsgHwexzv8IgHXzaZ4v/7jkcPDr7h0wjfHvWQ9ornZp3/Z1UZdZ63qa+eywH7bizUxk9i
2PsNX/I8aCSMBb1sMEUbhTO+ePFi6frc3Bx2dnawt7eHtbU1LC4u4q233sLly5dxcHCAP//zP8+X
BvpicnISV69exYMHD7C/v19rK2IgIDIgZ0C+/fbbODw8xPr6Os6ePVvbmIjhwLAmQVphTOhEKRKg
LkcUjkiE6m333e2AJ/aNMZGKCAa+DLCbsNypMvCQuVimBwCsy/f4Z4zLn+okYIyP/CE2LUrTfMXC
UfZ6ccT/VRMexzKnzFixS2C+C2LKj1N+fbyb5w8whqx9TlBeH09wutMpESL5MYp/O4xvUtRJGU51
E7xxiq+EAAOOkeU/vEyRJCk6jJOUozTFOHWUbfpbHn1DJg5VvfLKAvLoPmA1gpNvtuDMh5UfyLs/
DiPk70xIXV/s7OwAQCUXQLx/+vQpPvvss/y6mEL44osvwozU4P79+7Xq18oZ+Prrr/HkyRMcHBzg
3r17+Oijj7CxsYFz587VMmpUUMpox3Cw4VA0mYNAa6+8lK92+44PQF5FIO87kBISBxgAljB0Uoax
TrZsDgk6LBsxJzzKwKMGcoia1xWh+zRzyuMdMT+fOf7MiR9lu/sdHad5joKYlkhT7piFqS97vJHx
Dj+VsCe2Qs6WGY51+GqB18Y7vF7K7egknJSMdZJ8JYOKNPufIA6nuzw58bWxBG9kUxxHvTQ7tpnh
KOE5Gz2prvV5VsLlmfs1RQV0Dtujxw7p3Os6umHPBZAxxKaNDJ49ewYAlcz+6elpAKjkCJh246yD
iYmJWvW9ycDe3h42NzfxySeflNiQyG7c2NjA7Oys1wFHEXoM4wi9cN5DZhvRFOGEBSFIUpGAyJDv
lZ/K7wGAgWU77gEA6yZIWIpOUiQxJhkJEMsL5d3MEhRr7sU14ey/O07x7ctjvMhWFohsfJ6DkE03
MIBlkQakyMnBd0cpeCyBt9nt8NY6DHhtrIPXxxOcGcumADLnLlYoCKJie3QJkCULdtDtML43wli2
IyFDQQoSfk7AeIeVIhEqyiN/fbluWqGYyrFHBVTdPksZQ8rawqj4Zl10oA0nFwRWzkfxresL3+V9
k5OT+MMf/uDfUIvwJgPnz5/H5OQklpaWcPv2be0WiLu7u1hfXx/IAUCjgqZH4rKqOk7aNMBuyt7W
IiiZYpt+4ThKBxgx7vTEbnsJ+DkBslpeJ6ub8E6mmzCM96pJiL0UJUcr2iiH4rkzf3Es1u/zpYai
HT6y54f/jHeEc80y9IFsOZ+YWhD2cAKQdvl0xpluB2fGWBaFKFrvZGcImDrsNOXPRkz7d5ME3STF
qS5PDizsAU53EvTGgLEkzbcn5uQhe2aGz0E8V+H4fftedcogUd5Dur9EU68OnKsF6jdRq/0IDoZq
/olPXV+cPXsWACobA4mVBdSlhIOENxm4cuWKc7OE2dlZnD17Fj/5yU/ygxReVZimClwj52EaVPui
7SkReemgCZXS1HBdg2LKoNiIiDFxEl41OoDiH4DxBMI0FSPiNNt7n2/yI5yPmL+WO5YeCgf+8riH
77Jlit8e8eV+POcAONVh2X4AfJ5+LGF5xEGsanh5XOQS9NKUn1DIinyEU1keQykpihWJkOr3U84V
6GXnHhxn0ziMiZwITiY6GbsZ6zKcTouTFwHkSymNo3vGKnkKgLnjVh2/iwiE9f916g4GxfP0K6+7
+2HIEsxBwefz3PuXf8bev/wzAOCr//LvmGD/jVdbi4uLuHXrVu78BcT0gDhdsE18/vnn2N/fx/T0
dNAuwN6rCT788EOS3CeffILbt297G3RS0HTH0/QPtB8jEJ+lVm5lrrZM1aTRJMwjVeGMS05NkucR
huwUv8L3ltoW7/lmPfxMAUEExAj/dJcvBXxtrNgcaCx7dbNIwZmxBG+MJ3h9PMF4JyNnGVkZS/gO
iGNZRCDJRvGJRAREYqPqgFORu5AtnRS281yDckKkuB8xjdFlwHjCIxTGZ60QARNhKD07nZ4A512a
RqgQi2rZMCDk99D079YVZdQf4cEvjtJ4Z+Z//J9w6T/+J1z6j/8JU//9/+Ad9n/77bfzY4ZlPHny
BOfPn281j+769etIkgRzc3P5dH2SJHj//ffx9ddfk/V4kwF13aMJS0tLlQdz0uD7w2zqZ9ze8aSt
qA0GNboiJ/Tl1yDvl19eWiZIAaASAMn5oyAESVImBEJ/xV4UHeRxr4gKCMfLtwtmOD2WYLzL5/fL
9yH2MChWL+TRglQkRyJ3uCzLMchJjsb5A3xKoJfySMBxmu2k2MscfcIJRjeLTqSZrDxBIpInE2k1
Rclu8aw0REB+1iaY8gKYodzrkCBJXxMYJQcYilG5xzZPLdSRpPX19Xz7YIBPGWxsbODevXtN3VIF
169fx4ULF7C/v49er5e/9vf3ce3aNdy4cYOsq7UdCCcnJ0/ODoSsvVUFQ5eoJyHUNsozoj7HVJkf
cOpldBKh2iP0y/fNGE8uZJnBPO9AdbrZFEH2N8QIPFtBkGZLBfgInpXaApBvcSyOSxYbFPF9AIpt
jXuM71fA9y1IM7tYvpJAdpJCl5h2OOrxCMWL40xn1ng3yYiJVL+XlnMuOqywXSRS6pw+DNcYyvI2
B507fuV9KGz1myYKdeEb4jdNEdhkdHAlBQ7jMkP+nQozylRre3sb9+7dA2MMDx48wOTkZCln7sqV
K9jf38fS0hIuXryIx48f4/79+61uznfhwgVtbp7Yg4ByGJJAa2TgVcUwO2cqmiYsgNvJhjphHbR7
B1puytZZydVkh25Sma9GyG6olCOCNA/Zl+1V/mAsd5zdDstG4nw3vz+yYzB0MN7lRwMfIVvFIG3k
c5ydCSASD497xfJGBk4I0iyfgLEUYwkDUh7OL9kD3tEf9fh0xTcvexkZ4BLjHYakKwgKy+V7GeEQ
z4yhaF+dSnChtBeDbdqA6f/2hc8UQ535cfU710aWfWg+QBNWDH3ugMcoX1dXh/n5eW3CvIzl5eW+
Js4/efIE77//Pt58801tuVjySEEkAwFoihDoHGQbjvpVg/b5hD406YGXiIFFpSqXj2wzQiBG3OKz
FasHBBLGHe1rYx0cZSf/vTjq4Y8vjnGcEYw/Qwe9JBvuZySjm+23/F2PbxX8TUYE8pyC7MyAXsrJ
wtEx/471uiJHIFtZIJEYIfvNS7718IsjvpEQX0bJdxrkKy14968+E3kZZREZKE5hVJ+b/Hd5W1+9
I2MoH4Usy5hoB9Xx6tqK0EP3TIeZEPDve3jdUcHKygrOnTuH8+fPY3Z2FlNTU9jf38fBwQE+++wz
0smIApEMNATTVMGrEEnwQSiZEfUoEQTfNqojKJFwx5wnFOROXtkgSfwhDgkSB/yUwgtSO8g2KEoy
rd0OcGqM4bU0wcseP/jo6DjFCwa86DJ8d8RwlDC8PO7lhwqNdXkm/4vjYhTfzfIMxBp/xniC4neZ
UweAXppkGf5pHj3gZIUnC7444pGBb6XTF7tJmhMBPi2RnT4o3WuS3atKBOSli8Lpy/P56vSAmrRp
68Qpg2vvXB3N9wPw36LYrpOmq4iSBDdNxrCF9iP8MTc3h93dXTx48ABPnjzJVxMsLi7mUxlURDIw
wmgy9K7XH05ktAchNWQvxYl761Rsq4waJUIgBBiAHgpCIBxsyrKlkWLoJAgBgB7jyw+7CUMvYTjd
TfBtt4fvXibopb08IfBlL8V3xyn+9OIYL454XoE4MTAF+DWk/NjiDicEYx3Gj0g+SvGnF9y5C24y
nhTJjgI5GcimBnhUgOcMpEjyLZHHU5ZvWiTyI4qISLFaQZzGKEcGGIqpBNkhJooMJLniEbPK36ao
QNuOzRl6rxmip552OCgMun1/6HfXpNYdJUxOTuanGtZBJAMnEE0l7zUBE+FQjy021hfEoEGj5bMK
ROMicRBAiRTw6XyJKGR1mCZCAGR7KLAULM22L+6kONNNkJ4CvjtO0Mmy93spsmOIj/MNiY7TFIx1
Md7JTi9kwGtjfDOgDmN8yeIxP1qZj/J7SBKG4644ARE4Pi4/JHFIUgqxfFI4ZX4xTe2PVRABeW8B
GxEQEQVdd6sjAk3lChisN7ZHGaHXyl2oGcJ25QuERia0bRrqDrvLDM4ZOKHwXloYwRGamTvqoHSO
RYfkGa71lC2pl6ZoSPVlJ2OoJZxYPoqVrlUP0inryPcgYIqTZZwQJPk5Adme/6c6eOMUH+WnKfDy
iJ8aeJStGHh53EOaFjsNTp7pYuq1Lv7sND8BMU2Bl8cpvstD/b187wLRKabgSwdfHBe6eyk/YOhU
hy9pPJVtWtRNuI0yGZNJm7wUqxL6JxIBuV5i+Txs78UzLd6XPxcbbOVN5g9QR/11HT3FYt+7GlUi
IP/eQl6vCn7xi1+QZSMZ8ATZ2ch/j8i3q59mendKrhqa4rAksqKuXFZyYoqMrXPOt8WVOhlBCDoM
GOuA7zY4xp0wkC0ZzBILk6TYU6Db4TsSvnaKbzj0xqkOxrMlAkc9EeLnfzPGpw1OdRKMd5L8XIXj
7ECj44wI9FIe3h/rJDjd5dMWfMohycP+QLF6wPQMXVMDOiJQPC9Zl/66/NxN5SEI0WGqYnLWrnpN
o8moQEh7Ef3D2toakiQxvhYXF8m64jRBDQxDcqArjF5fvymMH5goqLFXbcN2T8aywGfApDth4KcY
ygcZlvq5zJnpdlhLGA+3C21iioEB6IneMptvF+cXJFniQS9N0e0xvEx4w0c94OiY5w90E4ZkvAMG
htfH+fHBpzp83X+a8s2BeAIiX1lw1ON5At0Ow3iSjfa7XA/ATz5EIrZgzqY5RMSCJQB6AONTEOJk
w460q6A8XSKej+rgdU5cR45VcuUDnQOyrV5w1aXVMxMVHwzKeZY/A4esRWBUfH/o2QSjhJWVFTx7
9gzXr1/X9tPyJkguRDIwYLTtzNuAbPPgCFHZiYOlxfkBkJw5k+b/RVm+YZBrbwSFpAi9kqMXf6eS
vEwIdO/zsD1nCnzJYBfopQwvugle9I5x3EN+/sGphG9N/MYp7tgZWH688XGWW/AiO/YYmWMfT7Io
Qk4GeJsJY+holrOyjlgNwA8mAliev9DNziNQH1VxDkN1o6BKN0yK0ridrXFKRzNNo+qS6+pWChQq
yqTGZbltoyTfxMK6UwTNREvoRMBGygbpinkkKrzuKOHDDz80Hl+8urpK1hPJQABCR8WjhLojf9UB
2mTMNphXDejqynoZin16KiNGxSa+kZC0aRDK9gMSgZAaq9yXdF0bIdDcA2NABwysA6RpgqMeP83w
xRFfGZAwYCwjAq+PdzCW7VSYSkcei22E0yxHoAMp7D+Wzf9ntnVSfpepeH5psTNijzF0khTHiYgU
yMmBxXOpRAKyv/OpAc1zr0QHYIZp2kAvayYBsi6fzYZ0djbl4Gwh/FAiUNcGik7dVUp0ZpAYIlNa
hYkIuMpUxJyBhnFSvoBA+wy6OtqsjtjU0ZwM6xG6mg+KZW0kkn6dvHBsal6BaoLJaco6+b7+fLfB
8Q7DaXFSYTYV0M0OHjqVnWI4lo3S5VyCsU7CTyrsMpzuJHki4HgnQZepByrxhMhO5Xrh+Mc62eFE
rNgpseqYisOOhExiuGdT0qA8etM5/dJIXiYIog5xWqCq19KOB2lQbQgdtdcmGBb9Ps65LhFw1Ymo
j+3tbWv506dPcXh4GKQ7RgZaxEmIIADVkTYlOtBIu1LkoGiLlxVL+aooRwzS4rRioFiVIN2DuKxb
WiiP/nND5K5QmkKo5BBIOnmEIJvrzzL7O5mzPzOW5Bn+oqrY16CTHSh0nKTZ9WyVgjjCWEQFFKRC
R5pye7J8hkS1H1UnQUkWFDAlDepWD+jC+bKsM0qgvnc5LA3BoOhvivC3n9hXJrDe9bU6ae2p8oMg
B3U2jRpW3Lt3D+fPn8fBwQFmZ2dL2xC/8847WFhYwPnz53H27Fn88Ic/9NIdIwMRTgxT6E8H/YjI
Il95b4gSMMkBlHQbRr1KPTV6UKqHYiTNcl3ZNsXjHbx5qoPJ0x28ebqD18f5qL/DGLpMRAM4aTjV
TXBmjOWvU2MsjyB0O5oTBBmr2FTaMTAf6RcvJtlcjjAoJySifN86IkB59vLzpxIB0/SAXFdHNsp/
6+FcGqi0J9cxEYhBLSc0RicIURYqERiG3oKxeq9hxebmJs6fP4+5uTlMTk7iRz/6EQBga2sLOzs7
+MlPfoLl5WX84Q9/wOeff+6lO5KBCCcGvWLChlJHVxnRuuvI10SGPcv/Ux2S3DmXO7+qMyzqlvYq
YEyxuXiJJX6vjTG8ebqDiTNdTJzu4LVxvv9At8OPCO6y4jWW8OmAU90E412+jLCbHSWsjQikaSX/
QRCCfOoAKJMAYb9CBLQkJ5PLiY5cD+V9D2QnXXru+XtInwRyWfX5hxABLYGsyNqdcmUeqO0lAAAg
AElEQVSaSPM8TG01jSbb8CUCprqDdqptHmE8SFy5cgWPHj3Cl19+ifn5eayvr+Pg4ABAkSNw7do1
/PSnP/XSG6cJRhw6P92087YlAZrr2KcKXPWNelHemdD03rcdltUEGIqVCbxnSLP998VufPI9Idt+
mIm5BqDUYD51If6Q5TRI0hSnOgnGEvkeWMkxle3OOrBMvCddL9lgvO/qckG5XVlOXFOJgPg7kZyg
ziHmfzvGjiY5XyJg0y3r1xMDh54ans63bp2ogE0P1R7nM9XYUyZkEU1hZWUFd+/ezd/Pzs5ifX29
Ijc5OYmtrS0v3TEyEOGEjVzoRsp5GSPIONq2ja7ENTXpyzSadKE86pNtKEas2uRCSA5b/K2LFChy
lfZRjKw7SYJOkqCbJHkin6mO3GZpFE+8ceZ4yfrkaQEKERBkhUnPMW+XVUfsumkBU+hWveRDBNQ6
usTBcuKnxilrrvtEBUwyvs5e/9sIc8Hez3TQw38DxPc25DWcd8ShHjy0vb2NR48egTFWKjs4OMij
BVREMtACmvxxDgMoc6YUuapeShs6AmG+Zh790OxQdenqlaYNJOcuh9YhyqTORSYEeX3pVbRfvWYC
NbhCkcvtVV+Z7SUigOJvmQjI9wBUnX1dmOam9WShShJ1shUHaClTbaBc18mMbm9QgPJZDPI+xe/X
9zXMmJ2dxVtvvYX33nsPb731FhYXF3Hx4kV88sknmJ6exvPnzwEAGxsbmJ2d9dIdpwmGAIxVT8xr
epa+jWl/1e5gGZR3/CtF1OUyjS5ZjoGfFlhc8z/dUFc37yBS/kd5WkIxLHOUfO2+sjRBucHQ6Zzy
dAsrTQPkpurqyfcp1RfvKSNrNfmwQmQ0+pxEzeC01TpmJ2zWSWpDJn+atmzRAq09Brts0bMm4ZPM
Z5O1E2g6KRsIJJIaUndYsbKygunpady7dw+zs7O4ffs2rly5grW1NSwtLeFnP/sZPvvsM+zs7OD2
7dteuiMZiOgLCh/YzDJD1VkXvtaeQ0C1kyIHSPPxogMpsbryaYbF3wgiBCWCIa4puyuq9lnvIavn
SpoyjY5tREAUuIiAqx0TrHtIaMgE05SXnTzdHlu0wEQEKHp1eppCk9FKKhFgxjftg0JubXWHGVev
XsXVq1dL18QRxlevXsXm5ia++uorLC8ve+mNZCAAru67X8n3Pu1QRuj2+nbHZXP26ijfpIsxdfc+
Xi/JRvzVNiVHn1XSOXOVIOjsZQxAtgthwsSeA0UkoHwfwsPw6+q9iYtcJStHCKQKDMXxxwJ1vzq2
Dl7/zLN/iTrl6IB2FC3L6ZyuTOKkVnUrDEw2uLYaVuvL+QBqFEC3tFCd2oHjulpfh9CogOk5kMge
QcYka4x6EKMzgyQCJwHPnz/Hzs4OAGBhYaG034BKFKiIOQM1oOtcQx2uax6zX/Cd76s74qCKukPN
BbTJYMQRai4n6ZQT3xirSqtLD4XDzO2qjBolpwK/51UHpcRGjVMx5Qzk5ZLtNiKQSE631H7+bJm9
vCUioCsX73X3Q4VahxQVqPm7obTlIxMibxIbFt+fBL6GHdevX8fs7GweIZicnMTPf/7z2npjZMAT
wteHhLpDQ+SUeiEcxNceanTA3w5esTRSV3TJ701RDv3I3yALMTIvRwfU5YqAfgqCFwhNQCKiBPn/
eOPyNIFQJC9LlA2VdzbUwbQEUAfZwckmyds0uqIC1dGingjIo2V5tK06a9to2pRg6EMEVP26VSZF
u0VipNqWel21w9+5aipY1nvKz7Mt+OQVaOuXdOmvVwr7jFFO2jbhzp07ePDgAW7cuIGFhQVMT09j
d3cXa2trmJycxAcffBCsO5KBFtGn2QJvuJy2zqla9RkcbhN2uXSb9hXQ5RRQpwtKspneVNNeWY8k
Kfn5spD+EKNcXuq8fI6N1nV5FUcu/aGVtziHRFNm20dAvOflgixpGkVZxtZ3+xABOe6gIyQyoRH3
QAm/256brwMfRT/l7VwHSQQQHqEY5o/mk08+wd7eXukAorm5OVy9ehW3bt2qpTuSgQCYRsdDvFGf
EW1FB1S56kDYrKdW7oCEJLtuJT7Zv1ZCIPUOpZwBACJvoBAoIgX57UmEQDjWnnJmQZ6nULFMtJtq
rkrS8gjaNlJDeeVGRY/0r2kqoSKriQiIfRnKOundrCtJTZ+PoCcIukiFLiqic+ihzl6HujpIhMVT
eYU0mqIVhgJjVGAU2c4IYGFhweskQh9EMuCJaja3Uu5RV0VTI2yK/qajA3oddkJgas+qUzO6l69X
bbfvWCjuD6BFCEQf16tEBIRAVpAyFDsZShUlUqASAvV5CHGf6QHKdqpVB1B2MrZIQPW6gQgo7biI
gM4Bi3Zso3wB9VCaaphfL1dpr2EfRk34C1lFYLM1hDCQoxoa+WEkAsFLC0cQh4eHeUJhKEYhX2Lo
kKb81cs66l6a5q/U8vKFuwPRy9och3be1pP1uzKjqT9BXeKV6PxNIzLV8ZTqG8LGprnj6qiybBdj
snMr/yfvZS7kVN1CTqsb+qN91ZeuHd1Lt686xQHpiEDRNqvIqM65/L2o/q0mC5rsV+2R21P1qW0l
Gv26tsurCvTfM/X55GWs3GalHOZyF5raf8BXT8jv1FnHQBoHAd3vifIaZqRpip/85Cf4/PPP8fz5
c/ziF7/ArVu3MDMzg7m5uVq6Y2TAE8KnpwhLInTBNEJuan1+SSfkXDe3flleW66x3Sc6UNWnny4o
283/VSMBqj2mqQRXhMB4X3I7kq6emq8AhlKEQDG6EiFQICcVmp4Zxekby6S/KacMcjlVB9P+XQe2
HAEbEdDaxPSrClToohPysy/L2olASdbQhk2uahv9udps8o0KUPYUMFk2UCKgIW8+dYcVt2/fxuLi
YmVDoatXr+JnP/tZLd2RDHggRZUEuPzzoL5Y9jn5sOkCqn6KXlkPgIrjddVX8wdMjl/VV7w3kQYO
2Tnn+xCIMsMUgXygETISwAsYOgx5/gJLxUIElhOCNFOclvRVO2+W20McdbrKZQIgXRPvmVRQcYjq
iDx7Tz122IQ6RECfM2B6b95PQFfPVK4DdZROkTPladQBlaD46IHGzojm8ejRI+zs7OQHES0uLuLt
t9+urTeSAU+oRMDksJgkU/fHFuKsnXo1hMDk4E3kQSdP0ety+CUdhugA4E8ITAmIOrsZpBMANYSF
v1d0wH2iIgOQMn4/veyGhINPJefUU5YZyk2Z5u9tkB1fpUyjW+skDRooo0RVTmcf0DwRENd1RMAG
FxEoX/PXY5ILlaGQQ+/kQkJUwH5xsHgVlxYKzM3NVaYF9vb2MDMzE6wzkgEfiIFe6p4mKI3qPAlB
sIOHnTjQ2vYjBHod/oRASyyUMhMh4BEb+9SA3B4k5wxDXd196u5BhkwAShECAKVVB/KKg6yeTAoA
oCOiBeKeswZspEB9drq/K3IGYlFekUAhAWWHXXe6oKmIgM0OLeFhVT3aMqvttHvXr9ag1LOUecjY
5EKnB9Rrg/THr0JC3Pb2Nun7lKYpNjc38fd///fBbUUy4AmRRS46bX0IvZBheQi4Pz8M2YH55BmE
EgmvNjwIgalMJgRAIcOkUX+5TM0V4BpcpEFIivYoz9QUERBtAKhECvgXo9RAZrtmAyLL6L4iWqlK
GwkD/kRAV48ib7LBRih8IwJlOSFjdviyHAVUp1utVy2lTiOYZGxEwCeiQWqToGiQRIBHg8IMaCrv
pQmsrq5id3eXJMsYi2SgXxDRANHB90xOQRrp5b08Y7UJAWXUTq3jqueSd5EOaiTBRQgAVBylUKyS
AuEoeopjL+0XkI3WXc5aoCAbBSkwdTKl3AJp9C/fgrjOvw4pty0b+veyJYx8aolJdfxomu80gm60
Z3Kw2vpQ21Peu+q7iIrF6bsiAiYioB3VekYF6jpdkx2qLtPI3NSezSb3d0H/3TE2Q4ggRIRjfn4e
t2/fJu0tsLa2VqutSAa8kFamCKrZ88iTwXQEgJpD4OuomwR1tG9z8lwPLS/BRghs5TJXkNuScwNM
hCBVdBf3pN/RUNwDQ5FLUL1f3VRHmdGI74cugpBI73vK/YbAVss0ivd15JS2jHU870t1TNSIQEgb
oeWqnI0w+DrPfkwPmORd131k+4VXgY9cv36dnBx49uzZWm1FMuAJOTogkwJAOAP5S1gQAvF3MfKj
t+kahdvkXXXqRAfK1+lRi1BCAMAYTrcRAh1UwsB1ZaqlKIG+3BbpKG9alF8vdU1p/rUQkQE1UiCv
PpDbpkIdEVfKLV1lm6M6ep6DOrI3O3hKREBuW+c47Xtz0Eb7lFUGev1uXaHthU4PmIhDqeoQTg/I
eBUSCH1WCdRdURDJgCcEERBTBEXWuxQtQPZFVEhAm6g6Hzoh0OvzX5roIgQuWRchsNkpEwKgGGn3
LNn9tuRDfm9VUiBPG/RQTlKSVx/IUwYVMqSJFvQ09uWrD5SpCx/4fPOMTsLz2ytITQjMNuht0kUE
9HrDIh51UNeB13XyXpsFyfUsOnUFJOLQ53E6Q3gC4ehTiDBEMuAB0anLfXsq/eHqYNLUjxj0e6rA
NuKl1vMhBBSdrgiBOm2g6nYRgqLbTStkorBFn2CodjYJqnkF6h4FJaRFQREJ4CQyZRIJcXxjdFNV
deDryJnUpm2aQevAlH9lHULcdvpg3j4hIqBeN9pisLmpUTrJ2RJlbDapMjY5nwRTiu5BEgHRZHBk
4ISygUgGPCF3vGonLIf/fR2/CxQn2k/yYGuLuiFR6D4FNl1yhECdMtARAiCrkLkT29SBadpAtUdE
DcSz0EFLElJ1H4JCwEQMbFEDWdZ+XJO+jgzamQd6IqA+A92IzTQdQNtKunqt0OsmAq7VBba6JthG
6ba2QkiF675t7amyJKLioXto5gwinIhkoCbk5YMM/vkAIWgqwa9JhJKVOhsXAebEQgohAMrOVJ46
0JWZcglkyFGDQo/uWShO3bASIY+4GNwDE5EEbSkq9+sCy/5nHgk6RpAWJyiIkknelwgwwzVT2yYb
1XIbqI43BL6hf5JOgx6XPt/pAV2bg8aw2DEqiGSgAbgIgbq7nA98R/uDjA7IhIAaHTDJUiME6vSD
DyHguqsjfpTKClKgq2N7JnlHrJFTVySo0wqFAyd8mBbnLWwCij0yrKq0jtL9zaWMyk0OWZcsyBwy
pmumtk12+iYO2uByvKotTegJjS7YdFKuk2SJ0zNtIQYl/BDJgCdSFEmEpdyB1LFfvGAKDcE3IZBa
xzea4EsIfMhKk4QAUEb+Yv2/MmquRgMk56+JEog6qj15meFedYmHkG33HNHbIOyjhPoBSxSCUN+U
FxBKBEx7C6jOMCQiQAm3u8pDNgWi2ELVE9KWKkuVNxXoPoOBEwHoj6um1j2JeBV2bBwKODsFG8sn
UtiQL2mdLzbZLs9GXB24STezyKo6bZ2icPDims45qWU6ByTXsTlQtY2KTKWOecSrs80F2T5G+M+n
LcZY6aUiQbNEIGmICFTvQ33vdrwleWI7bcq0sR+FS2ONbi9iyBAjA55IGNATY85s2ClGoKbz5BkT
nZx5nBcy0m8KttE6OT+BVUfxtvrqaJ4iK+v2jRAARZSgPOKn5QbIS/16irxosBotkO+u3HGmKIqY
JKk+C5YYPpzMKFO5bFduH2Ol97p/jZ23aI844qsSHLms6uRpEQG9vuIanQh4O/tAHaGRgxA9uWyp
Xg27yhX01x2yg8SQmDEyiGTAA/noRCIEucPPZYofNh9RVQlAnS9p2b2Y7QzZpEbnzHlZO4Qgr0eQ
pRICVacsU1zjMjIpUHcsBMqkQK4jb3vM1C9ArrdaUNrZMPufOsUik4K8wzb36JXyylbOvv/K7Rra
o4YTdREUXTmFCMjXQyNLZDsDnbNP9MfHHp2eOtEFe56EQ6dLdmg8sDlaR6l7EhHJgCcSxtBLs1Pp
xMhSM2KSiUApPG3oeGwwOfc2owk6QgDA2Z4PIQiNJsjyulUGthUL4mnrkgt1UQJex7TPQDmRsLC/
XD+3A9XEQ52sSgp8IH+fQr4b1L0AqvUsZUYSUHXwLjl924p+h01NRAXUtqhoy1c2kTRYJl6GAocO
yvV+QNfX+tQ9iYhkwAsMjGVZ6WIpWBZ+NY4uWPm9VXuAc+/39EKd9vpNCMqOv+wk83fyx5KN6E2n
H3IR/ZSCrEqtL2S5TKFHvS9ZTugrdPqjzpI32+jfPXp0j5p1pw/Kdd3XTG3bbXQlDTa5hr+taQRK
JIMSFajjxH0iCBGjgUgGPMDZJndBxXp0tVNnkmxxLTQqUMiaw/hNQR1Vm9pxhv09bW07QqCLcqhT
B3KdRHLY1WmFKikQZQJqfSg6eLvm5Yk6uELzqfJvHZja8hn96+owjaTN6Zuywcv1q86tX0SgCcJA
0TVQOMiDTwSh3whdTXBSEcmAJxgAERIo/i+VazoYHyLQ1Eg/dGpBRwiAqpNxTRs04eBtcE0HCBlu
YyUAULK/HEEoO2wG/a6Etg2I1PoqKbBFCUwEwwWm/CuDGlWw7QxYbsvcyZrktY5EQwRcOgdJBEry
DcjVidxY2/SMClDMcMob+zO37lbAarR9QjlEJAOekKcGUtXLVGR1yYPNfNMoDlYnS5LXOdrsXx+a
0saIX9sOQbfZRnuCIVBOGKzaqXfoZUJVJRVquS5KEEoMVOicfIXcWdouZOgkoCAnniNkS1SgKSLg
Wx4qR4VNuikSE7R82VHH+DxJLbUL3QDMp+5JRCQDPmCZg2dF0qCtky6NaBogAabRPqku/AkB4CYF
TUcIdDb7RhNMEQJxP7p7ME0biDqAO8kQqEYK1OkDGyHIbXQQAx+YHrHZMapyfs7cFpo1OiplesBV
py4RcI7mLW269FCXXlLbbQKmBMuQNqmRkIjRQyQDHmDgywrTbPhoPZFOrmf5MQpQfbwPIXDJkhyy
gRSEQiUluvZ8pjeamo4wEQJdHTGS10URXKTARgjy9jTRhlCYvp/VKRa9DXYZu7ytfWsdDTnQSYaM
5ENG1r7z/642TTpdMnWnNlx2maICTrXDNkUg2o/UxAuRDASAsewH4ogMhOv3P4jIN5zu3VZlJFuN
NAD6CIGpbj8dvCrPba3Ki3uQuxHZ6Rf1is2mXMsRVRtVQiDrLdlp6czqEgUfJ62T1YbxiX2vq5NW
S8sOzG+EThkF26yhjvR95uN9owd1XBrZ/nIlZ51RcLPU7bcjOCIZ8ETCpFPtiJEBFfrRoF8YnwqX
E/dpS6cLGn2Uuq622yYEch31PirTDFA/m2qkgJJPYCIEOr0u1B31aKciHA6eEWQoOrVyrGjDLENr
O1TONPJW7bLfbxj8w/X1Pn9X1MVVR3dxmHyv6btKrXsSEclAAOSRLWCeLzfW9+j0XfV9HaVap5Ch
EwLArI8aIQix22VrHULgqmMjBLxcvzGRrcxECGS0EXkSNlnLlWJqJMC3Ay47Jfu5A4WcTV/VOVEi
B+SoBpF8UHQ2YZ+PDp1dlWoEAkSKZgyBRx0GG0YJ8aAiT8idVPFDNB/U4tJT145QeT3Jp9+DSx+l
gyx3Ng7nRLLK0mlS70upYwuz2kbN1eejL0tKLlBjD/NzVJQXRUdhd5UI6PSYDjmitiPaEmVVeRoZ
UXXp23Y72jamB1T5QSCECEScDJwoMrC3t1ervtx55C/UJwaq/vx9oAPzac9ECkj1+0AIQsiDaVRp
s8fWSbZNCITDtTudek6eqkuGSlSqz0l/0mFTtmq/m1Ib1ftyEwbq8kBde1TyQSECdcgKpdyVM2Ej
ArYiZiig3H9/wYL/O6lU6JUlA7u7u0iSpPR6+PBhSWZzcxNLS0u4c+cOlpaWsL297dSrflWqzkAu
s5MCyo8maH2wZ3smQkDLeHY/g7roByGo1LfU8yUEZuegtsmcpMAE8dyTTIfp5Rq/y3pcturuJ+Tj
1rVX1hvuwF16qKTCZpev7KAdp4sIkAlESFt9AmM8gTDkNRxkpv94ZXMGPv74Y6ytrZWuffDBB/nf
m5ubWFlZwf7+PgDg8PAQMzMz2NjYwPz8vF4pQ/5NYco69iKpsPwDsGXNm5qou8zQNW8v7KS028Rq
A50O2Q6XbCiETeLz8FllIO7BVE99XvL9C5ejW01gW2WQX1NcrZpXUGebVWFbcW+plR6okQBbuYwQ
G6mOx+bAXUTAV49LjiJrQggR8blPk4zNCPK9DBG5MSEuLfTDK0kGDg4OsL+/X3L+KpaXl3H9+vX8
/cTEBJaWlnDz5k189tlnwW2bHHRT8rb6PkRCq8tQvy1CYNbjd6ARYE7itNWj1LHZRiEEct6+TAgg
lZgImoCPY6V0xqbNjmy6XMsNmUGOgjSrn6bSs5B0utCUg6y7n4DLvpI8UW/TzrWkzoMI2OqR2ooY
eryS0wQfffQRNjc3MT09jevXr+Pp06el8q2tLRweHuLixYul63Nzc9jZ2cHz58/7aK0bvnkAlHq+
nUwTeQS2zpbB3XmETkfUmWZQ66j1qmWqjcx6Qp9uSkF9meyjytruLQRy/fL0AzPaZkIv275JEKM0
LcgKbclq80TA/T3Uf499iINOtIlcAVGuk2mECKg2W8rCBJuD6Tfiep1UvJJk4Ac/+AFWVlZw9uxZ
rK2t4cKFC1hfX8/Ld3Z2AACzs7OleuK9KB8UbB2FVt7yBfatZ/3hN0AIyHYY2nKRDd9lXm3nEAjI
uQBqp+OayffpsNzJUXobdG3KOtXrDLRVBrp70CFFeTpEJgTmCI4/EXDB5hRDdNbZJKk11CECgQR6
EGCBr5OKV5IMXLlyBXfv3sUXX3yBR48eYXJyEqurq/lqgmfPngEAJicnS/Wmp6cB8ORDJxocdTeB
Jn+IbRACan3VuVN02xy1rh7ZMVSctrkdHSHQOX0KKbA5cZes856Ictq6+fPTRwGKNmidqxwNEOgh
zUmBPh/GblvxXv/ZUImnDxGoTTQJ7ftGDVQZkyVeRMCj7qDBwDeIC3kN2a30Da9kzoCM+fl5PHny
BOfPn8fa2ho++uijCgmg4uvDQ/xft//P/P3//Bd/hf/lL/+KVNc3MY6hnfn/ihzzz1mgbrZk0u2b
E0DdSAke9ShtaO8Jap6AOYfAbGs1iVDAmKtA7KJcnbK6XbJLXnb64r3OIVkJpGhbqqfep5wvAHBS
QKEtDNV7po7GZVlVngpfvfaojl4mdIMkXfsg3q+2zKPu7379S/zuN78CAPzbvz7HxERYnxvRPww1
GVhfX8fGxgZJdmNjAxMTE9qymZkZLCws4ODgAABw9uxZAMjfC4iVBer0gcCbExP432/+H+WLDkdA
AdUhu5yWzfkCfjslqh14iD3++vwJgYBvkqCPrGjHtsqAl1fPNDDZKkLs+SoUzVkFMkpkosbQRb4X
lZRUZAlEgBKVkckSYP4OVB4/S9FL+QgvZwup/f7rEoG2ZE3yTUwP2MgClQg4iZ3nl+4v/sO7+Iv/
8C4YY/jdb3/lVbcpnNQRfiiGmgwsLy9jeXm5EV0TExN5RGBhYQFA4fwFxPTA3NycUY+v0687wq/o
8yAETUQHXDpCCQoFXo7dg0iEPCOXfbq2bMRAJRbyCgNTdIFij2ssrZ6hIMuXohUGImByGvbcFP1n
x/MBYCQkhX1pTgh8962gTAs4ow+BRMDXDpveJlGXCHjXHxSGypjhxyuZM6DD06dP8f777wPgzn5y
chKffvppSUZMJ5w7d86qy/Qd8+lUqmUe7Xj0GFRJV/jSGhYM6MFCdgN0r8Eu1ys6blqnS9Gvs0+1
UZfIyKDaZNKnbhCkJP5p/pPlXZDlKuFopT3GCoIhEwH12arOUr1XISeQJwdmRCBNgV6all7H2Yu/
5+UpCgKhAyWcrrM1v1eCvEmvKutrh04u/y45ZEw6WFnQYLP2slHARgSqVQfrjV3JtKF5N68qXjky
sLOzg8XFxdJugmtra7h27Rq+//3v59fW19exubmZvz84OMDGxgbu3bvn12Doj4yqPqSO56jFVa+O
LXXs0bXrew8UQuCj39VOWcZMDHT6VHIgO9XC4dscrvsFSZ+rDpetEgH53uR70t6X8jwEelIMpJf9
xZ0+cuffS7OEwuxvvuywiCO4IkXVa1UHbINrqZ5Jt6yf+psiRX4cRIBSUf2+6GwxCTh5g8a2iNHB
UE8ThGBqagp7e3tYXFzEwsIC5ubmcPnyZaysrJTkrly5gv39fSwtLeHixYt4/Pgx7t+/j0uXLpHa
YZBCv3Lc1yVr02lQo6vfZNicYoNsCwLsketTnwVg32iIl5tzCdS61rwA0J+R2o5oS+3+1CkE2WZd
V2nKMRD6ddet9lkuirwF810WOxPqiIBOv842NVlTVy5PFchLChlS9LKGGIAeCnIipRBkZMXuGH1s
rrNqwEfeRgTCom1VG9okAsYoxBDAFOmh1j2JeOXIwMzMDL788kuSbJM5CQJlp1J1rMFJgAh3wL5w
EYLa+hGeyQ9UnazP7oOVeX3T8/Z8tioBke3V2cxllVwGg7ys39g+xUidPuMtMiMJUNuzh4rLhIDJ
DzwtRwjSlDt8/jd38x0AKROEQbzsuQOmEbRNRifrukdbxIdKBKg2UO5Jo4h02UUEPFQPFUbAxKHC
K0cG2obc6ZuiA1rHDboDbIoQhEYHRF3AL7GQaku1jJ7Jr2vbt10TIdDpFaBvpVz87SIGlMz7UBid
hWQUd84WHRpdVBJgQmr6OyMC4v75yD9FDwwsBXqsfIaCiAjo7C1d0zjfpokAJdqg1nHJynop0wPa
qIBGl/O6zkaziXqdw8IUhsSMUUEkAzVhIgSWS9n1/hMCn/Zd9U22UHX51nW1TXkGtjZlGWjkgpZn
GgiV3Y4QAhLW61Fq+YTXzTrKz1YlRmLUn19L5X9TpEzUSktTBaa2bLbXJQKu/A9f/TY5KkKnB0KJ
gC2yMDREwPotcdc9iYhkwBOiI3dFCGSnQnFG2rY8CAHVdmET1+83N07xTb5hf8xWn9AAACAASURB
VJ9oiWqDDyFQ61CWHAJmUsBtCY8W2LobW+SA1F7DOk0j1EYg5QikaSrNIIgICSumCAijaNv1uqH+
kGiAjz2NTQ8Q2muDCFDtiBhOvHKrCfoBZ3jOEg70ZdGMGTqxipxZl31Ol/4zpdjRNnSdEeWZUhwB
Rb+rvgumz1PXpks7M7zq6DTJk50dM6yg0P1OMgiiIhOBniAACjkwRblc1yj2t0UEmpoeIMsYojlm
ZWFEYNghfmu+r5OKGBnwQrlDKEZb9giBTa5OuN5nZGwb9YaEwO22Np87oOoA9HPyplG/3Lbr+dtG
8k1MH6htqDDlGoTq89Xp4/hd5WpuRk+yQ95sKM8VyIlACqQMKUvRSxkS8b1hkrzD4dscZhP5ASSC
0eD0gC35kBVChroaWYM8lQhQBzaD8K8+xFdX9yQikgFfSN7M5OghrmsIQa4GYYQAaDaZzhcUUuKj
w8d+H1vqEgJTG02TAlObMkrtB/ZUTY14vMPUKiEQ/0sBZvjmVL8TfnaUHPCAiEDISgNVzoVKtIVg
q5MIWtpxyWn1DdKznlSvHohIBkIgeeXyiFTj5BRCIDt01SHx6/5Rgn5HCCikos6yx7qEwKUnhBAI
2Ob8BQmxIeSZDDp0WWfUpxIzxgCWZnscMOQLC1n2vscDAmBZgkDCGBLxL0N+qpxoNxEO0RAVMN2L
Wj5IIkCarlLsphIKKxGw2GmyQyc3PEmDEXUQyYAHtD8mRxKaKUKgjSQg3CE3GSGgLj20te+DOnWF
LYA+2uBMTITfs9dFZ2RdgP1eQhIQBwVj/oWPDpRJUpryPQIYUiQABJ3ugRMDXlIkCyYAOkm25XJG
CHhOgt6x18nGL18z3HsNIuC0g9hGqP5yxWaIwDDjJG8tHIJIBjxR6fAtjl7Iq4RA1K87Sm8rQuCq
a7QnsH19eUD7uudu0NXEs1dBWSmga6eo334kRa1HknPqMZfJhFcIJ+CrBhLG8jwA/nkx9FgKiJwB
iMgAQydh6LDsvHlBCBz2lkbFmlG+yW6TQ7eOxnWj+4qMub4NpM9JS4wMtjiIgA8JCE1cbh2sRvsn
lENEMhCIkuPzJATyNYpDB8yOoskIgU9dXf060EUH6hICly5bREHU4eX0KQsZxukLWSawvWq2fLM9
mE2b18jV8IwTxtBLU3SSbFMhcAIgtkgW+wmIqQERGWCSbTkpYOI9q7Rruq9hIQJeq3kUXXlNhw7r
Z1mxh15/aImAsGHQBowYIhnwhHFESRj553KANo8gu6x1FjZHUZcQiHZ96zbRtmuqISQxT56CodTS
faZA9dnn1wPJQVkHvT1rG0pdnzpOuQZ7U/l7xu+PO/5emuaj/TRlPIeAAYmcM8CkXIGMAOS5Arn+
6sgYhjKKYzaNsE3ypesVOb/2QkGxGZY2myICEaOJSAYCYBwRO0b+rmiCTjfVuTY5ym+aEPjAVDd4
CR/KTtZr2+LsXxNBCbFHbo/Xd7enre94H4q2+3hWYsBFJCDN2FuKYupAyJuIQGJyxkz+u39EQE9E
9PVNaPX5e47kbcSK2sxAKUPkK16IZCAQLicvX6cQAkB2WoMhBCVdNepW7fJ3wqaWQvZl8CEEAjon
nZcp9thAPQNCbtOnDzPZbJJpC9SRIk8gRIkQMAApY1muADJSwJGgIAGAvHogc/JZmcvZU20fBBGw
iZnIjL2OW7ftPutEA4aFCDAAoQmEJ5VDRDJQA76EAChPA+jyCKCRr+hHO4Sgybo+CCEEgOfUAWiE
wGaTrEsHW0QD8CMGXJ4m57reFlxLDk3PQyUE+ZHOzDwaFZEB3Xunnbke+z2EEAGz43TY1NSHFaDH
SiSMzYwOERCIMxl+iGTAE1UHSScERnnF89jkAbdTcznmfhAC38iCT5g+VKdKCAC7g9aO2j1Igoh2
63IBfDaZGhYUjlxvmHrVaL5ECIrYQIEUEMkFOWkwRQBsUQGXAxsGIkBplwItiSIYRYoieBKBiNFE
JAMBaI0QAEZ5qai2vVxne6sMbO1a5Q2O1kYK2kxwVPXo/jZBjgBpSYKipN97DoSOTCkO0ak6zZ67
fEHVmU8DsDxioHP2LiJAIQpNEQHKI20iItCU320qemGbZhhkomHkJ36IZMAHCotunBBY5OUidbQZ
Ml3gQmjY3zUabyI870NsTHpCCIEPbCF/3X2EJkjSbGm+Wwx1hiW5PNpirkhx4k0QgbajAdo6jvrV
5aPuRrV2GIiP2Rb6zQwrEeAGDLb5UUMkAzVAdrBDSgjaWmFgdehEQgD4kQLX0ktVn+5+BNpxyMXf
pkRBXcSgDTTZQq3QtmddysqAtohAPfJjJxTOEbpLP80MI/kI/QiHmggAwQmEJxXxCGNP2H7Y1h8Y
ISxZquPJ5k2w/WB5uccowKOu7Vn4hB9tovoO2mOUaZSrHsHbJMR96ewRr8bbbFC3yf5+wNYkdRkh
RcZGBHzuvS4R8EEzDp7+2yy9D9DRJuTvaMjrJCJGBgKgjm5Jo3210HCZEiHQyfdrlUDlnojwjUqo
NghQkgx97yfXXZGt1yuEJgnK+QZtoR8dnun5+e8qWT8ioJOxtZW/r5TbbdXpMLVpJSs1PiDToEJ3
ydeJa5+rRccJ9asjiUgGAlE3ia7qHA1hccuUgY9NbRGCum0Cfs7B9Jx874e3a9dRF6FTD6Y+ue7s
xSAJgEnGPk1lHp3r5HyJgG0KwSXrskWng6rLNpXBoFyoAV8No0YEBt3+qCGSgRqQHY5p5K6WUZx7
ZbSrqWN0in0iBE216apv0gm4nTklJ0LV02QHYspJyMu9R8g1DWoYjWTG26Z1KrLm+k0SAV8S0EQk
QKu3rgyRTHFRu4RtWkBXfyi+qkNhxOggkoEGUZcQ2Byutj1WTSak1tHaBbpjr9smNO0CYSPouksH
fZ87FXJfpA/6hEUOBgmn0/DUVyGG2jbttvgQAZuM2n4IEahLAmzExRYVqMgY9dNtoWIoiQBYjQTC
4biDfiOSgZoIHU2X5FBvhUFVR38OF1LbBMxOTfcsTFECmx6Kbt39uHSqnWTTvlnXvbgiB4Ut/SUK
5CSyJtqy2mG6XnXeTecR+M7n+9R36aMSEtt9mfTp2wiPCliJwMn0qSOLSAYahm3EbHLutnquEbjN
OfebELhAJQSu9k26geqyvbpJi1QTdP2pq64rclDobi+C4BvqD+nfbU2UvoOeI/FhIAKhkQDTczcR
ATUq4HLwtuiBD5oiAoPgBcM2rTbsiGSgAVBXF2gqOlcXVAoAIK2edqhr2213rk5bt60IgdymqC/Q
dIKhSgp8ddbpUEx1TQmQWtmKzqpkCEEgJfo5dXg3G6TDZ+TssymRSxfVBlddkw6qLpUIONt15AqE
fmzWKI5FcCBEoEa7J5VDxH0GPGD9MVh6Ay3D1xQ6RwUE/VSbTPXVH1HwfXm0WbqulfVb98+YfUQj
dA4Kwj75ZZSFu2Nr+l5s7VFsbtSWACIg20+V8QrrV2x0yGu+v6bPlUIEGnXwxN+3rd6wEYFS4yGv
E4oYGWgQptUFFTlLWVmfPRxfHpGHjdR1bel0NB0hEHW5jHI9+7duPgE1SuCjsy1QphlUkZAoCnV0
6rKtDYSOnOW6VLJg02Wzqam6ZTnNNYOAV/uuNjyIgGmAYP3eGN9EDCMiGfCENeyvyqK55YYmIyiE
gJf5Z9XXJQRUtEkKbNMSdack2obpueTloE0jWNtwtN0mfKcqfCJggyQCdZYaVi75Rg4b+OBcUTVz
RUOdARGBuB2xHyIZCICNEAxidYGpjWEgBHUdt6qvLF8vIdBGCrjscBADuXO2RQvIuSKEdkJQd7oi
JDrhkyNgKjfp09nlU5dKAEyyTRGBWtN5FV2GqECNNloBq/F9Hoob6D8iGWgBtukCqnM3OkDNddto
XEcIAHf4fhARAlP7Qh80OkMTAl2kIES3Wk+HugTDFi0w3YdOxqTXz5b2nH/RBq39fhABG0ITDF0k
QJWhOvY2/Bk1T8BUp984oT49GJEM9AFkZ20Z7QOaIsJ0gan9OksP244QCD0CbThunX7TKLvJDq25
1QCqDqksUIdbnl4h5In52OO7qyBVX/6eaFtIPaNVHroqOgjz+OVn5Y4ihIDSRsRwIq4mCERb842+
P2pKaFDUsYX8qDoodW2dVkgH4dOhNqm/X11ZE50m8wyLUmVFJrzzu6K8qDbILx97RJuyLpttJhlT
pn8IVHsov0HdA9D/Vi32EX+LvjD93k1RgaEjAuqXkvo6oYiRgRowDOSl8nqHGallrjC8Omo2hdt9
8giaihCU7Sp+cW2G933acEUidEgd5TY0NSWhook+mOL4+2VLoUvvsF0jdhcR0Oksy/jZo6ujVUGY
kiCR4NBBh8Mk0kDE2K57QNM2uF8Pa/2k8oFIBlqGKX/AGsq3sAxtkaf8IAiBrl1K2y6dQi80uuU2
gPpTFBU5kjZ73brPo2mELD0s12/OlkJns0SgzpI/rZylTlNEgKKH/hn5fUhG+SH3msMQnBglRDJQ
E7oRq09dyu6EpsiBiUBQIgTV5uoRAkDvbNXno3OCvpEC0zOXf/um1QcyfCMGTYCyUqLfKxpCE+fa
7GzrzuG7CINJr6tOrYhAS9EAih7XR2WKCtSZHhi0Lx50+6OGSAY8YXLM1jqG6AAvo2Xgm6IKoRGF
sPuw6/Ba6mdov4mliEK/QFMRgybgM93B5cs2UkZ1tGcXFgHoJwHIrxNtCJkaqJZbi412+RKBIBJg
EPQhAv2ay4+OePQQyUAA9KM5ev4AmRBQhvSWOrZ29OX19iGw6bA5QUD3POmjY+ez11yzrRboz2hc
tCVdg5u40HT7d8W+I2Rv/YHKbA5Xp5tKBKgEw7cuxYF7j+I9iJtvRECt01RUwMuAthAZiRciGWgQ
RN/NZUEcmRucO7UtFyEIQR1SYQvx1xnBU+f55fZyeUN7rjabQBMRG1FPhUuPqa9sigQ0QQAKXe42
2iICNtuGmQhUyx1REcp1X+IwQMQdCP0QyUAgxNfMp+NWnaTJuVccAoEQVKIDgDPnQFdGXgGhcWIo
2WZ34K5IgawrxDYTfDfraSKsSolscLmyPSUdhutWvb7yNW/VOzGNpJPWVggRoJgbHBHwDOeHEAlL
U1Z5Ul1lyoWq20Qc+g3Gwr/PfZpJGTrEfQYaRl12nssRFTs7FE1ZcyM//chGHTG49iSwdWbVDtTv
BMOQ9nTt1gHVZptIm/1TvY4zbB8CV3PWz0lx0G0QAfWemiQC6r1p69cgAqbfDRW+qweGYk+BEcHm
5iYuX76M6elpXL9+fdDmlBDJQE3UDdfZOigqKzd2LJYOxdYZ+S89cttOSdwyOYA2SYEPOQh9+dhM
dcyq/XVePpCdvy3hL4RYUWwi/3YMzpyi32clg4sIVL8DqJSXCh31LaJ6e2D+7enuo7HVA0PAD+r+
XpvG3t4epqam8Omnn2Jvbw8PHjzA559/3mKLfojTBA2AIWyeV1efMdr+A2qbaj13QfPQ2Q7Qpw5k
PVxOuY7wqQMXTG02gepnRUvUlJFPIQyokyVFNrx1htlgc86yXIhNlTZt7VSEmyMRWhmzqFG+kc/N
ZrfuOkG+Hxi2gMXMzAxmZmYAABMTE5idncXs7OyArSoQIwOe8Fn+RB3hVMusBhjbNF4njKaq9of9
knSju+roiB42N+nS6WsiXNnkiLuJZ6Da1S+4IgCuEVWTEQnZBvX7SyUCtjZ191n9vGAsM43oVRFT
GSUaYHtuOnlex93HqN/Jio0Gu02fiVG+77RA9w31eemxu7uL1dVVbG9va8s3NzextLSEO3fuYGlp
ySi3traG999/H2+++WbY7bWAGBkIgHH5HMITCtW68ijbplcus9YxRAhsdeqOutXRtviJ+UYKdLp0
+mSdAoM+hrjJZ9A2mhr9N0VafDb4UeVdspQ2dHUpjtwmUre+S5bL2z8A1+fTb7c9Ktje3sbdu3fx
8OFDvPfee5Xyzc1NrKysYH9/HwBweHiImZkZbGxsYH5+Ppd7+PAhNjc3sbW1hbm5uVLZIBEjA4Go
u0GKTg95NEHsJI0jBsN1vQ2s8vIFdZTsEy1QbbaNjura3wRcTqUJ23T36vPS6oT9+Yp7Cxnxu+5B
tUFuS1ePKiu3o2ujkFHeV5VYy3Xfe1N9U/ttEgH1N1jR65Alyw+IXlCiU7qXCfPz8/jwww+N5cvL
y1hdXc3fT0xMYGlpCTdv3izJXblyBZ9++ilu3LiBe/fu1b7PphDJQA00RQiodW2EgKbcYK+r06vI
hzlWFymQdVN1+RADtY1+EwOf+3d36u2QHIrzL2yo7/wLXfrEPRPRVeuCKCvLy+1UZWCXqRNRUB4c
pX1Ztgki4FWPIhuouy2o32PflwmmCN7W1hYODw9x8eLF0vW5uTns7Ozg+fPnlToLCws+t9Q64jRB
TVBD6YyZk9NUHQzEfQEkpfJ1ta3adSzQ/dh9kuPStPrjSzV6KRsO2c4qEHqrdZvvrOrsK2Cb8qCi
re63yUdFJdK2dn2nBXynBLT21NVhqe8bBSjq0cizTmfoagAr2XZa0x/0k4fs7OwAQCUhULzf2dnB
uXPncHBwgMnJSQDA06dPh2p5YYwMNABTglVVjq6DOsoxjTCcIxNiHcoIsWpS/bC/SaevLlVvyP34
oqkpD1eH6zuq8QU1fErX505I1LVv0iXXleu45NU6unoVezSj+SAdhrIQIuDzPaPqVAXKNrqNJMm/
gnj27BkA5I5eYHp6GgBPPNze3sbs7CyuX7+Ohw8fYm5uDpcuXeq7rSbEyIAnTCNmXYSAOro26TCN
3G16yaN9S4QAcI+ydXCNvH22EzaN6ikJd7o+KOR+fGC7d99ISamshk2D7out2ezGOnSdVMJsy8vR
1a0bDahbX6ujJE//YG22uZ6Lqc0ywXHrHhT6maugkgAd5ufn8+TCYUQkAwGoQwhs0wU6HSRCoCit
Swgodmptl/6u6xxdewz4ZuHbHG4TsN27z6oMtQ91Hz1NUttX+MxBF3X89IYQAVebWskhIgIhOTok
vYY3Pq0N3ddQF7rxqeuJs2fPAgAODg5K14XzH6b9BEyIZCAQryohgFLPBKeTUuXlMs/RvW1unRp5
MOku2dgQSdB9N0KXEA6js5dRZzmiLwFQdYVOu+nqNh4NUIT6SQJ0+qvt0wmbb16BT8ShTfi0/dtf
/xK/+80vAQD/9vvnODs95dXW4uIibt26VRn57+7uAuCJhMOOSAZqwIcQeOsm6miMEABGUqC3T3/d
mCSp0ek7hUDdYyD02Yc6Xp/Dj+raOGh4haiNOvzbopIAtZ6rbisj+SaIBMJIAEV/aNKgValG9yDB
4Pd7/su/ehd/+VfvAgD+6Te/wljH7z7efvttTE5O4tNPPy3lATx58gTnz5/HuXPnvPQNAjGBsCao
P2Rdh9DU/Gj5B23vCOVibSemSXKSXy4IFfJLtUenKzRBUKevjSV3FLtMjkJnQb9tNLXr+3Lqh+nz
pX/n5bZkXbb6pnptEoHKfRp+P4Zi53fDF6bfh6pbW2boFyijfN/rrwJ0ZH59fR2bm5v5+4ODA2xs
bAzVXgI2xMhAAyiNsuXrlnB/IUOfMpDrU0P/unblYu0IVjcUl3TJoC0/1KvTtR06hWDSJ+t06W0C
tnu1R1rKT7bezo99JBcUGYJQ8GoaR12TDhsRcJEAV32KDhMJCIGRIDWkv6KrBnHoJ5pOINze3sa9
e/fAGMODBw8wOTlZ2j3wypUr2N/fx9LSEi5evIjHjx/j/v37Q7ViwIZIBnxh6NVdnb1NrjVCADjz
AUikQIBADio6NOqaIgVCpy0D30YMKPpDobtXHyLVl4hGm7qJykPW/lPq2epTiQApnD8CJEDXhq9z
d7UzbEQAQOOGzM/PO7cOXl5exvLycrMN9wmRDITAgxBQlxy2Qgg0ArYogSiHxr5cGHBm2tmcsU0N
9fn5mOW2pd2oge1zddnWSPst6dW25dlYW8mBpvo+o3nfKQVXfZ2OQZCAipzvKJ+Z29Jd72OQqoKh
ISUjgkgGQlEzQhDUZIuEQMAaKdBVkCvpRE06NHab2vVdr5+mdN3l+tXuI03T/Lmr/1IhbPEhBkz5
VyevyrUB1Xb533Cd7UUDyI6yQSLQj2iAlRwZ6ziel4EI+DZkupdBEoEIf0QyUAdEz99UdEDV5SIE
kNswTBuUZCx6VLmK4bmQfSpBd8+6aqFRAlmna1rCZJPapu1frr++TTr71H9dclQbfKHaHq6nHRLg
7Sg98gOYrdC3PgZDArSyNr265+MZQRgGIjAMNowSIhmoC43XojqyNggBQIgSKEKUSIGQy6+bjatW
lIsN9X2iBHXW6odMJbj10yIXPjaFYlg7wCaIALmO2QiyDYOOBrhEg6MBmosusmm0YZiJAIDQBMIh
MH8giGTAA+ZOBo0TAiAsh0BXX+uAPSIF+XWfZDhitMBmtyyrmzbgsuHEwNSWCa6W2thYyDitMAI9
FmWESskNCHG8rkbIRKAmCRgEATDKa8Qoo3xdVGCYiQAAgNWwZVjuoc+IZMATOuftVZ9ICHx1mZyr
MznQECmoyGn0lco08pSK1OiISX/dDZ4oxEu2QYUtKbGJhMSh6VyJoDomCgmoXrfrdFYg2NIkEfCB
d5QDHiTAcJEUERhFIhARhEgGAqB1TMTogI9O3wiBTo9p6gBqe0RSYBvwm0iE0RCDzV52o16kgGCe
vZ70dxt2DSOoo12dlA8JKJyPWy/VE4UQAQqRCYkINEkAjPU8bW2FCESSMBKIZCAQdQiBaTTbRIRA
6AHaJQVC1DQH7xslMI/8/UhH3VF5KClo265BIGgXPKMueltefoXidAk2hRKBEBKg02PS59JrbI0Y
CWibCPRzA6xq2wNreiQRyUAN9IsQUCMEXKZ9UiDL2ub5Kzpl3TUJgasN0zJBKly5Bda6cj2CXVx/
MyRhmHYfpJhCTRA0OWsfe3x12xxekyTAlwAY63gQDN9NiHyJAHVTqPbAEL4D4clkEZEM1AR1NN+P
CIHQCbRLCnQ2UpP/KHorNsBMCGx1qk2Gj85NnZ5z5YeQc+qvG9HoTwfWBAHgchZHZ3O8hGRAe7s0
3U0TgWGJBOh0v3pEICIEkQz4wPKDTq0XzJdNToDqwI2mtkEKAldCOKMEagWHrRrxUh0ZrqhB/dMl
NW02ZFtTaLszrkMAyE430MGQnTDB4bUdDWiCAPjoNpEA+e2oEgEG+vdSV/ckIpIBT5BH8wYPaBop
Nz1tIOvlsuYkQ5PO6j1VhagjX1O7Jd2eUweqvaY2bfbVXY2g11n8TdlcKJdtqv2G9Fjb8GzE10lQ
Ruyh9vSLCPSTBNis8dmJUH47qkRgWNofNUQyEACv8L7mYgghgKZOHVIg/1DU0XcTUYLgXAJNJVud
0JF52dbmIgWVdg09EjV6kMvb2vAxKADBIyyCc6gTDahFABQFJt39JgFNEIDQJYdlhz/aRADAkBgx
OohkIBC28H4bhMBeh57gRokU6PRRowTUuf7QKAFs9RTTFPNI7bcRKdC2r3RU1AhHmzY0o5PuiELm
73X1KG3ZGm8zGkB12D4kwEevUdZi5ytBBAA0fYTxq45IBmqCvImQgRBAI2sbqbqiBLyO1eS8DVs+
QWgugU7GFSWo6LRVgr6zMU8DKHKa+1HrD2J/gNAERV99baDORkOVS54kgHybBBtNRMBFAhqfDugT
AdBdou76qGubQvgihhfJoA0Ixe7uLlZXV7G9va0t39zcxNLSEu7cuYOlpSWtHEWGAsYYjR0zfYHt
9+I9nwj6D5C6XaxztFMjkcqo02aAob7h8ZJs8Olo+wlx+7bHoMoMkgjoPgfTd6gOEaB81sbGDTbq
2m6TCOifgV5G57R1/Y6pfVe/I+tqggj0+3tYgeY3QX2d1IDCSEYGtre3cffuXTx8+BDvvfdepXxz
cxMrKyvY398HABweHmJmZgYbGxuYn58ny+igG/nmZY7RdqnAYy7dteJAwCfz3qZbZ4saua/cAiFC
INvlfWCQR1xd91s2PRtZlel5UgnBIKYXBgGqAyKFzB0kOkSHCT42+pIAKgHQytYgFCZZql7XICaU
CAwadXz6EJg/EIxkZGB+fh4ffvihsXx5eRmrq6v5+4mJCSwtLeHmzZteMioODw7yv01fttARgONy
rtt7IxLQfpyU6EZTEQIh+p9/+0tzOUWBx/DD/lwDbajoYdZXm/jPv/1Vq/oB83eEMipshQh4Ro1s
zasyv/215bsZSAQo/YD+eZojAPrnqi/wIQL2SJSlDzIUyX1n38ACXycUI0kGAPMobGtrC4eHh7h4
8WLp+tzcHHZ2drC3t+eUef78uVb34eFh5Zrvj9dZGe7vpStESO2gTbptNvsSAtu9/NNvfmX16eTf
KDFObtNnqtpkX+EiC3VIwz83SAZcdlG/Y1o5zYNWZUx6TPXVtnw+52rb/F5/95sqGbDapdTX2aY1
1kOX9XtoKNBdNuktylXl5bqqfhuE/MHhAMhAhBdGlgyYsLOzAwCYnZ0tXRfvd3Z2SDJGGL79uste
83keel1t2G1yk4K2IgTue3GUE3SUlDlu1qTP9YyaIAY29CuaoLZFaZP6vPTfc7uTdDpbn9GxRq/L
Rp8RbxAJ0FQ0OWqv1QaaQh+iUpYxNRTQL/Th+2sDC/zvpGIkcwZsePbsGQBgcnKydH16ehoATzyk
yOjw//4//wX/23uXwgzTBDL6k6duhrN9DwP1onYF//6vv8c/9SG8XYHFrEF/JqH493/9Pf75d78e
qA0ux9ek9sZUGxT92++f43e/+VV7hI9oRzNtNaCcQvYM+L//5XNMKH1tm/jlL3lU572F/zWo/q9/
9Uu8++67DVo0GnjlyIDq4FUwxjA1NeWt9x//8R/x1ltv4d//9feltlztnWzYu4yz01M41X3lglMD
wffOTuH0WHyWTeHs9BTGOyd3lFgXBwcHOMjyBCYnJ/G3f/u3fbchCfz4AVFSJgAACGdJREFU3n33
XfzN3/xNs8aMAAZGBtbX17GxsUGS3djYwMTEBEn27NmzAJB/EQXEqoHZ2dk838Amo8OXX35JsiEi
IiIiYjAYpWPChwkDIwPLy8tYXl5uXO/i4iJu3bqVO3YBEfqfm5vDzMwMAFhlIiIiIiIiTgpeubji
22+/jcnJSXz66ael60+ePMH58+dx7tw5kkxERMTJw97e3qBNiIgYCEaeDOhCQuvr69jc3MzfHxwc
YGNjA/fu3fOSiYgYdjS1i+ZJxO7uLpIkKb0ePnxYkonPV49h2gE2oiGkI4itra302rVraZIk6dLS
Urq1tVWRWVtbS69du5Z+/PHH6bVr19KHDx8GyUT0D7u7u4M2YaSwsbGRTk1N5e8PDg7Sqakp7e8h
oorV1dV0fX299JIRn68eW1tb6dWrV1PGmLbPpDy3+GyHDyNJBvqFZ8+epSsrK8Yv6MbGRolM6OQo
MicRz549SxljpdedO3dKMvHZ2TE5OZneunWrdG11dTW9cOHCgCwaHXz11VfptWvXrDLx+Zqxs7Nj
JAOU5xaf7fAhkgEDIvttF3FUVg+PHj3Sfjfv3buXMsbSvb29wRg2Irhx40bKGEunpqbS1dXVdGdn
p1Qen68dT5480T4f13Pb3d2Nz3ZIMfI5A21hUOcfnAQcHBxgf38fH3zwQeklIz47O2rtohmBH/zg
B1hZWcHZs2extraGCxcuYH19PS+PzzcMre8AG9EaIhmwIB3A+QcnAR999BE2NzcxPT2N69ev4+nT
p6Xy+OzcCN1FM4LjypUruHv3Lr744gs8evQIk5OTWF1dzVcTxOcbhjZ3gI1oF5EMBCCy33qIo7L6
iDtfNof5+Xk8efIEALC2tgYgPt9QtLUDbET7iGQgAJH91kMcldUHZafNCDpmZmawsLCQP8/4fMNA
eW7x2Q4nIhkIQGS/zSGOysKwuLgIIO6i2SQmJiby797CwgKA+Hx9Qflexmc7nHjlDiqSMYrnH4wS
mnq+cVTmD3kXzUuXipM04y6a4Xj69Cn+7u/+DgB3SPH5+oPyvTx37lx8tsOIQS9nGGaYls+INbbb
29ul6/LSGIpMRIGrV6/m647Fc4/Pzo7Nzc30/Pnz+fuvvvoqnZqaqjy3iDKePHmSLiwslJap3rt3
r7LuPT5fM8RvdHNzs1JGeW7x2Q4fXunIQFuI7Ld5xFGZP65cuYL9/X0sLS3h4sWLePz4Me7fv196
ZhFVTE1NYW9vD4uLi1hYWMDc3BwuX76MlZWVklx8vnpsb2/j3r17YIzhwYMHmJycxPz8fF5OeW7x
2Q4hBs1GhhmR/TaPOCqLiIiIGD7EyIABkf22gzgqi4iIiBg+sDQ17KwTERERERERcSIQlxZGRERE
RESccEQyEBERERERccIRyUBERERERMQJRyQDERERERERJxyRDERERERERJxwRDIQERERERFxwhHJ
QETEiOHy5cuDNiEiIuIVQyQDEREjhJ2dHVy4cAEA8PDhQ6yuruKtt94asFURERGjjkgGIiJGCGtr
a1hdXQVQ7NK4t7c3YKsiIiJGHZEMRESMEHZ3d0sHNcnHZUdERESEIpKBiIgRwebmZswXiIiIaAWR
DEREDAjb29u4du0apqen8fXXX+Pg4ACLi4vGHIAHDx5UDnRS8fHHH2N6eho///nPsbe3h6dPn+Lm
zZu4fPkytre3cf78eSRJgsuXL1emFz7++GPcunULt27dwjvvvIPt7e3G7jUiImK4EU8tjIgYEObn
5/HOO+9gamoKjx49wuPHj/Hw4UPs7u5WZA8ODnBwcIA333zTqO/g4AC7u7t4/vx5Lre3t4etrS08
ffoUS0tLePr0KR4/fozFxUUsLi7iyy+/BABcu3YN7733Hm7cuAEAWFpawuLiInq9Xgt3HhERMWyI
pxZGRAwYIhKwtbVVygeQsba2hu9973v44Q9/WLp+8+ZN3LlzB19++SU+/vhj3L17t1L32rVr+Pzz
z/HFF1/k1+7cuYObN29iZ2cHvV4PCwsL2N/fz8v39vawvb2NDz74oIE7jIiIGHbEaYKIiAFjfn4e
k5OTRiIA8HwBlQjIeOedd6xtqJx/fn4eAPDs2TNsbW1henq6VD4zMxOJQETECUIkAxERA8bu7i52
dnas5ZOTk1Yd9+/fx9raGtbX17XljLHSe6FvamoKf/jDH7RTExEREScHkQxERAwQ6+vruHXrFgDg
6dOnWpnNzU1cv37dqIMxhh/+8IdYWVnB6uqqVo8aGdjZ2QFjDJcuXcIPfvCD3BZVJu5hEBFxMhAT
CCMi+ozDw0M8fvwYZ8+exfnz53Hp0iXMzs7ik08+we7uLhYWFjAxMZHLP3jwIE/s00E4+rt37+Kz
zz7D/Pw89vb2SjrkfACA5yDcvn0bAN+8aHZ2Fqurq3j27BkWFhawu7uL3d1d/OxnP2vy1iMiIoYU
MTIQEdFnPHr0CJcvX8aTJ09w6dIlAMDVq1dx584dTE1NlZz4zs4OLl68qNWzvb2Nhw8fgjGG+/fv
4/DwEO+//z4ODg5w4cIF/MM//ENJ/vr167h+/TqWlpawtLSEH//4xyWbFhYW8PHHH2NpaQl7e3uR
CEREnCDE1QQREUOM1dVV/OhHP8L3v//9YB261QQRERERMmJkICJiiPHkyZNaRCAiIiKCgkgGIiKG
FFtbW/jrv/7rRnTFAGBERIQNkQxERAwp1tbWcPXq1Vo6Njc3sb29jb29Pdy/fz+uDoiIiNAi5gxE
RAwplpaW8ODBg0GbERERcQIQyUBERERERMQJR5wmiIiIiIiIOOGIZCAiIiIiIuKEI5KBiIiIiIiI
E45IBiIiIiIiIk44IhmIiIiIiIg44YhkICIiIiIi4oTj/we1dU6Jt3L2gQAAAABJRU5ErkJggg==
"
>
</div>

</div>

</div>
</div>

</div>
<div class="cell border-box-sizing text_cell rendered">
<div class="prompt input_prompt">
</div>
<div class="inner_cell">
<div class="text_cell_render border-box-sizing rendered_html">
<p>Typically we want to make sure the system is aligned in some predictable way, so pynbody allows us to easily make the disk angular momentum axis the z-axis:</p>
</div>
</div>
</div>
<div class="cell border-box-sizing code_cell rendered">
<div class="input">
<div class="prompt input_prompt">
In&nbsp;[23]:
</div>
<div class="inner_cell">
    <div class="input_area">
<div class=" highlight hl-ipython"><pre><span class="n">pynbody</span><span class="o">.</span><span class="n">analysis</span><span class="o">.</span><span class="n">angmom</span><span class="o">.</span><span class="n">faceon</span><span class="p">(</span><span class="n">h</span><span class="p">[</span><span class="mi">1</span><span class="p">],</span><span class="n">cen</span><span class="o">=</span><span class="p">(</span><span class="mi">0</span><span class="p">,</span><span class="mi">0</span><span class="p">,</span><span class="mi">0</span><span class="p">))</span>
</pre></div>

</div>
</div>
</div>

<div class="output_wrapper">
<div class="output">


<div class="output_area"><div class="prompt"></div>
<div class="output_subarea output_stream output_stdout output_text">
<pre>Finding halo velocity center...
vcen= [ -1.28863327e-14   4.35041217e-13   1.22950847e-12]
Calculating angular momentum vector...
Transforming simulation...
</pre>
</div>
</div>

<div class="output_area"><div class="prompt output_prompt">
    Out[23]:</div>


<div class="output_text output_subarea output_pyout">
<pre>&lt;pynbody.transformation.GenericRotation at 0x114f23c10&gt;</pre>
</div>

</div>

</div>
</div>

</div>
<div class="cell border-box-sizing text_cell rendered">
<div class="prompt input_prompt">
</div>
<div class="inner_cell">
<div class="text_cell_render border-box-sizing rendered_html">
<p>we use <code>cen=(0,0,0)</code> because we have already centered it in the previous step... if you don&#39;t specify a center, it is first centered and then aligned. Now lets look at a slice of the gas disk edge-on: </p>
</div>
</div>
</div>
<div class="cell border-box-sizing code_cell rendered">
<div class="input">
<div class="prompt input_prompt">
In&nbsp;[24]:
</div>
<div class="inner_cell">
    <div class="input_area">
<div class=" highlight hl-ipython"><pre><span class="n">s</span><span class="o">.</span><span class="n">rotate_x</span><span class="p">(</span><span class="mi">90</span><span class="p">)</span>
<span class="n">pynbody</span><span class="o">.</span><span class="n">plot</span><span class="o">.</span><span class="n">image</span><span class="p">(</span><span class="n">h</span><span class="p">[</span><span class="mi">1</span><span class="p">]</span><span class="o">.</span><span class="n">g</span><span class="p">,</span><span class="n">width</span><span class="o">=</span><span class="s">&#39;50 kpc&#39;</span><span class="p">,</span><span class="n">cmap</span><span class="o">=</span><span class="n">cm</span><span class="o">.</span><span class="n">Blues</span><span class="p">)</span>
</pre></div>

</div>
</div>
</div>

<div class="output_wrapper">
<div class="output">


<div class="output_area"><div class="prompt"></div>
<div class="output_subarea output_stream output_stdout output_text">
<pre>Rendering image on 4 threads...
</pre>
</div>
</div>

<div class="output_area"><div class="prompt output_prompt">
    Out[24]:</div>


<div class="output_text output_subarea output_pyout">
<pre>SimArray([[ 20220.50976562,  20200.53125   ,  20180.5546875 , ...,
         19654.78320312,  19650.26367188,  19645.74414062],
       [ 20184.61523438,  20167.7109375 ,  20150.80664062, ...,
         19755.99609375,  19749.9296875 ,  19743.86328125],
       [ 20148.72265625,  20134.88867188,  20121.05664062, ...,
         19857.20703125,  19849.59570312,  19841.98632812],
       ..., 
       [ 24377.94921875,  24315.953125  ,  24253.95507812, ...,
         19957.59765625,  19975.203125  ,  19992.80664062],
       [ 24303.73828125,  24237.01171875,  24170.28515625, ...,
         19852.88867188,  19864.32617188,  19875.76367188],
       [ 24229.52539062,  24158.0703125 ,  24086.6171875 , ...,
         19748.1796875 ,  19753.44921875,  19758.72070312]], dtype=float32, &apos;Msol kpc**-3&apos;)</pre>
</div>

</div>

<div class="output_area"><div class="prompt"></div>


<div class="output_png output_subarea ">
<img src="data:image/png;base64,iVBORw0KGgoAAAANSUhEUgAAAfoAAAGICAYAAACp/yKDAAAABHNCSVQICAgIfAhkiAAAAAlwSFlz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"
>
</div>

</div>

</div>
</div>

</div>
<div class="cell border-box-sizing text_cell rendered">
<div class="prompt input_prompt">
</div>
<div class="inner_cell">
<div class="text_cell_render border-box-sizing rendered_html">
<p>By default, <code>rho</code> (i.e. density) is used to render the image, but you can <em>any</em> valid array is fair game:</p>
</div>
</div>
</div>
<div class="cell border-box-sizing code_cell rendered">
<div class="input">
<div class="prompt input_prompt">
In&nbsp;[25]:
</div>
<div class="inner_cell">
    <div class="input_area">
<div class=" highlight hl-ipython"><pre><span class="n">pynbody</span><span class="o">.</span><span class="n">plot</span><span class="o">.</span><span class="n">image</span><span class="p">(</span><span class="n">h1</span><span class="o">.</span><span class="n">g</span><span class="p">,</span><span class="n">qty</span><span class="o">=</span><span class="s">&#39;temp&#39;</span><span class="p">,</span><span class="n">width</span><span class="o">=</span><span class="s">&#39;40 kpc&#39;</span><span class="p">,</span> <span class="n">cmap</span><span class="o">=</span><span class="n">cm</span><span class="o">.</span><span class="n">YlOrRd</span><span class="p">)</span>
<span class="n">s</span><span class="o">.</span><span class="n">rotate_x</span><span class="p">(</span><span class="o">-</span><span class="mi">90</span><span class="p">)</span>
</pre></div>

</div>
</div>
</div>

<div class="output_wrapper">
<div class="output">


<div class="output_area"><div class="prompt"></div>
<div class="output_subarea output_stream output_stdout output_text">
<pre>Rendering image on 4 threads...
</pre>
</div>
</div>

<div class="output_area"><div class="prompt output_prompt">
    Out[25]:</div>


<div class="output_text output_subarea output_pyout">
<pre>&lt;pynbody.transformation.GenericRotation at 0x114fcba10&gt;</pre>
</div>

</div>

<div class="output_area"><div class="prompt"></div>


<div class="output_png output_subarea ">
<img src="data:image/png;base64,iVBORw0KGgoAAAANSUhEUgAAAfcAAAGQCAYAAACzhCnFAAAABHNCSVQICAgIfAhkiAAAAAlwSFlz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"
>
</div>

</div>

</div>
</div>

</div>
<div class="cell border-box-sizing text_cell rendered">
<div class="prompt input_prompt">
</div>
<div class="inner_cell">
<div class="text_cell_render border-box-sizing rendered_html">
<h2 id="Profiles">Profiles<a class="anchor-link" href="#Profiles">&#182;</a></h2>
</div>
</div>
</div>

<div class="cell border-box-sizing code_cell rendered">
<div class="input">
<div class="prompt input_prompt">
In&nbsp;[26]:
</div>
<div class="inner_cell">
    <div class="input_area">
<div class=" highlight hl-ipython"><pre><span class="n">p</span> <span class="o">=</span> <span class="n">pynbody</span><span class="o">.</span><span class="n">analysis</span><span class="o">.</span><span class="n">profile</span><span class="o">.</span><span class="n">Profile</span><span class="p">(</span><span class="n">h1</span><span class="p">,</span><span class="nb">max</span><span class="o">=</span><span class="s">&#39;200 kpc&#39;</span><span class="p">,</span><span class="nb">min</span><span class="o">=</span><span class="s">&#39;.1 kpc&#39;</span><span class="p">,</span><span class="nb">type</span><span class="o">=</span><span class="s">&#39;log&#39;</span><span class="p">,</span><span class="n">nbins</span><span class="o">=</span><span class="mi">100</span><span class="p">)</span>
<span class="n">ps</span> <span class="o">=</span> <span class="n">pynbody</span><span class="o">.</span><span class="n">analysis</span><span class="o">.</span><span class="n">profile</span><span class="o">.</span><span class="n">Profile</span><span class="p">(</span><span class="n">h1</span><span class="o">.</span><span class="n">s</span><span class="p">,</span><span class="nb">max</span><span class="o">=</span><span class="s">&#39;50 kpc&#39;</span><span class="p">,</span><span class="n">nbins</span><span class="o">=</span><span class="mi">50</span><span class="p">)</span>
<span class="n">pg</span> <span class="o">=</span> <span class="n">pynbody</span><span class="o">.</span><span class="n">analysis</span><span class="o">.</span><span class="n">profile</span><span class="o">.</span><span class="n">Profile</span><span class="p">(</span><span class="n">h1</span><span class="o">.</span><span class="n">g</span><span class="p">,</span><span class="nb">max</span><span class="o">=</span><span class="s">&#39;50 kpc&#39;</span><span class="p">,</span><span class="n">nbins</span><span class="o">=</span><span class="mi">50</span><span class="p">)</span>
<span class="n">plot</span><span class="p">(</span><span class="n">p</span><span class="p">[</span><span class="s">&#39;rbins&#39;</span><span class="p">],</span> <span class="n">p</span><span class="p">[</span><span class="s">&#39;density&#39;</span><span class="p">],</span> <span class="n">label</span> <span class="o">=</span> <span class="s">&#39;all&#39;</span><span class="p">)</span>
<span class="n">plot</span><span class="p">(</span><span class="n">ps</span><span class="p">[</span><span class="s">&#39;rbins&#39;</span><span class="p">],</span> <span class="n">ps</span><span class="p">[</span><span class="s">&#39;density&#39;</span><span class="p">],</span> <span class="n">label</span> <span class="o">=</span> <span class="s">&#39;stars&#39;</span><span class="p">)</span>
<span class="n">plot</span><span class="p">(</span><span class="n">pg</span><span class="p">[</span><span class="s">&#39;rbins&#39;</span><span class="p">],</span> <span class="n">pg</span><span class="p">[</span><span class="s">&#39;density&#39;</span><span class="p">],</span> <span class="n">label</span> <span class="o">=</span> <span class="s">&#39;gas&#39;</span><span class="p">)</span>
<span class="n">semilogy</span><span class="p">()</span>
<span class="n">xlim</span><span class="p">(</span><span class="mi">0</span><span class="p">,</span><span class="mi">50</span><span class="p">)</span>
<span class="n">legend</span><span class="p">()</span>
<span class="n">xlabel</span><span class="p">(</span><span class="s">&#39;$R$ [kpc]&#39;</span><span class="p">)</span>
<span class="n">ylabel</span><span class="p">(</span><span class="s">&#39;$\Sigma$ [M$_{\odot}$ kpc$^{-2}$]&#39;</span><span class="p">)</span>
</pre></div>

</div>
</div>
</div>

<div class="output_wrapper">
<div class="output">


<div class="output_area"><div class="prompt"></div>
<div class="output_subarea output_stream output_stdout output_text">
<pre>Profile: density()
Profile: mass()
Profile: density()
Profile: mass()
Profile: density()
Profile: mass()
</pre>
</div>
</div>

<div class="output_area"><div class="prompt output_prompt">
    Out[26]:</div>


<div class="output_text output_subarea output_pyout">
<pre>&lt;matplotlib.text.Text at 0x114c28490&gt;</pre>
</div>

</div>

<div class="output_area"><div class="prompt"></div>


<div class="output_png output_subarea ">
<img src="data:image/png;base64,iVBORw0KGgoAAAANSUhEUgAAAoAAAAGOCAYAAAAHL7LOAAAABHNCSVQICAgIfAhkiAAAAAlwSFlz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"
>
</div>

</div>

</div>
</div>

</div>
<div class="cell border-box-sizing text_cell rendered">
<div class="prompt input_prompt">
</div>
<div class="inner_cell">
<div class="text_cell_render border-box-sizing rendered_html">
<p>The <code>Profile</code> class has lots of built-in functionality... including calculating a rotation curve:</p>
</div>
</div>
</div>
<div class="cell border-box-sizing code_cell rendered">
<div class="input">
<div class="prompt input_prompt">
In&nbsp;[27]:
</div>
<div class="inner_cell">
    <div class="input_area">
<div class=" highlight hl-ipython"><pre><span class="n">plot</span><span class="p">(</span><span class="n">p</span><span class="p">[</span><span class="s">&#39;rbins&#39;</span><span class="p">],</span> <span class="n">p</span><span class="p">[</span><span class="s">&#39;v_circ&#39;</span><span class="p">],</span> <span class="n">label</span> <span class="o">=</span> <span class="s">&#39;all&#39;</span><span class="p">)</span>
<span class="n">plot</span><span class="p">(</span><span class="n">ps</span><span class="p">[</span><span class="s">&#39;rbins&#39;</span><span class="p">],</span> <span class="n">ps</span><span class="p">[</span><span class="s">&#39;v_circ&#39;</span><span class="p">],</span> <span class="n">label</span> <span class="o">=</span> <span class="s">&#39;stars&#39;</span><span class="p">)</span>
<span class="n">plot</span><span class="p">(</span><span class="n">pg</span><span class="p">[</span><span class="s">&#39;rbins&#39;</span><span class="p">],</span> <span class="n">pg</span><span class="p">[</span><span class="s">&#39;v_circ&#39;</span><span class="p">],</span> <span class="n">label</span> <span class="o">=</span> <span class="s">&#39;gas&#39;</span><span class="p">)</span>
<span class="n">xlim</span><span class="p">(</span><span class="mi">0</span><span class="p">,</span><span class="mi">50</span><span class="p">)</span>
<span class="n">xlabel</span><span class="p">(</span><span class="s">&#39;$R$ [kpc]&#39;</span><span class="p">)</span>
<span class="n">ylabel</span><span class="p">(</span><span class="s">&#39;$V_{circ}$&#39;</span><span class="p">)</span>
<span class="n">legend</span><span class="p">()</span>
</pre></div>

</div>
</div>
</div>

<div class="output_wrapper">
<div class="output">


<div class="output_area"><div class="prompt"></div>
<div class="output_subarea output_stream output_stdout output_text">
<pre>Profile: v_circ() -- warning, disk must be in the x-y plane
Rotation curve calculated in  4.13 s
Profile: v_circ() -- warning, disk must be in the x-y plane
Rotation curve calculated in  1.33 s
Profile: v_circ() -- warning, disk must be in the x-y plane
Rotation curve calculated in  0.45 s
</pre>
</div>
</div>

<div class="output_area"><div class="prompt"></div>
<div class="output_subarea output_stream output_stderr output_text">
<pre>/Users/rokstar/python/pynbody/gravity/calc.py:105: RuntimeWarning: OpenMP gravity nt able to load -- using single cpu
  warnings.warn(&quot;OpenMP gravity nt able to load -- using single cpu&quot;, RuntimeWarning)
</pre>
</div>
</div>

<div class="output_area"><div class="prompt output_prompt">
    Out[27]:</div>


<div class="output_text output_subarea output_pyout">
<pre>&lt;matplotlib.legend.Legend at 0x10c30e4d0&gt;</pre>
</div>

</div>

<div class="output_area"><div class="prompt"></div>


<div class="output_png output_subarea ">
<img src="data:image/png;base64,iVBORw0KGgoAAAANSUhEUgAAAnkAAAGOCAYAAADrdhWdAAAABHNCSVQICAgIfAhkiAAAAAlwSFlz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"
>
</div>

</div>

</div>
</div>

</div>
<div class="cell border-box-sizing text_cell rendered">
<div class="prompt input_prompt">
</div>
<div class="inner_cell">
<div class="text_cell_render border-box-sizing rendered_html">
<p><code>Profile</code> can use <em>any</em> loaded (or loadable/derivable!) array: </p>
</div>
</div>
</div>
<div class="cell border-box-sizing code_cell rendered">
<div class="input">
<div class="prompt input_prompt">
In&nbsp;[28]:
</div>
<div class="inner_cell">
    <div class="input_area">
<div class=" highlight hl-ipython"><pre><span class="n">plot</span><span class="p">(</span><span class="n">ps</span><span class="p">[</span><span class="s">&#39;rbins&#39;</span><span class="p">],</span><span class="n">ps</span><span class="p">[</span><span class="s">&#39;age&#39;</span><span class="p">])</span>
<span class="n">xlabel</span><span class="p">(</span><span class="s">&#39;$R$ [kpc]&#39;</span><span class="p">)</span>
<span class="n">ylabel</span><span class="p">(</span><span class="s">&#39;Age [Gyr]&#39;</span><span class="p">)</span>
</pre></div>

</div>
</div>
</div>

<div class="output_wrapper">
<div class="output">


<div class="output_area"><div class="prompt output_prompt">
    Out[28]:</div>


<div class="output_text output_subarea output_pyout">
<pre>&lt;matplotlib.text.Text at 0x10c30cd10&gt;</pre>
</div>

</div>

<div class="output_area"><div class="prompt"></div>


<div class="output_png output_subarea ">
<img src="data:image/png;base64,iVBORw0KGgoAAAANSUhEUgAAAn4AAAGOCAYAAAAJqg7kAAAABHNCSVQICAgIfAhkiAAAAAlwSFlz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"
>
</div>

</div>

</div>
</div>

</div>
<div class="cell border-box-sizing text_cell rendered">
<div class="prompt input_prompt">
</div>
<div class="inner_cell">
<div class="text_cell_render border-box-sizing rendered_html">
<p>By default, <code>Profile</code> calculates the means of quantities, but it trivially calculate derivatives and root-mean-square values as well: </p>
</div>
</div>
</div>
<div class="cell border-box-sizing code_cell rendered">
<div class="input">
<div class="prompt input_prompt">
In&nbsp;[29]:
</div>
<div class="inner_cell">
    <div class="input_area">
<div class=" highlight hl-ipython"><pre><span class="n">plot</span><span class="p">(</span><span class="n">ps</span><span class="p">[</span><span class="s">&#39;rbins&#39;</span><span class="p">],</span><span class="n">ps</span><span class="p">[</span><span class="s">&#39;d_v_circ&#39;</span><span class="p">])</span>
<span class="n">xlabel</span><span class="p">(</span><span class="s">&#39;$R$ [kpc]&#39;</span><span class="p">)</span>
<span class="n">ylabel</span><span class="p">(</span><span class="s">&#39;d$v_{c}$/d$R$&#39;</span><span class="p">)</span>
</pre></div>

</div>
</div>
</div>

<div class="output_wrapper">
<div class="output">


<div class="output_area"><div class="prompt"></div>
<div class="output_subarea output_stream output_stdout output_text">
<pre>Profile: d_v_circ/dR
</pre>
</div>
</div>

<div class="output_area"><div class="prompt output_prompt">
    Out[29]:</div>


<div class="output_text output_subarea output_pyout">
<pre>&lt;matplotlib.text.Text at 0x10c30cdd0&gt;</pre>
</div>

</div>

<div class="output_area"><div class="prompt"></div>


<div class="output_png output_subarea ">
<img src="data:image/png;base64,iVBORw0KGgoAAAANSUhEUgAAAn4AAAGOCAYAAAAJqg7kAAAABHNCSVQICAgIfAhkiAAAAAlwSFlz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"
>
</div>

</div>

</div>
</div>

</div>
<div class="cell border-box-sizing code_cell rendered">
<div class="input">
<div class="prompt input_prompt">
In&nbsp;[30]:
</div>
<div class="inner_cell">
    <div class="input_area">
<div class=" highlight hl-ipython"><pre><span class="n">plot</span><span class="p">(</span><span class="n">ps</span><span class="p">[</span><span class="s">&#39;rbins&#39;</span><span class="p">],</span><span class="n">ps</span><span class="p">[</span><span class="s">&#39;vr_rms&#39;</span><span class="p">])</span>
<span class="n">xlabel</span><span class="p">(</span><span class="s">&#39;R [kpc]&#39;</span><span class="p">)</span>
<span class="n">ylabel</span><span class="p">(</span><span class="s">&#39;$v_{rms}$&#39;</span><span class="p">)</span>
</pre></div>

</div>
</div>
</div>

<div class="output_wrapper">
<div class="output">


<div class="output_area"><div class="prompt"></div>
<div class="output_subarea output_stream output_stdout output_text">
<pre>Profile: auto-deriving vr_rms
</pre>
</div>
</div>

<div class="output_area"><div class="prompt output_prompt">
    Out[30]:</div>


<div class="output_text output_subarea output_pyout">
<pre>&lt;matplotlib.text.Text at 0x11b5c6bd0&gt;</pre>
</div>

</div>

<div class="output_area"><div class="prompt"></div>


<div class="output_png output_subarea ">
<img src="data:image/png;base64,iVBORw0KGgoAAAANSUhEUgAAAnkAAAGGCAYAAAAHJZfwAAAABHNCSVQICAgIfAhkiAAAAAlwSFlz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"
>
</div>

</div>

</div>
</div>

</div>
<div class="cell border-box-sizing text_cell rendered">
<div class="prompt input_prompt">
</div>
<div class="inner_cell">
<div class="text_cell_render border-box-sizing rendered_html">
<h2 id="Filters">Filters<a class="anchor-link" href="#Filters">&#182;</a></h2>
</div>
</div>
</div>

<div class="cell border-box-sizing text_cell rendered">
<div class="prompt input_prompt">
</div>
<div class="inner_cell">
<div class="text_cell_render border-box-sizing rendered_html">
<p>You can define filters to easily select particles based on their quantities. For example, to get stars that are 1-2 Gyr old:</p>
</div>
</div>
</div>
<div class="cell border-box-sizing code_cell rendered">
<div class="input">
<div class="prompt input_prompt">
In&nbsp;[31]:
</div>
<div class="inner_cell">
    <div class="input_area">
<div class=" highlight hl-ipython"><pre><span class="n">agefilt</span> <span class="o">=</span> <span class="n">pynbody</span><span class="o">.</span><span class="n">filt</span><span class="o">.</span><span class="n">BandPass</span><span class="p">(</span><span class="s">&#39;age&#39;</span><span class="p">,</span> <span class="s">&#39;1 Gyr&#39;</span><span class="p">,</span><span class="s">&#39;2 Gyr&#39;</span><span class="p">)</span>
<span class="n">agefilt</span>
</pre></div>

</div>
</div>
</div>

<div class="output_wrapper">
<div class="output">


<div class="output_area"><div class="prompt output_prompt">
    Out[31]:</div>


<div class="output_text output_subarea output_pyout">
<pre>BandPass(&apos;age&apos;, &apos;Gyr&apos;, &apos;2.00e+00 Gyr&apos;)</pre>
</div>

</div>

</div>
</div>

</div>
<div class="cell border-box-sizing code_cell rendered">
<div class="input">
<div class="prompt input_prompt">
In&nbsp;[32]:
</div>
<div class="inner_cell">
    <div class="input_area">
<div class=" highlight hl-ipython"><pre><span class="n">sphere</span> <span class="o">=</span> <span class="n">pynbody</span><span class="o">.</span><span class="n">filt</span><span class="o">.</span><span class="n">Sphere</span><span class="p">(</span><span class="s">&#39;50 kpc&#39;</span><span class="p">)</span>
<span class="n">h1</span><span class="p">[</span><span class="n">sphere</span><span class="p">]</span><span class="o">.</span><span class="n">s</span>
</pre></div>

</div>
</div>
</div>

<div class="output_wrapper">
<div class="output">


<div class="output_area"><div class="prompt output_prompt">
    Out[32]:</div>


<div class="output_text output_subarea output_pyout">
<pre>&lt;SimSnap &quot;/Users/rokstar/Downloads/testdata/g15784.lr.01024:halo_1:sphere::star&quot; len=242858&gt;</pre>
</div>

</div>

</div>
</div>

</div>
<div class="cell border-box-sizing code_cell rendered">
<div class="input">
<div class="prompt input_prompt">
In&nbsp;[33]:
</div>
<div class="inner_cell">
    <div class="input_area">
<div class=" highlight hl-ipython"><pre><span class="n">h1</span><span class="o">.</span><span class="n">s</span><span class="p">[</span><span class="n">sphere</span><span class="p">][</span><span class="s">&#39;mass&#39;</span><span class="p">]</span><span class="o">.</span><span class="n">sum</span><span class="p">()</span><span class="o">.</span><span class="n">in_units</span><span class="p">(</span><span class="s">&#39;1e12 Msol&#39;</span><span class="p">)</span>
</pre></div>

</div>
</div>
</div>

<div class="output_wrapper">
<div class="output">


<div class="output_area"><div class="prompt output_prompt">
    Out[33]:</div>


<div class="output_text output_subarea output_pyout">
<pre>SimArray(0.10313311567845437, &apos;1.00e+12 Msol&apos;)</pre>
</div>

</div>

</div>
</div>

</div>
<div class="cell border-box-sizing text_cell rendered">
<div class="prompt input_prompt">
</div>
<div class="inner_cell">
<div class="text_cell_render border-box-sizing rendered_html">
<p>you can combine filters by using simple logic operators -- so to get the total mass of all 1-2 Gyr old stars within 50 kpc, you can do</p>
</div>
</div>
</div>
<div class="cell border-box-sizing code_cell rendered">
<div class="input">
<div class="prompt input_prompt">
In&nbsp;[34]:
</div>
<div class="inner_cell">
    <div class="input_area">
<div class=" highlight hl-ipython"><pre><span class="n">h1</span><span class="o">.</span><span class="n">s</span><span class="p">[</span><span class="n">sphere</span><span class="o">&amp;</span><span class="n">agefilt</span><span class="p">][</span><span class="s">&#39;mass&#39;</span><span class="p">]</span><span class="o">.</span><span class="n">sum</span><span class="p">()</span><span class="o">.</span><span class="n">in_units</span><span class="p">(</span><span class="s">&#39;1e12 Msol&#39;</span><span class="p">)</span>
</pre></div>

</div>
</div>
</div>

<div class="output_wrapper">
<div class="output">


<div class="output_area"><div class="prompt output_prompt">
    Out[34]:</div>


<div class="output_text output_subarea output_pyout">
<pre>SimArray(0.0023178475592408767, &apos;1.00e+12 Msol&apos;)</pre>
</div>

</div>

</div>
</div>

</div>
<div class="cell border-box-sizing text_cell rendered">
<div class="prompt input_prompt">
</div>
<div class="inner_cell">
<div class="text_cell_render border-box-sizing rendered_html">
<h2 id="Units">Units<a class="anchor-link" href="#Units">&#182;</a></h2>
</div>
</div>
</div>

<div class="cell border-box-sizing text_cell rendered">
<div class="prompt input_prompt">
</div>
<div class="inner_cell">
<div class="text_cell_render border-box-sizing rendered_html">
<p>You&#39;ve noticed by now that we&#39;ve been asking for things in various kinds of units. <code>Pynbody</code> has a unit-handling system built in that automatically ensures that arrays in different units are compatible and performs the necessary conversions for calculations. Adding mass and position together makes no sense, and pynbody knows this: </p>
</div>
</div>
</div>
<div class="cell border-box-sizing code_cell rendered">
<div class="input">
<div class="prompt input_prompt">
In&nbsp;[35]:
</div>
<div class="inner_cell">
    <div class="input_area">
<div class=" highlight hl-ipython"><pre><span class="n">s</span><span class="p">[</span><span class="s">&#39;mass&#39;</span><span class="p">]</span> <span class="o">+</span> <span class="n">s</span><span class="p">[</span><span class="s">&#39;x&#39;</span><span class="p">]</span>
</pre></div>

</div>
</div>
</div>

<div class="output_wrapper">
<div class="output">


<div class="output_area"><div class="prompt"></div>
<div class="output_subarea output_text output_pyerr">
<pre>
<span class="ansired">---------------------------------------------------------------------------</span>
<span class="ansired">ValueError</span>                                Traceback (most recent call last)
<span class="ansigreen">&lt;ipython-input-35-3fb92e8fe716&gt;</span> in <span class="ansicyan">&lt;module&gt;</span><span class="ansiblue">()</span>
<span class="ansigreen">----&gt; 1</span><span class="ansired"> </span>s<span class="ansiblue">[</span><span class="ansiblue">&apos;mass&apos;</span><span class="ansiblue">]</span> <span class="ansiblue">+</span> s<span class="ansiblue">[</span><span class="ansiblue">&apos;x&apos;</span><span class="ansiblue">]</span><span class="ansiblue"></span>

<span class="ansigreen">/Users/rokstar/python/pynbody/array.pyc</span> in <span class="ansicyan">__add__</span><span class="ansiblue">(self, x)</span>
<span class="ansigreen">    421</span>             <span class="ansigreen">return</span> x<span class="ansiblue">+</span>self<span class="ansiblue"></span>
<span class="ansigreen">    422</span>         <span class="ansigreen">else</span> <span class="ansiblue">:</span><span class="ansiblue"></span>
<span class="ansigreen">--&gt; 423</span><span class="ansired">             </span><span class="ansigreen">return</span> self<span class="ansiblue">.</span>_generic_add<span class="ansiblue">(</span>x<span class="ansiblue">)</span><span class="ansiblue"></span>
<span class="ansigreen">    424</span> <span class="ansiblue"></span>
<span class="ansigreen">    425</span>     <span class="ansigreen">def</span> __sub__<span class="ansiblue">(</span>self<span class="ansiblue">,</span> x<span class="ansiblue">)</span> <span class="ansiblue">:</span><span class="ansiblue"></span>

<span class="ansigreen">/Users/rokstar/python/pynbody/array.pyc</span> in <span class="ansicyan">_generic_add</span><span class="ansiblue">(self, x, add_op)</span>
<span class="ansigreen">    393</span>                                      **context)
<span class="ansigreen">    394</span>             <span class="ansigreen">except</span> units<span class="ansiblue">.</span>UnitsException <span class="ansiblue">:</span><span class="ansiblue"></span>
<span class="ansigreen">--&gt; 395</span><span class="ansired">                 </span><span class="ansigreen">raise</span> ValueError<span class="ansiblue">(</span><span class="ansiblue">&quot;Incompatible physical dimensions %r and %r, context %r&quot;</span><span class="ansiblue">%</span><span class="ansiblue">(</span>str<span class="ansiblue">(</span>self<span class="ansiblue">.</span>units<span class="ansiblue">)</span><span class="ansiblue">,</span>str<span class="ansiblue">(</span>x<span class="ansiblue">.</span>units<span class="ansiblue">)</span><span class="ansiblue">,</span> str<span class="ansiblue">(</span>self<span class="ansiblue">.</span>conversion_context<span class="ansiblue">(</span><span class="ansiblue">)</span><span class="ansiblue">)</span><span class="ansiblue">)</span><span class="ansiblue">)</span><span class="ansiblue"></span>
<span class="ansigreen">    396</span> <span class="ansiblue"></span>
<span class="ansigreen">    397</span> <span class="ansiblue"></span>

<span class="ansired">ValueError</span>: Incompatible physical dimensions &apos;Msol&apos; and &apos;kpc&apos;, context &quot;{&apos;a&apos;: 0.9999999999999911, &apos;h&apos;: 0.7301145776501103}&quot;</pre>
</div>
</div>

</div>
</div>

</div>
<div class="cell border-box-sizing text_cell rendered">
<div class="prompt input_prompt">
</div>
<div class="inner_cell">
<div class="text_cell_render border-box-sizing rendered_html">
<p>but, it handles this just fine and returns an array with the right units: </p>
</div>
</div>
</div>
<div class="cell border-box-sizing code_cell rendered">
<div class="input">
<div class="prompt input_prompt">
In&nbsp;[36]:
</div>
<div class="inner_cell">
    <div class="input_area">
<div class=" highlight hl-ipython"><pre><span class="n">s</span><span class="p">[</span><span class="s">&#39;mass&#39;</span><span class="p">]</span><span class="o">*</span><span class="n">s</span><span class="p">[</span><span class="s">&#39;x&#39;</span><span class="p">]</span>
</pre></div>

</div>
</div>
</div>

<div class="output_wrapper">
<div class="output">


<div class="output_area"><div class="prompt output_prompt">
    Out[36]:</div>


<div class="output_text output_subarea output_pyout">
<pre>SimArray([ -1.11405446e+09,  -1.04208223e+09,  -1.01781848e+09, ...,
        -1.34612686e+06,   1.56832943e+04,   4.33084960e+06], &apos;Msol kpc&apos;)</pre>
</div>

</div>

</div>
</div>

</div>
<div class="cell border-box-sizing text_cell rendered">
<div class="prompt input_prompt">
</div>
<div class="inner_cell">
<div class="text_cell_render border-box-sizing rendered_html">
<p>This concludes the basic overview of what <code>pynbody</code> can do -- for more tutorials and in-depth explanation of the inner-workings of the framework, head over to the <a href="http://pynbody.github.io/pynbody/tutorials/tutorials.html#walkthroughs">walkthroughs</a> and <a href="http://pynbody.github.io/pynbody/tutorials/tutorials.html#cookbook-recipes">cookbook examples</a>. If you&#39;re stuck implementing a particular analysis workflow, stop by our <a href="https://github.com/pynbody/pynbody/issues">Github issues</a> and post your question, we&#39;ll be happy to help. </p>
</div>
</div>
</div>


     <!-- <hr/> -->
     <div class="row hidden-print">
      <div class="span12 text-center">
        <a href="#">Back to top</a>
      </div>
    </div>

     <!-- Footer
     ================================================== -->
      
      <footer class="footer hidden-print">
      <div class="span12 row-fluid footer-row">
          <div class="span4">
            <p>This web site does not host notebooks, it only renders notebooks available on other websites.</p>
          </div>

          <div class="span4">
            <p>Thanks to <a href="http://www.rackspace.com">Rackspace</a> for hosting.</p>
            <p>nbviewer GitHub <a href="https://github.com/ipython/nbviewer">repository</a>.</p>
            <p>nbviewer <a href="https://github.com/ipython/nbviewer/blob/master/LICENSE.txt" target="_blank">license</a>.</p>
          </div>

          <div class="span4">
            

              
                <p>
                    nbviewer version:
                    <a href="https://github.com/ipython/nbviewer/commit/5927945ad2bd3c8c83424943e8d9d8f552954449">5927945</a>
                </p>
              
            

<p class="text-muted">
    IPython version: 3.0.0-dev
    
    (<a href="https://github.com/ipython/ipython/commit/e1f8d5c">
      e1f8d5c
    </a>)
    
</p>


            

            

<p class="text-muted">
Rendered <span class='date' data-date='Wed, 06 Aug 2014 04:38:46 UTC' title='Wed, 06 Aug 2014 04:38:46 UTC'>(Wed, 06 Aug 2014 04:38:46 UTC)</span>
</p>


          </div>
      </div>
      </footer>
      

    </div><!-- /container -->

    <script src="/static/js/bootstrap-collapse.js"></script>
    <script src="/static/components/headroom.js/dist/headroom.min.js"></script>
    <script src="/static/components/headroom.js/dist/jQuery.headroom.min.js"></script>


    
    
    
    <script>
    $(document).ready(
                function(){
                    $("#menubar").headroom({
                        "tolerance": 5,
                        "offset": 205,
                        "classes": {
                            "initial": "animated",
                            "pinned": "slideInDown",
                            "unpinned": "slideOutUp"
                        }
                    })
                }
            );
    </script>


    <!-- Analytics
    ================================================== -->
    <script type="text/javascript">
      var _gaq = _gaq || [];
      _gaq.push(['_setAccount', 'UA-38683231-2']);
      _gaq.push(['_trackPageview']);

      (function() {
        var ga = document.createElement('script'); ga.type = 'text/javascript'; ga.async = true;
        ga.src = ('https:' == document.location.protocol ? 'https://ssl' : 'http://www') + '.google-analytics.com/ga.js';
        var s = document.getElementsByTagName('script')[0]; s.parentNode.insertBefore(ga, s);
      })();

    </script>
    <script>
        var update_date  = function(){
            var str = window.moment($('.date').data('date')).fromNow();
            $('.date').text(str);
        }
        setInterval(update_date , 61*1000);
        $(update_date);
    </script>
    <!--NEW RELIC Stop Perf Measurement-->
    
    <!--NEW RELIC End-->
  </body>
</html>