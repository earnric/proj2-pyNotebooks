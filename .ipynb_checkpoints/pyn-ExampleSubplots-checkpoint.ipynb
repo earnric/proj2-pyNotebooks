{
 "cells": [
  {
   "cell_type": "code",
   "execution_count": null,
   "metadata": {
    "collapsed": false
   },
   "outputs": [],
   "source": [
    "# Example subplots:\n",
    "# create the subplots\n",
    "f, axs = plt.subplots(1,2,figsize=(14,6))\n",
    "\n",
    "#create a simple slice showing the gas temperature, with velocity vectors overlaid\n",
    "sph.velocity_image(h[1].g, vector_color=\"cyan\", qty=\"temp\",width=50,cmap=\"YlOrRd\",\n",
    "                   denoise=True,approximate_fast=False, subplot=axs[0], show_cbar = False)\n",
    "\n",
    "#you can also make a stream visualization instead of a quiver plot\n",
    "pynbody.analysis.angmom.faceon(h[1])\n",
    "s['pos'].convert_units('Mpc')\n",
    "sph.velocity_image(s.g, width='3 Mpc', cmap = \"Greys_r\", mode='stream', units='Msol kpc^-2',\n",
    "                   density = 2.0, vector_resolution=100, vmin=1e-1,subplot=axs[1],\n",
    "                   show_cbar=False, vector_color='black')\n"
   ]
  }
 ],
 "metadata": {
  "kernelspec": {
   "display_name": "Python 2",
   "language": "python",
   "name": "python2"
  },
  "language_info": {
   "codemirror_mode": {
    "name": "ipython",
    "version": 2
   },
   "file_extension": ".py",
   "mimetype": "text/x-python",
   "name": "python",
   "nbconvert_exporter": "python",
   "pygments_lexer": "ipython2",
   "version": "2.7.6"
  }
 },
 "nbformat": 4,
 "nbformat_minor": 0
}
