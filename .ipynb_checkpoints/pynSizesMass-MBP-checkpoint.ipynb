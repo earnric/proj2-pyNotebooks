{
 "metadata": {
  "name": "",
  "signature": "sha256:605c19139e170c2dfa318cc6564304eee64f326b860a85a0167c64323831d37a"
 },
 "nbformat": 3,
 "nbformat_minor": 0,
 "worksheets": [
  {
   "cells": [
    {
     "cell_type": "code",
     "collapsed": false,
     "input": [
      "%matplotlib inline\n",
      "%config InlineBackend.figure_format = 'retina'\n",
      "from matplotlib.pylab import *\n",
      "rcParams['figure.figsize'] = (12,8)\n",
      "rcParams['font.size'] = 18"
     ],
     "language": "python",
     "metadata": {},
     "outputs": [],
     "prompt_number": 1
    },
    {
     "cell_type": "code",
     "collapsed": false,
     "input": [
      "import pynbody\n",
      "import pynbody.plot.sph as sph\n",
      "pynbody.ramses.multiprocess_num = 4\n",
      "pynbody.config['number_of_threads'] = 16"
     ],
     "language": "python",
     "metadata": {},
     "outputs": [
      {
       "ename": "ImportError",
       "evalue": "dlopen(/Users/earnric/Library/Enthought/Canopy_64bit/User/lib/python2.7/site-packages/pynbody/_util.so, 2): Library not loaded: /Applications/mesasdk/lib/libgomp.1.dylib\n  Referenced from: /Users/earnric/Library/Enthought/Canopy_64bit/User/lib/python2.7/site-packages/pynbody/_util.so\n  Reason: image not found",
       "output_type": "pyerr",
       "traceback": [
        "\u001b[0;31m---------------------------------------------------------------------------\u001b[0m\n\u001b[0;31mImportError\u001b[0m                               Traceback (most recent call last)",
        "\u001b[0;32m<ipython-input-2-5337f041beb6>\u001b[0m in \u001b[0;36m<module>\u001b[0;34m()\u001b[0m\n\u001b[0;32m----> 1\u001b[0;31m \u001b[0;32mimport\u001b[0m \u001b[0mpynbody\u001b[0m\u001b[0;34m\u001b[0m\u001b[0m\n\u001b[0m\u001b[1;32m      2\u001b[0m \u001b[0;32mimport\u001b[0m \u001b[0mpynbody\u001b[0m\u001b[0;34m.\u001b[0m\u001b[0mplot\u001b[0m\u001b[0;34m.\u001b[0m\u001b[0msph\u001b[0m \u001b[0;32mas\u001b[0m \u001b[0msph\u001b[0m\u001b[0;34m\u001b[0m\u001b[0m\n\u001b[1;32m      3\u001b[0m \u001b[0mpynbody\u001b[0m\u001b[0;34m.\u001b[0m\u001b[0mramses\u001b[0m\u001b[0;34m.\u001b[0m\u001b[0mmultiprocess_num\u001b[0m \u001b[0;34m=\u001b[0m \u001b[0;36m4\u001b[0m\u001b[0;34m\u001b[0m\u001b[0m\n\u001b[1;32m      4\u001b[0m \u001b[0mpynbody\u001b[0m\u001b[0;34m.\u001b[0m\u001b[0mconfig\u001b[0m\u001b[0;34m[\u001b[0m\u001b[0;34m'number_of_threads'\u001b[0m\u001b[0;34m]\u001b[0m \u001b[0;34m=\u001b[0m \u001b[0;36m16\u001b[0m\u001b[0;34m\u001b[0m\u001b[0m\n",
        "\u001b[0;32m/Users/earnric/Library/Enthought/Canopy_64bit/User/lib/python2.7/site-packages/pynbody/__init__.py\u001b[0m in \u001b[0;36m<module>\u001b[0;34m()\u001b[0m\n\u001b[1;32m    109\u001b[0m \u001b[0;34m\u001b[0m\u001b[0m\n\u001b[1;32m    110\u001b[0m \u001b[0;31m# Import subpackages\u001b[0m\u001b[0;34m\u001b[0m\u001b[0;34m\u001b[0m\u001b[0m\n\u001b[0;32m--> 111\u001b[0;31m \u001b[0;32mfrom\u001b[0m \u001b[0;34m.\u001b[0m \u001b[0;32mimport\u001b[0m \u001b[0mutil\u001b[0m\u001b[0;34m,\u001b[0m \u001b[0mfilt\u001b[0m\u001b[0;34m,\u001b[0m \u001b[0marray\u001b[0m\u001b[0;34m,\u001b[0m \u001b[0mfamily\u001b[0m\u001b[0;34m,\u001b[0m \u001b[0msnapshot\u001b[0m\u001b[0;34m\u001b[0m\u001b[0m\n\u001b[0m\u001b[1;32m    112\u001b[0m \u001b[0;32mfrom\u001b[0m \u001b[0;34m.\u001b[0m\u001b[0msnapshot\u001b[0m \u001b[0;32mimport\u001b[0m \u001b[0mtipsy\u001b[0m\u001b[0;34m,\u001b[0m \u001b[0mgadget\u001b[0m\u001b[0;34m,\u001b[0m \u001b[0mgadgethdf\u001b[0m\u001b[0;34m,\u001b[0m \u001b[0mramses\u001b[0m\u001b[0;34m,\u001b[0m \u001b[0mgrafic\u001b[0m\u001b[0;34m,\u001b[0m \u001b[0mnchilada\u001b[0m\u001b[0;34m,\u001b[0m \u001b[0mascii\u001b[0m\u001b[0;34m\u001b[0m\u001b[0m\n\u001b[1;32m    113\u001b[0m \u001b[0;32mfrom\u001b[0m \u001b[0;34m.\u001b[0m \u001b[0;32mimport\u001b[0m \u001b[0manalysis\u001b[0m\u001b[0;34m,\u001b[0m \u001b[0mhalo\u001b[0m\u001b[0;34m,\u001b[0m \u001b[0mderived\u001b[0m\u001b[0;34m,\u001b[0m \u001b[0mbridge\u001b[0m\u001b[0;34m,\u001b[0m \u001b[0mgravity\u001b[0m\u001b[0;34m,\u001b[0m \u001b[0msph\u001b[0m\u001b[0;34m,\u001b[0m \u001b[0mtransformation\u001b[0m\u001b[0;34m\u001b[0m\u001b[0m\n",
        "\u001b[0;32m/Users/earnric/Library/Enthought/Canopy_64bit/User/lib/python2.7/site-packages/pynbody/util.py\u001b[0m in \u001b[0;36m<module>\u001b[0;34m()\u001b[0m\n\u001b[1;32m     27\u001b[0m \u001b[0;32mimport\u001b[0m \u001b[0mmath\u001b[0m\u001b[0;34m\u001b[0m\u001b[0m\n\u001b[1;32m     28\u001b[0m \u001b[0mlogger\u001b[0m \u001b[0;34m=\u001b[0m \u001b[0mlogging\u001b[0m\u001b[0;34m.\u001b[0m\u001b[0mgetLogger\u001b[0m\u001b[0;34m(\u001b[0m\u001b[0;34m'pynbody.util'\u001b[0m\u001b[0;34m)\u001b[0m\u001b[0;34m\u001b[0m\u001b[0m\n\u001b[0;32m---> 29\u001b[0;31m \u001b[0;32mfrom\u001b[0m \u001b[0;34m.\u001b[0m\u001b[0m_util\u001b[0m \u001b[0;32mimport\u001b[0m \u001b[0;34m*\u001b[0m\u001b[0;34m\u001b[0m\u001b[0m\n\u001b[0m\u001b[1;32m     30\u001b[0m \u001b[0;34m\u001b[0m\u001b[0m\n\u001b[1;32m     31\u001b[0m \u001b[0;34m\u001b[0m\u001b[0m\n",
        "\u001b[0;31mImportError\u001b[0m: dlopen(/Users/earnric/Library/Enthought/Canopy_64bit/User/lib/python2.7/site-packages/pynbody/_util.so, 2): Library not loaded: /Applications/mesasdk/lib/libgomp.1.dylib\n  Referenced from: /Users/earnric/Library/Enthought/Canopy_64bit/User/lib/python2.7/site-packages/pynbody/_util.so\n  Reason: image not found"
       ]
      }
     ],
     "prompt_number": 2
    },
    {
     "cell_type": "code",
     "collapsed": false,
     "input": [
      "s = pynbody.load('./output_00013')"
     ],
     "language": "python",
     "metadata": {},
     "outputs": [
      {
       "output_type": "stream",
       "stream": "stderr",
       "text": [
        "INFO:pynbody:Loading using backend <class 'pynbody.snapshot.ramses.RamsesSnap'>\n"
       ]
      }
     ],
     "prompt_number": 3
    },
    {
     "cell_type": "heading",
     "level": 2,
     "metadata": {},
     "source": [
      "Look at the # of number of star, gas (cells) and DM particles"
     ]
    },
    {
     "cell_type": "heading",
     "level": 3,
     "metadata": {},
     "source": [
      "Note that in pynbody everything is considered a 'particle' -- i.e. - cells become particles in this model"
     ]
    },
    {
     "cell_type": "code",
     "collapsed": false,
     "input": [
      "s.properties"
     ],
     "language": "python",
     "metadata": {},
     "outputs": [
      {
       "metadata": {},
       "output_type": "pyout",
       "prompt_number": 4,
       "text": [
        "{'a': 0.0833487751478619,\n",
        " 'boxsize': Unit(\"1.08e+24 cm\"),\n",
        " 'h': 0.71,\n",
        " 'omegaL0': 0.732999980449677,\n",
        " 'omegaM0': 0.266999989748001,\n",
        " 'time': Unit(\"4.27e-01 Gyr\")}"
       ]
      }
     ],
     "prompt_number": 4
    },
    {
     "cell_type": "code",
     "collapsed": false,
     "input": [
      "s.properties['boxsize'].in_units('kpc')"
     ],
     "language": "python",
     "metadata": {},
     "outputs": [
      {
       "metadata": {},
       "output_type": "pyout",
       "prompt_number": 5,
       "text": [
        "351.5296337523177"
       ]
      }
     ],
     "prompt_number": 5
    },
    {
     "cell_type": "code",
     "collapsed": false,
     "input": [
      "s.properties['boxsize'].in_units('kpc')*0.71/s.properties['a']"
     ],
     "language": "python",
     "metadata": {},
     "outputs": [
      {
       "metadata": {},
       "output_type": "pyout",
       "prompt_number": 6,
       "text": [
        "2994.4775975576895"
       ]
      }
     ],
     "prompt_number": 6
    },
    {
     "cell_type": "code",
     "collapsed": false,
     "input": [
      "len(s.stars),len(s.gas),len(s.dm)"
     ],
     "language": "python",
     "metadata": {},
     "outputs": [
      {
       "metadata": {},
       "output_type": "pyout",
       "prompt_number": 7,
       "text": [
        "(4, 134217728, 134217728)"
       ]
      }
     ],
     "prompt_number": 7
    },
    {
     "cell_type": "heading",
     "level": 3,
     "metadata": {},
     "source": [
      "Actually load the data. This is done when you ask for the data."
     ]
    },
    {
     "cell_type": "code",
     "collapsed": false,
     "input": [
      "s['pos'];"
     ],
     "language": "python",
     "metadata": {},
     "outputs": [
      {
       "output_type": "stream",
       "stream": "stderr",
       "text": [
        "INFO:pynbody.snapshot.ramses:Loading hydro files\n"
       ]
      },
      {
       "output_type": "stream",
       "stream": "stderr",
       "text": [
        "INFO:pynbody.snapshot.ramses:Done\n",
        "INFO:pynbody.snapshot.ramses:Loading data from CPU 1\n",
        "INFO:pynbody.snapshot.ramses:Loading data from CPU 65\n",
        "INFO:pynbody.snapshot.ramses:Loading data from CPU 129\n",
        "INFO:pynbody.snapshot.ramses:Loading data from CPU 193\n",
        "INFO:pynbody.snapshot.ramses:Loading data from CPU 2\n",
        "INFO:pynbody.snapshot.ramses:Loading data from CPU 66\n",
        "INFO:pynbody.snapshot.ramses:Loading data from CPU 130\n",
        "INFO:pynbody.snapshot.ramses:Loading data from CPU 194\n",
        "INFO:pynbody.snapshot.ramses:Loading data from CPU 3\n",
        "INFO:pynbody.snapshot.ramses:Loading data from CPU 67\n",
        "INFO:pynbody.snapshot.ramses:Loading data from CPU 131\n",
        "INFO:pynbody.snapshot.ramses:Loading data from CPU 195\n",
        "INFO:pynbody.snapshot.ramses:Loading data from CPU 4\n",
        "INFO:pynbody.snapshot.ramses:Loading data from CPU 68\n",
        "INFO:pynbody.snapshot.ramses:Loading data from CPU 132\n",
        "INFO:pynbody.snapshot.ramses:Loading data from CPU 196\n",
        "INFO:pynbody.snapshot.ramses:Loading data from CPU 5\n",
        "INFO:pynbody.snapshot.ramses:Loading data from CPU 69\n",
        "INFO:pynbody.snapshot.ramses:Loading data from CPU 133\n",
        "INFO:pynbody.snapshot.ramses:Loading data from CPU 197\n",
        "INFO:pynbody.snapshot.ramses:Loading data from CPU 6\n",
        "INFO:pynbody.snapshot.ramses:Loading data from CPU 70\n",
        "INFO:pynbody.snapshot.ramses:Loading data from CPU 134\n",
        "INFO:pynbody.snapshot.ramses:Loading data from CPU 198\n",
        "INFO:pynbody.snapshot.ramses:Loading data from CPU 7\n",
        "INFO:pynbody.snapshot.ramses:Loading data from CPU 71\n",
        "INFO:pynbody.snapshot.ramses:Loading data from CPU 135\n",
        "INFO:pynbody.snapshot.ramses:Loading data from CPU 199\n",
        "INFO:pynbody.snapshot.ramses:Loading data from CPU 8\n",
        "INFO:pynbody.snapshot.ramses:Loading data from CPU 72\n",
        "INFO:pynbody.snapshot.ramses:Loading data from CPU 136\n",
        "INFO:pynbody.snapshot.ramses:Loading data from CPU 200\n",
        "INFO:pynbody.snapshot.ramses:Loading data from CPU 9\n",
        "INFO:pynbody.snapshot.ramses:Loading data from CPU 73\n",
        "INFO:pynbody.snapshot.ramses:Loading data from CPU 137\n",
        "INFO:pynbody.snapshot.ramses:Loading data from CPU 201\n",
        "INFO:pynbody.snapshot.ramses:Loading data from CPU 10\n",
        "INFO:pynbody.snapshot.ramses:Loading data from CPU 74\n",
        "INFO:pynbody.snapshot.ramses:Loading data from CPU 138\n",
        "INFO:pynbody.snapshot.ramses:Loading data from CPU 202\n",
        "INFO:pynbody.snapshot.ramses:Loading data from CPU 11\n",
        "INFO:pynbody.snapshot.ramses:Loading data from CPU 75\n",
        "INFO:pynbody.snapshot.ramses:Loading data from CPU 139\n",
        "INFO:pynbody.snapshot.ramses:Loading data from CPU 203\n",
        "INFO:pynbody.snapshot.ramses:Loading data from CPU 12\n",
        "INFO:pynbody.snapshot.ramses:Loading data from CPU 76\n",
        "INFO:pynbody.snapshot.ramses:Loading data from CPU 140\n",
        "INFO:pynbody.snapshot.ramses:Loading data from CPU 204\n",
        "INFO:pynbody.snapshot.ramses:Loading data from CPU 13\n",
        "INFO:pynbody.snapshot.ramses:Loading data from CPU 77\n",
        "INFO:pynbody.snapshot.ramses:Loading data from CPU 141\n",
        "INFO:pynbody.snapshot.ramses:Loading data from CPU 205\n",
        "INFO:pynbody.snapshot.ramses:Loading data from CPU 14\n",
        "INFO:pynbody.snapshot.ramses:Loading data from CPU 78\n",
        "INFO:pynbody.snapshot.ramses:Loading data from CPU 142\n",
        "INFO:pynbody.snapshot.ramses:Loading data from CPU 206\n",
        "INFO:pynbody.snapshot.ramses:Loading data from CPU 15\n",
        "INFO:pynbody.snapshot.ramses:Loading data from CPU 79\n",
        "INFO:pynbody.snapshot.ramses:Loading data from CPU 143\n",
        "INFO:pynbody.snapshot.ramses:Loading data from CPU 207\n",
        "INFO:pynbody.snapshot.ramses:Loading data from CPU 16\n",
        "INFO:pynbody.snapshot.ramses:Loading data from CPU 80\n",
        "INFO:pynbody.snapshot.ramses:Loading data from CPU 144\n",
        "INFO:pynbody.snapshot.ramses:Loading data from CPU 208\n",
        "INFO:pynbody.snapshot.ramses:Loading data from CPU 17\n",
        "INFO:pynbody.snapshot.ramses:Loading data from CPU 81\n",
        "INFO:pynbody.snapshot.ramses:Loading data from CPU 145\n",
        "INFO:pynbody.snapshot.ramses:Loading data from CPU 209\n",
        "INFO:pynbody.snapshot.ramses:Loading data from CPU 18\n",
        "INFO:pynbody.snapshot.ramses:Loading data from CPU 82\n",
        "INFO:pynbody.snapshot.ramses:Loading data from CPU 146\n",
        "INFO:pynbody.snapshot.ramses:Loading data from CPU 210\n",
        "INFO:pynbody.snapshot.ramses:Loading data from CPU 19\n",
        "INFO:pynbody.snapshot.ramses:Loading data from CPU 83\n",
        "INFO:pynbody.snapshot.ramses:Loading data from CPU 147\n",
        "INFO:pynbody.snapshot.ramses:Loading data from CPU 211\n",
        "INFO:pynbody.snapshot.ramses:Loading data from CPU 20\n",
        "INFO:pynbody.snapshot.ramses:Loading data from CPU 84\n",
        "INFO:pynbody.snapshot.ramses:Loading data from CPU 148\n",
        "INFO:pynbody.snapshot.ramses:Loading data from CPU 212\n",
        "INFO:pynbody.snapshot.ramses:Loading data from CPU 21\n",
        "INFO:pynbody.snapshot.ramses:Loading data from CPU 85\n",
        "INFO:pynbody.snapshot.ramses:Loading data from CPU 149\n",
        "INFO:pynbody.snapshot.ramses:Loading data from CPU 213\n",
        "INFO:pynbody.snapshot.ramses:Loading data from CPU 22\n",
        "INFO:pynbody.snapshot.ramses:Loading data from CPU 86\n",
        "INFO:pynbody.snapshot.ramses:Loading data from CPU 150\n",
        "INFO:pynbody.snapshot.ramses:Loading data from CPU 214\n",
        "INFO:pynbody.snapshot.ramses:Loading data from CPU 23\n",
        "INFO:pynbody.snapshot.ramses:Loading data from CPU 87\n",
        "INFO:pynbody.snapshot.ramses:Loading data from CPU 151\n",
        "INFO:pynbody.snapshot.ramses:Loading data from CPU 215\n",
        "INFO:pynbody.snapshot.ramses:Loading data from CPU 24\n",
        "INFO:pynbody.snapshot.ramses:Loading data from CPU 88\n",
        "INFO:pynbody.snapshot.ramses:Loading data from CPU 152\n",
        "INFO:pynbody.snapshot.ramses:Loading data from CPU 216\n",
        "INFO:pynbody.snapshot.ramses:Loading data from CPU 25\n",
        "INFO:pynbody.snapshot.ramses:Loading data from CPU 89\n",
        "INFO:pynbody.snapshot.ramses:Loading data from CPU 153\n",
        "INFO:pynbody.snapshot.ramses:Loading data from CPU 217\n",
        "INFO:pynbody.snapshot.ramses:Loading data from CPU 26\n",
        "INFO:pynbody.snapshot.ramses:Loading data from CPU 90\n",
        "INFO:pynbody.snapshot.ramses:Loading data from CPU 154\n",
        "INFO:pynbody.snapshot.ramses:Loading data from CPU 218\n",
        "INFO:pynbody.snapshot.ramses:Loading data from CPU 27\n",
        "INFO:pynbody.snapshot.ramses:Loading data from CPU 91\n",
        "INFO:pynbody.snapshot.ramses:Loading data from CPU 155\n",
        "INFO:pynbody.snapshot.ramses:Loading data from CPU 219\n",
        "INFO:pynbody.snapshot.ramses:Loading data from CPU 28\n",
        "INFO:pynbody.snapshot.ramses:Loading data from CPU 92\n",
        "INFO:pynbody.snapshot.ramses:Loading data from CPU 156\n",
        "INFO:pynbody.snapshot.ramses:Loading data from CPU 220\n",
        "INFO:pynbody.snapshot.ramses:Loading data from CPU 29\n",
        "INFO:pynbody.snapshot.ramses:Loading data from CPU 93\n",
        "INFO:pynbody.snapshot.ramses:Loading data from CPU 157\n",
        "INFO:pynbody.snapshot.ramses:Loading data from CPU 221\n",
        "INFO:pynbody.snapshot.ramses:Loading data from CPU 30\n",
        "INFO:pynbody.snapshot.ramses:Loading data from CPU 94\n",
        "INFO:pynbody.snapshot.ramses:Loading data from CPU 158\n",
        "INFO:pynbody.snapshot.ramses:Loading data from CPU 222\n",
        "INFO:pynbody.snapshot.ramses:Loading data from CPU 31\n",
        "INFO:pynbody.snapshot.ramses:Loading data from CPU 95\n",
        "INFO:pynbody.snapshot.ramses:Loading data from CPU 159\n",
        "INFO:pynbody.snapshot.ramses:Loading data from CPU 223\n",
        "INFO:pynbody.snapshot.ramses:Loading data from CPU 32\n",
        "INFO:pynbody.snapshot.ramses:Loading data from CPU 96\n",
        "INFO:pynbody.snapshot.ramses:Loading data from CPU 160\n",
        "INFO:pynbody.snapshot.ramses:Loading data from CPU 224\n"
       ]
      },
      {
       "output_type": "stream",
       "stream": "stderr",
       "text": [
        "INFO:pynbody.snapshot.ramses:Loading data from CPU 33\n",
        "INFO:pynbody.snapshot.ramses:Loading data from CPU 97\n",
        "INFO:pynbody.snapshot.ramses:Loading data from CPU 161\n",
        "INFO:pynbody.snapshot.ramses:Loading data from CPU 225\n",
        "INFO:pynbody.snapshot.ramses:Loading data from CPU 34\n",
        "INFO:pynbody.snapshot.ramses:Loading data from CPU 98\n",
        "INFO:pynbody.snapshot.ramses:Loading data from CPU 162\n",
        "INFO:pynbody.snapshot.ramses:Loading data from CPU 226\n",
        "INFO:pynbody.snapshot.ramses:Loading data from CPU 35\n",
        "INFO:pynbody.snapshot.ramses:Loading data from CPU 99\n",
        "INFO:pynbody.snapshot.ramses:Loading data from CPU 163\n",
        "INFO:pynbody.snapshot.ramses:Loading data from CPU 227\n",
        "INFO:pynbody.snapshot.ramses:Loading data from CPU 36\n",
        "INFO:pynbody.snapshot.ramses:Loading data from CPU 100\n",
        "INFO:pynbody.snapshot.ramses:Loading data from CPU 164\n",
        "INFO:pynbody.snapshot.ramses:Loading data from CPU 228\n",
        "INFO:pynbody.snapshot.ramses:Loading data from CPU 37\n",
        "INFO:pynbody.snapshot.ramses:Loading data from CPU 101\n",
        "INFO:pynbody.snapshot.ramses:Loading data from CPU 165\n",
        "INFO:pynbody.snapshot.ramses:Loading data from CPU 229\n",
        "INFO:pynbody.snapshot.ramses:Loading data from CPU 38\n",
        "INFO:pynbody.snapshot.ramses:Loading data from CPU 102\n",
        "INFO:pynbody.snapshot.ramses:Loading data from CPU 166\n",
        "INFO:pynbody.snapshot.ramses:Loading data from CPU 230\n",
        "INFO:pynbody.snapshot.ramses:Loading data from CPU 39\n",
        "INFO:pynbody.snapshot.ramses:Loading data from CPU 103\n",
        "INFO:pynbody.snapshot.ramses:Loading data from CPU 167\n",
        "INFO:pynbody.snapshot.ramses:Loading data from CPU 231\n",
        "INFO:pynbody.snapshot.ramses:Loading data from CPU 40\n",
        "INFO:pynbody.snapshot.ramses:Loading data from CPU 104\n",
        "INFO:pynbody.snapshot.ramses:Loading data from CPU 168\n",
        "INFO:pynbody.snapshot.ramses:Loading data from CPU 232\n",
        "INFO:pynbody.snapshot.ramses:Loading data from CPU 41\n",
        "INFO:pynbody.snapshot.ramses:Loading data from CPU 105\n",
        "INFO:pynbody.snapshot.ramses:Loading data from CPU 169\n",
        "INFO:pynbody.snapshot.ramses:Loading data from CPU 233\n",
        "INFO:pynbody.snapshot.ramses:Loading data from CPU 42\n",
        "INFO:pynbody.snapshot.ramses:Loading data from CPU 106\n",
        "INFO:pynbody.snapshot.ramses:Loading data from CPU 170\n",
        "INFO:pynbody.snapshot.ramses:Loading data from CPU 234\n",
        "INFO:pynbody.snapshot.ramses:Loading data from CPU 43\n",
        "INFO:pynbody.snapshot.ramses:Loading data from CPU 107\n",
        "INFO:pynbody.snapshot.ramses:Loading data from CPU 171\n",
        "INFO:pynbody.snapshot.ramses:Loading data from CPU 235\n",
        "INFO:pynbody.snapshot.ramses:Loading data from CPU 44\n",
        "INFO:pynbody.snapshot.ramses:Loading data from CPU 108\n",
        "INFO:pynbody.snapshot.ramses:Loading data from CPU 172\n",
        "INFO:pynbody.snapshot.ramses:Loading data from CPU 236\n",
        "INFO:pynbody.snapshot.ramses:Loading data from CPU 45\n",
        "INFO:pynbody.snapshot.ramses:Loading data from CPU 109\n",
        "INFO:pynbody.snapshot.ramses:Loading data from CPU 173\n",
        "INFO:pynbody.snapshot.ramses:Loading data from CPU 237\n",
        "INFO:pynbody.snapshot.ramses:Loading data from CPU 46\n",
        "INFO:pynbody.snapshot.ramses:Loading data from CPU 110\n",
        "INFO:pynbody.snapshot.ramses:Loading data from CPU 174\n",
        "INFO:pynbody.snapshot.ramses:Loading data from CPU 238\n",
        "INFO:pynbody.snapshot.ramses:Loading data from CPU 47\n",
        "INFO:pynbody.snapshot.ramses:Loading data from CPU 111\n",
        "INFO:pynbody.snapshot.ramses:Loading data from CPU 175\n",
        "INFO:pynbody.snapshot.ramses:Loading data from CPU 239\n",
        "INFO:pynbody.snapshot.ramses:Loading data from CPU 48\n",
        "INFO:pynbody.snapshot.ramses:Loading data from CPU 112\n",
        "INFO:pynbody.snapshot.ramses:Loading data from CPU 176\n",
        "INFO:pynbody.snapshot.ramses:Loading data from CPU 240\n",
        "INFO:pynbody.snapshot.ramses:Loading data from CPU 49\n",
        "INFO:pynbody.snapshot.ramses:Loading data from CPU 113\n",
        "INFO:pynbody.snapshot.ramses:Loading data from CPU 177\n",
        "INFO:pynbody.snapshot.ramses:Loading data from CPU 241\n",
        "INFO:pynbody.snapshot.ramses:Loading data from CPU 50\n",
        "INFO:pynbody.snapshot.ramses:Loading data from CPU 114\n",
        "INFO:pynbody.snapshot.ramses:Loading data from CPU 178\n",
        "INFO:pynbody.snapshot.ramses:Loading data from CPU 242\n",
        "INFO:pynbody.snapshot.ramses:Loading data from CPU 51\n",
        "INFO:pynbody.snapshot.ramses:Loading data from CPU 115\n",
        "INFO:pynbody.snapshot.ramses:Loading data from CPU 179\n",
        "INFO:pynbody.snapshot.ramses:Loading data from CPU 243\n",
        "INFO:pynbody.snapshot.ramses:Loading data from CPU 52\n",
        "INFO:pynbody.snapshot.ramses:Loading data from CPU 116\n",
        "INFO:pynbody.snapshot.ramses:Loading data from CPU 180\n",
        "INFO:pynbody.snapshot.ramses:Loading data from CPU 244\n",
        "INFO:pynbody.snapshot.ramses:Loading data from CPU 53\n",
        "INFO:pynbody.snapshot.ramses:Loading data from CPU 117\n",
        "INFO:pynbody.snapshot.ramses:Loading data from CPU 181\n",
        "INFO:pynbody.snapshot.ramses:Loading data from CPU 245\n",
        "INFO:pynbody.snapshot.ramses:Loading data from CPU 54\n",
        "INFO:pynbody.snapshot.ramses:Loading data from CPU 118\n",
        "INFO:pynbody.snapshot.ramses:Loading data from CPU 182\n",
        "INFO:pynbody.snapshot.ramses:Loading data from CPU 246\n",
        "INFO:pynbody.snapshot.ramses:Loading data from CPU 55\n",
        "INFO:pynbody.snapshot.ramses:Loading data from CPU 119\n",
        "INFO:pynbody.snapshot.ramses:Loading data from CPU 183\n",
        "INFO:pynbody.snapshot.ramses:Loading data from CPU 247\n",
        "INFO:pynbody.snapshot.ramses:Loading data from CPU 56\n",
        "INFO:pynbody.snapshot.ramses:Loading data from CPU 120\n",
        "INFO:pynbody.snapshot.ramses:Loading data from CPU 184\n",
        "INFO:pynbody.snapshot.ramses:Loading data from CPU 248\n",
        "INFO:pynbody.snapshot.ramses:Loading data from CPU 57\n",
        "INFO:pynbody.snapshot.ramses:Loading data from CPU 121\n",
        "INFO:pynbody.snapshot.ramses:Loading data from CPU 185\n",
        "INFO:pynbody.snapshot.ramses:Loading data from CPU 249\n",
        "INFO:pynbody.snapshot.ramses:Loading data from CPU 58\n",
        "INFO:pynbody.snapshot.ramses:Loading data from CPU 122\n",
        "INFO:pynbody.snapshot.ramses:Loading data from CPU 186\n",
        "INFO:pynbody.snapshot.ramses:Loading data from CPU 250\n",
        "INFO:pynbody.snapshot.ramses:Loading data from CPU 59\n",
        "INFO:pynbody.snapshot.ramses:Loading data from CPU 123\n",
        "INFO:pynbody.snapshot.ramses:Loading data from CPU 187\n",
        "INFO:pynbody.snapshot.ramses:Loading data from CPU 251\n",
        "INFO:pynbody.snapshot.ramses:Loading data from CPU 60\n",
        "INFO:pynbody.snapshot.ramses:Loading data from CPU 124\n",
        "INFO:pynbody.snapshot.ramses:Loading data from CPU 188\n",
        "INFO:pynbody.snapshot.ramses:Loading data from CPU 252\n",
        "INFO:pynbody.snapshot.ramses:Loading data from CPU 61\n",
        "INFO:pynbody.snapshot.ramses:Loading data from CPU 125\n",
        "INFO:pynbody.snapshot.ramses:Loading data from CPU 189\n",
        "INFO:pynbody.snapshot.ramses:Loading data from CPU 253\n",
        "INFO:pynbody.snapshot.ramses:Loading data from CPU 62\n",
        "INFO:pynbody.snapshot.ramses:Loading data from CPU 126\n",
        "INFO:pynbody.snapshot.ramses:Loading data from CPU 190\n",
        "INFO:pynbody.snapshot.ramses:Loading data from CPU 254\n",
        "INFO:pynbody.snapshot.ramses:Loading data from CPU 63\n",
        "INFO:pynbody.snapshot.ramses:Loading data from CPU 127\n",
        "INFO:pynbody.snapshot.ramses:Loading data from CPU 191\n",
        "INFO:pynbody.snapshot.ramses:Loading data from CPU 255\n",
        "INFO:pynbody.snapshot.ramses:Loading data from CPU 64\n",
        "INFO:pynbody.snapshot.ramses:Loading data from CPU 128\n",
        "INFO:pynbody.snapshot.ramses:Loading data from CPU 192\n",
        "INFO:pynbody.snapshot.ramses:Loading data from CPU 256\n"
       ]
      }
     ],
     "prompt_number": 8
    },
    {
     "cell_type": "code",
     "collapsed": false,
     "input": [
      "s.properties"
     ],
     "language": "python",
     "metadata": {},
     "outputs": [
      {
       "metadata": {},
       "output_type": "pyout",
       "prompt_number": 13,
       "text": [
        "{'a': 0.0833487751478619,\n",
        " 'boxsize': Unit(\"1.08e+24 cm\"),\n",
        " 'h': 0.71,\n",
        " 'omegaL0': 0.732999980449677,\n",
        " 'omegaM0': 0.266999989748001,\n",
        " 'time': Unit(\"4.27e-01 Gyr\")}"
       ]
      }
     ],
     "prompt_number": 13
    },
    {
     "cell_type": "heading",
     "level": 3,
     "metadata": {},
     "source": [
      "Print z for this output step"
     ]
    },
    {
     "cell_type": "code",
     "collapsed": false,
     "input": [
      "s.g['mass']"
     ],
     "language": "python",
     "metadata": {},
     "outputs": [
      {
       "output_type": "stream",
       "stream": "stderr",
       "text": [
        "INFO:pynbody.snapshot:Deriving array mass\n"
       ]
      },
      {
       "metadata": {},
       "output_type": "pyout",
       "prompt_number": 12,
       "text": [
        "SimArray([  5.42744735e-10,   1.15312782e-09,   7.55430681e-10, ...,\n",
        "         4.23695693e-10,   3.94274873e-10,   3.85806420e-10], '5.58e+45 g')"
       ]
      }
     ],
     "prompt_number": 12
    },
    {
     "cell_type": "code",
     "collapsed": false,
     "input": [
      "np.sum(s.g['mass']).in_units('g')"
     ],
     "language": "python",
     "metadata": {},
     "outputs": [
      {
       "metadata": {},
       "output_type": "pyout",
       "prompt_number": 14,
       "text": [
        "SimArray(9.399218415556063e+44, 'g')"
       ]
      }
     ],
     "prompt_number": 14
    },
    {
     "cell_type": "code",
     "collapsed": false,
     "input": [
      "np.sum(s.g['mass']).in_units('Msol')"
     ],
     "language": "python",
     "metadata": {},
     "outputs": [
      {
       "metadata": {},
       "output_type": "pyout",
       "prompt_number": 15,
       "text": [
        "SimArray(472579008484.8091, 'Msol')"
       ]
      }
     ],
     "prompt_number": 15
    },
    {
     "cell_type": "code",
     "collapsed": false,
     "input": [
      "s.s['mass']"
     ],
     "language": "python",
     "metadata": {},
     "outputs": [
      {
       "output_type": "stream",
       "stream": "stderr",
       "text": [
        "/Users/earnric/Library/Enthought/Canopy_64bit/User/lib/python2.7/site-packages/pynbody/snapshot/__init__.py:1378: RuntimeWarning: Conjoining derived and non-derived arrays. Assuming result is non-derived, so no further updates will be made.\n",
        "  \"Conjoining derived and non-derived arrays. Assuming result is non-derived, so no further updates will be made.\", RuntimeWarning)\n"
       ]
      },
      {
       "metadata": {},
       "output_type": "pyout",
       "prompt_number": 16,
       "text": [
        "SimArray([  5.62801631e-06,   2.81400816e-06,   2.81400816e-06,\n",
        "         2.81400816e-06], '5.58e+45 g')"
       ]
      }
     ],
     "prompt_number": 16
    },
    {
     "cell_type": "code",
     "collapsed": false,
     "input": [
      "s.s['mass'].in_units('Msol')"
     ],
     "language": "python",
     "metadata": {},
     "outputs": [
      {
       "metadata": {},
       "output_type": "pyout",
       "prompt_number": 17,
       "text": [
        "SimArray([ 15782098.34723941,   7891049.17361971,   7891049.1736197 ,\n",
        "         7891049.17361971], 'Msol')"
       ]
      }
     ],
     "prompt_number": 17
    },
    {
     "cell_type": "code",
     "collapsed": false,
     "input": [
      "np.sum(s.s['mass']).in_units('g')"
     ],
     "language": "python",
     "metadata": {},
     "outputs": [
      {
       "metadata": {},
       "output_type": "pyout",
       "prompt_number": 18,
       "text": [
        "SimArray(7.847332761197849e+40, 'g')"
       ]
      }
     ],
     "prompt_number": 18
    },
    {
     "cell_type": "code",
     "collapsed": false,
     "input": [
      "np.sum(s.s['mass']).in_units('Msol')"
     ],
     "language": "python",
     "metadata": {},
     "outputs": [
      {
       "metadata": {},
       "output_type": "pyout",
       "prompt_number": 19,
       "text": [
        "SimArray(39455245.86809852, 'Msol')"
       ]
      }
     ],
     "prompt_number": 19
    },
    {
     "cell_type": "heading",
     "level": 3,
     "metadata": {},
     "source": [
      "Check comoving box size is ... "
     ]
    },
    {
     "cell_type": "code",
     "collapsed": false,
     "input": [
      "s.properties['boxsize'].in_units('Mpc') * s.properties['h'] / s.properties['a']"
     ],
     "language": "python",
     "metadata": {},
     "outputs": [
      {
       "metadata": {},
       "output_type": "pyout",
       "prompt_number": 21,
       "text": [
        "2.994477597557689"
       ]
      }
     ],
     "prompt_number": 21
    },
    {
     "cell_type": "code",
     "collapsed": false,
     "input": [
      "s.properties['time'].in_units('Myr')"
     ],
     "language": "python",
     "metadata": {},
     "outputs": [
      {
       "metadata": {},
       "output_type": "pyout",
       "prompt_number": 22,
       "text": [
        "427.44952454608733"
       ]
      }
     ],
     "prompt_number": 22
    },
    {
     "cell_type": "heading",
     "level": 1,
     "metadata": {},
     "source": [
      "NORMALIZE data coords -- center the values on (0,0,0)"
     ]
    },
    {
     "cell_type": "heading",
     "level": 2,
     "metadata": {},
     "source": [
      "RAMSES uses particle locations between 0 and 1... Shift this to -0.5 to 0.5"
     ]
    },
    {
     "cell_type": "heading",
     "level": 2,
     "metadata": {},
     "source": [
      "Do this BEFORE transforming to physical units"
     ]
    },
    {
     "cell_type": "code",
     "collapsed": false,
     "input": [
      "s['pos'] -= 0.5"
     ],
     "language": "python",
     "metadata": {},
     "outputs": [],
     "prompt_number": 11
    },
    {
     "cell_type": "code",
     "collapsed": false,
     "input": [
      "s.physical_units();"
     ],
     "language": "python",
     "metadata": {},
     "outputs": [
      {
       "output_type": "stream",
       "stream": "stderr",
       "text": [
        "INFO:pynbody.snapshot:Converting pos units from 9.30e+22 cm to kpc\n"
       ]
      },
      {
       "output_type": "stream",
       "stream": "stderr",
       "text": [
        "INFO:pynbody.snapshot:Converting vel units from 4.20e+07 cm s**-1 to km s**-1\n"
       ]
      },
      {
       "output_type": "stream",
       "stream": "stderr",
       "text": [
        "INFO:pynbody.snapshot:Converting tv units from 4.20e+07 cm s**-1 to km s**-1\n"
       ]
      },
      {
       "output_type": "stream",
       "stream": "stderr",
       "text": [
        "INFO:pynbody.snapshot:Converting smooth units from 9.30e+22 cm to kpc\n"
       ]
      },
      {
       "output_type": "stream",
       "stream": "stderr",
       "text": [
        "INFO:pynbody.snapshot:Converting p units from 1.22e-11 g cm**-1 s**-2 to km**2 Msol s**-2 kpc**-3\n"
       ]
      },
      {
       "output_type": "stream",
       "stream": "stderr",
       "text": [
        "INFO:pynbody.snapshot:Converting rho units from 6.94e-27 g cm**-3 to Msol kpc**-3\n"
       ]
      }
     ],
     "prompt_number": 12
    },
    {
     "cell_type": "heading",
     "level": 2,
     "metadata": {},
     "source": [
      "Zero-out metals lower than 10^-8"
     ]
    },
    {
     "cell_type": "code",
     "collapsed": false,
     "input": [
      "len(s.gas['metal'][s.gas['metal']< 1.0e-8])"
     ],
     "language": "python",
     "metadata": {},
     "outputs": [
      {
       "metadata": {},
       "output_type": "pyout",
       "prompt_number": 13,
       "text": [
        "16278413"
       ]
      }
     ],
     "prompt_number": 13
    },
    {
     "cell_type": "code",
     "collapsed": false,
     "input": [
      "len(s.gas['metal'][s.gas['metal']>=1e-8])"
     ],
     "language": "python",
     "metadata": {},
     "outputs": [
      {
       "metadata": {},
       "output_type": "pyout",
       "prompt_number": 14,
       "text": [
        "498803"
       ]
      }
     ],
     "prompt_number": 14
    },
    {
     "cell_type": "code",
     "collapsed": false,
     "input": [
      "s.gas['metal'][s.gas['metal']<1e-8]=1.0e-8"
     ],
     "language": "python",
     "metadata": {},
     "outputs": [],
     "prompt_number": 15
    },
    {
     "cell_type": "code",
     "collapsed": false,
     "input": [
      "len(s.gas['metal'][s.gas['metal']< 1.0e-8])"
     ],
     "language": "python",
     "metadata": {},
     "outputs": [
      {
       "metadata": {},
       "output_type": "pyout",
       "prompt_number": 16,
       "text": [
        "0"
       ]
      }
     ],
     "prompt_number": 16
    },
    {
     "cell_type": "code",
     "collapsed": false,
     "input": [
      "max(s.gas['metal'])"
     ],
     "language": "python",
     "metadata": {},
     "outputs": [
      {
       "metadata": {},
       "output_type": "pyout",
       "prompt_number": 17,
       "text": [
        "0.087296607645947696"
       ]
      }
     ],
     "prompt_number": 17
    },
    {
     "cell_type": "code",
     "collapsed": false,
     "input": [
      "min(s.gas['pgf']),len(s.gas['pgf'])"
     ],
     "language": "python",
     "metadata": {},
     "outputs": [
      {
       "metadata": {},
       "output_type": "pyout",
       "prompt_number": 18,
       "text": [
        "(0.0, 16777216)"
       ]
      }
     ],
     "prompt_number": 18
    },
    {
     "cell_type": "heading",
     "level": 2,
     "metadata": {},
     "source": [
      "Plot the metals in a slice at the center of the simulation box"
     ]
    },
    {
     "cell_type": "heading",
     "level": 4,
     "metadata": {},
     "source": [
      "Remember - you get a slice at box-center unless you ask for something else... "
     ]
    },
    {
     "cell_type": "code",
     "collapsed": false,
     "input": [
      "boxsizestring"
     ],
     "language": "python",
     "metadata": {},
     "outputs": [
      {
       "metadata": {},
       "output_type": "pyout",
       "prompt_number": 19,
       "text": [
        "'30.13 kpc'"
       ]
      }
     ],
     "prompt_number": 19
    },
    {
     "cell_type": "code",
     "collapsed": false,
     "input": [
      "titleStr = \"Z @ z = %.1fd\" % z + \"\\nVol weighted Ave\"\n",
      "sph.image(s.g,qty=\"metal\",width=boxsizestring,cmap=\"YlOrRd\",  av_z=True, denoise=False ,\n",
      "          approximate_fast=False,title=titleStr);"
     ],
     "language": "python",
     "metadata": {},
     "outputs": [
      {
       "output_type": "stream",
       "stream": "stderr",
       "text": [
        "INFO:pynbody.sph:Rendering image on 16 threads...\n"
       ]
      },
      {
       "output_type": "stream",
       "stream": "stderr",
       "text": [
        "INFO:pynbody.sph:Rendering image on 16 threads...\n"
       ]
      },
      {
       "metadata": {},
       "output_type": "display_data",
       "png": "[encoded data removed]",
       "text": [
        "<matplotlib.figure.Figure at 0x1a2931610>"
       ]
      }
     ],
     "prompt_number": 58
    }
   ],
   "metadata": {}
  }
 ]
}