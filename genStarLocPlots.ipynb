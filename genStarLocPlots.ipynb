{
 "cells": [
  {
   "cell_type": "code",
   "execution_count": 1,
   "metadata": {
    "collapsed": true
   },
   "outputs": [],
   "source": [
    "import os\n",
    "import re # Regular expression matching\n",
    "import numpy as np\n",
    "import matplotlib as mpl\n",
    "import matplotlib.pyplot as plt\n",
    "from matplotlib.ticker import FormatStrFormatter\n",
    "import sys, os, glob, pickle, gc\n",
    "import math\n",
    "\n",
    "mpl.rcParams['figure.figsize'] = (12,9)\n",
    "mpl.rcParams['font.size'] = 26\n"
   ]
  },
  {
   "cell_type": "code",
   "execution_count": 2,
   "metadata": {
    "collapsed": true
   },
   "outputs": [],
   "source": [
    "## ## ## Setup colormap ## ## ##\n",
    "# define the colormap\n",
    "cmap = plt.cm.jet\n",
    "# extract all colors from the .jet map\n",
    "cmaplist = [cmap(i) for i in range(cmap.N)]\n",
    "# force the first color entry to be grey\n",
    "cmaplist[0] = (.5,.5,.5,1.0)\n",
    "# create the new map\n",
    "cmap = cmap.from_list('Custom cmap', cmaplist, cmap.N)\n",
    "\n",
    "# define the bins and normalize\n",
    "bounds = np.linspace(-7.5,0,16)\n",
    "ticks  =[-7,-6,-5,-4,-3,-2,-1,0]\n",
    "norm   = mpl.colors.BoundaryNorm(bounds, cmap.N)"
   ]
  },
  {
   "cell_type": "code",
   "execution_count": 40,
   "metadata": {
    "collapsed": true
   },
   "outputs": [],
   "source": [
    "#locFiles  = ['spLoc_16.00.txt','spLoc_12.00.txt','spLoc_10.00.txt','spLoc_08.00.txt','spLoc_05.00.txt' ]\n",
    "#massFiles = ['spMass_16.00.txt','spMass_12.00.txt','spMass_10.00.txt','spMass_08.00.txt','spMass_05.00.txt']\n",
    "#ZFiles    = ['spZ_16.00.txt','spZ_12.00.txt','spZ_10.00.txt','spZ_08.00.txt','spZ_05.00.txt']\n",
    "#ppfFiles  = ['spPPF_16.00.txt','spPPF_12.00.txt','spPPF_10.00.txt','spPPF_08.00.txt','spPPF_05.00.txt']\n",
    "#ppzFiles  = ['spPZ_16.00.txt','spPZ_12.00.txt','spPZ_10.00.txt','spPZ_08.00.txt','spPZ_05.00.txt']\n",
    "locFiles  = locF = 'spLoc_05.00.txt'\n",
    "massFiles = massF = 'spMass_05.00.txt'\n",
    "ZFiles    = ZF = 'spZ_05.00.txt'\n",
    "ppfFiles  = ppfF = 'spPPF_05.00.txt'\n",
    "ppzFiles  = pzfF = 'spPZ_05.00.txt'"
   ]
  },
  {
   "cell_type": "code",
   "execution_count": 41,
   "metadata": {
    "collapsed": true
   },
   "outputs": [],
   "source": [
    "zs=[5.00000000000000000e+00, 7.029400000000000546e+02]\n",
    "z=5;bs=702.94"
   ]
  },
  {
   "cell_type": "code",
   "execution_count": 42,
   "metadata": {
    "collapsed": true
   },
   "outputs": [],
   "source": [
    "dotNorm = 10.0  # For dot-size scaling\n",
    "comovbox = 5.0 \n",
    "i = 0"
   ]
  },
  {
   "cell_type": "code",
   "execution_count": 43,
   "metadata": {
    "collapsed": false
   },
   "outputs": [
    {
     "name": "stdout",
     "output_type": "stream",
     "text": [
      "z=5.000\n"
     ]
    }
   ],
   "source": [
    "sbox = comovbox / (1.0 + z) * 0.71 # Create a box that's sbox kpc physical\n",
    "print (\"z=%.3lf\"%z)\n",
    "spPosExp = r'z%05.2lf_SpCoord_[0-9]*.txt' %z # These are the x,y,z locations of interest from the genStarPlots6.py\n",
    "poisFiles  = [f for f in os.listdir('.') if re.match(spPosExp, f)]\n",
    "poisFiles.sort()"
   ]
  },
  {
   "cell_type": "code",
   "execution_count": 44,
   "metadata": {
    "collapsed": false
   },
   "outputs": [
    {
     "data": {
      "text/plain": [
       "['z05.00_SpCoord_0.txt',\n",
       " 'z05.00_SpCoord_1281414.txt',\n",
       " 'z05.00_SpCoord_2562828.txt',\n",
       " 'z05.00_SpCoord_3844242.txt']"
      ]
     },
     "execution_count": 44,
     "metadata": {},
     "output_type": "execute_result"
    }
   ],
   "source": [
    "poisFiles"
   ]
  },
  {
   "cell_type": "code",
   "execution_count": 82,
   "metadata": {
    "collapsed": false
   },
   "outputs": [
    {
     "data": {
      "text/plain": [
       "('z05.00_SpCoord_2562828.txt', 'spLoc_05.00.txt')"
      ]
     },
     "execution_count": 82,
     "metadata": {},
     "output_type": "execute_result"
    }
   ],
   "source": [
    "poi=poisFiles[2]\n",
    "index=2\n",
    "poi, locF"
   ]
  },
  {
   "cell_type": "code",
   "execution_count": 46,
   "metadata": {
    "collapsed": true
   },
   "outputs": [],
   "source": [
    "locs = np.loadtxt(locF,skiprows=1) \n",
    "mass = np.loadtxt(massF,skiprows=1)\n",
    "Z    = np.loadtxt(ZF,skiprows=1)"
   ]
  },
  {
   "cell_type": "code",
   "execution_count": 90,
   "metadata": {
    "collapsed": true
   },
   "outputs": [],
   "source": [
    "ppf  = np.loadtxt(ppfF,skiprows=1)\n",
    "pzf  = np.loadtxt(pzfF,skiprows=1)"
   ]
  },
  {
   "cell_type": "code",
   "execution_count": 91,
   "metadata": {
    "collapsed": true
   },
   "outputs": [],
   "source": [
    "Z[Z<1.0e-5] = 1.0e-10\n",
    "pzf[pzf<1.0e-5] = 1.0e-10"
   ]
  },
  {
   "cell_type": "code",
   "execution_count": 92,
   "metadata": {
    "collapsed": false
   },
   "outputs": [
    {
     "name": "stdout",
     "output_type": "stream",
     "text": [
      "Star offset [133.13 170.87 275.48]\n",
      "Boxsize at this z (physical) 702.9400\n",
      "Our 5 kpc (comov) box at this z (physical) 0.5917\n"
     ]
    }
   ],
   "source": [
    "x,y,zz = np.loadtxt(poi)  # star particle location of interest\n",
    "xo,yo,zo = x,y,zz\n",
    "print( \"Star offset [%.2lf %.2lf %.2lf]\"%(x,y,zz))\n",
    "print( \"Boxsize at this z (physical) %.4lf\"%bs)\n",
    "print( \"Our 5 kpc (comov) box at this z (physical) %.4lf\"%sbox)"
   ]
  },
  {
   "cell_type": "code",
   "execution_count": 93,
   "metadata": {
    "collapsed": false
   },
   "outputs": [
    {
     "name": "stdout",
     "output_type": "stream",
     "text": [
      "Star offset adjusted for boxsize [133.13 170.87 275.48]\n"
     ]
    }
   ],
   "source": [
    "        if (abs(x) > bs/2.0 - sbox/2.0):\n",
    "            x = np.sign(x) * (bs/2.0 - sbox/2.0)\n",
    "        if (abs(y) > bs/2.0 - sbox/2.0):\n",
    "            y = np.sign(y) * (bs/2.0 - sbox/2.0)\n",
    "        if (abs(zz) > bs/2.0 - sbox/2.0):\n",
    "            zz = np.sign(zz) * (bs/2.0 - sbox/2.0)\n",
    "        print( \"Star offset adjusted for boxsize [%.2lf %.2lf %.2lf]\"%(x,y,zz))"
   ]
  },
  {
   "cell_type": "code",
   "execution_count": 94,
   "metadata": {
    "collapsed": false
   },
   "outputs": [
    {
     "name": "stdout",
     "output_type": "stream",
     "text": [
      "Box range x(132.83,133.43), y(170.57,171.17), z(275.18,275.78)\n"
     ]
    }
   ],
   "source": [
    "xmin = x - sbox/2.0\n",
    "xmax = x + sbox/2.0\n",
    "ymin = y - sbox/2.0\n",
    "ymax = y + sbox/2.0\n",
    "zmin = zz - sbox/2.0 \n",
    "zmax = zz + sbox/2.0\n",
    "print( \"Box range x(%.2lf,%.2lf), y(%.2lf,%.2lf), z(%.2lf,%.2lf)\"%(xmin,xmax,ymin,ymax,zmin,zmax))"
   ]
  },
  {
   "cell_type": "code",
   "execution_count": 95,
   "metadata": {
    "collapsed": true
   },
   "outputs": [],
   "source": [
    "xcond = ((locs[:,0] >= xmin) & (locs[:,0] <= xmax))\n",
    "ycond = ((locs[:,1] >= ymin) & (locs[:,1] <= ymax))\n",
    "zcond = ((locs[:,2] >= zmin) & (locs[:,2] <= zmax))"
   ]
  },
  {
   "cell_type": "code",
   "execution_count": 96,
   "metadata": {
    "collapsed": false
   },
   "outputs": [
    {
     "name": "stdout",
     "output_type": "stream",
     "text": [
      "14651\n"
     ]
    }
   ],
   "source": [
    "locsFilt = locs[xcond & ycond & zcond] # filter: just get stars in plot region\n",
    "print(len(locsFilt))"
   ]
  },
  {
   "cell_type": "code",
   "execution_count": 97,
   "metadata": {
    "collapsed": true
   },
   "outputs": [],
   "source": [
    "massFilt = mass[xcond & ycond & zcond] # filter: just get stars in plot region\n",
    "Zfilt    = Z[xcond & ycond & zcond] # filter: just get stars in plot region\n",
    "ppfFilt  = ppf[xcond & ycond & zcond] # filter: just get stars in plot region\n",
    "pzfFilt  = pzf[xcond & ycond & zcond] # filter: just get stars in plot region"
   ]
  },
  {
   "cell_type": "code",
   "execution_count": 98,
   "metadata": {
    "collapsed": false
   },
   "outputs": [],
   "source": [
    "locsFilt = locsFilt - np.array([x,y,zz])"
   ]
  },
  {
   "cell_type": "code",
   "execution_count": 99,
   "metadata": {
    "collapsed": false
   },
   "outputs": [
    {
     "name": "stdout",
     "output_type": "stream",
     "text": [
      "[ 0.11007154  0.11111382]\n"
     ]
    }
   ],
   "source": [
    "rng1 = (Zfilt < 1.e-5)\n",
    "rng2 = ((Zfilt >= 1.e-5) & (Zfilt < 1.e-3))\n",
    "rng3 = ((Zfilt >= 1.e-3) & (Zfilt < 1.e-1))\n",
    "rng4 = (Zfilt >= 1.e-1)\n",
    "print(Zfilt[rng4])"
   ]
  },
  {
   "cell_type": "code",
   "execution_count": 61,
   "metadata": {
    "collapsed": false
   },
   "outputs": [
    {
     "data": {
      "text/plain": [
       "1451.1827163022408"
      ]
     },
     "execution_count": 61,
     "metadata": {},
     "output_type": "execute_result"
    }
   ],
   "source": [
    "massFilt[Zfilt>.1]\n",
    "np.sum(massFilt[Zfilt>.1])"
   ]
  },
  {
   "cell_type": "code",
   "execution_count": 62,
   "metadata": {
    "collapsed": true
   },
   "outputs": [],
   "source": [
    "z1=np.log10(Zfilt[rng1])\n",
    "z2=np.log10(Zfilt[rng2])\n",
    "z3=np.log10(Zfilt[rng3])\n",
    "z4=np.log10(Zfilt[rng4])"
   ]
  },
  {
   "cell_type": "code",
   "execution_count": 63,
   "metadata": {
    "collapsed": false
   },
   "outputs": [
    {
     "name": "stdout",
     "output_type": "stream",
     "text": [
      "\n",
      "\n"
     ]
    }
   ],
   "source": [
    "# Create the starlocation Z plot\n",
    "fig, ((ax1, ax2), (ax3, ax4)) = plt.subplots(2, 2, sharex='col', sharey='row')\n",
    "# Fine-tune figure; hide x ticks for top plots and y ticks for right plots\n",
    "plt.setp([a.get_xticklabels() for a in [ax1,ax2]], visible=False)\n",
    "plt.setp([a.get_yticklabels() for a in [ax2,ax4]], visible=False)\n",
    "plt.setp([a.set_xlim([-sbox/2.0,sbox/2.0]) for a in [ax1,ax2,ax3,ax4]])\n",
    "plt.setp([a.set_ylim([-sbox/2.0,sbox/2.0]) for a in [ax2,ax4,ax3,ax4]])"
   ]
  },
  {
   "cell_type": "code",
   "execution_count": 64,
   "metadata": {
    "collapsed": false
   },
   "outputs": [
    {
     "data": {
      "text/plain": [
       "<matplotlib.collections.PathCollection at 0x1116679e8>"
      ]
     },
     "execution_count": 64,
     "metadata": {},
     "output_type": "execute_result"
    }
   ],
   "source": [
    "xcoord = locsFilt[:,0]; ycoord = locsFilt[:,1]\n",
    "ax1.scatter(xcoord[rng1], ycoord[rng1], s=massFilt[rng1]/dotNorm, c=z1, cmap=cmap,vmin=-7.5, vmax=0)\n",
    "ax2.scatter(xcoord[rng2], ycoord[rng2], s=massFilt[rng2]/dotNorm, c=z2, cmap=cmap,vmin=-7.5, vmax=0)\n",
    "ax3.scatter(xcoord[rng3], ycoord[rng3], s=massFilt[rng3]/dotNorm, c=z3, cmap=cmap,vmin=-7.5, vmax=0)\n",
    "ax4.scatter(xcoord[rng4], ycoord[rng4], s=massFilt[rng4]/dotNorm, c=z4, cmap=cmap,vmin=-7.5, vmax=0)"
   ]
  },
  {
   "cell_type": "code",
   "execution_count": 65,
   "metadata": {
    "collapsed": true
   },
   "outputs": [],
   "source": [
    "ax5 = fig.add_axes([0.85, 0.1, 0.025, 0.85])\n",
    "cb = mpl.colorbar.ColorbarBase(ax5, cmap=cmap, norm=norm, spacing='proportional',\n",
    "    ticks=ticks, boundaries=bounds, format='%1i')"
   ]
  },
  {
   "cell_type": "code",
   "execution_count": 66,
   "metadata": {
    "collapsed": false
   },
   "outputs": [
    {
     "data": {
      "text/plain": [
       "<matplotlib.text.Text at 0x111247f60>"
      ]
     },
     "execution_count": 66,
     "metadata": {},
     "output_type": "execute_result"
    }
   ],
   "source": [
    "        xpos = ax1.get_xlim()[0] - 0.07 * ax1.get_xlim()[0]\n",
    "        ypos = ax1.get_ylim()[0] - 0.08 * ax1.get_ylim()[0]\n",
    "        bbox = {'facecolor':'white', 'alpha':0.75, 'pad':3}\n",
    "        ax1.text(xpos,ypos,'$Z_{\\odot} <\\, 10^{-5}$',\n",
    "                 bbox=bbox, fontsize=20)\n",
    "        ax2.text(xpos,ypos,'$10^{-5} \\leq\\, Z_{\\odot}\\, <\\, 10^{-3}$',\n",
    "                 bbox=bbox,fontsize=20)\n",
    "        ax3.text(xpos,ypos,'$10^{-3} \\leq\\, Z_{\\odot}\\, <\\, 10^{-1}$',\n",
    "                 bbox=bbox,fontsize=20)\n",
    "        ax4.text(xpos,ypos,'$10^{-1} \\leq\\, Z_{\\odot}$',\n",
    "                 bbox=bbox,fontsize=20)"
   ]
  },
  {
   "cell_type": "code",
   "execution_count": 67,
   "metadata": {
    "collapsed": false
   },
   "outputs": [
    {
     "data": {
      "text/plain": [
       "<matplotlib.text.Text at 0x1195f0eb8>"
      ]
     },
     "execution_count": 67,
     "metadata": {},
     "output_type": "execute_result"
    }
   ],
   "source": [
    "        startx, endx = ax1.get_xlim(); dx = (endx-startx) * 0.1\n",
    "        starty, endy = ax1.get_ylim(); dy = (endy-starty) * 0.1\n",
    "        formatter = FormatStrFormatter('%.2f')\n",
    "        ax1.yaxis.set_ticks([starty+dy, 0,endy-dy]); ax1.yaxis.set_major_formatter(formatter)\n",
    "        ax3.yaxis.set_ticks([starty+dy, 0,endy-dy]); ax3.yaxis.set_major_formatter(formatter)\n",
    "        ax3.xaxis.set_ticks([startx+dx, 0,endx-dx]); ax3.xaxis.set_major_formatter(formatter)\n",
    "        ax4.xaxis.set_ticks([startx+dx, 0,endx-dx]); ax4.xaxis.set_major_formatter(formatter)\n",
    "        ax3.set_xlabel('x kpc')\n",
    "        ax4.set_xlabel('x kpc')\n",
    "        ax1.set_ylabel('y kpc')\n",
    "        ax3.set_ylabel('y kpc')\n",
    "        ax5.set_ylabel('$log\\; Z_{\\odot}$', size=34)"
   ]
  },
  {
   "cell_type": "code",
   "execution_count": 68,
   "metadata": {
    "collapsed": true
   },
   "outputs": [],
   "source": [
    "plt.subplots_adjust(left=0.15, bottom=0.1, right=0.84, top=.95, wspace=.05, hspace=.05)\n",
    "plt.show()"
   ]
  },
  {
   "cell_type": "code",
   "execution_count": 102,
   "metadata": {
    "collapsed": false
   },
   "outputs": [
    {
     "data": {
      "text/plain": [
       "(array([ 0.11007154,  0.11111382]), array([ 725.59135815,  725.59135815]))"
      ]
     },
     "execution_count": 102,
     "metadata": {},
     "output_type": "execute_result"
    }
   ],
   "source": [
    "Z[(Z>.1) & xcond & ycond & zcond],mass[(Z>.1) & xcond & ycond & zcond]"
   ]
  },
  {
   "cell_type": "code",
   "execution_count": 74,
   "metadata": {
    "collapsed": false
   },
   "outputs": [
    {
     "name": "stdout",
     "output_type": "stream",
     "text": [
      "Box range x(132.83,133.43), y(170.57,171.17), z(275.18,275.78)\n"
     ]
    }
   ],
   "source": [
    "print( \"Box range x(%.2lf,%.2lf), y(%.2lf,%.2lf), z(%.2lf,%.2lf)\"%(xmin,xmax,ymin,ymax,zmin,zmax))"
   ]
  },
  {
   "cell_type": "code",
   "execution_count": 100,
   "metadata": {
    "collapsed": false
   },
   "outputs": [],
   "source": [
    "np.savetxt(\"4PanelPlotMassTotals_z=%.1lf-%i.txt\"%(z,indx),massFilt,comments='')\n",
    "np.savetxt(\"4PanelPlotPopIIIMassTotals_z=%.1lf-%i.txt\"%(z,indx),massFilt * ppfFilt,comments='')\n",
    "np.savetxt(\"4PanelPlotPZMassTotals_z=%.1lf-%i.txt\"%(z,indx), (1.0-ppfFilt * massFilt) * \n",
    "                                   (ppfFilt / Zfilt) * massFilt,comments='')"
   ]
  },
  {
   "cell_type": "code",
   "execution_count": 101,
   "metadata": {
    "collapsed": false
   },
   "outputs": [
    {
     "data": {
      "text/plain": [
       "array([ 0.,  0.,  0., ...,  0.,  0.,  0.])"
      ]
     },
     "execution_count": 101,
     "metadata": {},
     "output_type": "execute_result"
    }
   ],
   "source": [
    "massFilt * ppfFilt"
   ]
  },
  {
   "cell_type": "code",
   "execution_count": null,
   "metadata": {
    "collapsed": true
   },
   "outputs": [],
   "source": []
  }
 ],
 "metadata": {
  "kernelspec": {
   "display_name": "Python 3",
   "language": "python",
   "name": "python3"
  },
  "language_info": {
   "codemirror_mode": {
    "name": "ipython",
    "version": 3
   },
   "file_extension": ".py",
   "mimetype": "text/x-python",
   "name": "python",
   "nbconvert_exporter": "python",
   "pygments_lexer": "ipython3",
   "version": "3.4.3"
  }
 },
 "nbformat": 4,
 "nbformat_minor": 0
}
