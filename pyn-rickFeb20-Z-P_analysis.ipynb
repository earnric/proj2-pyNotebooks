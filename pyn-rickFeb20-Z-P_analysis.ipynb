{
 "metadata": {
  "name": "",
  "signature": "sha256:bf437c85184132923753d5a1558b5951f36aef7ded0f10511b8f6c783fd5f662"
 },
 "nbformat": 3,
 "nbformat_minor": 0,
 "worksheets": [
  {
   "cells": [
    {
     "cell_type": "heading",
     "level": 1,
     "metadata": {},
     "source": [
      "Test PGF vs Z"
     ]
    },
    {
     "cell_type": "code",
     "collapsed": false,
     "input": [
      "%matplotlib inline\n",
      "#%config InlineBackend.figure_format = 'retina'\n",
      "from matplotlib.pylab import *\n",
      "rcParams['figure.figsize'] = (12,8)\n",
      "rcParams['font.size'] = 18\n",
      "#import logging"
     ],
     "language": "python",
     "metadata": {},
     "outputs": [],
     "prompt_number": 1
    },
    {
     "cell_type": "code",
     "collapsed": false,
     "input": [
      "import pynbody\n",
      "import pynbody.plot.sph as sph\n",
      "import mmap\n",
      "pynbody.ramses.multiprocess_num = 16\n",
      "pynbody.config['number_of_threads'] = 64"
     ],
     "language": "python",
     "metadata": {},
     "outputs": [],
     "prompt_number": 2
    },
    {
     "cell_type": "code",
     "collapsed": false,
     "input": [
      "pynbody.openmp.get_cpus()"
     ],
     "language": "python",
     "metadata": {},
     "outputs": [
      {
       "metadata": {},
       "output_type": "pyout",
       "prompt_number": 39,
       "text": [
        "16"
       ]
      }
     ],
     "prompt_number": 39
    },
    {
     "cell_type": "code",
     "collapsed": false,
     "input": [
      "import matplotlib.pyplot as plt "
     ],
     "language": "python",
     "metadata": {},
     "outputs": [],
     "prompt_number": 40
    },
    {
     "cell_type": "code",
     "collapsed": false,
     "input": [
      "s = pynbody.load('output_00008')\n",
      "s['pos']\n",
      "s['pos'] -= 0.5\n",
      "s.physical_units();"
     ],
     "language": "python",
     "metadata": {},
     "outputs": [
      {
       "output_type": "stream",
       "stream": "stderr",
       "text": [
        "INFO:pynbody:Loading using backend <class 'pynbody.snapshot.ramses.RamsesSnap'>\n"
       ]
      },
      {
       "output_type": "stream",
       "stream": "stderr",
       "text": [
        "INFO:pynbody.snapshot.ramses:Loading hydro files\n"
       ]
      },
      {
       "output_type": "stream",
       "stream": "stderr",
       "text": [
        "INFO:pynbody.snapshot.ramses:Loading data from CPU 1\n"
       ]
      },
      {
       "output_type": "stream",
       "stream": "stderr",
       "text": [
        "INFO:pynbody.snapshot.ramses:Loading data from CPU 2\n"
       ]
      },
      {
       "output_type": "stream",
       "stream": "stderr",
       "text": [
        "INFO:pynbody.snapshot.ramses:Loading data from CPU 3\n"
       ]
      },
      {
       "output_type": "stream",
       "stream": "stderr",
       "text": [
        "INFO:pynbody.snapshot.ramses:Loading data from CPU 4\n"
       ]
      },
      {
       "output_type": "stream",
       "stream": "stderr",
       "text": [
        "INFO:pynbody.snapshot.ramses:Loading data from CPU 5\n"
       ]
      },
      {
       "output_type": "stream",
       "stream": "stderr",
       "text": [
        "INFO:pynbody.snapshot.ramses:Loading data from CPU 6\n"
       ]
      },
      {
       "output_type": "stream",
       "stream": "stderr",
       "text": [
        "INFO:pynbody.snapshot.ramses:Loading data from CPU 7\n"
       ]
      },
      {
       "output_type": "stream",
       "stream": "stderr",
       "text": [
        "INFO:pynbody.snapshot.ramses:Loading data from CPU 8\n"
       ]
      },
      {
       "output_type": "stream",
       "stream": "stderr",
       "text": [
        "INFO:pynbody.snapshot.ramses:Loading data from CPU 9\n"
       ]
      },
      {
       "output_type": "stream",
       "stream": "stderr",
       "text": [
        "INFO:pynbody.snapshot.ramses:Loading data from CPU 10\n"
       ]
      },
      {
       "output_type": "stream",
       "stream": "stderr",
       "text": [
        "INFO:pynbody.snapshot.ramses:Loading data from CPU 11\n"
       ]
      },
      {
       "output_type": "stream",
       "stream": "stderr",
       "text": [
        "INFO:pynbody.snapshot.ramses:Loading data from CPU 12\n"
       ]
      },
      {
       "output_type": "stream",
       "stream": "stderr",
       "text": [
        "INFO:pynbody.snapshot.ramses:Loading data from CPU 13\n"
       ]
      },
      {
       "output_type": "stream",
       "stream": "stderr",
       "text": [
        "INFO:pynbody.snapshot.ramses:Loading data from CPU 14\n"
       ]
      },
      {
       "output_type": "stream",
       "stream": "stderr",
       "text": [
        "INFO:pynbody.snapshot.ramses:Loading data from CPU 15\n"
       ]
      },
      {
       "output_type": "stream",
       "stream": "stderr",
       "text": [
        "INFO:pynbody.snapshot.ramses:Loading data from CPU 16\n"
       ]
      },
      {
       "output_type": "stream",
       "stream": "stderr",
       "text": [
        "INFO:pynbody.snapshot.ramses:Loading data from CPU 17\n"
       ]
      },
      {
       "output_type": "stream",
       "stream": "stderr",
       "text": [
        "INFO:pynbody.snapshot.ramses:Loading data from CPU 18\n"
       ]
      },
      {
       "output_type": "stream",
       "stream": "stderr",
       "text": [
        "INFO:pynbody.snapshot.ramses:Loading data from CPU 19\n"
       ]
      },
      {
       "output_type": "stream",
       "stream": "stderr",
       "text": [
        "INFO:pynbody.snapshot.ramses:Loading data from CPU 20\n"
       ]
      },
      {
       "output_type": "stream",
       "stream": "stderr",
       "text": [
        "INFO:pynbody.snapshot.ramses:Loading data from CPU 21\n"
       ]
      },
      {
       "output_type": "stream",
       "stream": "stderr",
       "text": [
        "INFO:pynbody.snapshot.ramses:Loading data from CPU 22\n"
       ]
      },
      {
       "output_type": "stream",
       "stream": "stderr",
       "text": [
        "INFO:pynbody.snapshot.ramses:Loading data from CPU 23\n"
       ]
      },
      {
       "output_type": "stream",
       "stream": "stderr",
       "text": [
        "INFO:pynbody.snapshot.ramses:Loading data from CPU 24\n"
       ]
      },
      {
       "output_type": "stream",
       "stream": "stderr",
       "text": [
        "INFO:pynbody.snapshot.ramses:Loading data from CPU 25\n"
       ]
      },
      {
       "output_type": "stream",
       "stream": "stderr",
       "text": [
        "INFO:pynbody.snapshot.ramses:Loading data from CPU 26\n"
       ]
      },
      {
       "output_type": "stream",
       "stream": "stderr",
       "text": [
        "INFO:pynbody.snapshot.ramses:Loading data from CPU 27\n"
       ]
      },
      {
       "output_type": "stream",
       "stream": "stderr",
       "text": [
        "INFO:pynbody.snapshot.ramses:Loading data from CPU 28\n"
       ]
      },
      {
       "output_type": "stream",
       "stream": "stderr",
       "text": [
        "INFO:pynbody.snapshot.ramses:Loading data from CPU 29\n"
       ]
      },
      {
       "output_type": "stream",
       "stream": "stderr",
       "text": [
        "INFO:pynbody.snapshot.ramses:Loading data from CPU 30\n"
       ]
      },
      {
       "output_type": "stream",
       "stream": "stderr",
       "text": [
        "INFO:pynbody.snapshot.ramses:Loading data from CPU 31\n"
       ]
      },
      {
       "output_type": "stream",
       "stream": "stderr",
       "text": [
        "INFO:pynbody.snapshot.ramses:Loading data from CPU 32\n"
       ]
      },
      {
       "output_type": "stream",
       "stream": "stderr",
       "text": [
        "INFO:pynbody.snapshot.ramses:Loading data from CPU 33\n"
       ]
      },
      {
       "output_type": "stream",
       "stream": "stderr",
       "text": [
        "INFO:pynbody.snapshot.ramses:Loading data from CPU 34\n"
       ]
      },
      {
       "output_type": "stream",
       "stream": "stderr",
       "text": [
        "INFO:pynbody.snapshot.ramses:Loading data from CPU 35\n"
       ]
      },
      {
       "output_type": "stream",
       "stream": "stderr",
       "text": [
        "INFO:pynbody.snapshot.ramses:Loading data from CPU 36\n"
       ]
      },
      {
       "output_type": "stream",
       "stream": "stderr",
       "text": [
        "INFO:pynbody.snapshot.ramses:Loading data from CPU 37\n"
       ]
      },
      {
       "output_type": "stream",
       "stream": "stderr",
       "text": [
        "INFO:pynbody.snapshot.ramses:Loading data from CPU 38\n"
       ]
      },
      {
       "output_type": "stream",
       "stream": "stderr",
       "text": [
        "INFO:pynbody.snapshot.ramses:Loading data from CPU 39\n"
       ]
      },
      {
       "output_type": "stream",
       "stream": "stderr",
       "text": [
        "INFO:pynbody.snapshot.ramses:Loading data from CPU 40\n"
       ]
      },
      {
       "output_type": "stream",
       "stream": "stderr",
       "text": [
        "INFO:pynbody.snapshot.ramses:Loading data from CPU 41\n"
       ]
      },
      {
       "output_type": "stream",
       "stream": "stderr",
       "text": [
        "INFO:pynbody.snapshot.ramses:Loading data from CPU 42\n"
       ]
      },
      {
       "output_type": "stream",
       "stream": "stderr",
       "text": [
        "INFO:pynbody.snapshot.ramses:Loading data from CPU 43\n"
       ]
      },
      {
       "output_type": "stream",
       "stream": "stderr",
       "text": [
        "INFO:pynbody.snapshot.ramses:Loading data from CPU 44\n"
       ]
      },
      {
       "output_type": "stream",
       "stream": "stderr",
       "text": [
        "INFO:pynbody.snapshot.ramses:Loading data from CPU 45\n"
       ]
      },
      {
       "output_type": "stream",
       "stream": "stderr",
       "text": [
        "INFO:pynbody.snapshot.ramses:Loading data from CPU 46\n"
       ]
      },
      {
       "output_type": "stream",
       "stream": "stderr",
       "text": [
        "INFO:pynbody.snapshot.ramses:Loading data from CPU 47\n"
       ]
      },
      {
       "output_type": "stream",
       "stream": "stderr",
       "text": [
        "INFO:pynbody.snapshot.ramses:Loading data from CPU 48\n"
       ]
      },
      {
       "output_type": "stream",
       "stream": "stderr",
       "text": [
        "INFO:pynbody.snapshot.ramses:Loading data from CPU 49\n"
       ]
      },
      {
       "output_type": "stream",
       "stream": "stderr",
       "text": [
        "INFO:pynbody.snapshot.ramses:Loading data from CPU 50\n"
       ]
      },
      {
       "output_type": "stream",
       "stream": "stderr",
       "text": [
        "INFO:pynbody.snapshot.ramses:Loading data from CPU 51\n"
       ]
      },
      {
       "output_type": "stream",
       "stream": "stderr",
       "text": [
        "INFO:pynbody.snapshot.ramses:Loading data from CPU 52\n"
       ]
      },
      {
       "output_type": "stream",
       "stream": "stderr",
       "text": [
        "INFO:pynbody.snapshot.ramses:Loading data from CPU 53\n"
       ]
      },
      {
       "output_type": "stream",
       "stream": "stderr",
       "text": [
        "INFO:pynbody.snapshot.ramses:Loading data from CPU 54\n"
       ]
      },
      {
       "output_type": "stream",
       "stream": "stderr",
       "text": [
        "INFO:pynbody.snapshot.ramses:Loading data from CPU 55\n"
       ]
      },
      {
       "output_type": "stream",
       "stream": "stderr",
       "text": [
        "INFO:pynbody.snapshot.ramses:Loading data from CPU 56\n"
       ]
      },
      {
       "output_type": "stream",
       "stream": "stderr",
       "text": [
        "INFO:pynbody.snapshot.ramses:Loading data from CPU 57\n"
       ]
      },
      {
       "output_type": "stream",
       "stream": "stderr",
       "text": [
        "INFO:pynbody.snapshot.ramses:Loading data from CPU 58\n"
       ]
      },
      {
       "output_type": "stream",
       "stream": "stderr",
       "text": [
        "INFO:pynbody.snapshot.ramses:Loading data from CPU 59\n"
       ]
      },
      {
       "output_type": "stream",
       "stream": "stderr",
       "text": [
        "INFO:pynbody.snapshot.ramses:Loading data from CPU 60\n"
       ]
      },
      {
       "output_type": "stream",
       "stream": "stderr",
       "text": [
        "INFO:pynbody.snapshot.ramses:Loading data from CPU 61\n"
       ]
      },
      {
       "output_type": "stream",
       "stream": "stderr",
       "text": [
        "INFO:pynbody.snapshot.ramses:Loading data from CPU 62\n"
       ]
      },
      {
       "output_type": "stream",
       "stream": "stderr",
       "text": [
        "INFO:pynbody.snapshot.ramses:Loading data from CPU 63\n"
       ]
      },
      {
       "output_type": "stream",
       "stream": "stderr",
       "text": [
        "INFO:pynbody.snapshot.ramses:Loading data from CPU 64\n"
       ]
      },
      {
       "output_type": "stream",
       "stream": "stderr",
       "text": [
        "INFO:pynbody.snapshot.ramses:Loading data from CPU 65\n"
       ]
      },
      {
       "output_type": "stream",
       "stream": "stderr",
       "text": [
        "INFO:pynbody.snapshot.ramses:Loading data from CPU 66\n"
       ]
      },
      {
       "output_type": "stream",
       "stream": "stderr",
       "text": [
        "INFO:pynbody.snapshot.ramses:Loading data from CPU 67\n"
       ]
      },
      {
       "output_type": "stream",
       "stream": "stderr",
       "text": [
        "INFO:pynbody.snapshot.ramses:Loading data from CPU 68\n"
       ]
      },
      {
       "output_type": "stream",
       "stream": "stderr",
       "text": [
        "INFO:pynbody.snapshot.ramses:Loading data from CPU 69\n"
       ]
      },
      {
       "output_type": "stream",
       "stream": "stderr",
       "text": [
        "INFO:pynbody.snapshot.ramses:Loading data from CPU 70\n"
       ]
      },
      {
       "output_type": "stream",
       "stream": "stderr",
       "text": [
        "INFO:pynbody.snapshot.ramses:Loading data from CPU 71\n"
       ]
      },
      {
       "output_type": "stream",
       "stream": "stderr",
       "text": [
        "INFO:pynbody.snapshot.ramses:Loading data from CPU 72\n"
       ]
      },
      {
       "output_type": "stream",
       "stream": "stderr",
       "text": [
        "INFO:pynbody.snapshot.ramses:Loading data from CPU 73\n"
       ]
      },
      {
       "output_type": "stream",
       "stream": "stderr",
       "text": [
        "INFO:pynbody.snapshot.ramses:Loading data from CPU 74\n"
       ]
      },
      {
       "output_type": "stream",
       "stream": "stderr",
       "text": [
        "INFO:pynbody.snapshot.ramses:Loading data from CPU 75\n"
       ]
      },
      {
       "output_type": "stream",
       "stream": "stderr",
       "text": [
        "INFO:pynbody.snapshot.ramses:Loading data from CPU 76\n"
       ]
      },
      {
       "output_type": "stream",
       "stream": "stderr",
       "text": [
        "INFO:pynbody.snapshot.ramses:Loading data from CPU 77\n"
       ]
      },
      {
       "output_type": "stream",
       "stream": "stderr",
       "text": [
        "INFO:pynbody.snapshot.ramses:Loading data from CPU 78\n"
       ]
      },
      {
       "output_type": "stream",
       "stream": "stderr",
       "text": [
        "INFO:pynbody.snapshot.ramses:Loading data from CPU 79\n"
       ]
      },
      {
       "output_type": "stream",
       "stream": "stderr",
       "text": [
        "INFO:pynbody.snapshot.ramses:Loading data from CPU 80\n"
       ]
      },
      {
       "output_type": "stream",
       "stream": "stderr",
       "text": [
        "INFO:pynbody.snapshot.ramses:Loading data from CPU 81\n"
       ]
      },
      {
       "output_type": "stream",
       "stream": "stderr",
       "text": [
        "INFO:pynbody.snapshot.ramses:Loading data from CPU 82\n"
       ]
      },
      {
       "output_type": "stream",
       "stream": "stderr",
       "text": [
        "INFO:pynbody.snapshot.ramses:Loading data from CPU 83\n"
       ]
      },
      {
       "output_type": "stream",
       "stream": "stderr",
       "text": [
        "INFO:pynbody.snapshot.ramses:Loading data from CPU 84\n"
       ]
      },
      {
       "output_type": "stream",
       "stream": "stderr",
       "text": [
        "INFO:pynbody.snapshot.ramses:Loading data from CPU 85\n"
       ]
      },
      {
       "output_type": "stream",
       "stream": "stderr",
       "text": [
        "INFO:pynbody.snapshot.ramses:Loading data from CPU 86\n"
       ]
      },
      {
       "output_type": "stream",
       "stream": "stderr",
       "text": [
        "INFO:pynbody.snapshot.ramses:Loading data from CPU 87\n"
       ]
      },
      {
       "output_type": "stream",
       "stream": "stderr",
       "text": [
        "INFO:pynbody.snapshot.ramses:Loading data from CPU 88\n"
       ]
      },
      {
       "output_type": "stream",
       "stream": "stderr",
       "text": [
        "INFO:pynbody.snapshot.ramses:Loading data from CPU 89\n"
       ]
      },
      {
       "output_type": "stream",
       "stream": "stderr",
       "text": [
        "INFO:pynbody.snapshot.ramses:Loading data from CPU 90\n"
       ]
      },
      {
       "output_type": "stream",
       "stream": "stderr",
       "text": [
        "INFO:pynbody.snapshot.ramses:Loading data from CPU 91\n"
       ]
      },
      {
       "output_type": "stream",
       "stream": "stderr",
       "text": [
        "INFO:pynbody.snapshot.ramses:Loading data from CPU 92\n"
       ]
      },
      {
       "output_type": "stream",
       "stream": "stderr",
       "text": [
        "INFO:pynbody.snapshot.ramses:Loading data from CPU 93\n"
       ]
      },
      {
       "output_type": "stream",
       "stream": "stderr",
       "text": [
        "INFO:pynbody.snapshot.ramses:Loading data from CPU 94\n"
       ]
      },
      {
       "output_type": "stream",
       "stream": "stderr",
       "text": [
        "INFO:pynbody.snapshot.ramses:Loading data from CPU 95\n"
       ]
      },
      {
       "output_type": "stream",
       "stream": "stderr",
       "text": [
        "INFO:pynbody.snapshot.ramses:Loading data from CPU 96\n"
       ]
      },
      {
       "output_type": "stream",
       "stream": "stderr",
       "text": [
        "INFO:pynbody.snapshot.ramses:Loading data from CPU 97\n"
       ]
      },
      {
       "output_type": "stream",
       "stream": "stderr",
       "text": [
        "INFO:pynbody.snapshot.ramses:Loading data from CPU 98\n"
       ]
      },
      {
       "output_type": "stream",
       "stream": "stderr",
       "text": [
        "INFO:pynbody.snapshot.ramses:Loading data from CPU 99\n"
       ]
      },
      {
       "output_type": "stream",
       "stream": "stderr",
       "text": [
        "INFO:pynbody.snapshot.ramses:Loading data from CPU 100\n"
       ]
      },
      {
       "output_type": "stream",
       "stream": "stderr",
       "text": [
        "INFO:pynbody.snapshot.ramses:Loading data from CPU 101\n"
       ]
      },
      {
       "output_type": "stream",
       "stream": "stderr",
       "text": [
        "INFO:pynbody.snapshot.ramses:Loading data from CPU 102\n"
       ]
      },
      {
       "output_type": "stream",
       "stream": "stderr",
       "text": [
        "INFO:pynbody.snapshot.ramses:Loading data from CPU 103\n"
       ]
      },
      {
       "output_type": "stream",
       "stream": "stderr",
       "text": [
        "INFO:pynbody.snapshot.ramses:Loading data from CPU 104\n"
       ]
      },
      {
       "output_type": "stream",
       "stream": "stderr",
       "text": [
        "INFO:pynbody.snapshot.ramses:Loading data from CPU 105\n"
       ]
      },
      {
       "output_type": "stream",
       "stream": "stderr",
       "text": [
        "INFO:pynbody.snapshot.ramses:Loading data from CPU 106\n"
       ]
      },
      {
       "output_type": "stream",
       "stream": "stderr",
       "text": [
        "INFO:pynbody.snapshot.ramses:Loading data from CPU 107\n"
       ]
      },
      {
       "output_type": "stream",
       "stream": "stderr",
       "text": [
        "INFO:pynbody.snapshot.ramses:Loading data from CPU 108\n"
       ]
      },
      {
       "output_type": "stream",
       "stream": "stderr",
       "text": [
        "INFO:pynbody.snapshot.ramses:Loading data from CPU 109\n"
       ]
      },
      {
       "output_type": "stream",
       "stream": "stderr",
       "text": [
        "INFO:pynbody.snapshot.ramses:Loading data from CPU 110\n"
       ]
      },
      {
       "output_type": "stream",
       "stream": "stderr",
       "text": [
        "INFO:pynbody.snapshot.ramses:Loading data from CPU 111\n"
       ]
      },
      {
       "output_type": "stream",
       "stream": "stderr",
       "text": [
        "INFO:pynbody.snapshot.ramses:Loading data from CPU 112\n"
       ]
      },
      {
       "output_type": "stream",
       "stream": "stderr",
       "text": [
        "INFO:pynbody.snapshot.ramses:Loading data from CPU 113\n"
       ]
      },
      {
       "output_type": "stream",
       "stream": "stderr",
       "text": [
        "INFO:pynbody.snapshot.ramses:Loading data from CPU 114\n"
       ]
      },
      {
       "output_type": "stream",
       "stream": "stderr",
       "text": [
        "INFO:pynbody.snapshot.ramses:Loading data from CPU 115\n"
       ]
      },
      {
       "output_type": "stream",
       "stream": "stderr",
       "text": [
        "INFO:pynbody.snapshot.ramses:Loading data from CPU 116\n"
       ]
      },
      {
       "output_type": "stream",
       "stream": "stderr",
       "text": [
        "INFO:pynbody.snapshot.ramses:Loading data from CPU 117\n"
       ]
      },
      {
       "output_type": "stream",
       "stream": "stderr",
       "text": [
        "INFO:pynbody.snapshot.ramses:Loading data from CPU 118\n"
       ]
      },
      {
       "output_type": "stream",
       "stream": "stderr",
       "text": [
        "INFO:pynbody.snapshot.ramses:Loading data from CPU 119\n"
       ]
      },
      {
       "output_type": "stream",
       "stream": "stderr",
       "text": [
        "INFO:pynbody.snapshot.ramses:Loading data from CPU 120\n"
       ]
      },
      {
       "output_type": "stream",
       "stream": "stderr",
       "text": [
        "INFO:pynbody.snapshot.ramses:Loading data from CPU 121\n"
       ]
      },
      {
       "output_type": "stream",
       "stream": "stderr",
       "text": [
        "INFO:pynbody.snapshot.ramses:Loading data from CPU 122\n"
       ]
      },
      {
       "output_type": "stream",
       "stream": "stderr",
       "text": [
        "INFO:pynbody.snapshot.ramses:Loading data from CPU 123\n"
       ]
      },
      {
       "output_type": "stream",
       "stream": "stderr",
       "text": [
        "INFO:pynbody.snapshot.ramses:Loading data from CPU 124\n"
       ]
      },
      {
       "output_type": "stream",
       "stream": "stderr",
       "text": [
        "INFO:pynbody.snapshot.ramses:Loading data from CPU 125\n"
       ]
      },
      {
       "output_type": "stream",
       "stream": "stderr",
       "text": [
        "INFO:pynbody.snapshot.ramses:Loading data from CPU 126\n"
       ]
      },
      {
       "output_type": "stream",
       "stream": "stderr",
       "text": [
        "INFO:pynbody.snapshot.ramses:Loading data from CPU 127\n"
       ]
      },
      {
       "output_type": "stream",
       "stream": "stderr",
       "text": [
        "INFO:pynbody.snapshot.ramses:Loading data from CPU 128\n"
       ]
      },
      {
       "output_type": "stream",
       "stream": "stderr",
       "text": [
        "INFO:pynbody.snapshot.ramses:Loading data from CPU 129\n"
       ]
      },
      {
       "output_type": "stream",
       "stream": "stderr",
       "text": [
        "INFO:pynbody.snapshot.ramses:Loading data from CPU 130\n"
       ]
      },
      {
       "output_type": "stream",
       "stream": "stderr",
       "text": [
        "INFO:pynbody.snapshot.ramses:Loading data from CPU 131\n"
       ]
      },
      {
       "output_type": "stream",
       "stream": "stderr",
       "text": [
        "INFO:pynbody.snapshot.ramses:Loading data from CPU 132\n"
       ]
      },
      {
       "output_type": "stream",
       "stream": "stderr",
       "text": [
        "INFO:pynbody.snapshot.ramses:Loading data from CPU 133\n"
       ]
      },
      {
       "output_type": "stream",
       "stream": "stderr",
       "text": [
        "INFO:pynbody.snapshot.ramses:Loading data from CPU 134\n"
       ]
      },
      {
       "output_type": "stream",
       "stream": "stderr",
       "text": [
        "INFO:pynbody.snapshot.ramses:Loading data from CPU 135\n"
       ]
      },
      {
       "output_type": "stream",
       "stream": "stderr",
       "text": [
        "INFO:pynbody.snapshot.ramses:Loading data from CPU 136\n"
       ]
      },
      {
       "output_type": "stream",
       "stream": "stderr",
       "text": [
        "INFO:pynbody.snapshot.ramses:Loading data from CPU 137\n"
       ]
      },
      {
       "output_type": "stream",
       "stream": "stderr",
       "text": [
        "INFO:pynbody.snapshot.ramses:Loading data from CPU 138\n"
       ]
      },
      {
       "output_type": "stream",
       "stream": "stderr",
       "text": [
        "INFO:pynbody.snapshot.ramses:Loading data from CPU 139\n"
       ]
      },
      {
       "output_type": "stream",
       "stream": "stderr",
       "text": [
        "INFO:pynbody.snapshot.ramses:Loading data from CPU 140\n"
       ]
      },
      {
       "output_type": "stream",
       "stream": "stderr",
       "text": [
        "INFO:pynbody.snapshot.ramses:Loading data from CPU 141\n"
       ]
      },
      {
       "output_type": "stream",
       "stream": "stderr",
       "text": [
        "INFO:pynbody.snapshot.ramses:Loading data from CPU 142\n"
       ]
      },
      {
       "output_type": "stream",
       "stream": "stderr",
       "text": [
        "INFO:pynbody.snapshot.ramses:Loading data from CPU 143\n"
       ]
      },
      {
       "output_type": "stream",
       "stream": "stderr",
       "text": [
        "INFO:pynbody.snapshot.ramses:Loading data from CPU 144\n"
       ]
      },
      {
       "output_type": "stream",
       "stream": "stderr",
       "text": [
        "INFO:pynbody.snapshot.ramses:Loading data from CPU 145\n"
       ]
      },
      {
       "output_type": "stream",
       "stream": "stderr",
       "text": [
        "INFO:pynbody.snapshot.ramses:Loading data from CPU 146\n"
       ]
      },
      {
       "output_type": "stream",
       "stream": "stderr",
       "text": [
        "INFO:pynbody.snapshot.ramses:Loading data from CPU 147\n"
       ]
      },
      {
       "output_type": "stream",
       "stream": "stderr",
       "text": [
        "INFO:pynbody.snapshot.ramses:Loading data from CPU 148\n"
       ]
      },
      {
       "output_type": "stream",
       "stream": "stderr",
       "text": [
        "INFO:pynbody.snapshot.ramses:Loading data from CPU 149\n"
       ]
      },
      {
       "output_type": "stream",
       "stream": "stderr",
       "text": [
        "INFO:pynbody.snapshot.ramses:Loading data from CPU 150\n"
       ]
      },
      {
       "output_type": "stream",
       "stream": "stderr",
       "text": [
        "INFO:pynbody.snapshot.ramses:Loading data from CPU 151\n"
       ]
      },
      {
       "output_type": "stream",
       "stream": "stderr",
       "text": [
        "INFO:pynbody.snapshot.ramses:Loading data from CPU 152\n"
       ]
      },
      {
       "output_type": "stream",
       "stream": "stderr",
       "text": [
        "INFO:pynbody.snapshot.ramses:Loading data from CPU 153\n"
       ]
      },
      {
       "output_type": "stream",
       "stream": "stderr",
       "text": [
        "INFO:pynbody.snapshot.ramses:Loading data from CPU 154\n"
       ]
      },
      {
       "output_type": "stream",
       "stream": "stderr",
       "text": [
        "INFO:pynbody.snapshot.ramses:Loading data from CPU 155\n"
       ]
      },
      {
       "output_type": "stream",
       "stream": "stderr",
       "text": [
        "INFO:pynbody.snapshot.ramses:Loading data from CPU 156\n"
       ]
      },
      {
       "output_type": "stream",
       "stream": "stderr",
       "text": [
        "INFO:pynbody.snapshot.ramses:Loading data from CPU 157\n"
       ]
      },
      {
       "output_type": "stream",
       "stream": "stderr",
       "text": [
        "INFO:pynbody.snapshot.ramses:Loading data from CPU 158\n"
       ]
      },
      {
       "output_type": "stream",
       "stream": "stderr",
       "text": [
        "INFO:pynbody.snapshot.ramses:Loading data from CPU 159\n"
       ]
      },
      {
       "output_type": "stream",
       "stream": "stderr",
       "text": [
        "INFO:pynbody.snapshot.ramses:Loading data from CPU 160\n"
       ]
      },
      {
       "output_type": "stream",
       "stream": "stderr",
       "text": [
        "INFO:pynbody.snapshot.ramses:Loading data from CPU 161\n"
       ]
      },
      {
       "output_type": "stream",
       "stream": "stderr",
       "text": [
        "INFO:pynbody.snapshot.ramses:Loading data from CPU 162\n"
       ]
      },
      {
       "output_type": "stream",
       "stream": "stderr",
       "text": [
        "INFO:pynbody.snapshot.ramses:Loading data from CPU 163\n"
       ]
      },
      {
       "output_type": "stream",
       "stream": "stderr",
       "text": [
        "INFO:pynbody.snapshot.ramses:Loading data from CPU 164\n"
       ]
      },
      {
       "output_type": "stream",
       "stream": "stderr",
       "text": [
        "INFO:pynbody.snapshot.ramses:Loading data from CPU 165\n"
       ]
      },
      {
       "output_type": "stream",
       "stream": "stderr",
       "text": [
        "INFO:pynbody.snapshot.ramses:Loading data from CPU 166\n"
       ]
      },
      {
       "output_type": "stream",
       "stream": "stderr",
       "text": [
        "INFO:pynbody.snapshot.ramses:Loading data from CPU 167\n"
       ]
      },
      {
       "output_type": "stream",
       "stream": "stderr",
       "text": [
        "INFO:pynbody.snapshot.ramses:Loading data from CPU 168\n"
       ]
      },
      {
       "output_type": "stream",
       "stream": "stderr",
       "text": [
        "INFO:pynbody.snapshot.ramses:Loading data from CPU 169\n"
       ]
      },
      {
       "output_type": "stream",
       "stream": "stderr",
       "text": [
        "INFO:pynbody.snapshot.ramses:Loading data from CPU 170\n"
       ]
      },
      {
       "output_type": "stream",
       "stream": "stderr",
       "text": [
        "INFO:pynbody.snapshot.ramses:Loading data from CPU 171\n"
       ]
      },
      {
       "output_type": "stream",
       "stream": "stderr",
       "text": [
        "INFO:pynbody.snapshot.ramses:Loading data from CPU 172\n"
       ]
      },
      {
       "output_type": "stream",
       "stream": "stderr",
       "text": [
        "INFO:pynbody.snapshot.ramses:Loading data from CPU 173\n"
       ]
      },
      {
       "output_type": "stream",
       "stream": "stderr",
       "text": [
        "INFO:pynbody.snapshot.ramses:Loading data from CPU 174\n"
       ]
      },
      {
       "output_type": "stream",
       "stream": "stderr",
       "text": [
        "INFO:pynbody.snapshot.ramses:Loading data from CPU 175\n"
       ]
      },
      {
       "output_type": "stream",
       "stream": "stderr",
       "text": [
        "INFO:pynbody.snapshot.ramses:Loading data from CPU 176\n"
       ]
      },
      {
       "output_type": "stream",
       "stream": "stderr",
       "text": [
        "INFO:pynbody.snapshot.ramses:Loading data from CPU 177\n"
       ]
      },
      {
       "output_type": "stream",
       "stream": "stderr",
       "text": [
        "INFO:pynbody.snapshot.ramses:Loading data from CPU 178\n"
       ]
      },
      {
       "output_type": "stream",
       "stream": "stderr",
       "text": [
        "INFO:pynbody.snapshot.ramses:Loading data from CPU 179\n"
       ]
      },
      {
       "output_type": "stream",
       "stream": "stderr",
       "text": [
        "INFO:pynbody.snapshot.ramses:Loading data from CPU 180\n"
       ]
      },
      {
       "output_type": "stream",
       "stream": "stderr",
       "text": [
        "INFO:pynbody.snapshot.ramses:Loading data from CPU 181\n"
       ]
      },
      {
       "output_type": "stream",
       "stream": "stderr",
       "text": [
        "INFO:pynbody.snapshot.ramses:Loading data from CPU 182\n"
       ]
      },
      {
       "output_type": "stream",
       "stream": "stderr",
       "text": [
        "INFO:pynbody.snapshot.ramses:Loading data from CPU 183\n"
       ]
      },
      {
       "output_type": "stream",
       "stream": "stderr",
       "text": [
        "INFO:pynbody.snapshot.ramses:Loading data from CPU 184\n"
       ]
      },
      {
       "output_type": "stream",
       "stream": "stderr",
       "text": [
        "INFO:pynbody.snapshot.ramses:Loading data from CPU 185\n"
       ]
      },
      {
       "output_type": "stream",
       "stream": "stderr",
       "text": [
        "INFO:pynbody.snapshot.ramses:Loading data from CPU 186\n"
       ]
      },
      {
       "output_type": "stream",
       "stream": "stderr",
       "text": [
        "INFO:pynbody.snapshot.ramses:Loading data from CPU 187\n"
       ]
      },
      {
       "output_type": "stream",
       "stream": "stderr",
       "text": [
        "INFO:pynbody.snapshot.ramses:Loading data from CPU 188\n"
       ]
      },
      {
       "output_type": "stream",
       "stream": "stderr",
       "text": [
        "INFO:pynbody.snapshot.ramses:Loading data from CPU 189\n"
       ]
      },
      {
       "output_type": "stream",
       "stream": "stderr",
       "text": [
        "INFO:pynbody.snapshot.ramses:Loading data from CPU 190\n"
       ]
      },
      {
       "output_type": "stream",
       "stream": "stderr",
       "text": [
        "INFO:pynbody.snapshot.ramses:Loading data from CPU 191\n"
       ]
      },
      {
       "output_type": "stream",
       "stream": "stderr",
       "text": [
        "INFO:pynbody.snapshot.ramses:Loading data from CPU 192\n"
       ]
      },
      {
       "output_type": "stream",
       "stream": "stderr",
       "text": [
        "INFO:pynbody.snapshot.ramses:Loading data from CPU 193\n"
       ]
      },
      {
       "output_type": "stream",
       "stream": "stderr",
       "text": [
        "INFO:pynbody.snapshot.ramses:Loading data from CPU 194\n"
       ]
      },
      {
       "output_type": "stream",
       "stream": "stderr",
       "text": [
        "INFO:pynbody.snapshot.ramses:Loading data from CPU 195\n"
       ]
      },
      {
       "output_type": "stream",
       "stream": "stderr",
       "text": [
        "INFO:pynbody.snapshot.ramses:Loading data from CPU 196\n"
       ]
      },
      {
       "output_type": "stream",
       "stream": "stderr",
       "text": [
        "INFO:pynbody.snapshot.ramses:Loading data from CPU 197\n"
       ]
      },
      {
       "output_type": "stream",
       "stream": "stderr",
       "text": [
        "INFO:pynbody.snapshot.ramses:Loading data from CPU 198\n"
       ]
      },
      {
       "output_type": "stream",
       "stream": "stderr",
       "text": [
        "INFO:pynbody.snapshot.ramses:Loading data from CPU 199\n"
       ]
      },
      {
       "output_type": "stream",
       "stream": "stderr",
       "text": [
        "INFO:pynbody.snapshot.ramses:Loading data from CPU 200\n"
       ]
      },
      {
       "output_type": "stream",
       "stream": "stderr",
       "text": [
        "INFO:pynbody.snapshot.ramses:Loading data from CPU 201\n"
       ]
      },
      {
       "output_type": "stream",
       "stream": "stderr",
       "text": [
        "INFO:pynbody.snapshot.ramses:Loading data from CPU 202\n"
       ]
      },
      {
       "output_type": "stream",
       "stream": "stderr",
       "text": [
        "INFO:pynbody.snapshot.ramses:Loading data from CPU 203\n"
       ]
      },
      {
       "output_type": "stream",
       "stream": "stderr",
       "text": [
        "INFO:pynbody.snapshot.ramses:Loading data from CPU 204\n"
       ]
      },
      {
       "output_type": "stream",
       "stream": "stderr",
       "text": [
        "INFO:pynbody.snapshot.ramses:Loading data from CPU 205\n"
       ]
      },
      {
       "output_type": "stream",
       "stream": "stderr",
       "text": [
        "INFO:pynbody.snapshot.ramses:Loading data from CPU 206\n"
       ]
      },
      {
       "output_type": "stream",
       "stream": "stderr",
       "text": [
        "INFO:pynbody.snapshot.ramses:Loading data from CPU 207\n"
       ]
      },
      {
       "output_type": "stream",
       "stream": "stderr",
       "text": [
        "INFO:pynbody.snapshot.ramses:Loading data from CPU 208\n"
       ]
      },
      {
       "output_type": "stream",
       "stream": "stderr",
       "text": [
        "INFO:pynbody.snapshot.ramses:Loading data from CPU 209\n"
       ]
      },
      {
       "output_type": "stream",
       "stream": "stderr",
       "text": [
        "INFO:pynbody.snapshot.ramses:Loading data from CPU 210\n"
       ]
      },
      {
       "output_type": "stream",
       "stream": "stderr",
       "text": [
        "INFO:pynbody.snapshot.ramses:Loading data from CPU 211\n"
       ]
      },
      {
       "output_type": "stream",
       "stream": "stderr",
       "text": [
        "INFO:pynbody.snapshot.ramses:Loading data from CPU 212\n"
       ]
      },
      {
       "output_type": "stream",
       "stream": "stderr",
       "text": [
        "INFO:pynbody.snapshot.ramses:Loading data from CPU 213\n"
       ]
      },
      {
       "output_type": "stream",
       "stream": "stderr",
       "text": [
        "INFO:pynbody.snapshot.ramses:Loading data from CPU 214\n"
       ]
      },
      {
       "output_type": "stream",
       "stream": "stderr",
       "text": [
        "INFO:pynbody.snapshot.ramses:Loading data from CPU 215\n"
       ]
      },
      {
       "output_type": "stream",
       "stream": "stderr",
       "text": [
        "INFO:pynbody.snapshot.ramses:Loading data from CPU 216\n"
       ]
      },
      {
       "output_type": "stream",
       "stream": "stderr",
       "text": [
        "INFO:pynbody.snapshot.ramses:Loading data from CPU 217\n"
       ]
      },
      {
       "output_type": "stream",
       "stream": "stderr",
       "text": [
        "INFO:pynbody.snapshot.ramses:Loading data from CPU 218\n"
       ]
      },
      {
       "output_type": "stream",
       "stream": "stderr",
       "text": [
        "INFO:pynbody.snapshot.ramses:Loading data from CPU 219\n"
       ]
      },
      {
       "output_type": "stream",
       "stream": "stderr",
       "text": [
        "INFO:pynbody.snapshot.ramses:Loading data from CPU 220\n"
       ]
      },
      {
       "output_type": "stream",
       "stream": "stderr",
       "text": [
        "INFO:pynbody.snapshot.ramses:Loading data from CPU 221\n"
       ]
      },
      {
       "output_type": "stream",
       "stream": "stderr",
       "text": [
        "INFO:pynbody.snapshot.ramses:Loading data from CPU 222\n"
       ]
      },
      {
       "output_type": "stream",
       "stream": "stderr",
       "text": [
        "INFO:pynbody.snapshot.ramses:Loading data from CPU 223\n"
       ]
      },
      {
       "output_type": "stream",
       "stream": "stderr",
       "text": [
        "INFO:pynbody.snapshot.ramses:Loading data from CPU 224\n"
       ]
      },
      {
       "output_type": "stream",
       "stream": "stderr",
       "text": [
        "INFO:pynbody.snapshot.ramses:Loading data from CPU 225\n"
       ]
      },
      {
       "output_type": "stream",
       "stream": "stderr",
       "text": [
        "INFO:pynbody.snapshot.ramses:Loading data from CPU 226\n"
       ]
      },
      {
       "output_type": "stream",
       "stream": "stderr",
       "text": [
        "INFO:pynbody.snapshot.ramses:Loading data from CPU 227\n"
       ]
      },
      {
       "output_type": "stream",
       "stream": "stderr",
       "text": [
        "INFO:pynbody.snapshot.ramses:Loading data from CPU 228\n"
       ]
      },
      {
       "output_type": "stream",
       "stream": "stderr",
       "text": [
        "INFO:pynbody.snapshot.ramses:Loading data from CPU 229\n"
       ]
      },
      {
       "output_type": "stream",
       "stream": "stderr",
       "text": [
        "INFO:pynbody.snapshot.ramses:Loading data from CPU 230\n"
       ]
      },
      {
       "output_type": "stream",
       "stream": "stderr",
       "text": [
        "INFO:pynbody.snapshot.ramses:Loading data from CPU 231\n"
       ]
      },
      {
       "output_type": "stream",
       "stream": "stderr",
       "text": [
        "INFO:pynbody.snapshot.ramses:Loading data from CPU 232\n"
       ]
      },
      {
       "output_type": "stream",
       "stream": "stderr",
       "text": [
        "INFO:pynbody.snapshot.ramses:Loading data from CPU 233\n"
       ]
      },
      {
       "output_type": "stream",
       "stream": "stderr",
       "text": [
        "INFO:pynbody.snapshot.ramses:Loading data from CPU 234\n"
       ]
      },
      {
       "output_type": "stream",
       "stream": "stderr",
       "text": [
        "INFO:pynbody.snapshot.ramses:Loading data from CPU 235\n"
       ]
      },
      {
       "output_type": "stream",
       "stream": "stderr",
       "text": [
        "INFO:pynbody.snapshot.ramses:Loading data from CPU 236\n"
       ]
      },
      {
       "output_type": "stream",
       "stream": "stderr",
       "text": [
        "INFO:pynbody.snapshot.ramses:Loading data from CPU 237\n"
       ]
      },
      {
       "output_type": "stream",
       "stream": "stderr",
       "text": [
        "INFO:pynbody.snapshot.ramses:Loading data from CPU 238\n"
       ]
      },
      {
       "output_type": "stream",
       "stream": "stderr",
       "text": [
        "INFO:pynbody.snapshot.ramses:Loading data from CPU 239\n"
       ]
      },
      {
       "output_type": "stream",
       "stream": "stderr",
       "text": [
        "INFO:pynbody.snapshot.ramses:Loading data from CPU 240\n"
       ]
      },
      {
       "output_type": "stream",
       "stream": "stderr",
       "text": [
        "INFO:pynbody.snapshot.ramses:Loading data from CPU 241\n"
       ]
      },
      {
       "output_type": "stream",
       "stream": "stderr",
       "text": [
        "INFO:pynbody.snapshot.ramses:Loading data from CPU 242\n"
       ]
      },
      {
       "output_type": "stream",
       "stream": "stderr",
       "text": [
        "INFO:pynbody.snapshot.ramses:Loading data from CPU 243\n"
       ]
      },
      {
       "output_type": "stream",
       "stream": "stderr",
       "text": [
        "INFO:pynbody.snapshot.ramses:Loading data from CPU 244\n"
       ]
      },
      {
       "output_type": "stream",
       "stream": "stderr",
       "text": [
        "INFO:pynbody.snapshot.ramses:Loading data from CPU 245\n"
       ]
      },
      {
       "output_type": "stream",
       "stream": "stderr",
       "text": [
        "INFO:pynbody.snapshot.ramses:Loading data from CPU 246\n"
       ]
      },
      {
       "output_type": "stream",
       "stream": "stderr",
       "text": [
        "INFO:pynbody.snapshot.ramses:Loading data from CPU 247\n"
       ]
      },
      {
       "output_type": "stream",
       "stream": "stderr",
       "text": [
        "INFO:pynbody.snapshot.ramses:Loading data from CPU 248\n"
       ]
      },
      {
       "output_type": "stream",
       "stream": "stderr",
       "text": [
        "INFO:pynbody.snapshot.ramses:Loading data from CPU 249\n"
       ]
      },
      {
       "output_type": "stream",
       "stream": "stderr",
       "text": [
        "INFO:pynbody.snapshot.ramses:Loading data from CPU 250\n"
       ]
      },
      {
       "output_type": "stream",
       "stream": "stderr",
       "text": [
        "INFO:pynbody.snapshot.ramses:Loading data from CPU 251\n"
       ]
      },
      {
       "output_type": "stream",
       "stream": "stderr",
       "text": [
        "INFO:pynbody.snapshot.ramses:Loading data from CPU 252\n"
       ]
      },
      {
       "output_type": "stream",
       "stream": "stderr",
       "text": [
        "INFO:pynbody.snapshot.ramses:Loading data from CPU 253\n"
       ]
      },
      {
       "output_type": "stream",
       "stream": "stderr",
       "text": [
        "INFO:pynbody.snapshot.ramses:Loading data from CPU 254\n"
       ]
      },
      {
       "output_type": "stream",
       "stream": "stderr",
       "text": [
        "INFO:pynbody.snapshot.ramses:Loading data from CPU 255\n"
       ]
      },
      {
       "output_type": "stream",
       "stream": "stderr",
       "text": [
        "INFO:pynbody.snapshot.ramses:Loading data from CPU 256\n"
       ]
      },
      {
       "output_type": "stream",
       "stream": "stderr",
       "text": [
        "INFO:pynbody.snapshot.ramses:Done\n"
       ]
      },
      {
       "output_type": "stream",
       "stream": "stderr",
       "text": [
        "INFO:pynbody.snapshot:Converting pos units from 5.75e+22 cm to kpc\n"
       ]
      },
      {
       "output_type": "stream",
       "stream": "stderr",
       "text": [
        "INFO:pynbody.snapshot:Converting vel units from 6.79e+07 cm s**-1 to km s**-1\n"
       ]
      },
      {
       "output_type": "stream",
       "stream": "stderr",
       "text": [
        "INFO:pynbody.snapshot:Converting tv units from 6.79e+07 cm s**-1 to km s**-1\n"
       ]
      },
      {
       "output_type": "stream",
       "stream": "stderr",
       "text": [
        "INFO:pynbody.snapshot:Converting smooth units from 5.75e+22 cm to kpc\n"
       ]
      },
      {
       "output_type": "stream",
       "stream": "stderr",
       "text": [
        "INFO:pynbody.snapshot:Converting p units from 1.36e-10 g cm**-1 s**-2 to km**2 Msol s**-2 kpc**-3\n"
       ]
      },
      {
       "output_type": "stream",
       "stream": "stderr",
       "text": [
        "INFO:pynbody.snapshot:Converting rho units from 2.94e-26 g cm**-3 to Msol kpc**-3\n"
       ]
      }
     ],
     "prompt_number": 41
    },
    {
     "cell_type": "code",
     "collapsed": false,
     "input": [
      "z = 1/s.properties['a']-1\n",
      "print \"Redshift =\",z\n",
      "boxsizestring = \"%.2f\" % s.properties['boxsize'].in_units('kpc')\n",
      "boxsizestring += \" kpc\"\n",
      "print boxsizestring"
     ],
     "language": "python",
     "metadata": {},
     "outputs": [
      {
       "output_type": "stream",
       "stream": "stdout",
       "text": [
        "Redshift = 21.6448505569\n",
        "18.62 kpc\n"
       ]
      }
     ],
     "prompt_number": 42
    },
    {
     "cell_type": "code",
     "collapsed": false,
     "input": [
      "s.g['metal'][s.g['metal']<1e-7] = 0.0\n",
      "s.g['pzf'][s.g['pzf']<1e-7] = 0.0\n",
      "s.g['pgf'][s.g['pgf']>(1.0-1e-7)] = 1.0\n",
      "linex=(1e-7,1)"
     ],
     "language": "python",
     "metadata": {},
     "outputs": [],
     "prompt_number": 158
    },
    {
     "cell_type": "code",
     "collapsed": false,
     "input": [
      "s.g['metal'][(s.g['metal']<1e-7) & (s.g['metal'] > 0.0)]"
     ],
     "language": "python",
     "metadata": {},
     "outputs": [
      {
       "metadata": {},
       "output_type": "pyout",
       "prompt_number": 167,
       "text": [
        "SimArray([], dtype=float64)"
       ]
      }
     ],
     "prompt_number": 167
    },
    {
     "cell_type": "code",
     "collapsed": false,
     "input": [
      "s.g['pgf'][(s.g['pgf']> 1.0 - 1e-7) & (s.g['pgf'] < 1.0)]"
     ],
     "language": "python",
     "metadata": {},
     "outputs": [
      {
       "metadata": {},
       "output_type": "pyout",
       "prompt_number": 163,
       "text": [
        "SimArray([], dtype=float64)"
       ]
      }
     ],
     "prompt_number": 163
    },
    {
     "cell_type": "code",
     "collapsed": false,
     "input": [
      "log10((1.0-s.g['pgf'])/s.g['metal'])"
     ],
     "language": "python",
     "metadata": {},
     "outputs": [
      {
       "output_type": "stream",
       "stream": "stderr",
       "text": [
        "-c:1: RuntimeWarning: divide by zero encountered in log10\n"
       ]
      },
      {
       "metadata": {},
       "output_type": "pyout",
       "prompt_number": 169,
       "text": [
        "SimArray([ nan,  nan,  nan, ...,  nan,  nan,  nan])"
       ]
      }
     ],
     "prompt_number": 169
    },
    {
     "cell_type": "code",
     "collapsed": false,
     "input": [
      "s.properties['a']"
     ],
     "language": "python",
     "metadata": {},
     "outputs": [
      {
       "metadata": {},
       "output_type": "pyout",
       "prompt_number": 44,
       "text": [
        "0.0441601501183778"
       ]
      }
     ],
     "prompt_number": 44
    },
    {
     "cell_type": "heading",
     "level": 2,
     "metadata": {},
     "source": [
      "Compute Z/(1-PGF) for some cells that just had material injected... "
     ]
    },
    {
     "cell_type": "code",
     "collapsed": false,
     "input": [
      "7.912972411832847E-004/(1.0-0.990147208044243), 4.521492112415679E-004/(1.0-0.994370090176656), 6.494841724725266E-004/(1.0-0.991912985289372)"
     ],
     "language": "python",
     "metadata": {},
     "outputs": [
      {
       "metadata": {},
       "output_type": "pyout",
       "prompt_number": 38,
       "text": [
        "(0.08031198108480642, 0.0803119810848063, 0.08031198108480878)"
       ]
      }
     ],
     "prompt_number": 38
    },
    {
     "cell_type": "code",
     "collapsed": false,
     "input": [
      "1/0.08031198108480642"
     ],
     "language": "python",
     "metadata": {},
     "outputs": [
      {
       "metadata": {},
       "output_type": "pyout",
       "prompt_number": 26,
       "text": [
        "12.451442318974024"
       ]
      }
     ],
     "prompt_number": 26
    },
    {
     "cell_type": "heading",
     "level": 1,
     "metadata": {},
     "source": [
      "Plot"
     ]
    },
    {
     "cell_type": "code",
     "collapsed": false,
     "input": [
      "liney=(1e-7*12.45144,12.45144)"
     ],
     "language": "python",
     "metadata": {},
     "outputs": [],
     "prompt_number": 45
    },
    {
     "cell_type": "code",
     "collapsed": false,
     "input": [
      "plt.loglog(s.g['metal'],1.0-s.g['pgf'],'.',linex,linex,linex,liney)\n",
      "plt.title(\"Z vs (1-Pf) z=%.1f\"%z)\n",
      "plt.grid(True, which=\"both\")\n",
      "axes().set_xlabel(\"log Z\")\n",
      "axes().set_ylabel(\"log 1-P\")\n",
      "plt.ylim(1e-7, 1)\n",
      "plt.xlim(1e-7, 1)"
     ],
     "language": "python",
     "metadata": {},
     "outputs": [
      {
       "metadata": {},
       "output_type": "pyout",
       "prompt_number": 162,
       "text": [
        "(1e-07, 1)"
       ]
      },
      {
       "metadata": {},
       "output_type": "display_data",
       "png": "[encoded data removed]",
       "text": [
        "<matplotlib.figure.Figure at 0x17ff914d0>"
       ]
      }
     ],
     "prompt_number": 162
    },
    {
     "cell_type": "code",
     "collapsed": false,
     "input": [
      "10.0**-5.4/10.0**-5.8"
     ],
     "language": "python",
     "metadata": {},
     "outputs": [
      {
       "metadata": {},
       "output_type": "pyout",
       "prompt_number": 84,
       "text": [
        "2.511886431509577"
       ]
      }
     ],
     "prompt_number": 84
    },
    {
     "cell_type": "code",
     "collapsed": false,
     "input": [
      "# The points below the line but not equal to 1 ... which means 1e-10/1e-10\n",
      "arrayFilter = (s.g['ratio'] < 12.0) & (s.g['ratio'] > 1.000001)"
     ],
     "language": "python",
     "metadata": {},
     "outputs": [],
     "prompt_number": 205
    },
    {
     "cell_type": "code",
     "collapsed": false,
     "input": [
      "# Compute the ratio we plot above... \n",
      "s.g['ratio'] = (1.0e0 - s.g['pgf'] + 1e-10)/(s.g['metal'] + 1e-10)"
     ],
     "language": "python",
     "metadata": {},
     "outputs": [],
     "prompt_number": 206
    },
    {
     "cell_type": "code",
     "collapsed": false,
     "input": [
      "# The points below the line \n",
      "len(s.g['ratio'][arrayFilter]),s.g['ratio'][arrayFilter][0:20]"
     ],
     "language": "python",
     "metadata": {},
     "outputs": [
      {
       "metadata": {},
       "output_type": "pyout",
       "prompt_number": 207,
       "text": [
        "(47, SimArray([  7.86536851,   7.91920576,  11.19391683,  10.94393683,\n",
        "          7.90954249,  10.43756113,  11.41672608,  10.26347264,\n",
        "         11.86575476,   5.64411692,   8.57613079,   7.55429878,\n",
        "          7.09910409,  10.1629608 ,   8.74416479,  10.39330442,\n",
        "          9.78367446,  11.38933178,   6.60042919,   5.69010523]))"
       ]
      }
     ],
     "prompt_number": 207
    },
    {
     "cell_type": "code",
     "collapsed": false,
     "input": [
      "badPoints = s.g['pos'][arrayFilter]"
     ],
     "language": "python",
     "metadata": {},
     "outputs": [],
     "prompt_number": 209
    },
    {
     "cell_type": "code",
     "collapsed": false,
     "input": [
      "badPoints[0:5] # First 5 entries (0->4)"
     ],
     "language": "python",
     "metadata": {},
     "outputs": [
      {
       "metadata": {},
       "output_type": "pyout",
       "prompt_number": 210,
       "text": [
        "SimArray([[ 4.9654197 , -1.18224279, -1.90977681],\n",
        "       [ 4.95632553, -0.9185117 , -1.73698748],\n",
        "       [ 4.77444202, -0.99126511, -1.73698748],\n",
        "       [ 4.88357213, -1.11858356, -1.71879913],\n",
        "       [ 4.95632553, -0.93670005, -1.71879913]], 'kpc')"
       ]
      }
     ],
     "prompt_number": 210
    },
    {
     "cell_type": "code",
     "collapsed": false,
     "input": [
      "# Pull out the x and y coords.\n",
      "badXY = badPoints[...,[0,1]]"
     ],
     "language": "python",
     "metadata": {},
     "outputs": [],
     "prompt_number": 211
    },
    {
     "cell_type": "code",
     "collapsed": false,
     "input": [
      "boxsizestring"
     ],
     "language": "python",
     "metadata": {},
     "outputs": [
      {
       "metadata": {},
       "output_type": "pyout",
       "prompt_number": 212,
       "text": [
        "'18.62 kpc'"
       ]
      }
     ],
     "prompt_number": 212
    },
    {
     "cell_type": "code",
     "collapsed": false,
     "input": [
      "plt.plot(badXY[...,0],badXY[...,1],'.')\n",
      "plt.title(\"Locations of bogus points\")\n",
      "plt.grid(True, which=\"both\")\n",
      "axes().set_xlabel(\"X kpc\")\n",
      "axes().set_ylabel(\"Y kpc\")\n",
      "axes().set_aspect('equal')\n",
      "plt.ylim(-9.3, 9.3)\n",
      "plt.xlim(-9.3, 9.3)"
     ],
     "language": "python",
     "metadata": {},
     "outputs": [
      {
       "metadata": {},
       "output_type": "pyout",
       "prompt_number": 241,
       "text": [
        "(-9.3, 9.3)"
       ]
      },
      {
       "metadata": {},
       "output_type": "display_data",
       "png": "[encoded data removed]",
       "text": [
        "<matplotlib.figure.Figure at 0x10aec43d0>"
       ]
      }
     ],
     "prompt_number": 241
    },
    {
     "cell_type": "code",
     "collapsed": false,
     "input": [
      "plt.plot(badXY[...,0],badXY[...,1],'.')\n",
      "plt.title(\"Locations of bogus points\")\n",
      "plt.grid(True, which=\"both\")\n",
      "axes().set_xlabel(\"X kpc\")\n",
      "axes().set_ylabel(\"Y kpc\")\n",
      "axes().set_aspect('equal')\n",
      "plt.xlim(4.0, 5.3)\n",
      "plt.ylim(-1.6, -0.3)"
     ],
     "language": "python",
     "metadata": {},
     "outputs": [
      {
       "metadata": {},
       "output_type": "pyout",
       "prompt_number": 240,
       "text": [
        "(-1.6, -0.3)"
       ]
      },
      {
       "metadata": {},
       "output_type": "display_data",
       "png": "[encoded data removed]",
       "text": [
        "<matplotlib.figure.Figure at 0x10ab24a90>"
       ]
      }
     ],
     "prompt_number": 240
    },
    {
     "cell_type": "code",
     "collapsed": false,
     "input": [
      "# Cut out a cube of the \"important data\" ... around the area of interest above. \n",
      "impData = s[pynbody.filt.Cuboid(\"4.0 kpc\", \"-1.6 kpc\",\"-5 kpc\",\"5.3 kpc\", \"-.3 kpc\", \"0 kpc\")]"
     ],
     "language": "python",
     "metadata": {},
     "outputs": [],
     "prompt_number": 227
    },
    {
     "cell_type": "code",
     "collapsed": false,
     "input": [
      "coords= [-4.6,1.0,0] # Center the plot on our cuboid\n",
      "with pynbody.transformation.translate(impData,coords):\n",
      "    titleStr = \"Z @ z = %.1lf\" % z + \"\\nVol ave @ %s\" % str(coords)\n",
      "    sph.image(impData.g,qty=\"metal\",width=\"1.3 kpc\",cmap=\"YlOrRd\", denoise=True ,av_z=True, log=True, vmin=1e-6,\n",
      "              approximate_fast=False,title=titleStr); #vmin=0.006, vmax=1.0,"
     ],
     "language": "python",
     "metadata": {},
     "outputs": [
      {
       "output_type": "stream",
       "stream": "stderr",
       "text": [
        "INFO:pynbody.sph:Rendering image on 64 threads...\n"
       ]
      },
      {
       "output_type": "stream",
       "stream": "stderr",
       "text": [
        "INFO:pynbody.sph:Rendering image on 64 threads...\n"
       ]
      },
      {
       "output_type": "stream",
       "stream": "stderr",
       "text": [
        "INFO:pynbody.sph:Rendering image on 64 threads...\n"
       ]
      },
      {
       "output_type": "stream",
       "stream": "stderr",
       "text": [
        "INFO:pynbody.sph:Rendering image on 64 threads...\n"
       ]
      },
      {
       "metadata": {},
       "output_type": "display_data",
       "png": "[encoded data removed]",
       "text": [
        "<matplotlib.figure.Figure at 0x1024a47d0>"
       ]
      }
     ],
     "prompt_number": 228
    },
    {
     "cell_type": "code",
     "collapsed": false,
     "input": [
      "with pynbody.transformation.translate(impData,coords):\n",
      "    titleStr = \"PGF @ z = %.1lf\" % z + \"\\nVol ave @ %s\" % str(coords)\n",
      "    sph.image(impData.g,qty=\"pgf\",width=\"1.3 kpc\",cmap=\"YlOrRd\", denoise=True ,av_z=True, log=True, \n",
      "              approximate_fast=False,title=titleStr); #vmin=0.006, vmax=1.0,"
     ],
     "language": "python",
     "metadata": {},
     "outputs": [
      {
       "output_type": "stream",
       "stream": "stderr",
       "text": [
        "INFO:pynbody.sph:Rendering image on 64 threads...\n"
       ]
      },
      {
       "output_type": "stream",
       "stream": "stderr",
       "text": [
        "INFO:pynbody.sph:Rendering image on 64 threads...\n"
       ]
      },
      {
       "output_type": "stream",
       "stream": "stderr",
       "text": [
        "INFO:pynbody.sph:Rendering image on 64 threads...\n"
       ]
      },
      {
       "output_type": "stream",
       "stream": "stderr",
       "text": [
        "INFO:pynbody.sph:Rendering image on 64 threads...\n"
       ]
      },
      {
       "metadata": {},
       "output_type": "display_data",
       "png": "[encoded data removed]",
       "text": [
        "<matplotlib.figure.Figure at 0x132d65a10>"
       ]
      }
     ],
     "prompt_number": 229
    },
    {
     "cell_type": "code",
     "collapsed": false,
     "input": [
      "min(impData.g['pgf']),max(impData.g['pgf'][impData.g['pgf'] < 1.0])"
     ],
     "language": "python",
     "metadata": {},
     "outputs": [
      {
       "metadata": {},
       "output_type": "pyout",
       "prompt_number": 242,
       "text": [
        "(0.98679183225990519, 0.99999989411968548)"
       ]
      }
     ],
     "prompt_number": 242
    },
    {
     "cell_type": "code",
     "collapsed": false,
     "input": [
      "# 'invert' the pgf ... makes for better plotting.\n",
      "impData.g['oneMpgf'] = 1.0 - impData.g['pgf']"
     ],
     "language": "python",
     "metadata": {},
     "outputs": [],
     "prompt_number": 230
    },
    {
     "cell_type": "code",
     "collapsed": false,
     "input": [
      "max(impData.g['oneMpgf']),min(impData.g['oneMpgf'][impData.g['oneMpgf'] > 0.0])"
     ],
     "language": "python",
     "metadata": {},
     "outputs": [
      {
       "metadata": {},
       "output_type": "pyout",
       "prompt_number": 244,
       "text": [
        "(0.013208167740094812, 1.0588031451597146e-07)"
       ]
      }
     ],
     "prompt_number": 244
    },
    {
     "cell_type": "code",
     "collapsed": false,
     "input": [
      "with pynbody.transformation.translate(impData,coords):\n",
      "    titleStr = \"1-PGF @ z = %.1lf\" % z + \"\\nVol ave @ %s\" % str(coords)\n",
      "    sph.image(impData.g,qty=\"oneMpgf\",width=\"1 kpc\",cmap=\"YlOrRd\", denoise=True ,av_z=True, log=True, vmin=1e-7,\n",
      "              approximate_fast=False,title=titleStr); #vmin=0.006, vmax=1.0,"
     ],
     "language": "python",
     "metadata": {},
     "outputs": [
      {
       "output_type": "stream",
       "stream": "stderr",
       "text": [
        "INFO:pynbody.sph:Rendering image on 64 threads...\n"
       ]
      },
      {
       "output_type": "stream",
       "stream": "stderr",
       "text": [
        "INFO:pynbody.sph:Rendering image on 64 threads...\n"
       ]
      },
      {
       "output_type": "stream",
       "stream": "stderr",
       "text": [
        "INFO:pynbody.sph:Rendering image on 64 threads...\n"
       ]
      },
      {
       "output_type": "stream",
       "stream": "stderr",
       "text": [
        "INFO:pynbody.sph:Rendering image on 64 threads...\n"
       ]
      },
      {
       "metadata": {},
       "output_type": "display_data",
       "png": "[encoded data removed]",
       "text": [
        "<matplotlib.figure.Figure at 0x17ffb2d90>"
       ]
      }
     ],
     "prompt_number": 245
    },
    {
     "cell_type": "code",
     "collapsed": false,
     "input": [
      "test = impData.g['pgf'] + impData.g['oneMpgf']"
     ],
     "language": "python",
     "metadata": {},
     "outputs": [],
     "prompt_number": 233
    },
    {
     "cell_type": "code",
     "collapsed": false,
     "input": [
      "# If everything is correct, should be equal lens\n",
      "len(impData.g['pgf']), len(test[test == 1.0])"
     ],
     "language": "python",
     "metadata": {},
     "outputs": [
      {
       "metadata": {},
       "output_type": "pyout",
       "prompt_number": 238,
       "text": [
        "(69137, 69137)"
       ]
      }
     ],
     "prompt_number": 238
    },
    {
     "cell_type": "code",
     "collapsed": false,
     "input": [
      "with pynbody.transformation.translate(impData,coords):\n",
      "    titleStr = \"1-PGF @ z = %.1lf\" % z + \"\\nVol ave @ %s\" % str(coords)\n",
      "    sph.image(impData.g,qty=\"oneMpgf\",width=\"1 kpc\",cmap=\"YlOrRd\", denoise=True ,av_z=True, log=False, \n",
      "              approximate_fast=False,title=titleStr); #vmin=0.006, vmax=1.0,"
     ],
     "language": "python",
     "metadata": {},
     "outputs": [
      {
       "output_type": "stream",
       "stream": "stderr",
       "text": [
        "INFO:pynbody.sph:Rendering image on 64 threads...\n"
       ]
      },
      {
       "output_type": "stream",
       "stream": "stderr",
       "text": [
        "INFO:pynbody.sph:Rendering image on 64 threads...\n"
       ]
      },
      {
       "output_type": "stream",
       "stream": "stderr",
       "text": [
        "INFO:pynbody.sph:Rendering image on 64 threads...\n"
       ]
      },
      {
       "output_type": "stream",
       "stream": "stderr",
       "text": [
        "INFO:pynbody.sph:Rendering image on 64 threads...\n"
       ]
      },
      {
       "metadata": {},
       "output_type": "display_data",
       "png": "[encoded data removed]",
       "text": [
        "<matplotlib.figure.Figure at 0x10ac448d0>"
       ]
      }
     ],
     "prompt_number": 246
    },
    {
     "cell_type": "code",
     "collapsed": false,
     "input": [
      "diff = impData.g['oneMpgf'] - 12.45144 * impData.g['metal']"
     ],
     "language": "python",
     "metadata": {},
     "outputs": [],
     "prompt_number": 247
    },
    {
     "cell_type": "code",
     "collapsed": false,
     "input": [
      "len(diff[diff<0.0]),len(diff)"
     ],
     "language": "python",
     "metadata": {},
     "outputs": [
      {
       "metadata": {},
       "output_type": "pyout",
       "prompt_number": 248,
       "text": [
        "(420, 69137)"
       ]
      }
     ],
     "prompt_number": 248
    },
    {
     "cell_type": "code",
     "collapsed": false,
     "input": [],
     "language": "python",
     "metadata": {},
     "outputs": []
    },
    {
     "cell_type": "heading",
     "level": 1,
     "metadata": {},
     "source": [
      "Next"
     ]
    },
    {
     "cell_type": "code",
     "collapsed": false,
     "input": [
      "s2 = pynbody.load('output_00009')\n",
      "s2['pos']\n",
      "s2['pos'] -= 0.5\n",
      "s2.physical_units();"
     ],
     "language": "python",
     "metadata": {},
     "outputs": [
      {
       "ename": "IOError",
       "evalue": "File 'output_00009': format not understood or does not exist",
       "output_type": "pyerr",
       "traceback": [
        "\u001b[0;31m---------------------------------------------------------------------------\u001b[0m\n\u001b[0;31mIOError\u001b[0m                                   Traceback (most recent call last)",
        "\u001b[0;32m<ipython-input-31-143e5d55591f>\u001b[0m in \u001b[0;36m<module>\u001b[0;34m()\u001b[0m\n\u001b[0;32m----> 1\u001b[0;31m \u001b[0ms2\u001b[0m \u001b[0;34m=\u001b[0m \u001b[0mpynbody\u001b[0m\u001b[0;34m.\u001b[0m\u001b[0mload\u001b[0m\u001b[0;34m(\u001b[0m\u001b[0;34m'output_00009'\u001b[0m\u001b[0;34m)\u001b[0m\u001b[0;34m\u001b[0m\u001b[0m\n\u001b[0m\u001b[1;32m      2\u001b[0m \u001b[0ms2\u001b[0m\u001b[0;34m[\u001b[0m\u001b[0;34m'pos'\u001b[0m\u001b[0;34m]\u001b[0m\u001b[0;34m\u001b[0m\u001b[0m\n\u001b[1;32m      3\u001b[0m \u001b[0ms2\u001b[0m\u001b[0;34m[\u001b[0m\u001b[0;34m'pos'\u001b[0m\u001b[0;34m]\u001b[0m \u001b[0;34m-=\u001b[0m \u001b[0;36m0.5\u001b[0m\u001b[0;34m\u001b[0m\u001b[0m\n\u001b[1;32m      4\u001b[0m \u001b[0ms2\u001b[0m\u001b[0;34m.\u001b[0m\u001b[0mphysical_units\u001b[0m\u001b[0;34m(\u001b[0m\u001b[0;34m)\u001b[0m\u001b[0;34m;\u001b[0m\u001b[0;34m\u001b[0m\u001b[0m\n",
        "\u001b[0;32m/usr/local/Canopy_64bit/User/lib/python2.7/site-packages/pynbody/__init__.pyc\u001b[0m in \u001b[0;36mload\u001b[0;34m(filename, *args, **kwargs)\u001b[0m\n\u001b[1;32m    170\u001b[0m \u001b[0;34m\u001b[0m\u001b[0m\n\u001b[1;32m    171\u001b[0m     raise IOError(\n\u001b[0;32m--> 172\u001b[0;31m         \"File %r: format not understood or does not exist\" % filename)\n\u001b[0m\u001b[1;32m    173\u001b[0m \u001b[0;34m\u001b[0m\u001b[0m\n\u001b[1;32m    174\u001b[0m \u001b[0;34m\u001b[0m\u001b[0m\n",
        "\u001b[0;31mIOError\u001b[0m: File 'output_00009': format not understood or does not exist"
       ]
      }
     ],
     "prompt_number": 31
    },
    {
     "cell_type": "code",
     "collapsed": false,
     "input": [
      "z2 = 1/s2.properties['a']-1\n",
      "printboxsizestring2 = \"%.2f\" % s2.properties['boxsize'].in_units('kpc')\n",
      "boxsizestring2 += \" kpc\"\n",
      "print boxsizestring"
     ],
     "language": "python",
     "metadata": {},
     "outputs": []
    },
    {
     "cell_type": "code",
     "collapsed": false,
     "input": [
      "s2.g['metal'][s2.g['metal']<1e-7] = 0.0\n",
      "s2.g['pzf'][s2.g['pzf']<1e-7] = 0.0\n",
      "s2.s['ppf'][s2.s['ppf']>1.0] = 1.0"
     ],
     "language": "python",
     "metadata": {},
     "outputs": []
    },
    {
     "cell_type": "code",
     "collapsed": false,
     "input": [
      "plt.loglog(s2.g['metal'],1.0-s2.g['pgf']+1e-6,'.',linex,linex,linex,liney)\n",
      "plt.title(\"Z vs (1-Pf) z=%.1f\"%z)\n",
      "plt.grid(True, which=\"both\")\n",
      "axes().set_xlabel(\"log Z\")\n",
      "axes().set_ylabel(\"log 1-P\")\n",
      "plt.ylim(1e-7, 1)\n",
      "plt.xlim(1e-7, 1)"
     ],
     "language": "python",
     "metadata": {},
     "outputs": []
    }
   ],
   "metadata": {}
  }
 ]
}