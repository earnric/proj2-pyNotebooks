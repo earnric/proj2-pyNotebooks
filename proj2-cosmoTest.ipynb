{
 "cells": [
  {
   "cell_type": "code",
   "execution_count": 2,
   "metadata": {
    "collapsed": false
   },
   "outputs": [],
   "source": [
    "%matplotlib inline\n",
    "%config InlineBackend.figure_format = 'retina'\n",
    "import sys\n",
    "sys.path.append('/Users/earnric/Google Drive/ASU/Codes/PythonCode/modules')\n",
    "import numpy as np\n",
    "import math as ma\n",
    "\n",
    "from astropy.cosmology import FlatLambdaCDM\n",
    "from astropy.cosmology import LambdaCDM\n",
    "from astropy import units as u\n",
    "import astropy \n",
    "\n",
    "import loadSP as lsp\n",
    "import cosmo\n",
    "import halos\n",
    "import logInterp \n",
    "from scipy.interpolate import interp1d\n",
    "\n",
    "import gc"
   ]
  },
  {
   "cell_type": "code",
   "execution_count": 3,
   "metadata": {
    "collapsed": false
   },
   "outputs": [
    {
     "data": {
      "text/plain": [
       "FlatLambdaCDM(name=\"myCosmo\", H0=71 km / (Mpc s), Om0=0.267, Tcmb0=2.725 K, Neff=3.04, m_nu=[ 0.  0.  0.] eV, Ob0=0.0449)"
      ]
     },
     "execution_count": 3,
     "metadata": {},
     "output_type": "execute_result"
    }
   ],
   "source": [
    "# Setup the cosmology used in the runs\n",
    "# This provides comoving distance, lumin distance, etc... \n",
    "# THis is Seth's cosmology\n",
    "myCosmo = FlatLambdaCDM(H0=71.0, Om0=0.267, Ob0=0.0449,name='myCosmo')\n",
    "myCosmo"
   ]
  },
  {
   "cell_type": "raw",
   "metadata": {},
   "source": [
    "From integrate FRW:\n",
    "Proper distance to\n",
    "z = 0.5  is  1883.77\n",
    "z = 0.75 is  2654.36\n",
    "z = 1.0  is  3323.43\n",
    "z = 2.0 is  5259.13\n",
    "Luminosity distance to\n",
    "z = 0.5  is  2825.66\n",
    "z = 0.75 is  4645.13\n",
    "z = 1.0  is  6646.87\n",
    "z = 2.0 is 15777.38\n"
   ]
  },
  {
   "cell_type": "code",
   "execution_count": 4,
   "metadata": {
    "collapsed": false
   },
   "outputs": [
    {
     "data": {
      "text/latex": [
       "$[1883.7402,~2654.3,~3323.3498,~5258.9652] \\; \\mathrm{Mpc}$"
      ],
      "text/plain": [
       "<Quantity [ 1883.74021338, 2654.29997345, 3323.34977183, 5258.96519393] Mpc>"
      ]
     },
     "execution_count": 4,
     "metadata": {},
     "output_type": "execute_result"
    }
   ],
   "source": [
    "myCosmo.comoving_distance([0.5,0.75,1.0,2.0])"
   ]
  },
  {
   "cell_type": "code",
   "execution_count": 5,
   "metadata": {
    "collapsed": false
   },
   "outputs": [
    {
     "data": {
      "text/latex": [
       "$[2825.6103,~4645.025,~6646.6995,~15776.896] \\; \\mathrm{Mpc}$"
      ],
      "text/plain": [
       "<Quantity [  2825.61032007,  4645.02495353,  6646.69954366, 15776.8955818 ] Mpc>"
      ]
     },
     "execution_count": 5,
     "metadata": {},
     "output_type": "execute_result"
    }
   ],
   "source": [
    "myCosmo.luminosity_distance([0.5,0.75,1.0,2.0])"
   ]
  },
  {
   "cell_type": "code",
   "execution_count": null,
   "metadata": {
    "collapsed": true
   },
   "outputs": [],
   "source": []
  }
 ],
 "metadata": {
  "kernelspec": {
   "display_name": "Python [py3k]",
   "language": "python",
   "name": "Python [py3k]"
  },
  "language_info": {
   "codemirror_mode": {
    "name": "ipython",
    "version": 3
   },
   "file_extension": ".py",
   "mimetype": "text/x-python",
   "name": "python",
   "nbconvert_exporter": "python",
   "pygments_lexer": "ipython3",
   "version": "3.5.2"
  }
 },
 "nbformat": 4,
 "nbformat_minor": 0
}
